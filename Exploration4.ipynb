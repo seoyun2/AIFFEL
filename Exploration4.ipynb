{
  "nbformat": 4,
  "nbformat_minor": 0,
  "metadata": {
    "accelerator": "GPU",
    "colab": {
      "name": "Exploration4.ipynb",
      "provenance": [],
      "collapsed_sections": [],
      "toc_visible": true,
      "mount_file_id": "1NBuSR98hMK-1NzfZ-pdfq-f12mLu3KX6",
      "authorship_tag": "ABX9TyNA06IVLyPRPj6flCtOn4F7",
      "include_colab_link": true
    },
    "kernelspec": {
      "display_name": "Python 3",
      "name": "python3"
    },
    "language_info": {
      "name": "python"
    }
  },
  "cells": [
    {
      "cell_type": "markdown",
      "metadata": {
        "id": "view-in-github",
        "colab_type": "text"
      },
      "source": [
        "<a href=\"https://colab.research.google.com/github/seoyun2/exploration/blob/main/Exploration4.ipynb\" target=\"_parent\"><img src=\"https://colab.research.google.com/assets/colab-badge.svg\" alt=\"Open In Colab\"/></a>"
      ]
    },
    {
      "cell_type": "markdown",
      "metadata": {
        "id": "1ga1Ka9hyyXG"
      },
      "source": [
        "# Exploration 4 : 작사가 인공지능 만들기 "
      ]
    },
    {
      "cell_type": "markdown",
      "metadata": {
        "id": "5oJaUNouzN1k"
      },
      "source": [
        "__\"문장\"__의 사전정의 \n",
        "> 생각이나 감정을 말과 글로 표현할 때 완결된 내용을 나타내는 최소 단위 \n",
        "\n",
        "많은 인공지능들이 이미 놀라운 수준의 작문을 하고 있음 \n",
        "* [GPT-2](https://talktotransformer.com/)\n",
        "\n",
        "GPT-2 이전에도 작문을 할 수 있는 딥러닝 모델은 존재했지만, 생성한 문장 길이가 일정 이상이 되면 주제의 일관성이 흐트러지면서 어색함이 드러나곤 함.\n",
        "\n",
        "그러나 GPT-2는 무려 신문기사 1편 정도의 길이의 글을 작문하면서 주제나 논리의 일관성을 어느 정도 유지했다는 점에서 놀라움을 줌\n",
        "\n",
        "2019년 2월, GPT-2를 발표한 OpenAI에서 문장 생성 모델의 오남용이 가져올 위험 때문에 해당 모델을 비공개하기로 하면서 위와 같은 기사들이 한동안 세간의 이슈가 됨\n",
        "\n",
        "그로부터 1년여 후 2020년 5월에 OpenAI에서는 다시 GPT-2를 이전보다 훨씬 큰 규모로 발전시킨 GPT-3를 발표하고 GPT-3가 만들어낸 텍스트는 그저 논리적 일관성을 유지하는 수준을 넘어서서 사람이 쓴 것과 구분이 안될 정도의 자연스러움을 보여줌\n"
      ]
    },
    {
      "cell_type": "markdown",
      "metadata": {
        "id": "ckfH3lP63qm5"
      },
      "source": [
        "## 시퀀스(Sequence)\n",
        "[파이썬 프로그래밍 입문서 (가제) - 5.2. 시퀀스](https://python.bakyeono.net/chapter-5-2.html)\n",
        "\n",
        "__시퀀스란?__\n",
        "\n",
        "> 데이터를 순서대로 하나씩 나열하여 나타낸 데이터 구조\n",
        ">\n",
        "> 특정 위치(~번째)의 데이터를 가리킬 수 있다.\n",
        "\n",
        "* 나열과 정렬은 다름\n",
        "\n",
        "  : 시퀀스 속의 데이터에 어떤 정렬 규칙이 반드시 있어야 하는 것은 아님.\n",
        "  시퀀스에 담은 데이터의 순서란 데이터의 나열 순서일 뿐, 순서가 있다는 것과 정렬되었다는 것은 의미가 다르다\n",
        "* 파이썬은 리스트(list), 튜플(tuple), 레인지(range), 문자열(string) 등이 여러 가지 시퀀스 컬렉션을 제공\n",
        "* 시퀀스 데이터가 각 요소들의 연관성을 의미하는 것은 아니지만 인공지능이 예측을 하려면 __어느 정도의 연관성은 있어야함__\n"
      ]
    },
    {
      "cell_type": "markdown",
      "metadata": {
        "id": "jw0dKXS440BO"
      },
      "source": [
        "## 문법, 통계에 기반한 방법\n",
        "인공지능이 글을 이해하는 방법은 어떤 문법적인 원리를 통해서가 아니고, __수많은 글을 읽게 함으로써__ `나는`, `밥을`, 그다음이 `먹는다`라는 사실을 알게 하는 것\n",
        "\n",
        "이런 이유로 __많은 데이터가 곧 좋은 결과__를 만들어 냄\n",
        "\n",
        "이 방식을 가장 잘 처리하는 인공지능 중 하나가 __순환신경망(RNN)__\n",
        "\n",
        "![image.png](data:image/png;base64,iVBORw0KGgoAAAANSUhEUgAAAZMAAADLCAYAAACrtn5PAAAgAElEQVR4Ae2d91sV177/779wfzy/nnt6ybnfm3ufnJPknJwkJzH9xKhJrIldY429d401GnuLvfdeQEEFRUFABGmKICJdet3t/X3eS4cAA6xZFLOBzzzPsNlrPjN75rVn1muV2Wv+AzIJASEgBISAEGghgf9o4fqyuhAQAkJACAgBiEzkJBACQkAICIEWExCZtBihbEAICAEhIAREJnIOCAEhIASEQIsJiExajFA2IASEgBAQAiITOQeEgBAQAkKgxQREJi1GKBsQAkJACAgBkYmcA0JACAgBIdBiAiKTFiOUDbQPAj54PN6aXfX5vPD5fOBreXkJ0h49ga9mKQCfFxUlhXiSnoqkxATEJyQiJTUdBaUV8HjrRNZeq5P970VlZRXcbo/2uH1eL7weD7w+PTt+J9XVLu02JcC/CDiWCS88r/fZBehfh9CJ9sbnRklJCYpLymsOmt9LZXk5PPxualLln7oEvHBVFyMuPhWu5xlfeVEOsrJzUFxRhgdJ4Rg/fR1qqQaFORmICD6DdcsXYvzY0Rgx+lvMWrACJwJDkZ5TiGoHGWjdfWif76orSpCfm42MjIxn85NMZOcXPTvXfKUIvxGBjMz8Zwfn88JVVYH8nGxkZmWjtKIa3ufiLS/MRXpqKp6WPZeEEkYVqqp+mqtdLni8blSU5SH8doI6p9sntc6511qZUCAVFRUoKChAVlYWnj59ivLyclWqawqZ2+0GZ2Z2phPXcfHE8niatb7p5/lXvE9xq2qoZObJx5G9u7DvxI0acXjcLoQFXEB2WTnc/nUg/rM33nLkPQrCG11G4VF6phJy5IXNWLJiPa4nZyIm6hI+6zUZ1ep8Y62kEtvmjMLU2UsQHJmArJw85Odl40F8FNZM7IUxy4/gYXax/xxfG+5JauRpzPp2GL7o2Qu9evVEr34DMGLhbrhYy/OkYnT/MTgbeBs++FBdUYTkyEtYNG0cho2ahCPBd/C0pBL0SfLN41i1YC4uJxQC8MLrKkZMRASiIiMRFRWl5oT7qSguL0Ta/QB0+XQSyiur2/DIZNOtTaBJmTBTZ0l43bp1ePnll/GLX/wCf/zjHzF79mwlFO5MfVnwPSXw4MEDpKSkoLKyUsUwnXP92k1D61dXV+POnTvIzs5WUmntg/br7bkKEB56Aev3XakRRs3+ujOxdvkSrNh0tmZZRVkxxn7yIUIfPUGFubdrNt2h//GWIyflPP70i1/i/ffex0cffYQ3X/0ffD589jOZRF7ER/8egtj4BOSXVsPjKcLC0UOwZuthPK18VqDheequKkfM4fnoO3kT7qXldWhk1sHdOb8WC5evx8XwZDxOT0JY6GF8/OUsVLnddWXiLsb183vRu89IBN68g4S74Zg+uAfWn7yFrOLqujLxVaOq4Bbee6MrVq9ej71796r53OXryHqaJzKx4LezV61Mtm3bhq5du2LlypWIjo7GgQMH8NJLL4HprKWUlZWBmT8vNtYmKJ+ioiKMGzcOY8aMQWJiohIPazOlpaWqdsPljOd6TGcNhpKheBjz+PFjvP3229i6dStycnLUsnbGtfm7W52D88e24dvvDtcIo2Zj7idYs2wxlm08U7OMMhn1wbsIScsQmdSAqvePtxy5j4Lwj7eHIi4+CU+ePMG1Y6uxcOnaZzKJOId33/gQ23fuRkx6KVweDx7euYK1S2Zj4oTx6lweO/ZbjBs3HlNnLcTlmEcorewc9cDoc2uwbN1u3E4thsddjKSY4/i/X/8PBgwYiMEDv8TLr3XF0YDbqMxNxukd32Pe7iBUVFXD5apCcuBmfPBJD3zR52t88em7+LzP0Gc1E18Vqgpu4v0PhiE2/oG65nndV1RUwu0q6TQyUQUUt1vliZs2bcKAAQOwfv16nD9/Hjt27MDYsWNVgfz+/fsYPnw4Vq1apfJGnt1sKTpx4gQmTJiAiIgIlRfz/ZAhQ1TcxYsXsW/fPqxZswZpaWk1eWj9wny9K6VFbxuVCQ+UYujdu7c6ENY0mPnzQqQkKJiAgACMHj0a3HE2hZ09exaffPIJdu7cid/+9rf43e9+VwNo4MCB+Prrr/Hpp5+qmHPnzikYkydPRlxcnALKGtC3336LOXPm4D//8z/xyiuvYOrUqQog96dTTNXZOHN4C0bO218jjJrjblAmhRj17v/D8EkTMXPuXMytNS9evgpHrsQqcddsozP+06BM1vwkk8gA/LvHGGTn5aOi2oWC/FykP0xG9O2buBochEuBgQgMDMTloGCE3ryN+w/TkJNfhKrqji8UymT5+j2ISi8DfGVISbyILu8NRWRUNGKiz6Nvj8E4FXgbrqJHOLNzJb5dcRjVvFR9PoTtnYvBU1fjdFAYzu77AbMmTakjkw8+HoWUtMy657m3FGlJF/B2l29w/8FDFJZUwu3pWNc+xXn37l3s2bNHSYD9RhcuXFD546VLl1BYWIj4+HisWLEC9+7dU3krr+v3338fR44cUfkyC+6UzJIlS5SM+Z756ODBg3Ho0CG1jczMTFy+fBn9+vUD/2ehnXk1z2UKprWnJmXCGgIPYP78+TXNVcXFxdiyZYuqndB8XL579251QNu3b8cvf/lL3LhxQzUlvPfeezh69CjWrl2Lt956S1nz4MGDGDRoELp164YffvgBPXr0UPGpqamgWD777DMEBQXhv/7rv5Sorly5omo6rX3gfrs9jUxWzhqPL3t9gz2HTuB+dhncrmrcCjyB8+fP4fyFC+pk4YnJk+Zy8DXcuV/vYvXbA2/DHfNVoyT3DsZ/MxGbN29Rpb7VS+dhzfajeJD9FHExweg9cDbUPUm+SoSdPYw9u3aoOJ7TLCVyrv3/4VNXkFNc0YY77R+bjj63GiNHjMGsJWuwadMaLFk6Ff/sPsPWzOV1lyE5+hpmTpiIlavXYd3qlZg2aTIuRN5HYbmrXjPXs5pJozJJPIfXXn4PmzZtQdCdx6h06e8W8w9aTe8FC+PJyck4c+aMyuMoDKZxCg0NxTfffINbt26p5n028zPDp1g4Mc/lPHLkSCUIdiWwG4B5qzUxD2VBn4V6TiyAs/D/+eefq3OXeTf7vVmTOXbsmPosti611tSoTFgdsmQyb948ZUfuHHdo8+bN+Mtf/qKqURSGJRM2ff3mN79Benq6MuTQoUNVNW3//v3o3r27OgBWz9hG+utf/xpLly5V6ZQPQUyaNEnVhGjR//7v/1afw/hONelkMnsCevUegX2HjyM2JR3hVy8j6PJlsETDUoj1av0ffOUqopIyUOXq+KXoxs8TL9xVJUiNv4GNG/cgIvKOKtU9yc5HeVUZEu6FYeykFc9kAg9yMlJw4ehebFi9Et9//71t3nciEPdSMlDWCTqIMxPDcGj3NqxdvwmbNm3Exs1bsPHAZbi9XsD7GHMnzEbw9VhVu6gsLcT9O9ewe/sW/LB6Pc5du4OCkgq4qquQFnsF+7Ztx90M1nA0Mkk6j7feGYLYuHvILSx71tnf+JfbLpZQCtevX1etMczM8/Ly6rQYMA9kDYLdCKx9fPfdd6rv2To4FmYoH8pj1qxZqvuAMmFrjjVRPmwaYzOZNTH/nD59OkaMGKFEwnS2IrGliQVOxsbExNQ0g1nrNee1UZlY4ujbty8oBVapaEOajgZlzeL48ePo0qULdu3apdrweGBs3qKEWPuoLZMvv/xSGZkmZAnv97//PZYvX66ay2hl9q2wyYzNarQnZUITd1qZzN0Ht9uFqsoKFD7NRXpaGgqeJmPlEqvPxI2i/AdYO286Zkyfrk4YnjT155mz52LrqZtyZ4zPBW9JFHr1GIaz5wIRGRn5fL6J48d24fPB857LhJdRFa4c+RGLZk3DlClTaubJkydhVP/uGPHdQaRmFzXnemuX65QX5SIpLgohISF152vnsPz7LYiIefBTU5XPjYrSdOzZfxHlFVXqeLNTInElKBiJadkoqfTUyOTdN3vizNmLCA8Px82wGwgNCUVkdDji7nW8u7mY8TOfZPM+b7Nmk1PtiTLp2bMnFi9ejAULFqhWmtoxzDOZ9/KmpkWLFqkCDuXCPhZrokzYTVBbJpQYxcT+GK7PiXk7+60pEbYUnTx5so64rO2ZvjYqE26ItRPWOtg/woyfFyDN+b//+7+qX4SG/fDDD7Fw4UJcvXoV7BdhPwlhUQy9evVSpWV2LrEGw7vAgoODlWgoKW6bzWTsY2FzGO+y4TrsdP/rX/+q+k7Y6c9O/k4zVeci4MR2jJq5CYkJ8Yi6fQsBZ45h05o1CI66jsWLLJn44PW4UVJYgLjoaNXeX1RcrGqOrD3WzCUlqgTNE6hTT5RJcTj+9fJr6NH9CwwcNEidh4MGfo1Pu/fAq92n1Lq12ovUxFjEREchITFRFXQSEhKQcC8WwXsWY8L3x/Awq/PIJCclHGvnTUKfPn1qZl6/ffr0wDtdB+PCjXs1MvG6SpAedxIvv9Yf6bmF8Pq8uH5oKWbMXYaQROv3KC5UF8Wg34efoG/vPvjq66/Qtw9fB2HBilW4Hn2xw90azOuPheTTp0+rPJQZf35+fk3thLUW1h4oVp5r7EJgDYL91pwsmXA7LHyzBsIblHhjlDVxm2zmorCsiTUgdt5PmzZN1YZ4w1Nubq6qJbGwzr4b9re0xtSkTLjj7Czih/7tb39TTVhs3mLVnxk8O45mzJihbht+/fXXlRgYRxnQwqxd8K4sHuCbb76JV199FX/+85/VK61I6bA9j3HsU2Eth7UZ2pQy4m3IrKmw1tJpMkNPGZKir2HDqh+wYdNW7Nl/GIFXQnEnNgG5eUm1aib8+n2oKC/G6M8/x92MLMhd+U1cEs9l8uknQ3Dl2k3VHs2m1bS0JFy8cBCf9K4lE18lvp8wCNNmzMbhEydU0wTvlLHm63fuo6issokP6ySL6vzOBKpwU5iZgiNLR+JXf3wbp2IeIb8wB1vmDsNn3fti4/EwVUPmb1J8PhcK8/NVB3RhYRHKytnRzqaz0g59Nxdbd3jesen/xx9/VHkozxbW+pjps8+EE/NW5nvs/2Shnl0IzC85MfNnOvNUSsWauF3mm+wzYX7Jmg1blP71r3+pfhJuk30xLNyzL7q1C+lNysTaSe4Uq0WsJrGZikCsiTtI09GytJ5126/VQcRmKt61wJIMjcnqHm1LQJxpXxqb61m3DxMEt0t4lBnjOtPE47f48JXvOcN2N5cP5WVF6N+lC6LSM0QmTZ0kz2Xy1kv/gw+6vK9u9ODNHt26fYp3PvgQ//fZ5J9qJr5KrBj9Bd775+v49LPPamJZQ+f81YSliE/NaurTOseyejIpyEzGvjWz8FGvb3Hnyg58/OVYzBnbF2Pnrsba1SswccRwrDkSiqqmKskdXCY8Maz8zcr3+J4tO8OGDcPNmzfVucN8k4UXtt4wL6V4LJkwgAVu9j3zfLQmNoGxg561H3bss8DOZlq2JjE/5eew9sJtq/zEWrGVXh3JhJ/FTI0HVVskTOdOMc3K9PhqTUyniFhlYxWZtxJbsVaMtd3663O7XLf29qx1Ou1rQzIpLcBXr/0Sn3bvii969lTtrmwqZPvr14NHYPHuy47GQ+r4TH2ApxxJcXG4F3dP3XLJNmfeehl3LwHxDzJqmmr4C+2cxw+RFB+nOj3Z7MBY6zU5NUP6oHjCeLOxfvla3IpKVqdPYW4GggIDkfw4D66qMkRdOY4t2w8g5n4GiooK8CAuEhcv3UT5T1mE/bTzVSI3MxpzFu3s0LdeM3+z8j625DBvpDjYf8Fbd9nvQSkkJSWpO8DYKc+ba1gYt9alUNjXwonN2teuXVN5LQvtbApjNwRvhmIhnetwqp//qsRW+uNYJs39PB7Ew4cPVV+J1QHU3G11+vV8FUiKv4f4+8+qu+Th8bjw4F404uJi1X3mvNfcmuMTk/Eo62mtTLKzE/TB83yYHxZU6sy1BoEkJa/3WUGoToy1Tqcc5qehc8eFvLwC1UTFpbxhpII/Qn4+Hld1eTEKi0pQqX6P41N3dTFja3qcTC9crkpkZed3mkIQm62sH3uzhcbq72Qaaxj8MTfT+b52/wZlxBoHJ0qCzVZW3LMfgVao9Ia+ubZIa3OZcKcJgEB4YcrUEgLPamvWYIUt2ZKsKwSEgBBoTQIvRCatucOyLSEgBISAEPA/AiIT//tOZI+EgBAQAu2OgMik3X1lssNCQAgIAf8jIDLxv+9E9kgICAEh0O4IiEza3VcmO9yWBKxbKNvyMzrTtoVn5/m2RSbt9LvmnXH8oShHIeVtgTK1nAA53r59W92X3/KtyRYoEg4oyB81y+/FWn4+kCeHR+EPD/ljb38Ttcik5d/xC98CMz1epBzwjcPZ8Pc7ctt1y74G/v6BPwrj8BQc/I4XrUzNJ8CMjkN58PEVfC4Hf3znb5lf84/uxa9JdvzlOscx5DXPUcH9rRApMnnx50WLPpEnFYdN4PD9fNgYh63mxcpf0frbydWiA32BK/MHXhxojyLhWHAccI+/QuYPwGQyJ8DzkCOHs7DD0Wo5AOyGDRvUr7HNtyZr8JrnDxk5fApHbP/qq68wfdo0Nc6WPwlaZNKOzlWeOBzMjY/i5EXKYVM4UygssdR/RkI7OrSfbVcpEo7UygezcQgai+nEiROVYNicIJNzAvyBMseQ4mCwzPSsoX04iCGHC2HTrEzOCfCa5y/bOZwKRcLCDpn2798ffM4UWyj8RSgiE+ff688eyQuVD8JatmyZevYzTyoOoMlnmPDxnbGxsdLcZfAt8SLkg9g4dtzMmTPVA93IlIPl8XHRLAlyMD5/uVgNDu1nC6V8OWghMzrW9FjQ4bON+Kzy1atXq8EHhafzr4e1PA5HxaHmeU6SJZmOGjVK1fw4fhfzBX9gKjJx/r3+7JEch4fNWaydcDA3llJ4cnF0UA5XzYzRegzoz76z7WAHeAGy+YCD4XHAR2aAZMqHvPHZPSz1SUna7Iu0Rvt+9OgRDh8+rB7VzZFr+Shu3izC5i/pjHfOlKx4AwPPUY4ozKfRDhkyRI3Ezmue5yiveZGJc6YS+ZwATxp2tvO5B8z4OGw1q8FygTb/FCFTdm6yH4pM+awJPmrBHy7Q5h/Vz7cmuXFmvxObtyhpdsZb6T/fnrXfT+b1zb5S1qDZp2c958SfzlGpmbTD86shmfjTSdUOkarnQ9SWCeUiU/MJNCaT5m+xc6/ZmEz8iYrIxJ++DYf7IjJxCMogjM+GEJkYANOEikw0gAwXi0wMgUm4MwIiE2ecTKJEJia09LEiEz0jkwiRiQktiXVMQGTiGJXjQJGJY1SOAkUmjjA5DhKZOEYlgSYERCYmtJzFikyccXIaJTJxSspZnMjEGSeJMiQgMjEE5iBcZOIAkkGIyMQAloNQkYkDSBJiTkBkYs5Mt4bIREfIbLnIxIyXLlpkoiMky5tFQGTSLGxNriQyaRKP8UKRiTGyJlcQmTSJRxY2l4DIpLnkGl9PZNI4m+YsEZk0h1rj64hMGmcjS1pAQGTSAniNrCoyaQRMM5NFJs0E18hqIpNGwEhyywiITFrGr6G1RSYNUWl+msik+ewaWlNk0hAVSWsxAY4kymHTrbG5+GAnXrwyNZ8An10iv4BvPr/6a1oy4dhx1thc9WPkvXMC5MmxufhgLA5Fz7G5/O2al+FUnH+fjUZyUECOksqhovmFt/XMkUL5VEAO682TKyEhoc0/k8fE4+OIxSUlJY2yaI0FHAU1Ozv7hRyT9V1x1GA+wGnatGlqoEe+t5a19StHe+Zou201sVTLmldbH0f97XNk67lz56rh01n4qb+8rd5zhN22Pkf5ffFa4DXxoq77iIgI9SA8yvns2bMvjCeP08nD90QmrXAFx8fHq5LCqVOn8CLmkydPquG9t23bhu3bt+PEiRNg2ov47DNnzihxtgK2BjfB0hZHQQ4LC3thx0RuZHjgwAH1AKdDhw6p9y+CJ7+3kJAQNRR+g0BaIZHNohy190WdI+RmnaN8JgxHYT527NgLOT/5uQEBAWqo+1ZA1+gm+OgCXgsv4hyxPoMMyZJMOby/ld7WrzzO27dvax9vITJp9HRxtoCZH58nwsyImVBHn/nEN5bE2moiT5Yqr127pp7F3tF58nnzfJ43aw5t0WzBbfLhSay98rM6Ok8eHx8YxdJ0W04cVZrXQmfgefToUdy4cUNbexaZtPCME5m0EGC91UUm9YC08K3IpIUAG1ldZGIHIzKxMzFKEZkY4dIGi0y0iIwCRCZGuBwHi0zsqEQmdiZGKSITI1zaYJGJFpFRgMjECJfjYJGJHZXIxM7EKEVkYoRLGywy0SIyChCZGOFyHCwysaMSmdiZGKWITIxwaYNFJlpERgEiEyNcjoNFJnZUIhM7E6MUkYkRLm2wyESLyChAZGKEy3GwyMSOSmRiZ2KUIjIxwqUNFploERkFiEyMcDkOFpnYUYlM7EyMUkQmRri0wSITLSKjAJGJES7HwSITOyqRiZ2JUYrIxAiXNlhkokVkFCAyMcLlOFhkYkclMrEzMUoRmRjh0gaLTLSIjAJEJka4HAeLTOyoRCZ2JkYpIhMjXNpgkYkWkVGAyMQIl+NgkYkdlcjEzsQoRWRihEsbLDLRIjIKEJkY4XIcLDKxoxKZ2JkYpYhMjHBpg0UmWkRGASITI1yOg0UmdlQiEzsToxSRiREubbDIRIvIKEBkYoTLcbDIxI5KZGJnYpQiMjHCpQ0WmWgRGQWITIxwOQ4WmdhRiUzsTIxSRCZGuLTBIhMtIqMAkYkRLsfBIhM7KpGJnYlRisjECJc2WGSiRWQUIDIxwuU4WGRiRyUysTMxShGZGOHSBotMtIiMAkQmRrgcB4tM7KhEJnYmRikiEyNc2mCRiRaRUYDIxAiX42CRiR2VyMTOxChFZGKESxssMtEiMgoQmRjhchwsMrGjEpnYmRiliEyMcGmDRSZaREYBIhMjXI6DRSZ2VCITOxOjFJGJES5tsMhEi8goQGRihMtxsMjEjkpkYmdilCIyMcKlDRaZaBEZBYhMjHA5DhaZ2FGJTOxMjFJEJka4tMEiEy0iowCRiREux8EiEzsqkYmdiVGKyMQIlzZYZKJFZBQgMjHC5ThYZGJHJTKxMzFKEZkY4dIGi0y0iIwCRCZGuBwHi0zsqEQmdiZGKSITI1zaYJGJFpFRgMjECJfjYJGJHZXIxM7EKEVkYoRLGywy0SIyChCZGOFyHCwysaMSmdiZGKWITIxwaYNFJlpERgEiEyNcjoNFJnZUIhM7E6MUkYkRLm2wyESLyChAZGKEy3GwyMSOSmRiZ2KUIjIxwqUNFploERkFiEyMcDkOFpnYUYlM7EyMUkQmRri0wSITLSKjAJGJES7HwSITOyqRiZ2JUYrIxAiXNlhkokVkFCAyMcLlOFhkYkclMrEzMUoRmRjh0gaLTLSIjAJEJka4HAeLTOyoRCZ2JkYpIhMjXNpgkYkWkVGAyMQIl+NgkYkdlcjEzsQoRWRihEsbLDLRIjIKEJkY4XIcLDKxoxKZ2JkYpYhMjHBpg0UmWkRGASITI1yOg0UmdlQiEzsToxSRiREubbDIRIvIKEBkYoTLcbDIxI5KZGJnYpQiMjHCpQ0WmWgRGQWITIxwOQ4WmdhRiUzsTIxSRCZGuLTBIhMtIqMAkYkRLsfBIhM7KpGJnYlRisjECJc2WGSiRWQUIDIxwuU4WGRiRyUysTMxShGZGOHSBotMtIiMAkQmRrgcB4tM7KhEJnYmRikiEyNc2mCRiRaRUYDIxAiX42CRiR2VyMTOxChFZGKESxssMtEiMgoQmRjhchwsMrGjEpnYmRiliEyMcGmDRSZaREYBIhMjXI6DRSZ2VCITOxOjFJGJES5tsMhEi8goQGRihMtxsMjEjkpkYmdilCIyMcKlDRaZaBEZBYhMjHA5DhaZ2FGJTOxMjFJEJka4tMEiEy0iowCRiREux8EiEzsqkYmdiVGKyMQIlzZYZKJFZBQgMjHC5ThYZGJHJTKxMzFKEZkY4dIGi0y0iIwCRCZGuBwHi0zsqEQmdiZGKSITI1zaYJGJFpFRgMjECJfjYJGJHZXIxM7EKEVkYoRLGywy0SIyChCZGOFyHCwysaMSmdiZGKWITIxwaYNFJlpERgEiEyNcjoNFJnZUIhM7E6MUkYkRLm2wyESLyChAZGKEy3GwyMSOSmRiZ2KUIjIxwqUNFploERkFiEyMcDkOFpnYUYlM7EyMUkQmRri0wSITLSKjAJGJES7HwSITOyqRiZ2JUYrIxAiXNlhkokVkFCAyMcLlOFhkYkclMrEzMUoRmRjh0gaLTLSIjAJEJka4HAeLTOyoRCZ2JkYpIhMjXNpgkYkWkVGAyMQIl+NgkYkdlcjEzsQoRWRihEsbLDLRIjIKEJkY4XIcLDKxoxKZ2JkYpYhMjHBpg0UmWkRGASITI1yOg0UmdlQiEzsToxSRiREubbDIRIvIKEBkYoTLcbDIxI5KZGJnYpQiMjHCpQ0WmWgRGQWITIxwOQ4WmdhRiUzsTIxSRCZGuLTBIhMtIqMAkYkRLsfBIhM7KpGJnYlRisjECJc2WGSiRWQUIDIxwuU4WGRiRyUysTMxShGZGOHSBotMtIiMAkQmRrgcB4tM7KhEJnYmRikiEyNc2mCRiRaRUYDIxAiX42CRiR2VyMTOxChFZGKESxssMtEiMgoQmRjhchwsMrGjEpnYmRiliEyMcGmDRSZaREYBIhMjXI6DRSZ2VCITOxOjFJGJES5tsMhEi8goQGRihMtxsMjEjkpkYmdilCIyMcKlDRaZaBEZBYhMjHA5DhaZ2FGJTOxMjFJEJka4tMEiEy0iowCRiREux8EiEzsqkYmdiVGKyMQIlzZYZKJFZBQgMjHC5ThYZGJHJTKxMzFKEZkY4dIGi0y0iIwCRCZGuBwHi0zsqEQmdiZGKSITI1zaYJGJFpFRgMjECJfjYJGJHZXIxM7EKEVkYoRLGw61nEIAABrFSURBVCwy0SIyChCZGOFyHCwysaMSmdiZGKWITIxwaYNFJlpERgEiEyNcjoNFJnZUIhM7E6MUkYkRLm2wyESLyChAZGKEy3GwyMSOSmRiZ2KUIjIxwqUNFploERkFiEyMcDkOFpnYUYlM7EyMUkQmRri0wSITLSKjAJGJES7HwSITOyqRiZ2JUYrIxAiXNlhkokVkFCAyMcLlOFhkYkclMrEzMUoRmRjh0gaLTLSIjAJEJka4HAeLTOyoRCZ2JkYpIhMjXNpgkYkWkVGAyMQIl+NgkYkdlcjEzsQoRWRihEsbLDLRIjIKEJkY4XIcLDKxoxKZ2JkYpYhMjHBpg0UmWkRGASITI1yOg0UmdlQiEzsToxSRiREubbDIRIvIKEBkYoTLcbDIxI5KZGJnYpQiMjHCpQ0WmWgRGQWITIxwOQ4WmdhRiUzsTIxSRCZGuLTBIhMtIqMAkYkRLsfBIhM7KpGJnYlRisjECJc2WGSiRWQUIDIxwuU4WGRiRyUysTMxShGZGOHSBotMtIiMAkQmRrgcB4tM7KhEJnYmRikiEyNc2mCRiRaRUYDIxAiX42CRiR2VyMTOxChFZGKESxssMtEiMgoQmRjhchwsMrGjEpnYmRiliEyMcGmDRSZaREYBIhMjXI6DRSZ2VCITOxOjFJGJES5tsMhEi8goQGRihMtxsMjEjkpkYmdilCIyMcKlDRaZaBEZBYhMjHA5DhaZ2FGJTOxMjFJEJka4tMEiEy0iowCRiREux8EiEzsqkYmdiVGKyMQIlzZYZKJFZBQgMjHC5ThYZGJHJTKxMzFKEZkY4dIGi0y0iIwCRCZGuBwHi0zsqEQmdiZGKSITI1zaYJGJFpFRgMjECJfjYJGJHZXIxM7EKEVkYoRLGywy0SIyChCZGOFyHCwysaMSmdiZGKWITIxwaYNFJlpERgEiEyNcjoNFJnZUIhM7E6MUSyYnT57E4cOHcejQoQ478/iOHj2Khw8fGjEyCbZkEhISgoMHD3ZYltZ5wmMMCgpCYWEheOytPdWWifWZHf319OnTSE1NbW2UdbZHmfBa6OjXPM+VY8eO4caNG6iqqqrDoP4bkUl9Is14n52djcTERMTFxeHevXs1s/Wer9b/1vLaadYyK816b8XytfYyazlfY2Nj1edZy611rJja67ZkWe3t8UJqy6m6uhppaWk1x1z/GOofq7Xceq29r/XTrGXWNqz3Vpz16mQ5Y6342v83tE0rrv4yvqecKysr2wyp1+tFXl6ejae1z/X3zTr2+ulWvHUMteNqL6u/3Iqz0q3Y2tu3YqxlVmxj6bXXrb0O43ktUs5tOfH7io+Pt13r9ffF2k8r3Xrf0PHVP1Yr1nqtv7z2+/rbs9439Lm117O2bb3WXs/6n8eZnp4Oj8fTJFKRSZN4nC10uVwqM6ioqMCLmMvLy5GbmwuW3lk6Ki4ufiGfax2b2+12BqaZUcz8KBTr817Ea1lZmWK6adMmJCcno6Sk5IV8Pr9Llvh4zG01sXbC7+xFcKz9GWTIGvu1a9eUzGova8v/mdHrMr6Wsub3xc9py+Oov22eoxERETh16pQqgPDcqR/TVu95PepqziKTlp5Vz9cn6Bc1l5aWIiwsDFOnTsWYMWNw69YtdVK9iM9vJVyONvMijoefwYyHta2dO3di0KBBWLVqVU1J7EXsgyMYrRD0Io7F+gwWsIKDgzFu3DhMnz4dN2/eVNK0lrf1ayvgcrSJtj4Oa/uUV1JSEpYtW6aYHjhwoKZp1Ippy1cnMEQmTij5UQxLHiyd8ALt2bMn+vTpgxkzZqgTTdem6UeH4Te7wos0Pz9ftX0PGDAAvXv3Rv/+/bFr1y5kZWVpS2N+cyB+tCM8D8PDwzFhwgR89dVX6hxduHChahZq6xqDH2Fo1V1hs++KFSswePBg9OrVSxUiL126pO3HaNWd0GxMZKIB5E+LWdpjH8mCBQvUBcqTyppXrlyJR48eqeYMf9pnf98Xtq2fO3cOw4cPVyIhTwplxIgRqjmhqKjI3w/Br/aPIom/dw9TpkxRIrF4UtQ8R588eeJX++vvO2MVdjZs2IChQ4eq653nZ9++fTF+/HjExMT4TYFHZOLvZ1Ot/WPzFvtI5s+fj0mTJqkTiyfVrFmzMHv2bISGhrZpR26tXekQ/7JZICkxEWvXrMGcOXPUxcoLdeTIkaq2x/4TduYyTiZnBChnNsHMmzdPZXb9+vVTTYeUC5toAgMDhaczlCqKBUg2aS9dulS1RgwcOBBkOnbsWFWo3Lp1KxjjD5PIxB++BYN9YMbGpgI2dTHjY4m6Le8EMti1dh3KTHD58uWK6f79+9v8bqB2DcvBzvM85S3PPD9Z+Hnw4IGDtSSkMQLkybv+Zs6cqWrNFy9e9Dspi0wa+/b8OJ135rDTnTIZNmwYeJeHlJ5b9oVRJiz9kSll0ta3P7dsb/1/bZ6PrIVYMrl//76coy342sgzJSWlRiYXLlxo0zsAm7OrIpPmUPuZ1xGZtP4XIDJpXaa1ZcImL5FJy/iy70Rk0jKGsnYDBEQmDUBpYZLIpIUA660uMqkHpIVvRSYtBCirN0xAZNIwl5akikxaQs++rsjEzqQlKSKTltCTdRslIDJpFE2zF4hMmo2uwRVFJg1iaXaiyKTZ6GTFpgiITJqi07xlIpPmcWtsLZFJY2Saly4yaR43WUtDQGSiAdSMxSKTZkBrYhWRSRNwmrFIZNIMaLKKnoDIRM/INEJkYkqs6XiRSdN8TJeKTEyJSbwjAiITR5iMgkQmRri0wSITLSKjAJGJES4JdkpAZOKUlPM4kYlzVk4iRSZOKDmPEZk4ZyWRBgREJgawHIaKTByCchgmMnEIymGYyMQhKAkzI2DJhMPPy3AqZuwai7ZkQqYynEpjlJynUyYcIl2GU3HOrKlIkUlTdGRZswlQJhzokc+K4FDpfOIaL16Zmk+AQ83zeRFkyueyy9hczWfJNXk+Xr58WY3AzGeZcKBHOUebz5TsONAjRwcfPXo0AgIC/I6njM3V/O/3Z1uTpZTU1FT8+OOP2Ldvn3rErVyoLfs6+NAxXqDbtm1TD3aioGVqPgGejwkJCdi7dy/Onj2rHonc/K3JmiSQl5enHoPMa57PbPe3a15kIuepEBACQkAItJiAyKTFCGUDQkAICAEhIDKRc0AICAEhIARaTEBk0mKEsgEhIASEgBAQmcg5IASEgBAQAi0mIDJpMULZgBAQAkJACIhM5BwQAkJACPgRAa/HA7fLBbfXyW/HfHC7PY723utxw+P1oq1+kiYycfQ1SJAQEAJCoLUIeFFVWYqsx4/xuNZcUFIOl8eHopxURF2/ipTcipoPrCovQV5ONnJy81FWUYVnmnGjojwbJ09dRUVltYqliFzV1aiqqvpprnap+IyEMEQlpOJpmbtmu635j8ikNWnKtoRAJyPAH87VLj8/e88UDwoLi+Fy1824WDquKC1BQcFT5Ofno6CwCOUVVfA4KoV3ELi+KqQ/uInvZs/Hlq1bsXXrVny/eC72BsYgr9SF1OgArJ41EWfvPoXP60FZ/mOEBJ7Cru1b8eO2HQgIjURGbjHgq0Be9g288eYw5OYXKTgFT+7jZkgwAi4FITg4GMFXriHkdgJcbg+u7Z6BRT+eRULWT5JqTaIik9akKdtqlwS8Xg+qK8tR5fb+lDH6vOBIA97OlMmZfnu+KmRl5aKk9Fnm5K4qR1F+NgrLqgFvEXZv24fc/MKarVZVlCIzNRFXA87hyKGD2Lt3Hw4fPY6gkFt4lJWHSpez5pqaDbbXf3zFiAw7im69pyPl4UM1TMrhVaMxbc1RRCQ+wZ2rR7FsyrdKJq7KcoTsmIE+o+bi2PkgnD+6A9MnTcTSHReQl/8E9xMv4vVaMok6uxaD+/bEoFGTMGPGDMyYPQ/zNxxBWWW1yKS9ni+y3/5HgKVibwMNxuVFeYgIOILbaaU17dSeyhJkZWbjaWml/x2In+yRrzIRowaNw5nA23C5XMhIvIWtM4dhZ0g6fJ50fPFJP9xLegiv2l8P4q6fxeheXTFh8WZcj7yL5OQEhAWfxayRX2HMzO8RnlrgJ0fWxrtBmdw6id5DVzxnA4TsmYFe/YdhxPhpGDO0L/r1+UrJpKy4EFM+exdBD7NQplzrQeC+9ej16YeYOHMaJk0aij+8MQzZz2smUWfXYdnKTYhIsw8HpGomW88iPrP8p0JTKx6qcc2E1ViPp3VLEP42xkwr8pVN+QkBV1UFYi4fQlRqESpctRtmgLz0RGydPgA/hmSr2gl3uTA5BCu/X4vjtx74yRH4325QJoM/646RIydi5cqVmDd9PAZ//u8amXz+UU+E3YpCSXklPJ5SBJzYia+HzUVOaaXqNFYdzW4XMu9cwIL5i7EnON7/DrIt9qhBmczEgq3nEPuoEIk3z2Dl9PFKJuUlRVja/z3svpGMpxVu+FzFOLJtHSbNWoW88kJkPLqCv9epmTQtk9lrDiIsIUv1u7T2oRnJpLS0VLXDLV++XI1Uq9sZp5KorKwEZ6fxus9tD8vZhFJcXIyoqCg1sGBKSooaqfb+/fu4fv26bb5z546Kt46No9rGxsbWYZaRkaG2x/XDwsIQHR2N9PR0axXEx8fjxo0btm0zjR12HXmqKCnA3lm98GPwIxSU1y0M5T6Kx6bJfbH56k8yKUgIxtIlK3HoelJHxtKiY6NMRvQfhQPHLiM7OxuxNwOwZtKgGpl0f/X/0OOzblh7JAQ5JVV4lBCOJROG4JvxM7F5x24c2L8PW9evwtgh/bFww0E8yClt0f60m5V9xYgI2Yd33u6NHbt2YdeuXZj1TVdMWnsaSdkVdfpMPK4qpN08ioFfD8KcRUsxb/o4jBo/BxdvP4C3gT6Tpmsm09Hts674tP847Dl/u9VrJ45lwoyeHWZbtmzBhx9+CA7ZzTTOrKlwtmRgpXOo9Nrp9b9sK27NmjXYtGlTncyyfmxHeG9x4iul8c0336iRf0+dOoWhQ4fizJkz2LhxI3bu3Amm9ezZE9u3b8etW7fUUPNxcXEKQ0lJiRom/YMPPkBycrJq2+cCPpPDGqL63LlzqmPvyy+/VAUAymLKlClqFNejR4+qocHXrl2Lq1evokePHmpdNlVQch1xKi9+ih/Hf4R1AQ+R/6y9oOYwG5PJjAnjMHHxehw/fhzHjh1Tr/z/+ImzSMrIQ1VdJ9Vsr7P8Q5mMHDAGx8/dQElpKR7GhGDjtCE1Mvn8va44ey4Aj3OeoqSsAgW5mUiOi0Rw8BVcv3FDFXiuh4bgytVQxCc/xNPiclR3in4TFwrzH+PqpSuIiYlRc9i1IMSmZKG00oPHcVexZclcXE4o5Fj+8FQW4d6dKNy8EYqQkFDEJj1EQWklvJ5yZD+JwNDhi1FYXKZOu6ZlMgMTv9uMM6FxyMz9qS+rtc5XI5nk5uaCGdDf//53ZGVlqeG6Dx8+jB9++EE9C4IlXGZoNO2hQ4fA5xgsWrRIPXsjMTFRDUWdlJSk2lcJkRkmh6d+99138Y9//EMJhbfKdbSJmT9rCQcOHFAsKGIK4+2331ZDyefk5CgJnD9/Xgnl7t27iIyMxDvvvIMTJ06ANUIKl7UXThTRpEmT8O9//1sxowQ4Uc5Tp07FkCFD1PMj+Jldu3bF5MmTlfw3bNigajP8nvr3769ExQLCggUL1Gfwu+H3SXk9ffq0pnCgNt7O/+hksmZsd4xdcRDnQ6JVs0zl03QEXzyN/YdP4MKFC+B3w1n9f+ESUnKK4OqY3nX+TVelYuY3IzBl8kysWrUK382bgQkjhuBUVBZ8nsfo020AEpJT4YML8eFB2Lp2lYpjbEPz5h0HEJGS4/zz23WkBxVl+bgVHISgy5cRFBSkZj4D5tSRvdi7azfupNetqaXdCUDAtUg8KeQNDhXIfhyN1ZsPIzb2Aapdz+6aYwf8rNkLcCgwHNFRkbh5IwQXzp5GYFgczm2e6B93czGjokyYqb322mvqDoRXXnkFLPlSGv369VOlaza9MBPs1q0bpk2bpkq9zMx27NihngrIC5LPjti9e7fK0KxMldvkCdZRZMIMnsINCQlRzxwhNzLgMx6YUVPK5McMn7JgrYPxbPrie8q2S5cuSi7cFpsRyI3fQ2hoqJIPa4kUSlnZs1IJr63p06erp9uxyYvyoTR4Vwe3y++PseHh4Rg4cKCSPmuPZM7aEuMpk9WrV6sazJUrV1QzmSWr9nzt6mXSDX0nfY/NBy8iNycLmRnp6hznA4kanFMf4WlRKdx1u1/aMyLzffeUIPp6ANb9sBobNu/A6dOncflKKNLyyuDzZmP8qGlISX2sZJKWfBcn9+/AyqXf4bvv7POqtRtx9PwVJKXnme9Hu1yDMsnA8d07VL7AFgjOzCN+WDoP8+fOx62HJbWOzIOAH6dg0sKNiHhQAE95Dm5f3IR/fDoRxW4frJsOU6POYf2KJViyaqNqmWAesXnzFhwOCPdfmTDj+e1vf6tqJcykKAc2u/BRnay5zJs3TzWLUR58eh2FMmDAAFUb4YOH+BAiNq+wmWbkyJGYMGGCimdm2Z4nNhOxpsEMf/PmzSrT57HyOK1+Cb7evn1b1cjIhicRJVP7gUz1ZWIxoWhY6+O96czsf/WrX4G1PkqBE2VCwZM7P7dXr17qs6qrn/2oiTG1ZWJt13rl/vOpeJQKm8zWr1+vvtPMzMyaz7Bi29PrTzJJQW5JNdyualSUl6nmmbSkO3X6TAozYrFn+2ZVcGIhoPZM0XJes2YDgqPvo7KzN3VVZ2LDihXYdiBQFYZYIMrKeoLMJ7H4Zsh4PEjLeN4278GT+1HYvHoF2Odae140ewrmLd+K8JTc9nRKtdm+1v6dCT/E53UjJy0OS8f1Q++vxuDo5dt4mBCJTdMGoMvH/XD8ZhIKy6rUnYrPftyYhYyMTGTn5qGwuLTmNzx+8zsTq2bCEjVrEZTJ7373O9V0w8yRTTgsJbMZ4J///CfYLs/mnZs3b6pS8JgxY5RMTp48qTJNZrTdu3cHm1b46Nnx48d3CJkw02bfB5vuli1bpkr99W8uIEuKg09Lo0T/9Kc/qUyftRTWEDg1JhNKhzVBNk3xDhp+F8zcWPPgRJm8+uqrqqnr448/xqxZs2pqNCpAIxPGcP94HI8ePVLNcW+88YYqLNSuAVnbai+v7IDfObUbFu8PRURMPOJionH9ahAuXLyEwKshdWRSXVaE9AcJiLl7F7HxSQ3XTB4+Qn5nr5nwXKlMw7wJYzFg4FjV5Mo+v02bNmLjhiV45Z9f4G7iw+cy8aG4IA9J92KRlJysClcsYHGOuLgP8xetxJnI1PZyOrXpfqbFXMK6uVNxPraAJoGrKAM7lkzCrHX7sWbZIsyfPRc/rFqKMRPm4PKFvegzaAKCoh6iorruD0Tr72To/jlYuuO86uSvv6w13jerz0QnE/Z/sETLUgpL0ayRsKbC1/3796vmljlz5qj2fMqENZOxY8eCTTMdoUmFNRPW1Nj0xyo9+z/YT8IMmiV/ioT9HpYAWEv5wx/+oGp5rHlwakwm7ENZt26dYsjMnjcusEZIdpysZq4nT56obfzlL39RNREnNRNKhPy5D2yuZImczWGUFh8Z2p4751liu7R9Pvr26omevfrg64FDMGn6XGzecwyXgq/UkQk55iddx/Yd+3D1XqbiKn8aJkCZLJg6FQu/36UKRywg3bsXi7jYYHz4fm/EJVkycSH4xHa8++pfMXDoMNUUO3z4cNX0zdd5K3cgqtP0lzTM0krNSg7HkW3rEZZSDJ/HhZIHodh6OAhP8orhLs9DwJFtWLpiA+IyS+CursT9sOPYc+YW8oub/mX73UvbsP/CLaQ/bZs7N1skk9///vcN1kzYF/DnP/9ZlY5ffvllUBzs9P32229VSZqdx8w82SfAkgn7Vl5//XXVecyMlZlae564/2x2ojTYFzJq1CjVn8SmI/Z9sA2eciUTTuwLefPNN1XTldXU1ZBMKATW6I4cOaIYsRaTlpaGX/ziF6opi59pyYTNUhQMa30rVqxQtUSLaWPNXJQbb4hgLZL7zE5B1qoomPb+nQA+eNzPxixSt6Jz7KLqavV7h+zUezaZZN05j6XLVuP07TQLm7w2QIAymTtuNEaOma36Bvl88n379mLf3nV4/c3Pa9VMXLhyai+6fdIdW57fDssbdTiz33T/8XO4c/9Jq9+u2sAu+30Sh1Dx8E7Y5x0hfM/BHNU1yLu73G51TVo/wOWPcd0eDuDYdL6pBnr0eGv6V1obhGOZ8IOZqTCDioiIUBkg7/ph5sgSK2sh/C0ESyZs5mI/AJu02HfAGGaS/M3DxYsX1e2o/M0D45nOUjTvYmDmapXMW/tAf67tkRn7lHjslAk75NnhTYF+8cUX6qYD3iLM2hmbsMiSvyGhMF566SXMnz9f9cFQHGw+Y22HtTtmiGxeZNMYmxtZ6wsMDESfPn1UExv7U8g2ICAAf/vb39RtrbzTjvPBgweVvNgERvbWRIHxO2NtkTURSq4zTA3dGpwVfR4TRg7D8Mnz1c0SbN6tmddtRFj8Y5Q+u4muMyBq/Bi9FUiKjUbotRB1FyALKswXwm+F4dK1CBSVWL/E9uJp9mOEh15FxO3bqvDDgqM1R9+NVyXvxj9Ilvg7ASOZ0HzM1JiJ8X++Wm38LBXzPUvdb731lsq8KBhmelbzCGOZwVEY/N9q9uH/bI/nMp1d/R1oY/tnSYKlfzJhExUvPMqXP1ykbKzMmxzZCX7t2jXV3GRxSU1NVbFkTGbcJjN9xlHwlBSb1NhPxf+5nP1W/AEj1yFvztw2P5vyqN0Pwn3jTAF2pqm8OB+Rl44j6tFPnZVVxblIiItBRNSzAtKz5hs24XCOR3ZhGdyd/dZgdZL44KquQkV5ubp+ea7WzGoAx58geTxuVFVWqPOc53qdubJKDUbYmc67jnasRjLRHTxFwMyNvy1hiYOZZkNycJqm+zxZLgRagwCr/5VlJaiorjXQY2tsWLYhBDoRgVaVCbmx5MtSMWsfVo2kE/GUQxUCQkAIdEoCrS4TUmTNo6HaR6ckLActBISAEOgEBNpEJp2AmxyiEBACQkAI1CIgMqkFQ/4VAkJACAiB5hEQmTSPm6wlBISAEBACtQiITGrBkH+FgBAQAkKgeQT+Pwt7syitI0dEAAAAAElFTkSuQmCC)\n",
        "\n",
        "`나는`을 만드는 방법은 `<start>`라는 특수한 토큰을 맨 앞에 추가해 인공지능에게 \"자, 이제 어던 문장이든 생성해봐!\"라는 사인을 주는 셈\n",
        "\n",
        "`<start>`를 입력으로 받은 순환신경망은 다음 단어로 `나는`을 생성하고, __생성한 단어를 다시 입력으로 사용__. 이 순환적인 특성을 살려 순환신경망이라고 부름\n",
        "\n",
        "그렇게 순차적으로 밥을 먹었다 까지 생성하고 나면, 인공지능은 \"다 만들었어!\" 라는 사인으로 `<end>` 라는 특수한 토큰을 생성. 즉, 우리는 `<start>` 가 문장의 시작에 더해진 입력 데이터(문제지)와, `<end>` 가 문장의 끝에 더해진 출력 데이터(답안지)가 필요하며, 이는 문장 데이터만 있으면 만들어낼 수 있다는 것 또한 알 수 있음."
      ]
    },
    {
      "cell_type": "code",
      "metadata": {
        "colab": {
          "base_uri": "https://localhost:8080/"
        },
        "id": "agOvxM6jyrvA",
        "outputId": "040a225c-03de-4f48-9ccf-ca5363c40277"
      },
      "source": [
        "sentence = \" 나는 밥을 먹었다 \"\n",
        "\n",
        "source_sentence = \"<start>\" + sentence\n",
        "target_sentence = sentence + \"<end>\"\n",
        "\n",
        "print(\"Source 문장:\", source_sentence)\n",
        "print(\"Target 문장:\", target_sentence)"
      ],
      "execution_count": null,
      "outputs": [
        {
          "output_type": "stream",
          "text": [
            "Source 문장: <start> 나는 밥을 먹었다 \n",
            "Target 문장:  나는 밥을 먹었다 <end>\n"
          ],
          "name": "stdout"
        }
      ]
    },
    {
      "cell_type": "markdown",
      "metadata": {
        "id": "lZoojwyG6r8s"
      },
      "source": [
        "__언어 모델(Language Model)__\n",
        "\n",
        "`나는`, `밥을`, `먹었다`를 순차적으로 생성할 때, `밥을` 다음이 `먹었다` 인 것은 쉽게 알 수 있지만 `나는` 다음이 `밥을` 인 것은 순전히 운! \n",
        "\n",
        "이것을 확률적으로 표현하면 \n",
        "\n",
        "`'나는 밥을'` 다음에 `'먹었다'`가 올 확률 = $p(먹었다|나는,밥을)$ \n",
        "\n",
        "$p(먹었다|나는,밥을)$ 는 `'나는'` 뒤에 `'밥이'`가 나올 확률인 $p(밥을|나는)$ 보다 높음. 아마도 $p(먹었다|나는, 밥을, 맛있게)$의 확률은 더 높아질 것\n",
        "\n",
        "어떤 문구 뒤에 다음 단어가 나올 확률이 높다는 것은 그 단어가 나오는 것이 보다 자연스럽다는 뜻\n",
        "\n",
        "하지만 그렇다고 '나는' 뒤에 '밥을'이 나오는 것이 자연스럽지 않다는 뜻은 아님. '나는' 뒤에 올 수 있는 자연스러운 단어의 경우의 수가 워낙 많다 보니 불확실성이 높을 뿐\n",
        "\n",
        "$n−1$개의 단어 시퀀스 $w_1, \\cdots, w_{n-1}$가 주어졌을 때 $n$번재 단어 $w_n$으로 무엇이 올지를 예측하는 확률 모델을 __언어 모델(Language Model)__이라고 부름 \n",
        "\n",
        "$P(w_n | w_1, ..., w_{n-1};\\theta )$\n",
        "\n"
      ]
    },
    {
      "cell_type": "code",
      "metadata": {
        "colab": {
          "base_uri": "https://localhost:8080/"
        },
        "id": "0kS4nt_S_qdD",
        "outputId": "f3551290-91af-4a6a-8ec8-960f4794fa95"
      },
      "source": [
        "from google.colab import drive\n",
        "drive.mount(\"/content/gdrive\")"
      ],
      "execution_count": null,
      "outputs": [
        {
          "output_type": "stream",
          "text": [
            "Mounted at /content/gdrive\n"
          ],
          "name": "stdout"
        }
      ]
    },
    {
      "cell_type": "markdown",
      "metadata": {
        "id": "ajv0Ry7zc7Kq"
      },
      "source": [
        "## 데이터 전처리"
      ]
    },
    {
      "cell_type": "code",
      "metadata": {
        "colab": {
          "base_uri": "https://localhost:8080/"
        },
        "id": "tUcmZRRy_804",
        "outputId": "a5d01e24-c6c5-475c-da79-8127f282cbc4"
      },
      "source": [
        "import os, re \n",
        "import numpy as np\n",
        "import tensorflow as tf\n",
        "\n",
        "# 파일을 읽기모드로 열고\n",
        "# 라인 단위로 끊어서 list 형태로 읽어옵니다.\n",
        "file_path = '/content/gdrive/My Drive/aiffel/lyricist/data/shakespeare.txt'\n",
        "with open(file_path, \"r\") as f:\n",
        "    raw_corpus = f.read().splitlines()\n",
        "\n",
        "# 앞에서부터 10라인만 화면에 출력해 볼까요?\n",
        "print(raw_corpus[:9])"
      ],
      "execution_count": null,
      "outputs": [
        {
          "output_type": "stream",
          "text": [
            "['First Citizen:', 'Before we proceed any further, hear me speak.', '', 'All:', 'Speak, speak.', '', 'First Citizen:', 'You are all resolved rather to die than to famish?', '']\n"
          ],
          "name": "stdout"
        }
      ]
    },
    {
      "cell_type": "markdown",
      "metadata": {
        "id": "8Vncs3fxAX4f"
      },
      "source": [
        "![image.png](data:image/png;base64,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)\n",
        "\n",
        "모든 문장을 하나하나 검사한다고 가정하면 우리가 원치 않는 문장은 화자가 표기된 문장(0, 3, 6), 그리고 공백인 문장(2, 5, 9) \n",
        "\n",
        "화자가 표기된 문장은 문장의 끝이 `:`로 끝나게 되어 있음.\n",
        "\n",
        "일반적으로 대사가 `:` 로 끝나는 일은 없을테니, `:` 를 기준으로 문장을 제외\n",
        "\n",
        "그리고 공백인 문장은 길이를 검사하여 길이가 0이라면 제외"
      ]
    },
    {
      "cell_type": "code",
      "metadata": {
        "colab": {
          "base_uri": "https://localhost:8080/"
        },
        "id": "-XjdpPagAqft",
        "outputId": "160d3d82-861a-4362-9da6-6a2057321032"
      },
      "source": [
        "for idx, sentence in enumerate(raw_corpus):\n",
        "    if len(sentence) == 0: continue   # 길이가 0인 문장은 건너뜁니다.\n",
        "    if sentence[-1] == \":\": continue  # 문장의 끝이 : 인 문장은 건너뜁니다.\n",
        "\n",
        "    if idx > 9: break   # 일단 문장 10개만 확인해 볼 겁니다.\n",
        "        \n",
        "    print(sentence)"
      ],
      "execution_count": null,
      "outputs": [
        {
          "output_type": "stream",
          "text": [
            "Before we proceed any further, hear me speak.\n",
            "Speak, speak.\n",
            "You are all resolved rather to die than to famish?\n"
          ],
          "name": "stdout"
        }
      ]
    },
    {
      "cell_type": "markdown",
      "metadata": {
        "id": "LK4bwC5GAyza"
      },
      "source": [
        "텍스트 분류 모델에서 많이 보신 것처럼 텍스트 생성 모델에도 단어 사전을 만들게 됨\n",
        "\n",
        "문장을 일정한 기준으로 쪼개는 과정을 __토큰화(Tokenize)__라고 함 \n",
        "\n",
        "가장 심플한 방법은 띄어쓰기를 기준으로 나누는 방법\n",
        "1. Hi, my name is John. *(\"Hi,\" \"my\", ..., \"john.\" 으로 분리됨) - 문장부호\n",
        "> __해결방법 :__ 문장 부호 양쪽에 공백을 추가\n",
        "2. First, open the first chapter. *(First와 first를 다른 단어로 인식) - 대소문자\n",
        ">  __해결방법 :__모든 문자들을 소문자로 변환\n",
        "3. He is a ten-year-old boy. *(ten-year-old를 한 단어로 인식) - 특수문자\n",
        "> __해결방법 :__특수문자들은 모두 제거\n"
      ]
    },
    {
      "cell_type": "code",
      "metadata": {
        "colab": {
          "base_uri": "https://localhost:8080/"
        },
        "id": "7pJWhu-wBKRy",
        "outputId": "6e1874d1-a294-40a0-cf93-51a2100ed06b"
      },
      "source": [
        "# 입력된 문장을\n",
        "#     1. 소문자로 바꾸고, 양쪽 공백을 지웁니다\n",
        "#     2. 특수문자 양쪽에 공백을 넣고\n",
        "#     3. 여러개의 공백은 하나의 공백으로 바꿉니다\n",
        "#     4. a-zA-Z?.!,¿가 아닌 모든 문자를 하나의 공백으로 바꿉니다\n",
        "#     5. 다시 양쪽 공백을 지웁니다\n",
        "#     6. 문장 시작에는 <start>, 끝에는 <end>를 추가합니다\n",
        "# 이 순서로 처리해주면 문제가 되는 상황을 방지할 수 있겠네요!\n",
        "def preprocess_sentence(sentence):\n",
        "    sentence = sentence.lower().strip() # 1\n",
        "    sentence = re.sub(r\"([?.!,¿])\", r\" \\1 \", sentence) # 2\n",
        "    sentence = re.sub(r'[\" \"]+', \" \", sentence) # 3\n",
        "    sentence = re.sub(r\"[^a-zA-Z?.!,¿]+\", \" \", sentence) # 4\n",
        "    sentence = sentence.strip() # 5\n",
        "    sentence = '<start> ' + sentence + ' <end>' # 6\n",
        "    return sentence\n",
        "\n",
        "# 이 문장이 어떻게 필터링되는지 확인해 보세요.\n",
        "print(preprocess_sentence(\"This @_is ;;;sample        sentence.\"))"
      ],
      "execution_count": null,
      "outputs": [
        {
          "output_type": "stream",
          "text": [
            "<start> this is sample sentence . <end>\n"
          ],
          "name": "stdout"
        }
      ]
    },
    {
      "cell_type": "markdown",
      "metadata": {
        "id": "cQcTYDFwBZZg"
      },
      "source": [
        "자연어처리 분야에서 모델의 입력이 되는 문장을 소스 문장(Source Sentence) , 정답 역할을 하게 될 모델의 출력 문장을 타겟 문장(Target Sentence) 라고 관례적으로 부름\n",
        "\n",
        "각각 X_train, y_train 에 해당\n",
        "\n",
        "위에서 만든 정제 함수를 통해 만든 데이터셋에서 토큰화를 진행한 후 끝 단어 `<end>`를 없애면 소스 문장, 첫 단어 `<start>`를 없애면 타겟 문장"
      ]
    },
    {
      "cell_type": "code",
      "metadata": {
        "colab": {
          "base_uri": "https://localhost:8080/"
        },
        "id": "3Nu57t1VBkaP",
        "outputId": "1f4acc78-64b7-43c8-b52b-d9196bc893a8"
      },
      "source": [
        "# 여기에 정제된 문장을 모을겁니다\n",
        "corpus = []\n",
        "\n",
        "for sentence in raw_corpus:\n",
        "    # 우리가 원하지 않는 문장은 건너뜁니다\n",
        "    if len(sentence) == 0: continue\n",
        "    if sentence[-1] == \":\": continue\n",
        "    \n",
        "    # 정제를 하고 담아주세요\n",
        "    preprocessed_sentence = preprocess_sentence(sentence)\n",
        "    corpus.append(preprocessed_sentence)\n",
        "        \n",
        "# 정제된 결과를 10개만 확인해보죠\n",
        "corpus[:10]"
      ],
      "execution_count": null,
      "outputs": [
        {
          "output_type": "execute_result",
          "data": {
            "text/plain": [
              "['<start> before we proceed any further , hear me speak . <end>',\n",
              " '<start> speak , speak . <end>',\n",
              " '<start> you are all resolved rather to die than to famish ? <end>',\n",
              " '<start> resolved . resolved . <end>',\n",
              " '<start> first , you know caius marcius is chief enemy to the people . <end>',\n",
              " '<start> we know t , we know t . <end>',\n",
              " '<start> let us kill him , and we ll have corn at our own price . <end>',\n",
              " '<start> is t a verdict ? <end>',\n",
              " '<start> no more talking on t let it be done away , away ! <end>',\n",
              " '<start> one word , good citizens . <end>']"
            ]
          },
          "metadata": {
            "tags": []
          },
          "execution_count": 6
        }
      ]
    },
    {
      "cell_type": "markdown",
      "metadata": {
        "id": "Qn2tXWDsCMFi"
      },
      "source": [
        "영어를 전혀 모르던 때로 돌아가서 상상을 해보면 __영한사전__ 을 허리춤에 끼고 문장 속 단어를 하나하나 찾아가며 __한국어 해석__ 을 적음\n",
        "\n",
        "__배우고자 하는 언어__ 를 __모국어__로 표현하는 것은 인공지능에게도 똑같이 적용됨\n",
        "\n",
        "인공지능의 모국어는 __숫자__\n",
        "\n",
        "텐서플로우는 자연어 처리를 위한 여러 가지 모듈을 제공함\n",
        "\n",
        "아래에서 활용하게 될 `tf.keras.preprocessing.text.Tokenizer` 패키지는 정제된 데이터를 토큰화하고, 단어 사전(vocabulary 또는 dictionary라고 칭함)을 만들어주며, 데이터를 숫자로 변환까지 해결할 수 있음\n",
        "\n",
        "이 과정을 __벡터화(vectorize)__ 라 하며, 숫자로 변환된 데이터를 __텐서(tensor)__ 라고 칭함\n",
        "\n",
        "> 텐서(tensor)는 굉장히 어려운 물리학 및 수학 개념 [Tensor란 무엇인가?](https://rekt77.tistory.com/102)"
      ]
    },
    {
      "cell_type": "code",
      "metadata": {
        "colab": {
          "base_uri": "https://localhost:8080/"
        },
        "id": "p9so5RmIC0tA",
        "outputId": "f38ed072-583d-4b72-d93e-60f047dd14df"
      },
      "source": [
        "# 토큰화 할 때 텐서플로우의 Tokenizer와 pad_sequences를 사용합니다\n",
        "# 더 잘 알기 위해 아래 문서들을 참고하면 좋습니다\n",
        "# https://www.tensorflow.org/api_docs/python/tf/keras/preprocessing/text/Tokenizer\n",
        "# https://www.tensorflow.org/api_docs/python/tf/keras/preprocessing/sequence/pad_sequences\n",
        "def tokenize(corpus):\n",
        "    # 7000단어를 기억할 수 있는 tokenizer를 만들겁니다\n",
        "    # 우리는 이미 문장을 정제했으니 filters가 필요없어요\n",
        "    # 7000단어에 포함되지 못한 단어는 '<unk>'로 바꿀거에요\n",
        "    tokenizer = tf.keras.preprocessing.text.Tokenizer(\n",
        "        num_words=7000, \n",
        "        filters=' ',\n",
        "        oov_token=\"<unk>\"\n",
        "    )\n",
        "    # corpus를 이용해 tokenizer 내부의 단어장을 완성합니다\n",
        "    tokenizer.fit_on_texts(corpus)\n",
        "    # 준비한 tokenizer를 이용해 corpus를 Tensor로 변환합니다\n",
        "    tensor = tokenizer.texts_to_sequences(corpus)   \n",
        "    # 입력 데이터의 시퀀스 길이를 일정하게 맞춰줍니다\n",
        "    # 만약 시퀀스가 짧다면 문장 뒤에 패딩을 붙여 길이를 맞춰줍니다.\n",
        "    # 문장 앞에 패딩을 붙여 길이를 맞추고 싶다면 padding='pre'를 사용합니다\n",
        "    tensor = tf.keras.preprocessing.sequence.pad_sequences(tensor, padding='post')  \n",
        "    \n",
        "    print(tensor,tokenizer)\n",
        "    return tensor, tokenizer\n",
        "\n",
        "tensor, tokenizer = tokenize(corpus)"
      ],
      "execution_count": null,
      "outputs": [
        {
          "output_type": "stream",
          "text": [
            "[[   2  143   40 ...    0    0    0]\n",
            " [   2  110    4 ...    0    0    0]\n",
            " [   2   11   50 ...    0    0    0]\n",
            " ...\n",
            " [   2  149 4553 ...    0    0    0]\n",
            " [   2   34   71 ...    0    0    0]\n",
            " [   2  945   34 ...    0    0    0]] <keras_preprocessing.text.Tokenizer object at 0x7f2dc2399950>\n"
          ],
          "name": "stdout"
        }
      ]
    },
    {
      "cell_type": "markdown",
      "metadata": {
        "id": "NJOKK5FLDA8f"
      },
      "source": [
        "생성된 텐서 데이터를 3번째 행, 10번째 열까지만 출력"
      ]
    },
    {
      "cell_type": "code",
      "metadata": {
        "colab": {
          "base_uri": "https://localhost:8080/"
        },
        "id": "B9314s4tC40e",
        "outputId": "d498e8fc-b116-4ab3-be3c-1099dec3c3e3"
      },
      "source": [
        "print(tensor[:3, :10])"
      ],
      "execution_count": null,
      "outputs": [
        {
          "output_type": "stream",
          "text": [
            "[[   2  143   40  933  140  591    4  124   24  110]\n",
            " [   2  110    4  110    5    3    0    0    0    0]\n",
            " [   2   11   50   43 1201  316    9  201   74    9]]\n"
          ],
          "name": "stdout"
        }
      ]
    },
    {
      "cell_type": "markdown",
      "metadata": {
        "id": "G8rMgIUODF66"
      },
      "source": [
        "텐서 데이터는 모두 정수로 이루어져 있음\n",
        "\n",
        "이 숫자는 tokenizer에 구축된 단어 사전의 인덱스"
      ]
    },
    {
      "cell_type": "code",
      "metadata": {
        "colab": {
          "base_uri": "https://localhost:8080/"
        },
        "id": "jaKhEFRgC6E2",
        "outputId": "fd42d2bd-0114-4f1e-b232-799ef86656ef"
      },
      "source": [
        "for idx in tokenizer.index_word:\n",
        "    print(idx, \":\", tokenizer.index_word[idx])\n",
        "\n",
        "    if idx >= 10: break"
      ],
      "execution_count": null,
      "outputs": [
        {
          "output_type": "stream",
          "text": [
            "1 : <unk>\n",
            "2 : <start>\n",
            "3 : <end>\n",
            "4 : ,\n",
            "5 : .\n",
            "6 : the\n",
            "7 : and\n",
            "8 : i\n",
            "9 : to\n",
            "10 : of\n"
          ],
          "name": "stdout"
        }
      ]
    },
    {
      "cell_type": "code",
      "metadata": {
        "colab": {
          "base_uri": "https://localhost:8080/"
        },
        "id": "EoYeXustDMm9",
        "outputId": "e81459d4-cb76-4bdb-a456-63c99f7a3c19"
      },
      "source": [
        "# tensor에서 마지막 토큰을 잘라내서 소스 문장을 생성합니다\n",
        "# 마지막 토큰은 <end>가 아니라 <pad>일 가능성이 높습니다.\n",
        "src_input = tensor[:, :-1]  \n",
        "# tensor에서 <start>를 잘라내서 타겟 문장을 생성합니다.\n",
        "tgt_input = tensor[:, 1:]    \n",
        "\n",
        "print(src_input[0])\n",
        "print(tgt_input[0])"
      ],
      "execution_count": null,
      "outputs": [
        {
          "output_type": "stream",
          "text": [
            "[  2 143  40 933 140 591   4 124  24 110   5   3   0   0   0   0   0   0\n",
            "   0   0]\n",
            "[143  40 933 140 591   4 124  24 110   5   3   0   0   0   0   0   0   0\n",
            "   0   0]\n"
          ],
          "name": "stdout"
        }
      ]
    },
    {
      "cell_type": "markdown",
      "metadata": {
        "id": "U2wVDtXIsUDg"
      },
      "source": [
        "corpus 내의 첫 번째 문장에 대해 생성된 소스와 타겟 문장을 확인해 봄\n",
        "\n",
        "예상대로 소스는 2(`<start>`)에서 시작해서 3(`<end>`)으로 끝난 후 0(<pad>)로 채워져 있음 \n",
        "\n",
        "하지만 타겟은 2로 시작하지 않고 소스를 왼쪽으로 한 칸 시프트 한 형태를 가지고 있음\n",
        "\n",
        "마지막으로 우리는 데이터셋 객체를 생성할 것입\n",
        "\n",
        "그동안 우리는 model.fit(x_train, y_train, ...) 형태로 Numpy Array 데이터셋을 생성하여 model에 제공하는 형태의 학습을 많이 진행해 왔지만 텐서플로우를 활용할 경우 텐서로 생성된 데이터를 이용해 `tf.data.Dataset`객체를 생성하는 방법을 흔히 사용함\n",
        "\n",
        "`tf.data.Dataset`객체는 텐서플로우에서 사용할 경우 데이터 입력 파이프라인을 통한 속도 개선 및 각종 편의 기능을 제공하므로 꼭 사용법을 알아 두시기를 권장 \n",
        "\n",
        "우리는 이미 데이터셋을 텐서 형태로 생성해 두었으므로, `tf.data.Dataset.from_tensor_slices()` 메소드를 이용해 `tf.data.Dataset`객체를 생성"
      ]
    },
    {
      "cell_type": "code",
      "metadata": {
        "colab": {
          "base_uri": "https://localhost:8080/"
        },
        "id": "jLWRHYIhsUX8",
        "outputId": "4d695f21-442a-495b-d8e4-922035bcd517"
      },
      "source": [
        "BUFFER_SIZE = len(src_input)\n",
        "BATCH_SIZE = 256\n",
        "steps_per_epoch = len(src_input) // BATCH_SIZE\n",
        "\n",
        " # tokenizer가 구축한 단어사전 내 7000개와, 여기 포함되지 않은 0:<pad>를 포함하여 7001개\n",
        "VOCAB_SIZE = tokenizer.num_words + 1   \n",
        "\n",
        "# 준비한 데이터 소스로부터 데이터셋을 만듭니다\n",
        "# 데이터셋에 대해서는 아래 문서를 참고하세요\n",
        "# 자세히 알아둘수록 도움이 많이 되는 중요한 문서입니다\n",
        "# https://www.tensorflow.org/api_docs/python/tf/data/Dataset\n",
        "dataset = tf.data.Dataset.from_tensor_slices((src_input, tgt_input))\n",
        "dataset = dataset.shuffle(BUFFER_SIZE)\n",
        "dataset = dataset.batch(BATCH_SIZE, drop_remainder=True)\n",
        "dataset"
      ],
      "execution_count": null,
      "outputs": [
        {
          "output_type": "execute_result",
          "data": {
            "text/plain": [
              "<BatchDataset shapes: ((256, 20), (256, 20)), types: (tf.int32, tf.int32)>"
            ]
          },
          "metadata": {
            "tags": []
          },
          "execution_count": 11
        }
      ]
    },
    {
      "cell_type": "markdown",
      "metadata": {
        "id": "t0PH56x3Iz7q"
      },
      "source": [
        "이번 스텝에서 데이터셋을 생성하기 위해 거쳐 온 과정을 잘 기억하기\n",
        "\n",
        "* 정규표현식을 이용한 `corpus` 생성\n",
        "* `tf.keras.preprocessing.text.Tokenizer`를 이용해 `corpus`를 텐서로 변환\n",
        "* `tf.data.Dataset.from_tensor_slices()`를 이용해 `corpus` 텐서를 `tf.data.Dataset`객체로 변환\n",
        "\n",
        "`dataset`을 얻음으로써 데이터 다듬기 과정은 끝남\n",
        "\n",
        "`tf.data.Dataset`에서 제공하는 `shuffle()`, `batch()` 등 다양한 데이터셋 관련 기능을 손쉽게 이용할 수 있음\n",
        "\n",
        "이 모든 일련의 과정을 텐서플로우에서의 __데이터 전처리__ 라고 칭함"
      ]
    },
    {
      "cell_type": "markdown",
      "metadata": {
        "id": "wGNcCWnAJGJW"
      },
      "source": [
        "## 인공지능 학습시키기\n",
        "\n",
        "![image.png](data:image/png;base64,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)\n"
      ]
    },
    {
      "cell_type": "markdown",
      "metadata": {
        "id": "PAtLJzBeept4"
      },
      "source": [
        "모델은 tf.keras.Model을 Subclassing하는 방식으로 만들 것\n",
        "\n",
        "위 그림의 설명처럼 만들 모델은 1개의 `Embedding Layer`, 2개의 `LSTM Layer`, 1개의 `Dense Layer`로 구성되어 있음\n",
        "\n",
        "`입력텐서`에는 단어 사전의 인덱스가 들어 있음 \n",
        "\n",
        "`Embedding Layer`는 이 인덱스 값을 해당 인덱스 번째의 워드 벡터로 바꿔줌\n",
        "\n",
        "이 워드 벡터는 의미 벡터 공간에서 단어의 추상적 표현(representation)으로 사용 "
      ]
    },
    {
      "cell_type": "code",
      "metadata": {
        "id": "SA7pa7RFepYV"
      },
      "source": [
        "class TextGenerator(tf.keras.Model):\n",
        "    def __init__(self, vocab_size, embedding_size, hidden_size):\n",
        "        super().__init__()\n",
        "        \n",
        "        self.embedding = tf.keras.layers.Embedding(vocab_size, embedding_size)\n",
        "        self.rnn_1 = tf.keras.layers.LSTM(hidden_size, return_sequences=True)\n",
        "        self.rnn_2 = tf.keras.layers.LSTM(hidden_size, return_sequences=True)\n",
        "        self.linear = tf.keras.layers.Dense(vocab_size)\n",
        "        \n",
        "    def call(self, x):\n",
        "        out = self.embedding(x)\n",
        "        out = self.rnn_1(out)\n",
        "        out = self.rnn_2(out)\n",
        "        out = self.linear(out)\n",
        "        \n",
        "        return out\n",
        "    \n",
        "embedding_size = 256\n",
        "hidden_size = 1024\n",
        "model = TextGenerator(tokenizer.num_words + 1, embedding_size , hidden_size)"
      ],
      "execution_count": null,
      "outputs": []
    },
    {
      "cell_type": "markdown",
      "metadata": {
        "id": "gur-beH5lGVC"
      },
      "source": [
        "위 코드에서 `embedding_size` 는 워드 벡터의 차원수, 즉 단어가 추상적으로 표현되는 크기 \n",
        "\n",
        "만약 그 크기가 2라면 예를 들어\n",
        "\n",
        "* 차갑다: [0.0, 1.0]\n",
        "* 뜨겁다: [1.0, 0.0]\n",
        "* 미지근하다: [0.5, 0.5]\n",
        "\n",
        "정도로 구분이 가능하고 값이 커질수록 단어의 추상적인 특징들을 더 잡아낼 수 있지만, 그만큼 충분한 데이터가 주어지지 않으면 __혼란을 야기__할 수 있음\n",
        "\n",
        "이번실습에서는 256이 적당\n",
        "\n",
        "LSTM 레이어의 hidden state 의 차원수인 `hidden_size` 도 같은 맥락\n",
        "\n",
        " `hidden_size` 는 모델에 얼마나 많은 일꾼을 둘 것인가? 로 이해해도 크게 엇나가지 않음. 그 일꾼들은 모두 같은 데이터를 보고 각자의 생각을 가지는데, 역시 충분한 데이터가 주어지면 올바른 결정을 내리겠지만 그렇지 않으면 __배가 산으로 갈 뿐__. 이번 실습에는 1024가 적당\n",
        " ***"
      ]
    },
    {
      "cell_type": "markdown",
      "metadata": {
        "id": "fInAhY8KnmE8"
      },
      "source": [
        "만든 모델은 아직 제대로 build되지 않음\n",
        "\n",
        "`model.compile()`을 호출하지도 않고, 아직 model의 입력 텐서가 무엇인지 지정하지도 않음\n",
        "\n",
        "그런 경우 model에 데이터를 아주 조금 태워보는것도 방법\n",
        "\n",
        "model의 input shape가 결정되면서 `model.build()`가 자동으로 호출됨"
      ]
    },
    {
      "cell_type": "code",
      "metadata": {
        "colab": {
          "base_uri": "https://localhost:8080/"
        },
        "id": "gJTsqlrln68v",
        "outputId": "8f77c219-dc56-41e5-830b-163611216bcb"
      },
      "source": [
        "# 데이터셋에서 데이터 한 배치만 불러오는 방법입니다.\n",
        "# 지금은 동작 원리에 너무 빠져들지 마세요~\n",
        "for src_sample, tgt_sample in dataset.take(1): break\n",
        "\n",
        "# 한 배치만 불러온 데이터를 모델에 넣어봅니다\n",
        "model(src_sample)"
      ],
      "execution_count": null,
      "outputs": [
        {
          "output_type": "execute_result",
          "data": {
            "text/plain": [
              "<tf.Tensor: shape=(256, 20, 7001), dtype=float32, numpy=\n",
              "array([[[ 4.35132642e-05, -1.43014360e-04,  2.06735029e-04, ...,\n",
              "          2.13921958e-04,  9.61283295e-05,  5.45355979e-05],\n",
              "        [ 3.51689851e-05, -2.10605256e-04,  1.23084683e-04, ...,\n",
              "          1.30285320e-04,  2.36935579e-04, -1.51702669e-04],\n",
              "        [-1.76520189e-04,  7.20276803e-05,  7.54716530e-05, ...,\n",
              "          3.16377409e-04, -2.01449006e-06, -3.52419680e-04],\n",
              "        ...,\n",
              "        [ 3.02294432e-03,  5.38038323e-03, -2.48804013e-03, ...,\n",
              "          1.23432989e-03,  1.32921117e-03, -4.30636853e-03],\n",
              "        [ 3.07928445e-03,  5.75162610e-03, -2.57162144e-03, ...,\n",
              "          1.27845106e-03,  1.30624219e-03, -4.58185608e-03],\n",
              "        [ 3.11925006e-03,  6.06081728e-03, -2.64798664e-03, ...,\n",
              "          1.32149912e-03,  1.27629016e-03, -4.82127583e-03]],\n",
              "\n",
              "       [[ 4.35132642e-05, -1.43014360e-04,  2.06735029e-04, ...,\n",
              "          2.13921958e-04,  9.61283295e-05,  5.45355979e-05],\n",
              "        [ 3.01798776e-04, -9.18064616e-05, -3.14545672e-04, ...,\n",
              "          5.05813863e-04,  1.95819637e-04, -2.50942157e-05],\n",
              "        [ 3.74376803e-04,  1.29343156e-04, -5.32311504e-04, ...,\n",
              "          4.08147695e-04,  4.74563683e-04,  4.49044746e-04],\n",
              "        ...,\n",
              "        [ 2.84975697e-03,  5.91607345e-03, -2.96245399e-03, ...,\n",
              "          1.58468611e-03,  1.51895743e-03, -4.88761207e-03],\n",
              "        [ 2.88369530e-03,  6.17233617e-03, -2.99264374e-03, ...,\n",
              "          1.58125232e-03,  1.43916078e-03, -5.11614233e-03],\n",
              "        [ 2.91177444e-03,  6.38029911e-03, -3.02328309e-03, ...,\n",
              "          1.58155931e-03,  1.36189943e-03, -5.31114964e-03]],\n",
              "\n",
              "       [[ 4.35132642e-05, -1.43014360e-04,  2.06735029e-04, ...,\n",
              "          2.13921958e-04,  9.61283295e-05,  5.45355979e-05],\n",
              "        [-4.17195224e-05, -6.97126554e-04,  3.89463930e-05, ...,\n",
              "          6.34312688e-04,  2.67198135e-04,  9.37853329e-05],\n",
              "        [ 2.40705587e-04, -6.28249720e-04, -2.94833066e-04, ...,\n",
              "          7.37654977e-04,  8.40589637e-04,  7.89405385e-05],\n",
              "        ...,\n",
              "        [ 2.36491230e-03,  5.54884830e-03, -2.51778215e-03, ...,\n",
              "          7.05591869e-04,  1.09354896e-03, -4.15975554e-03],\n",
              "        [ 2.48976005e-03,  5.90548385e-03, -2.61941575e-03, ...,\n",
              "          8.35355197e-04,  1.10688701e-03, -4.48327977e-03],\n",
              "        [ 2.59307702e-03,  6.20538276e-03, -2.70633330e-03, ...,\n",
              "          9.53795563e-04,  1.11022359e-03, -4.75813914e-03]],\n",
              "\n",
              "       ...,\n",
              "\n",
              "       [[ 4.35132642e-05, -1.43014360e-04,  2.06735029e-04, ...,\n",
              "          2.13921958e-04,  9.61283295e-05,  5.45355979e-05],\n",
              "        [ 3.63628264e-04,  8.66638293e-05,  7.76076849e-05, ...,\n",
              "          3.21455649e-04,  5.91641932e-04, -1.15869498e-05],\n",
              "        [ 1.93318643e-04,  2.64428400e-05, -8.02440190e-05, ...,\n",
              "          4.20685654e-04,  1.16466184e-03,  1.96715519e-05],\n",
              "        ...,\n",
              "        [ 1.16118090e-03,  1.99575000e-03, -9.92962159e-04, ...,\n",
              "          6.08840433e-04,  1.58071145e-03, -2.73486343e-03],\n",
              "        [ 1.47064554e-03,  2.68083741e-03, -1.24841323e-03, ...,\n",
              "          7.43278302e-04,  1.60948315e-03, -3.26923467e-03],\n",
              "        [ 1.74334808e-03,  3.33089055e-03, -1.48253108e-03, ...,\n",
              "          8.66664865e-04,  1.60635938e-03, -3.74788628e-03]],\n",
              "\n",
              "       [[ 4.35132642e-05, -1.43014360e-04,  2.06735029e-04, ...,\n",
              "          2.13921958e-04,  9.61283295e-05,  5.45355979e-05],\n",
              "        [-2.65376148e-04, -3.64269974e-04,  1.46182079e-04, ...,\n",
              "          5.97908103e-04,  2.49083096e-04,  3.04126406e-05],\n",
              "        [-7.64914512e-06, -5.00692229e-04,  3.65155029e-05, ...,\n",
              "          6.68208580e-04,  3.14620120e-04, -5.77000137e-05],\n",
              "        ...,\n",
              "        [ 2.67652329e-03,  5.45978965e-03, -2.58498616e-03, ...,\n",
              "          1.61351508e-03,  1.34118961e-03, -5.04866289e-03],\n",
              "        [ 2.73647625e-03,  5.82596334e-03, -2.65093194e-03, ...,\n",
              "          1.65138813e-03,  1.29738008e-03, -5.24667511e-03],\n",
              "        [ 2.79053836e-03,  6.12664269e-03, -2.71150167e-03, ...,\n",
              "          1.68231199e-03,  1.25047273e-03, -5.41374367e-03]],\n",
              "\n",
              "       [[ 4.35132642e-05, -1.43014360e-04,  2.06735029e-04, ...,\n",
              "          2.13921958e-04,  9.61283295e-05,  5.45355979e-05],\n",
              "        [ 3.71340051e-04,  4.00603949e-06, -9.84052967e-05, ...,\n",
              "          2.30254984e-04,  4.91628074e-04,  3.39697348e-04],\n",
              "        [ 3.91117414e-04, -1.59502044e-04, -1.11840964e-04, ...,\n",
              "          1.00796657e-04,  9.03566135e-04,  5.89273404e-04],\n",
              "        ...,\n",
              "        [ 2.69724685e-03,  4.28551342e-03, -2.73435609e-03, ...,\n",
              "          1.60846545e-03,  1.54330081e-03, -3.39204329e-03],\n",
              "        [ 2.75493343e-03,  4.76155151e-03, -2.78949621e-03, ...,\n",
              "          1.61493209e-03,  1.53834175e-03, -3.79713695e-03],\n",
              "        [ 2.79924925e-03,  5.18083991e-03, -2.83677806e-03, ...,\n",
              "          1.61563908e-03,  1.51735463e-03, -4.15526191e-03]]],\n",
              "      dtype=float32)>"
            ]
          },
          "metadata": {
            "tags": []
          },
          "execution_count": 13
        }
      ]
    },
    {
      "cell_type": "markdown",
      "metadata": {
        "id": "3mTvE91Vs5h1"
      },
      "source": [
        "모델의 최종 출력 텐서 shape를 유심히 보면 `shape=(256, 20, 7001`임을 알 수 있음. \n",
        "\n",
        "7001은 Dense 레이어의 출력 차원수 (7001개의 단어 중 어느 단어의 확률이 가장 높을지를 모델링해야 하기 때문에)\n",
        "\n",
        "256은 이전 스텝에서 지정한 배치 사이즈(`dataset.take(1)`를 통해서 1개의 배치, 즉 256개의 문장 데이터를 가져온 것)\n",
        "\n",
        "그렇다면 20의 의미는? \n",
        "> `tf.keras.layers.LSTM(hidden_size, return_sequences=True)`로 호출한 LSTM 레이어에서 `return_sequences=True`이라고 지정한 부분에 답이 있음. \n",
        "> \n",
        "> 즉, LSTM은 자신에게 입력된 시퀀스의 길이만큼 동일한 길이의 시퀀스를 출력한다는 의미. (만약 `return_sequences=False`였다면 LSTM 레이어는 1개의 벡터만 출력했을 것)\n",
        "\n",
        "그런데 문제는, 우리의 모델은 입력 데이터의 시퀀스 길이가 얼마인지 모른다는 점임. \n",
        "> 모델을 만들면서 알려준 적도 없기 때문에 데이터를 입력받으면서 우리 데이터셋의 `max_len`이 20으로 맞춰져 있었음"
      ]
    },
    {
      "cell_type": "code",
      "metadata": {
        "colab": {
          "base_uri": "https://localhost:8080/"
        },
        "id": "NVH3OrA_IsUy",
        "outputId": "7086d599-f242-4cec-d4cb-b0fabaea4f83"
      },
      "source": [
        "model.summary()"
      ],
      "execution_count": null,
      "outputs": [
        {
          "output_type": "stream",
          "text": [
            "Model: \"text_generator\"\n",
            "_________________________________________________________________\n",
            "Layer (type)                 Output Shape              Param #   \n",
            "=================================================================\n",
            "embedding (Embedding)        multiple                  1792256   \n",
            "_________________________________________________________________\n",
            "lstm (LSTM)                  multiple                  5246976   \n",
            "_________________________________________________________________\n",
            "lstm_1 (LSTM)                multiple                  8392704   \n",
            "_________________________________________________________________\n",
            "dense (Dense)                multiple                  7176025   \n",
            "=================================================================\n",
            "Total params: 22,607,961\n",
            "Trainable params: 22,607,961\n",
            "Non-trainable params: 0\n",
            "_________________________________________________________________\n"
          ],
          "name": "stdout"
        }
      ]
    },
    {
      "cell_type": "markdown",
      "metadata": {
        "id": "p2KrFRYgIwVA"
      },
      "source": [
        "이제 드디어 model.summary()를 호출할 수 있게 됨.\n",
        "\n",
        "그런데 호출해 보니 그동안 많이 보았던 것과는 다른 점이 있음. 우리가 궁금했던 Output Shape를 정확하게 알려주지 않음. \n",
        "\n",
        "우리의 모델은 입력 시퀀스의 길이를 모르기 때문에 Output Shape를 특정할 수 없는 것!\n",
        "\n",
        "하지만 모델의 파라미터 사이즈는 측정 가능함. (대략 22million 정도). 참고로 서두에 소개했던 GPT-2의 파라미터 사이즈는, 1.5billion. 우리 모델의 수십배가 넘음. (GPT-3의 파라미터 사이즈는 PT-2의 100배)\n",
        "***"
      ]
    },
    {
      "cell_type": "markdown",
      "metadata": {
        "id": "Jt-n_YXoIyEK"
      },
      "source": [
        "모델 학습시키기 (너무 오랜시간이 걸리면 GPU를 사용하고 있는지 확인할 것)"
      ]
    },
    {
      "cell_type": "code",
      "metadata": {
        "colab": {
          "base_uri": "https://localhost:8080/"
        },
        "id": "RlC0Wx0BI0Bc",
        "outputId": "d8455118-1c38-42c4-a00f-1e774ac0f57c"
      },
      "source": [
        "# optimizer와 loss등은 차차 배웁니다\n",
        "# 혹시 미리 알고 싶다면 아래 문서를 참고하세요\n",
        "# https://www.tensorflow.org/api_docs/python/tf/keras/optimizers\n",
        "# https://www.tensorflow.org/api_docs/python/tf/keras/losses\n",
        "# 양이 상당히 많은 편이니 지금 보는 것은 추천하지 않습니다\n",
        "optimizer = tf.keras.optimizers.Adam()\n",
        "loss = tf.keras.losses.SparseCategoricalCrossentropy(\n",
        "    from_logits=True,\n",
        "    reduction='none'\n",
        ")\n",
        "\n",
        "model.compile(loss=loss, optimizer=optimizer)\n",
        "model.fit(dataset, epochs=30)"
      ],
      "execution_count": null,
      "outputs": [
        {
          "output_type": "stream",
          "text": [
            "Epoch 1/30\n",
            "93/93 [==============================] - 19s 175ms/step - loss: 3.6722\n",
            "Epoch 2/30\n",
            "93/93 [==============================] - 17s 178ms/step - loss: 2.8730\n",
            "Epoch 3/30\n",
            "93/93 [==============================] - 17s 182ms/step - loss: 2.7956\n",
            "Epoch 4/30\n",
            "93/93 [==============================] - 17s 183ms/step - loss: 2.7438\n",
            "Epoch 5/30\n",
            "93/93 [==============================] - 18s 188ms/step - loss: 2.6632\n",
            "Epoch 6/30\n",
            "93/93 [==============================] - 18s 192ms/step - loss: 2.6030\n",
            "Epoch 7/30\n",
            "93/93 [==============================] - 18s 196ms/step - loss: 2.5528\n",
            "Epoch 8/30\n",
            "93/93 [==============================] - 18s 195ms/step - loss: 2.5084\n",
            "Epoch 9/30\n",
            "93/93 [==============================] - 18s 193ms/step - loss: 2.4701\n",
            "Epoch 10/30\n",
            "93/93 [==============================] - 18s 191ms/step - loss: 2.4287\n",
            "Epoch 11/30\n",
            "93/93 [==============================] - 18s 194ms/step - loss: 2.3925\n",
            "Epoch 12/30\n",
            "93/93 [==============================] - 18s 195ms/step - loss: 2.3600\n",
            "Epoch 13/30\n",
            "93/93 [==============================] - 18s 193ms/step - loss: 2.3283\n",
            "Epoch 14/30\n",
            "93/93 [==============================] - 18s 192ms/step - loss: 2.2954\n",
            "Epoch 15/30\n",
            "93/93 [==============================] - 18s 194ms/step - loss: 2.2646\n",
            "Epoch 16/30\n",
            "93/93 [==============================] - 18s 194ms/step - loss: 2.2350\n",
            "Epoch 17/30\n",
            "93/93 [==============================] - 18s 193ms/step - loss: 2.2051\n",
            "Epoch 18/30\n",
            "93/93 [==============================] - 18s 193ms/step - loss: 2.1757\n",
            "Epoch 19/30\n",
            "93/93 [==============================] - 18s 193ms/step - loss: 2.1481\n",
            "Epoch 20/30\n",
            "93/93 [==============================] - 18s 193ms/step - loss: 2.1192\n",
            "Epoch 21/30\n",
            "93/93 [==============================] - 18s 193ms/step - loss: 2.0895\n",
            "Epoch 22/30\n",
            "93/93 [==============================] - 18s 193ms/step - loss: 2.0598\n",
            "Epoch 23/30\n",
            "93/93 [==============================] - 18s 192ms/step - loss: 2.0317\n",
            "Epoch 24/30\n",
            "93/93 [==============================] - 18s 193ms/step - loss: 2.0034\n",
            "Epoch 25/30\n",
            "93/93 [==============================] - 18s 193ms/step - loss: 1.9732\n",
            "Epoch 26/30\n",
            "93/93 [==============================] - 18s 192ms/step - loss: 1.9439\n",
            "Epoch 27/30\n",
            "93/93 [==============================] - 18s 193ms/step - loss: 1.9156\n",
            "Epoch 28/30\n",
            "93/93 [==============================] - 18s 195ms/step - loss: 1.8855\n",
            "Epoch 29/30\n",
            "93/93 [==============================] - 18s 192ms/step - loss: 1.8576\n",
            "Epoch 30/30\n",
            "93/93 [==============================] - 18s 193ms/step - loss: 1.8281\n"
          ],
          "name": "stdout"
        },
        {
          "output_type": "execute_result",
          "data": {
            "text/plain": [
              "<tensorflow.python.keras.callbacks.History at 0x7f2dc3097450>"
            ]
          },
          "metadata": {
            "tags": []
          },
          "execution_count": 15
        }
      ]
    },
    {
      "cell_type": "markdown",
      "metadata": {
        "id": "uPNr8M-3I2EI"
      },
      "source": [
        "Loss는 모델이 오답을 만들고 있는 정도라고 생각하셔도 좋음(그렇다고 Loss가 1일 때 99%를 맞추고 있다는 의미는 아님). \n",
        "\n",
        "오답률이 감소하고 있으니 __학습이 잘 진행되고 있다__ 고 해석할 수 있음\n",
        "\n",
        "학습이 완료되었다면 이제 모델을 평가를 해야함"
      ]
    },
    {
      "cell_type": "markdown",
      "metadata": {
        "id": "MVHqg-bWKgs2"
      },
      "source": [
        "## 잘 만들어졌는지 평가하기\n",
        "모델이 작문을 잘하는지 컴퓨터 알고리즘이 평가하는 것은 무리가 있음. (만약에 그게 가능했다면 우리가 지금껏 해온 독후감 숙제를 컴퓨터가 채점했겠지?) \n",
        "\n",
        "따라서 작문 모델을 평가하는 가장 확실한 방법은 작문을 시켜보고 직접 평가하는 것! \n",
        "\n",
        "아래 generate_text 함수는 모델에게 시작 문장을 전달하면 모델이 시작 문장을 바탕으로 작문을 진행함"
      ]
    },
    {
      "cell_type": "code",
      "metadata": {
        "id": "GDnbGuWWKu5H"
      },
      "source": [
        "def generate_text(model, tokenizer, init_sentence=\"<start>\", max_len=20):\n",
        "    # 테스트를 위해서 입력받은 init_sentence도 텐서로 변환합니다\n",
        "    test_input = tokenizer.texts_to_sequences([init_sentence])\n",
        "    test_tensor = tf.convert_to_tensor(test_input, dtype=tf.int64)\n",
        "    end_token = tokenizer.word_index[\"<end>\"]\n",
        "\n",
        "    # 단어 하나씩 예측해 문장을 만듭니다\n",
        "    #    1. 입력받은 문장의 텐서를 입력합니다\n",
        "    #    2. 예측된 값 중 가장 높은 확률인 word index를 뽑아냅니다\n",
        "    #    3. 2에서 예측된 word index를 문장 뒤에 붙입니다\n",
        "    #    4. 모델이 <end>를 예측했거나, max_len에 도달했다면 문장 생성을 마칩니다\n",
        "    while True:\n",
        "        # 1\n",
        "        predict = model(test_tensor) \n",
        "        # 2\n",
        "        predict_word = tf.argmax(tf.nn.softmax(predict, axis=-1), axis=-1)[:, -1] \n",
        "        # 3 \n",
        "        test_tensor = tf.concat([test_tensor, tf.expand_dims(predict_word, axis=0)], axis=-1)\n",
        "        # 4\n",
        "        if predict_word.numpy()[0] == end_token: break\n",
        "        if test_tensor.shape[1] >= max_len: break\n",
        "\n",
        "    generated = \"\"\n",
        "    # tokenizer를 이용해 word index를 단어로 하나씩 변환합니다 \n",
        "    for word_index in test_tensor[0].numpy():\n",
        "        generated += tokenizer.index_word[word_index] + \" \"\n",
        "\n",
        "    return generated"
      ],
      "execution_count": null,
      "outputs": []
    },
    {
      "cell_type": "markdown",
      "metadata": {
        "id": "uOKRSxmHL0S9"
      },
      "source": [
        "텍스트를 생성하는 함수 안을 들여다보면 while문이 있는데 이유는?\n",
        "\n",
        "학습 단계에서 우리는 이런 while 문이 필요 없었음. 소스 문장과 타겟 문장이 있었고, 우리는 소스 문장을 모델에 입력해서 나온 결과를 타겟 문장과 직접 비교하면 끝!\n",
        "\n",
        "그러나 텍스트를 실제로 생성해야 하는 시점에서, 우리에게는 `타겟문장`과 `소스문장`이 없음. 생각해 보면 우리는 텍스트 생성 태스크를 위해 테스트 데이터셋을 따로 생성한 적이 없음.\n",
        "\n",
        "`generate_text()` 함수에서 `init_sentence`를 인자로 받고이렇게 받은 인자를 일단 텐서로 만들고 있음. (디폴트로는 `<start>` 단어 하나만 받음)\n",
        "\n",
        "* while의 첫 번째 루프에서 test_tensor에 `<start>` 하나만 들어갔다고 합시다. 우리의 모델이 출력으로 7001개의 단어 중 A를 골랐다고 합시다.\n",
        "* while의 두 번째 루프에서 test_tensor에는 `<start>` A가 들어갑니다. 그래서 우리의 모델이 그다음 B를 골랐다고 합시다.\n",
        "* while의 세 번째 루프에서 test_tensor에는 `<start>` A B가 들어갑니다. 그래서..... (이하 후략)"
      ]
    },
    {
      "cell_type": "markdown",
      "metadata": {
        "id": "iuqUqMbVMrPf"
      },
      "source": [
        "실제로 위 문장 생성함수를 실행하면"
      ]
    },
    {
      "cell_type": "code",
      "metadata": {
        "colab": {
          "base_uri": "https://localhost:8080/",
          "height": 35
        },
        "id": "pq9r2k4rMZSZ",
        "outputId": "7fd6df91-b8ca-41e3-ae3b-76ed6b96a06a"
      },
      "source": [
        "generate_text(model, tokenizer, init_sentence=\"<start> he\")"
      ],
      "execution_count": null,
      "outputs": [
        {
          "output_type": "execute_result",
          "data": {
            "application/vnd.google.colaboratory.intrinsic+json": {
              "type": "string"
            },
            "text/plain": [
              "'<start> he s a <unk> , and the <unk> of the field , <end> '"
            ]
          },
          "metadata": {
            "tags": []
          },
          "execution_count": 17
        }
      ]
    },
    {
      "cell_type": "markdown",
      "metadata": {
        "id": "VJR-bpYQMxFg"
      },
      "source": [
        "문장을 생성해냄! 위 함수의 `init_sentence` 를 바꿔가며 이런저런 실험을 해보기. 단, `<start>`를 빼먹지는 않도록 주의할 것"
      ]
    },
    {
      "cell_type": "markdown",
      "metadata": {
        "id": "9eDbsmuJNK6z"
      },
      "source": [
        "# 프로젝트 : 멋진 작사가 만들기 "
      ]
    },
    {
      "cell_type": "markdown",
      "metadata": {
        "id": "ZcD8LtcCNRNm"
      },
      "source": [
        "## STEP1. 데이터 다운로드\n",
        "`~/aiffel/lyricist/data/lyrics`에 데이터 넣어 놓음"
      ]
    },
    {
      "cell_type": "markdown",
      "metadata": {
        "id": "7gCJPSu2NdSg"
      },
      "source": [
        "## STEP2. 데이터 읽어오기 \n",
        "`glob` 모듈을 사용하면 파일을 읽어오는 작업을 하기가 아주 용이\n",
        "\n",
        "`glob` 를 활용하여 모든 `txt` 파일을 읽어온 후, `raw_corpus` 리스트에 문장 단위로 저장"
      ]
    },
    {
      "cell_type": "code",
      "metadata": {
        "colab": {
          "base_uri": "https://localhost:8080/"
        },
        "id": "Y60y1pdsNnEz",
        "outputId": "a38f7ea9-cecb-4b1e-c28c-337a3900e43f"
      },
      "source": [
        "import glob, re, os\n",
        "\n",
        "txt_file_path = '/content/drive/MyDrive/aiffel/lyricist/data/lyrics/*'\n",
        "\n",
        "txt_list = glob.glob(txt_file_path)\n",
        "\n",
        "raw_corpus = []\n",
        "\n",
        "# 여러개의 txt 파일을 모두 읽어서 raw_corpus 에 담습니다.\n",
        "for txt_file in txt_list:\n",
        "    with open(txt_file, \"r\") as f:\n",
        "        raw = f.read().splitlines()\n",
        "        raw_corpus.extend(raw)\n",
        "\n",
        "print(\"데이터 크기:\", len(raw_corpus))\n",
        "print(\"Examples:\\n\", raw_corpus[:3])"
      ],
      "execution_count": 1,
      "outputs": [
        {
          "output_type": "stream",
          "text": [
            "데이터 크기: 187088\n",
            "Examples:\n",
            " ['Looking for some education', 'Made my way into the night', 'All that bullshit conversation']\n"
          ],
          "name": "stdout"
        }
      ]
    },
    {
      "cell_type": "markdown",
      "metadata": {
        "id": "ChxeG4gsNoW0"
      },
      "source": [
        "## Step 3. 데이터 정제\n",
        "앞서 배운 테크닉들을 활용해 문장 생성에 적합한 모양새로 데이터를 정제하기\n",
        "\n",
        "`preprocess_sentence()` 함수를 활용해 데이터를 정제\n",
        "\n",
        "추가로 지나치게 긴 문장은 다른 데이터들이 과도한 Padding을 갖게 하므로 제거\n",
        "\n",
        "문장을 토큰화 했을 때 토큰의 개수가 15개를 넘어가는 문장을 학습 데이터에서 제외하기"
      ]
    },
    {
      "cell_type": "code",
      "metadata": {
        "colab": {
          "base_uri": "https://localhost:8080/"
        },
        "id": "TU5PqQYkyEgT",
        "outputId": "4a813a4c-29b3-433b-cc45-091334a20423"
      },
      "source": [
        "def preprocess_sentence(sentence):\n",
        "    sentence = sentence.lower().strip() # 1\n",
        "    sentence = re.sub(r\"([?.!,¿])\", r\" \\1 \", sentence) # 2\n",
        "    sentence = re.sub(r'[\" \"]+', \" \", sentence) # 3\n",
        "    sentence = re.sub(r\"[^a-zA-Z?.!,¿]+\", \" \", sentence) # 4\n",
        "    sentence = sentence.strip() # 5\n",
        "    sentence = '<start> ' + sentence + ' <end>' # 6\n",
        "    return sentence\n",
        "\n",
        "# 이 문장이 어떻게 필터링되는지 확인해 보세요.\n",
        "print(preprocess_sentence(\"This @_is ;;;sample        sentence.\"))"
      ],
      "execution_count": 2,
      "outputs": [
        {
          "output_type": "stream",
          "text": [
            "<start> this is sample sentence . <end>\n"
          ],
          "name": "stdout"
        }
      ]
    },
    {
      "cell_type": "markdown",
      "metadata": {
        "id": "WtltpI68gWR3"
      },
      "source": [
        "문장 길이 0인것 제외, 문장 끝이 `:` 로 끝나는 문장을 제외하진 않음 (가사여서)"
      ]
    },
    {
      "cell_type": "code",
      "metadata": {
        "colab": {
          "base_uri": "https://localhost:8080/"
        },
        "id": "IQ0y33hQgNUh",
        "outputId": "370b76f5-f50b-4931-9663-82af8bb6ea65"
      },
      "source": [
        "corpus = []\n",
        "for sentence in raw_corpus:\n",
        "  if len(sentence) == 0: continue\n",
        "  if len(sentence.split(' ')) > 15: continue\n",
        "  corpus.append(preprocess_sentence(sentence))\n",
        "\n",
        "print(len(corpus))\n",
        "corpus[:10]"
      ],
      "execution_count": 3,
      "outputs": [
        {
          "output_type": "stream",
          "text": [
            "168535\n"
          ],
          "name": "stdout"
        },
        {
          "output_type": "execute_result",
          "data": {
            "text/plain": [
              "['<start> looking for some education <end>',\n",
              " '<start> made my way into the night <end>',\n",
              " '<start> all that bullshit conversation <end>',\n",
              " '<start> baby , can t you read the signs ? i won t bore you with the details , baby <end>',\n",
              " '<start> i don t even wanna waste your time <end>',\n",
              " '<start> let s just say that maybe <end>',\n",
              " '<start> you could help me ease my mind <end>',\n",
              " '<start> i ain t mr . right but if you re looking for fast love <end>',\n",
              " '<start> if that s love in your eyes <end>',\n",
              " '<start> it s more than enough <end>']"
            ]
          },
          "metadata": {
            "tags": []
          },
          "execution_count": 3
        }
      ]
    },
    {
      "cell_type": "markdown",
      "metadata": {
        "id": "-vWWZqeUgMl2"
      },
      "source": [
        "> 데이터의 수가 많다. "
      ]
    },
    {
      "cell_type": "code",
      "metadata": {
        "colab": {
          "base_uri": "https://localhost:8080/"
        },
        "id": "MNTjL7S-1r5l",
        "outputId": "14ca2811-2e4d-4d36-f891-79deff4e809d"
      },
      "source": [
        "corpus = []\n",
        "for sentence in raw_corpus:\n",
        "  if len(sentence) == 0: continue\n",
        "  corpus.append(preprocess_sentence(sentence))\n",
        "print(len(corpus))\n",
        "corpus[:10]\n",
        "\n",
        "len_corpus = []\n",
        "for sentence in corpus:\n",
        "  if len(sentence.split()) <= 15:\n",
        "    len_corpus.append(sentence)\n",
        "  \n",
        "print(len(len_corpus))"
      ],
      "execution_count": 4,
      "outputs": [
        {
          "output_type": "stream",
          "text": [
            "175986\n",
            "156227\n"
          ],
          "name": "stdout"
        }
      ]
    },
    {
      "cell_type": "markdown",
      "metadata": {
        "id": "hxFnwX6tpPQx"
      },
      "source": [
        "여기서 토큰이 15개 이상인 문장을 날리고 싶어 `if len(sentence.split(' ')) > 15: continue` 을 사용했으나 생각보다 데이터의 수가 많아서 1차로 `corpus`에 길이가 0인것만 제외하고 `preprocess_sentence`를 해주고 2차로 `len_corpus`로 토큰의 길이가 15이하인 것만 가져왔다. "
      ]
    },
    {
      "cell_type": "code",
      "metadata": {
        "id": "Rls4IeF0l04L"
      },
      "source": [
        "li1 = set(corpus)\n",
        "li2 = set(len_corpus)"
      ],
      "execution_count": null,
      "outputs": []
    },
    {
      "cell_type": "code",
      "metadata": {
        "colab": {
          "base_uri": "https://localhost:8080/"
        },
        "id": "2vu8-Q-xm6i-",
        "outputId": "03c1fe94-0066-4cb6-bedd-71c8df9bf44a"
      },
      "source": [
        "x = next(iter(li1-li2))\n",
        "print(len(x.split()))\n",
        "print(x)"
      ],
      "execution_count": null,
      "outputs": [
        {
          "output_type": "stream",
          "text": [
            "16\n",
            "<start> how many times can i say the same thing different ways that rhyme ? <end>\n"
          ],
          "name": "stdout"
        }
      ]
    },
    {
      "cell_type": "markdown",
      "metadata": {
        "id": "83CL7PhbN-He"
      },
      "source": [
        "##Step 4. 평가 데이터셋 분리\n",
        "훈련 데이터와 평가 데이터를 분리\n",
        "\n",
        "`tokenize()` 함수로 데이터를 Tensor로 변환한 후, `sklearn` 모듈의 `train_test_split()` 함수를 사용해 훈련 데이터와 평가 데이터를 분리 \n",
        "\n",
        "단어장의 크기는 12,000 이상 으로 설정하고 총 데이터의 20% 를 평가 데이터셋으로 사용"
      ]
    },
    {
      "cell_type": "markdown",
      "metadata": {
        "id": "T4x1O2R0j6o9"
      },
      "source": [
        "### Tensor 변환 "
      ]
    },
    {
      "cell_type": "code",
      "metadata": {
        "colab": {
          "base_uri": "https://localhost:8080/"
        },
        "id": "OQC1LQHA3P28",
        "outputId": "7dc8ed30-f55e-47a8-c050-99a5d18c1cd2"
      },
      "source": [
        "import tensorflow as tf\n",
        "\n",
        "def tokenize(len_corpus):\n",
        "  tokenizer = tf.keras.preprocessing.text.Tokenizer(\n",
        "      num_words = 12000,\n",
        "      filters = ' ',\n",
        "      oov_token = \"<unk>\"\n",
        "  )\n",
        "  tokenizer.fit_on_texts(len_corpus)\n",
        "  tensor = tokenizer.texts_to_sequences(len_corpus)\n",
        "  tensor = tf.keras.preprocessing.sequence.pad_sequences(tensor, padding = 'post')\n",
        "\n",
        "  print(tensor, tokenizer)\n",
        "  return tensor, tokenizer\n",
        "\n",
        "tensor, tokenizer = tokenize(len_corpus)"
      ],
      "execution_count": 5,
      "outputs": [
        {
          "output_type": "stream",
          "text": [
            "[[  2 291  28 ...   0   0   0]\n",
            " [  2 219  13 ...   0   0   0]\n",
            " [  2  25  15 ...   0   0   0]\n",
            " ...\n",
            " [  2  21  77 ...   0   0   0]\n",
            " [  2  42  26 ...   0   0   0]\n",
            " [  2  21  77 ...   0   0   0]] <keras_preprocessing.text.Tokenizer object at 0x7fbb1d22cc10>\n"
          ],
          "name": "stdout"
        }
      ]
    },
    {
      "cell_type": "code",
      "metadata": {
        "colab": {
          "base_uri": "https://localhost:8080/"
        },
        "id": "1qH0NLUR5k7l",
        "outputId": "60ac7a05-ed37-41e3-c303-92422d603978"
      },
      "source": [
        "print(tensor[:3, :10])"
      ],
      "execution_count": 6,
      "outputs": [
        {
          "output_type": "stream",
          "text": [
            "[[   2  291   28   94 4490    3    0    0    0    0]\n",
            " [   2  219   13   86  220    6  113    3    0    0]\n",
            " [   2   25   15 1039 2250    3    0    0    0    0]]\n"
          ],
          "name": "stdout"
        }
      ]
    },
    {
      "cell_type": "code",
      "metadata": {
        "colab": {
          "base_uri": "https://localhost:8080/"
        },
        "id": "eKlCjDNZ5nYA",
        "outputId": "4d52f092-e382-4754-f1c3-cd2ba6e24cd7"
      },
      "source": [
        "for idx in tokenizer.index_word:\n",
        "    print(idx, \":\", tokenizer.index_word[idx])\n",
        "\n",
        "    if idx >= 10: break"
      ],
      "execution_count": 7,
      "outputs": [
        {
          "output_type": "stream",
          "text": [
            "1 : <unk>\n",
            "2 : <start>\n",
            "3 : <end>\n",
            "4 : i\n",
            "5 : ,\n",
            "6 : the\n",
            "7 : you\n",
            "8 : and\n",
            "9 : a\n",
            "10 : to\n"
          ],
          "name": "stdout"
        }
      ]
    },
    {
      "cell_type": "code",
      "metadata": {
        "colab": {
          "base_uri": "https://localhost:8080/"
        },
        "id": "odKXi5DqOmww",
        "outputId": "dacfcc52-113c-4ebd-e052-4c8ca1ce94ca"
      },
      "source": [
        "# tensor에서 마지막 토큰을 잘라내서 소스 문장을 생성합니다\n",
        "# 마지막 토큰은 <end>가 아니라 <pad>일 가능성이 높습니다.\n",
        "src_input = tensor[:, :-1]  \n",
        "# tensor에서 <start>를 잘라내서 타겟 문장을 생성합니다.\n",
        "tgt_input = tensor[:, 1:]    \n",
        "\n",
        "print(src_input[0])\n",
        "print(tgt_input[0])"
      ],
      "execution_count": 8,
      "outputs": [
        {
          "output_type": "stream",
          "text": [
            "[   2  291   28   94 4490    3    0    0    0    0    0    0    0    0]\n",
            "[ 291   28   94 4490    3    0    0    0    0    0    0    0    0    0]\n"
          ],
          "name": "stdout"
        }
      ]
    },
    {
      "cell_type": "markdown",
      "metadata": {
        "id": "SnGlwVO5kAIc"
      },
      "source": [
        "### 데이터셋 분리 "
      ]
    },
    {
      "cell_type": "code",
      "metadata": {
        "colab": {
          "base_uri": "https://localhost:8080/"
        },
        "id": "A8-ljn7DOHHE",
        "outputId": "925dec15-7fcb-453b-ee41-3b6974c335c7"
      },
      "source": [
        "from sklearn.model_selection import train_test_split\n",
        "enc_train, enc_val, dec_train, dec_val = train_test_split(src_input, tgt_input, test_size = 0.2, random_state = 42)\n",
        "\n",
        "print(\"Source Train:\", enc_train.shape)\n",
        "print(\"Target Train:\", dec_train.shape)"
      ],
      "execution_count": 9,
      "outputs": [
        {
          "output_type": "stream",
          "text": [
            "Source Train: (124981, 14)\n",
            "Target Train: (124981, 14)\n"
          ],
          "name": "stdout"
        }
      ]
    },
    {
      "cell_type": "code",
      "metadata": {
        "id": "MogGTKsRS4yB",
        "colab": {
          "base_uri": "https://localhost:8080/"
        },
        "outputId": "1fa41661-8886-45c2-dd57-ff2d63966db9"
      },
      "source": [
        "BUFFER_SIZE = len(enc_train)\n",
        "BATCH_SIZE = 256\n",
        "steps_per_epoch = len(enc_train) // BATCH_SIZE\n",
        "\n",
        " # tokenizer가 구축한 단어사전 내 7000개와, 여기 포함되지 않은 0:<pad>를 포함하여 7001개\n",
        "VOCAB_SIZE = tokenizer.num_words + 1   \n",
        "\n",
        "# 준비한 데이터 소스로부터 데이터셋을 만듭니다\n",
        "# 데이터셋에 대해서는 아래 문서를 참고하세요\n",
        "# 자세히 알아둘수록 도움이 많이 되는 중요한 문서입니다\n",
        "# https://www.tensorflow.org/api_docs/python/tf/data/Dataset\n",
        "dataset = tf.data.Dataset.from_tensor_slices((enc_train, dec_train))\n",
        "dataset = dataset.shuffle(BUFFER_SIZE)\n",
        "dataset = dataset.batch(BATCH_SIZE, drop_remainder=True)\n",
        "dataset"
      ],
      "execution_count": 10,
      "outputs": [
        {
          "output_type": "execute_result",
          "data": {
            "text/plain": [
              "<BatchDataset shapes: ((256, 14), (256, 14)), types: (tf.int32, tf.int32)>"
            ]
          },
          "metadata": {
            "tags": []
          },
          "execution_count": 10
        }
      ]
    },
    {
      "cell_type": "code",
      "metadata": {
        "colab": {
          "base_uri": "https://localhost:8080/"
        },
        "id": "eTBjYjTOlWCF",
        "outputId": "a592a56a-7271-4dd2-84c8-ba2149cc12f7"
      },
      "source": [
        "BUFFER_SIZE = len(enc_val)\n",
        "BATCH_SIZE = 256\n",
        "steps_per_epoch = len(enc_val) // BATCH_SIZE\n",
        "\n",
        " # tokenizer가 구축한 단어사전 내 7000개와, 여기 포함되지 않은 0:<pad>를 포함하여 7001개\n",
        "VOCAB_SIZE = tokenizer.num_words + 1   \n",
        "\n",
        "# 준비한 데이터 소스로부터 데이터셋을 만듭니다\n",
        "# 데이터셋에 대해서는 아래 문서를 참고하세요\n",
        "# 자세히 알아둘수록 도움이 많이 되는 중요한 문서입니다\n",
        "# https://www.tensorflow.org/api_docs/python/tf/data/Dataset\n",
        "valset = tf.data.Dataset.from_tensor_slices((enc_val, dec_val))\n",
        "valset = valset.shuffle(BUFFER_SIZE)\n",
        "valset = valset.batch(BATCH_SIZE, drop_remainder=True)\n",
        "valset"
      ],
      "execution_count": 11,
      "outputs": [
        {
          "output_type": "execute_result",
          "data": {
            "text/plain": [
              "<BatchDataset shapes: ((256, 14), (256, 14)), types: (tf.int32, tf.int32)>"
            ]
          },
          "metadata": {
            "tags": []
          },
          "execution_count": 11
        }
      ]
    },
    {
      "cell_type": "markdown",
      "metadata": {
        "id": "UkcV1AIrOIBM"
      },
      "source": [
        "여기까지 올바르게 진행했을 경우, 아래 실행 결과를 확인할 수 있음"
      ]
    },
    {
      "cell_type": "code",
      "metadata": {
        "id": "U7z4BgjDOKbS",
        "colab": {
          "base_uri": "https://localhost:8080/"
        },
        "outputId": "78519f53-8704-407e-aec8-53414e2de51f"
      },
      "source": [
        "print(\"Source Train:\", enc_train.shape)\n",
        "print(\"Target Train:\", dec_train.shape)\n",
        "# out:\n",
        "\n",
        "# Source Train: (124960, 14)\n",
        "# Target Train: (124960, 14)"
      ],
      "execution_count": 12,
      "outputs": [
        {
          "output_type": "stream",
          "text": [
            "Source Train: (124981, 14)\n",
            "Target Train: (124981, 14)\n"
          ],
          "name": "stdout"
        }
      ]
    },
    {
      "cell_type": "markdown",
      "metadata": {
        "id": "lRi690k8OMv5"
      },
      "source": [
        "## Step 5. 인공지능 만들기\n",
        "모델의 Embedding Size와 Hidden Size를 조절하며 10 Epoch 안에 val_loss 값을 2.2 수준으로 줄일 수 있는 모델을 설계하기 (Loss는 아래 제시된 Loss 함수를 그대로 사용!)\n",
        "\n",
        "모델이 생성한 가사 한 줄을 제출하기"
      ]
    },
    {
      "cell_type": "code",
      "metadata": {
        "id": "l6fCLkzzv_N9"
      },
      "source": [
        "class TextGenerator(tf.keras.Model):\n",
        "    def __init__(self, vocab_size, embedding_size, hidden_size):\n",
        "        super().__init__()\n",
        "        \n",
        "        self.embedding = tf.keras.layers.Embedding(vocab_size, embedding_size)\n",
        "        self.rnn_1 = tf.keras.layers.LSTM(hidden_size, return_sequences=True)\n",
        "        self.rnn_2 = tf.keras.layers.LSTM(hidden_size, return_sequences=True)\n",
        "        self.linear = tf.keras.layers.Dense(vocab_size)\n",
        "        \n",
        "    def call(self, x):\n",
        "        out = self.embedding(x)\n",
        "        out = self.rnn_1(out)\n",
        "        out = self.rnn_2(out)\n",
        "        out = self.linear(out)\n",
        "        \n",
        "        return out\n",
        "    \n",
        "embedding_size = 256\n",
        "hidden_size = 1024\n",
        "model = TextGenerator(tokenizer.num_words + 1, embedding_size , hidden_size)"
      ],
      "execution_count": 13,
      "outputs": []
    },
    {
      "cell_type": "markdown",
      "metadata": {
        "id": "oYrt_TZdP3BE"
      },
      "source": [
        "* batch size = 모델이 경사하강법을 통해 손실/오차를 계산해서 모델의 가중치를 업데이트할 때 한번에 몇 개의 관측치를 사용하는지를 결정하는 파라미터 (대체적으로 32~512 사이의 2의 제곱수 사용)\n",
        "\n",
        "  가중치를 업데이트 할 수 있을 만큼의 충분한 정보를 제공할 수 있는 충분한 양의 관측치의 크기를 확인하기 위한 변수\n",
        "\n",
        "  * 너무 큰 배치를 고를 경우 \n",
        "    1. 모든 데이터에 대한 Loss를 계산해야 하는 문제점\n",
        "    2. 주어진 epoch 안에 가중치를 충분히 업데이트 할 만큼의 iteration을 돌릴 수 없음(학습 효과 저하)\n",
        "\n",
        "  * 너무 작은 배치 크기를 고르는 경우\n",
        "    1. 학습에 오랜 시간\n",
        "    2. 추정값에 노이즈 증가 "
      ]
    },
    {
      "cell_type": "code",
      "metadata": {
        "colab": {
          "base_uri": "https://localhost:8080/"
        },
        "id": "x2NyB2gznbAW",
        "outputId": "94b5a406-9e54-430e-8815-db244f10fb6b"
      },
      "source": [
        "# 데이터셋에서 데이터 한 배치만 불러오는 방법입니다.\n",
        "# 지금은 동작 원리에 너무 빠져들지 마세요~\n",
        "for src_sample, tgt_sample in dataset.take(1): break\n",
        "\n",
        "# 한 배치만 불러온 데이터를 모델에 넣어봅니다\n",
        "model(src_sample)"
      ],
      "execution_count": 14,
      "outputs": [
        {
          "output_type": "execute_result",
          "data": {
            "text/plain": [
              "<tf.Tensor: shape=(256, 14, 12001), dtype=float32, numpy=\n",
              "array([[[ 2.01889692e-04,  4.53735774e-05,  1.70246276e-04, ...,\n",
              "         -6.91563546e-05,  6.59728612e-05,  6.05093519e-05],\n",
              "        [ 3.69252230e-04,  1.34047063e-04,  2.42031660e-04, ...,\n",
              "         -1.21333069e-04,  4.97304136e-04, -8.28525299e-05],\n",
              "        [ 4.76705842e-04,  2.84860056e-04,  5.82214197e-05, ...,\n",
              "          7.65052609e-05,  7.96879933e-04,  1.02770891e-05],\n",
              "        ...,\n",
              "        [ 1.86874051e-04, -1.90771912e-04,  6.61871862e-04, ...,\n",
              "         -1.95370824e-03,  2.80330569e-04,  1.16308499e-03],\n",
              "        [ 4.81237803e-04, -2.58714572e-04,  5.46451251e-04, ...,\n",
              "         -2.28936831e-03, -8.44739334e-05,  1.32249552e-03],\n",
              "        [ 8.32312973e-04, -2.80675857e-04,  4.26743994e-04, ...,\n",
              "         -2.57522380e-03, -4.11504559e-04,  1.48326496e-03]],\n",
              "\n",
              "       [[ 2.01889692e-04,  4.53735774e-05,  1.70246276e-04, ...,\n",
              "         -6.91563546e-05,  6.59728612e-05,  6.05093519e-05],\n",
              "        [ 1.60443029e-04,  2.26515418e-04,  4.89435974e-04, ...,\n",
              "         -1.45351791e-04, -3.59714832e-05,  1.53698384e-05],\n",
              "        [ 2.49691366e-04,  2.91332923e-04,  8.98312894e-04, ...,\n",
              "         -1.00845697e-04, -1.13124761e-05,  1.06110747e-04],\n",
              "        ...,\n",
              "        [ 1.04166356e-04, -2.65741837e-04,  1.54805940e-03, ...,\n",
              "         -8.35671206e-04,  4.26273793e-04, -4.27607389e-04],\n",
              "        [ 3.33304808e-04, -3.81899241e-04,  1.24556501e-03, ...,\n",
              "         -1.25979434e-03,  1.12295602e-04, -2.29472236e-04],\n",
              "        [ 6.43682783e-04, -4.49183717e-04,  9.74046416e-04, ...,\n",
              "         -1.68987596e-03, -1.96736466e-04,  1.04383762e-05]],\n",
              "\n",
              "       [[ 2.01889692e-04,  4.53735774e-05,  1.70246276e-04, ...,\n",
              "         -6.91563546e-05,  6.59728612e-05,  6.05093519e-05],\n",
              "        [ 3.68070585e-04,  1.32565998e-04,  6.89098597e-05, ...,\n",
              "          1.78078655e-04,  2.08441008e-04,  2.88557843e-04],\n",
              "        [ 5.29878249e-04, -1.99110436e-04,  3.25581845e-04, ...,\n",
              "          1.93791508e-04,  3.11873446e-04,  2.75572966e-04],\n",
              "        ...,\n",
              "        [ 1.44883851e-03, -4.79038339e-04,  1.79558338e-04, ...,\n",
              "         -2.32320046e-03, -9.35543678e-04,  4.36706643e-04],\n",
              "        [ 1.78074383e-03, -4.96592838e-04,  1.22465848e-04, ...,\n",
              "         -2.62760720e-03, -1.06475933e-03,  7.46402948e-04],\n",
              "        [ 2.06734659e-03, -4.89151804e-04,  7.27599909e-05, ...,\n",
              "         -2.87585706e-03, -1.14833342e-03,  1.02988433e-03]],\n",
              "\n",
              "       ...,\n",
              "\n",
              "       [[ 2.01889692e-04,  4.53735774e-05,  1.70246276e-04, ...,\n",
              "         -6.91563546e-05,  6.59728612e-05,  6.05093519e-05],\n",
              "        [ 2.80654931e-04,  3.45113396e-04,  7.63436139e-04, ...,\n",
              "         -1.49204076e-04,  2.09484002e-04,  6.87729844e-05],\n",
              "        [ 3.71679460e-04,  3.41692299e-04,  1.14787265e-03, ...,\n",
              "         -8.21709182e-05,  3.18385602e-04,  5.97613107e-05],\n",
              "        ...,\n",
              "        [ 9.14269709e-04, -1.28340523e-03, -1.55484653e-04, ...,\n",
              "         -2.10194499e-03, -5.38292588e-05,  5.71777171e-04],\n",
              "        [ 1.17669185e-03, -1.16779446e-03, -2.23895389e-04, ...,\n",
              "         -2.35396507e-03, -2.67426221e-04,  8.62546731e-04],\n",
              "        [ 1.44664699e-03, -1.03515049e-03, -2.62576912e-04, ...,\n",
              "         -2.56966217e-03, -4.60713840e-04,  1.13045319e-03]],\n",
              "\n",
              "       [[ 2.01889692e-04,  4.53735774e-05,  1.70246276e-04, ...,\n",
              "         -6.91563546e-05,  6.59728612e-05,  6.05093519e-05],\n",
              "        [ 1.76863643e-04,  1.16461590e-04,  1.28756059e-04, ...,\n",
              "         -5.51890589e-05,  2.23512747e-04, -1.62072130e-04],\n",
              "        [ 1.51931963e-04,  2.73971324e-04,  3.69173038e-04, ...,\n",
              "         -9.04278295e-06,  4.44134348e-04, -2.83091067e-04],\n",
              "        ...,\n",
              "        [ 1.83421699e-03, -1.73968147e-04, -4.40155796e-04, ...,\n",
              "         -2.73748790e-03, -8.61355220e-04,  6.27410540e-04],\n",
              "        [ 2.13415269e-03, -1.77428592e-04, -4.88958089e-04, ...,\n",
              "         -3.02126887e-03, -9.84490034e-04,  9.19111189e-04],\n",
              "        [ 2.38569477e-03, -1.70790212e-04, -5.07845951e-04, ...,\n",
              "         -3.24797584e-03, -1.06395688e-03,  1.18711917e-03]],\n",
              "\n",
              "       [[ 2.01889692e-04,  4.53735774e-05,  1.70246276e-04, ...,\n",
              "         -6.91563546e-05,  6.59728612e-05,  6.05093519e-05],\n",
              "        [ 3.68070585e-04,  1.32565998e-04,  6.89098597e-05, ...,\n",
              "          1.78078655e-04,  2.08441008e-04,  2.88557843e-04],\n",
              "        [ 7.04748440e-04,  1.05016379e-05, -1.43037745e-04, ...,\n",
              "          2.58234097e-04,  9.64480496e-05,  3.33273609e-04],\n",
              "        ...,\n",
              "        [ 1.56354532e-03, -1.28415902e-03, -3.44813248e-04, ...,\n",
              "         -1.65492552e-03, -8.05063348e-04,  6.19504892e-04],\n",
              "        [ 1.82549539e-03, -1.10957667e-03, -3.80867452e-04, ...,\n",
              "         -2.00621691e-03, -1.02872809e-03,  8.85172922e-04],\n",
              "        [ 2.08244240e-03, -9.34013922e-04, -4.04733524e-04, ...,\n",
              "         -2.31251889e-03, -1.20566925e-03,  1.13581354e-03]]],\n",
              "      dtype=float32)>"
            ]
          },
          "metadata": {
            "tags": []
          },
          "execution_count": 14
        }
      ]
    },
    {
      "cell_type": "code",
      "metadata": {
        "id": "bL9tjtChneaK",
        "colab": {
          "base_uri": "https://localhost:8080/"
        },
        "outputId": "a6ff452e-fbde-4272-b838-696714cbe822"
      },
      "source": [
        "model.summary()"
      ],
      "execution_count": 15,
      "outputs": [
        {
          "output_type": "stream",
          "text": [
            "Model: \"text_generator\"\n",
            "_________________________________________________________________\n",
            "Layer (type)                 Output Shape              Param #   \n",
            "=================================================================\n",
            "embedding (Embedding)        multiple                  3072256   \n",
            "_________________________________________________________________\n",
            "lstm (LSTM)                  multiple                  5246976   \n",
            "_________________________________________________________________\n",
            "lstm_1 (LSTM)                multiple                  8392704   \n",
            "_________________________________________________________________\n",
            "dense (Dense)                multiple                  12301025  \n",
            "=================================================================\n",
            "Total params: 29,012,961\n",
            "Trainable params: 29,012,961\n",
            "Non-trainable params: 0\n",
            "_________________________________________________________________\n"
          ],
          "name": "stdout"
        }
      ]
    },
    {
      "cell_type": "code",
      "metadata": {
        "colab": {
          "base_uri": "https://localhost:8080/"
        },
        "id": "ttdBelBIwOd6",
        "outputId": "b6843493-ab32-439e-db7e-c233260b35e6"
      },
      "source": [
        "optimizer = tf.keras.optimizers.Adam()\n",
        "loss = tf.keras.losses.SparseCategoricalCrossentropy(\n",
        "    from_logits=True,\n",
        "    reduction='none'\n",
        ")\n",
        "\n",
        "model.compile(loss=loss, optimizer=optimizer)\n",
        "model.fit(dataset, batch_size=256, validation_data=(valset), epochs=10)"
      ],
      "execution_count": 16,
      "outputs": [
        {
          "output_type": "stream",
          "text": [
            "Epoch 1/10\n",
            "488/488 [==============================] - 187s 375ms/step - loss: 3.5099 - val_loss: 3.1696\n",
            "Epoch 2/10\n",
            "488/488 [==============================] - 183s 376ms/step - loss: 3.0269 - val_loss: 2.9665\n",
            "Epoch 3/10\n",
            "488/488 [==============================] - 184s 377ms/step - loss: 2.8583 - val_loss: 2.8538\n",
            "Epoch 4/10\n",
            "488/488 [==============================] - 183s 374ms/step - loss: 2.7336 - val_loss: 2.7725\n",
            "Epoch 5/10\n",
            "488/488 [==============================] - 183s 374ms/step - loss: 2.6291 - val_loss: 2.7087\n",
            "Epoch 6/10\n",
            "488/488 [==============================] - 183s 375ms/step - loss: 2.5344 - val_loss: 2.6600\n",
            "Epoch 7/10\n",
            "488/488 [==============================] - 180s 369ms/step - loss: 2.4468 - val_loss: 2.6119\n",
            "Epoch 8/10\n",
            "488/488 [==============================] - 182s 373ms/step - loss: 2.3644 - val_loss: 2.5730\n",
            "Epoch 9/10\n",
            "488/488 [==============================] - 182s 373ms/step - loss: 2.2864 - val_loss: 2.5424\n",
            "Epoch 10/10\n",
            "488/488 [==============================] - 182s 373ms/step - loss: 2.2125 - val_loss: 2.5138\n"
          ],
          "name": "stdout"
        },
        {
          "output_type": "execute_result",
          "data": {
            "text/plain": [
              "<tensorflow.python.keras.callbacks.History at 0x7fbad37d9950>"
            ]
          },
          "metadata": {
            "tags": []
          },
          "execution_count": 16
        }
      ]
    },
    {
      "cell_type": "code",
      "metadata": {
        "colab": {
          "base_uri": "https://localhost:8080/"
        },
        "id": "B-2DfvZb5uU6",
        "outputId": "2b7e05ee-12ee-4510-80aa-d83d19333df6"
      },
      "source": [
        "embedding_size = 512\n",
        "hidden_size = 2048\n",
        "model = TextGenerator(tokenizer.num_words + 1, embedding_size , hidden_size)\n",
        "\n",
        "optimizer = tf.keras.optimizers.Adam()\n",
        "loss = tf.keras.losses.SparseCategoricalCrossentropy(\n",
        "    from_logits=True,\n",
        "    reduction='none'\n",
        ")\n",
        "\n",
        "model.compile(loss=loss, optimizer=optimizer)\n",
        "model.fit(dataset, batch_size=256, validation_data=(valset), epochs=10)"
      ],
      "execution_count": 20,
      "outputs": [
        {
          "output_type": "stream",
          "text": [
            "Epoch 1/10\n",
            "488/488 [==============================] - 519s 1s/step - loss: 3.2765 - val_loss: 2.9188\n",
            "Epoch 2/10\n",
            "488/488 [==============================] - 503s 1s/step - loss: 2.7419 - val_loss: 2.6691\n",
            "Epoch 3/10\n",
            "488/488 [==============================] - 504s 1s/step - loss: 2.4396 - val_loss: 2.4863\n",
            "Epoch 4/10\n",
            "488/488 [==============================] - 502s 1s/step - loss: 2.1418 - val_loss: 2.3497\n",
            "Epoch 5/10\n",
            "488/488 [==============================] - 501s 1s/step - loss: 1.8573 - val_loss: 2.2502\n",
            "Epoch 6/10\n",
            "488/488 [==============================] - 501s 1s/step - loss: 1.5988 - val_loss: 2.1815\n",
            "Epoch 7/10\n",
            "488/488 [==============================] - 502s 1s/step - loss: 1.3826 - val_loss: 2.1426\n",
            "Epoch 8/10\n",
            "488/488 [==============================] - 501s 1s/step - loss: 1.2142 - val_loss: 2.1343\n",
            "Epoch 9/10\n",
            "488/488 [==============================] - 502s 1s/step - loss: 1.0991 - val_loss: 2.1462\n",
            "Epoch 10/10\n",
            "488/488 [==============================] - 502s 1s/step - loss: 1.0298 - val_loss: 2.1615\n"
          ],
          "name": "stdout"
        },
        {
          "output_type": "execute_result",
          "data": {
            "text/plain": [
              "<tensorflow.python.keras.callbacks.History at 0x7fba663eec50>"
            ]
          },
          "metadata": {
            "tags": []
          },
          "execution_count": 20
        }
      ]
    },
    {
      "cell_type": "code",
      "metadata": {
        "id": "ke2GrQGjOXXg"
      },
      "source": [
        "def generate_text(model, tokenizer, init_sentence=\"<start>\", max_len=20):\n",
        "    # 테스트를 위해서 입력받은 init_sentence도 텐서로 변환합니다\n",
        "    test_input = tokenizer.texts_to_sequences([init_sentence])\n",
        "    test_tensor = tf.convert_to_tensor(test_input, dtype=tf.int64)\n",
        "    end_token = tokenizer.word_index[\"<end>\"]\n",
        "\n",
        "    # 단어 하나씩 예측해 문장을 만듭니다\n",
        "    #    1. 입력받은 문장의 텐서를 입력합니다\n",
        "    #    2. 예측된 값 중 가장 높은 확률인 word index를 뽑아냅니다\n",
        "    #    3. 2에서 예측된 word index를 문장 뒤에 붙입니다\n",
        "    #    4. 모델이 <end>를 예측했거나, max_len에 도달했다면 문장 생성을 마칩니다\n",
        "    while True:\n",
        "        # 1\n",
        "        predict = model(test_tensor) \n",
        "        # 2\n",
        "        predict_word = tf.argmax(tf.nn.softmax(predict, axis=-1), axis=-1)[:, -1] \n",
        "        # 3 \n",
        "        test_tensor = tf.concat([test_tensor, tf.expand_dims(predict_word, axis=0)], axis=-1)\n",
        "        # 4\n",
        "        if predict_word.numpy()[0] == end_token: break\n",
        "        if test_tensor.shape[1] >= max_len: break\n",
        "\n",
        "    generated = \"\"\n",
        "    # tokenizer를 이용해 word index를 단어로 하나씩 변환합니다 \n",
        "    for word_index in test_tensor[0].numpy():\n",
        "        generated += tokenizer.index_word[word_index] + \" \"\n",
        "\n",
        "    return generated"
      ],
      "execution_count": 21,
      "outputs": []
    },
    {
      "cell_type": "code",
      "metadata": {
        "id": "4LjvKFXsOZXs",
        "colab": {
          "base_uri": "https://localhost:8080/",
          "height": 34
        },
        "outputId": "588d7fef-52d1-44d9-c3cb-3b2205532a9e"
      },
      "source": [
        "generate_text(model, tokenizer, init_sentence=\"<start> i hate\", max_len=20)"
      ],
      "execution_count": 22,
      "outputs": [
        {
          "output_type": "execute_result",
          "data": {
            "application/vnd.google.colaboratory.intrinsic+json": {
              "type": "string"
            },
            "text/plain": [
              "'<start> i hate you <end> '"
            ]
          },
          "metadata": {
            "tags": []
          },
          "execution_count": 22
        }
      ]
    },
    {
      "cell_type": "code",
      "metadata": {
        "colab": {
          "base_uri": "https://localhost:8080/",
          "height": 34
        },
        "id": "N5M7wEoCAeOa",
        "outputId": "f2421751-b609-48da-8df9-29db15c2c9e5"
      },
      "source": [
        "generate_text(model, tokenizer, init_sentence=\"<start> i love\", max_len=20)"
      ],
      "execution_count": 23,
      "outputs": [
        {
          "output_type": "execute_result",
          "data": {
            "application/vnd.google.colaboratory.intrinsic+json": {
              "type": "string"
            },
            "text/plain": [
              "'<start> i love you , i m not gonna crack <end> '"
            ]
          },
          "metadata": {
            "tags": []
          },
          "execution_count": 23
        }
      ]
    },
    {
      "cell_type": "code",
      "metadata": {
        "colab": {
          "base_uri": "https://localhost:8080/",
          "height": 34
        },
        "id": "WgmlZrwUCcpL",
        "outputId": "ddfb2d06-f257-47e8-eba3-1594caf69d79"
      },
      "source": [
        "generate_text(model, tokenizer, init_sentence=\"<start> i like\", max_len=20)"
      ],
      "execution_count": 24,
      "outputs": [
        {
          "output_type": "execute_result",
          "data": {
            "application/vnd.google.colaboratory.intrinsic+json": {
              "type": "string"
            },
            "text/plain": [
              "'<start> i like the way how you re touchin me <end> '"
            ]
          },
          "metadata": {
            "tags": []
          },
          "execution_count": 24
        }
      ]
    },
    {
      "cell_type": "code",
      "metadata": {
        "colab": {
          "base_uri": "https://localhost:8080/",
          "height": 34
        },
        "id": "HDFqFeWrCvLE",
        "outputId": "4396840d-6c43-471d-cb85-8f2aaa7fade2"
      },
      "source": [
        "generate_text(model, tokenizer, init_sentence=\"<start> it is\", max_len=20)"
      ],
      "execution_count": 25,
      "outputs": [
        {
          "output_type": "execute_result",
          "data": {
            "application/vnd.google.colaboratory.intrinsic+json": {
              "type": "string"
            },
            "text/plain": [
              "'<start> it is a weeping and a moaning and a gnashing of teeth <end> '"
            ]
          },
          "metadata": {
            "tags": []
          },
          "execution_count": 25
        }
      ]
    },
    {
      "cell_type": "code",
      "metadata": {
        "colab": {
          "base_uri": "https://localhost:8080/",
          "height": 34
        },
        "id": "YqsNXs_7ZfS9",
        "outputId": "0fd21881-ee0d-4af7-e9ed-7b2c36cdd2ef"
      },
      "source": [
        "generate_text(model, tokenizer, init_sentence=\"<start> i\", max_len=20)"
      ],
      "execution_count": 27,
      "outputs": [
        {
          "output_type": "execute_result",
          "data": {
            "application/vnd.google.colaboratory.intrinsic+json": {
              "type": "string"
            },
            "text/plain": [
              "'<start> i m not gonna lose any sleep tryna know where you are <end> '"
            ]
          },
          "metadata": {
            "tags": []
          },
          "execution_count": 27
        }
      ]
    },
    {
      "cell_type": "markdown",
      "metadata": {
        "id": "M6o7MV4S2dKq"
      },
      "source": [
        "# 회고 \n",
        "\n",
        "이번 프로젝트를 진행하면서 첫번째로 당황(?)스러웠던 것은 토큰 개수 15개 이하의 문장만 가져오는 것이었다 .\n",
        "\n",
        "```python\n",
        "corpus = []\n",
        "for sentence in raw_corpus:\n",
        "  if len(sentence) == 0: continue\n",
        "  if len(sentence.split(' ')) > 15: continue\n",
        "  corpus.append(preprocess_sentence(sentence))\n",
        "```\n",
        "```python\n",
        "corpus = []\n",
        "for sentence in raw_corpus:\n",
        "  if len(sentence) == 0: continue\n",
        "  corpus.append(preprocess_sentence(sentence))\n",
        "print(len(corpus))\n",
        "corpus[:10]\n",
        "\n",
        "len_corpus = []\n",
        "for sentence in corpus:\n",
        "  if len(sentence.split()) <= 15:\n",
        "    len_corpus.append(sentence)\n",
        "```\n",
        "\n",
        "처음엔 첫 번째 코드로 진행했는데 train.shape이 LMS 기준과 달라 두 번째 코드로 진행하니 기준과 매우 비슷해졌다.\n",
        "\n",
        "처음엔 두 코드가 같은 코드라고 생각했다. 팀원들에게 물어보고 토론한 뒤 첫번째 `corpus`코드는 길이가 15 미만인 문장을 가져와 `preprocess_sentence`를 해주기 때문에 `<start>`와 `<end>`가 붙어 길이가 늘어나는 것을 알게 되었다. \n",
        "\n",
        "두 번째로 당황스러웠던 점은 model을 돌리는데 시간이 너무 많이 소요된다는 점이었다. \n",
        "\n",
        "루브릭 기준을 맞추기 위해 val_loss를 2.2 이하로 낮췄어야 하는데, 첫 번째 시도는 `embedding_size = 256, hidden_size = 1024`으로 하이퍼파라미터를 설정하고, `loss: 2.2125 - val_loss: 2.5138` 정도의 loss를 보였다. \n",
        "\n",
        "두 번째 시도에서는 `embedding_size = 512, hidden_size = 2048`로 하이퍼파라미터 값을 두배로 설정하였더니 `loss: 1.0298 - val_loss: 2.1615` 정도의 loss를 보였다. 분명 loss는 하락했지만, 소요되는 시간이 2배정도 걸렸고 `loss`와 `validation loss`의 차이가 많이 났다. \n",
        "\n",
        "두 번째 모형은 overfitting된 모형으로 해석을 했는데 앞으로 더 배워가면서 하이퍼파라미터를 높여 시간이 많이 소요되는 모형 대신, 전처리 과정을 통해 loss를 줄이는 모형을 만들고 싶다. "
      ]
    },
    {
      "cell_type": "markdown",
      "metadata": {
        "id": "XkdfMk6fkihk"
      },
      "source": [
        "[딥러닝을 이용한 자연어 처리 입문](https://wikidocs.net/21698)\n",
        "\n",
        "[Recurrent Networks](https://younnggsuk.github.io/2020/12/23/eecs-12.html)\n",
        "\n",
        "[BackPropagation through LSTM: A differential approach](https://medium.com/@raman.shinde15/backpropagation-through-lstm-a-differential-approach-4eb5ecc58d9d)\n",
        "\n",
        "[딥러닝 RNN - LSTM을 활용한 텍스트 분류 모델](https://blog.naver.com/mini_s0n/222326186376)\n",
        "\n",
        "[RNN과 LSTM을 이해해보자!](https://ratsgo.github.io/natural%20language%20processing/2017/03/09/rnnlstm/)\n",
        "\n",
        "[정규식 : 괄호안에 문자, 문장 제거하기](https://snepbnt.tistory.com/378)"
      ]
    }
  ]
}