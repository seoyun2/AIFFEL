{
  "nbformat": 4,
  "nbformat_minor": 0,
  "metadata": {
    "colab": {
      "name": "Exploration1.ipynb",
      "provenance": [],
      "collapsed_sections": [],
      "toc_visible": true
    },
    "kernelspec": {
      "name": "python3",
      "display_name": "Python 3"
    },
    "language_info": {
      "name": "python"
    }
  },
  "cells": [
    {
      "cell_type": "markdown",
      "metadata": {
        "id": "mj9EPO2KQJXm"
      },
      "source": [
        "# 데이터.zip 풀기 "
      ]
    },
    {
      "cell_type": "code",
      "metadata": {
        "id": "m9SUCqsWPGAC",
        "colab": {
          "base_uri": "https://localhost:8080/"
        },
        "outputId": "5e759a83-2ffd-4df9-ad17-f0f49d2e2256"
      },
      "source": [
        "from google.colab import drive\n",
        "drive.mount(\"/content/gdrive\")"
      ],
      "execution_count": null,
      "outputs": [
        {
          "output_type": "stream",
          "text": [
            "Mounted at /content/gdrive\n"
          ],
          "name": "stdout"
        }
      ]
    },
    {
      "cell_type": "code",
      "metadata": {
        "colab": {
          "base_uri": "https://localhost:8080/"
        },
        "id": "TtB0AsyvPtG7",
        "outputId": "325ff82d-0d54-4b35-d0a6-6633978caefb"
      },
      "source": [
        "cd /content/gdrive/My Drive/rock_scissor_paper"
      ],
      "execution_count": null,
      "outputs": [
        {
          "output_type": "stream",
          "text": [
            "/content/gdrive/My Drive/rock_scissor_paper\n"
          ],
          "name": "stdout"
        }
      ]
    },
    {
      "cell_type": "code",
      "metadata": {
        "colab": {
          "base_uri": "https://localhost:8080/"
        },
        "id": "lZRb7_S3PtED",
        "outputId": "d11d3a12-2186-41b9-a0d5-abd3155450e9"
      },
      "source": [
        "!ls /content/gdrive/My\\ Drive/rock_scissor_paper"
      ],
      "execution_count": null,
      "outputs": [
        {
          "output_type": "stream",
          "text": [
            "papers_complete.zip  rocks_complete.zip  scissors_complete.zip\n",
            "rocks_complete\t     scissors_complete\n"
          ],
          "name": "stdout"
        }
      ]
    },
    {
      "cell_type": "code",
      "metadata": {
        "id": "OC-_Yg5iU1hx"
      },
      "source": [
        "!unzip -qq /content/gdrive/My\\ Drive/rock_scissor_paper/papers_complete.zip"
      ],
      "execution_count": null,
      "outputs": []
    },
    {
      "cell_type": "markdown",
      "metadata": {
        "id": "8yqmlW3tQTJh"
      },
      "source": [
        "# 데이터 불러오기 + Resize"
      ]
    },
    {
      "cell_type": "code",
      "metadata": {
        "colab": {
          "base_uri": "https://localhost:8080/"
        },
        "id": "n1WycNiEPs4L",
        "outputId": "188358df-cc7f-48da-90cd-b88e5ba6b13d"
      },
      "source": [
        "from PIL import Image\n",
        "import os, glob\n",
        "\n",
        "print(\"PIL 라이브러리 import 완료!\")"
      ],
      "execution_count": null,
      "outputs": [
        {
          "output_type": "stream",
          "text": [
            "PIL 라이브러리 import 완료!\n"
          ],
          "name": "stdout"
        }
      ]
    },
    {
      "cell_type": "code",
      "metadata": {
        "id": "0_Pl-GT3Psvt"
      },
      "source": [
        "import os\n",
        "\n",
        "def resize_images(img_path):\n",
        "    images = glob.glob(img_path + \"/*.jpg\")\n",
        "\n",
        "    print(len(images), \" images to be resized.\")\n",
        "\n",
        "    # 파일마다 모두 28x28 사이즈로 바꾸어 저장\n",
        "    target_size = (28, 28)\n",
        "    for img in images:\n",
        "        old_img = Image.open(img)\n",
        "        new_img = old_img.resize(target_size, Image.ANTIALIAS)\n",
        "        new_img.save(img, \"JPEG\")\n",
        "\n",
        "    print(len(images), \" images resized.\")"
      ],
      "execution_count": null,
      "outputs": []
    },
    {
      "cell_type": "code",
      "metadata": {
        "colab": {
          "base_uri": "https://localhost:8080/"
        },
        "id": "Bz9WaEZbQcXx",
        "outputId": "dae0180b-d246-4e43-9460-0bff969861b1"
      },
      "source": [
        "image_dir_path = \"/content/gdrive/My Drive/rock_scissor_paper/scissors_complete\"\n",
        "resize_images(image_dir_path)\n",
        "print(\"가위 이미지 resize 완료!\")"
      ],
      "execution_count": null,
      "outputs": [
        {
          "output_type": "stream",
          "text": [
            "994  images to be resized.\n",
            "994  images resized.\n",
            "가위 이미지 resize 완료!\n"
          ],
          "name": "stdout"
        }
      ]
    },
    {
      "cell_type": "code",
      "metadata": {
        "colab": {
          "base_uri": "https://localhost:8080/"
        },
        "id": "fxWRsqa_TrSD",
        "outputId": "79ad1a9c-780c-4985-d9fe-7751caeedfb1"
      },
      "source": [
        "image_dir_path = \"/content/gdrive/My Drive/rock_scissor_paper/rocks_complete\"\n",
        "resize_images(image_dir_path)\n",
        "print(\"주먹 이미지 resize 완료!\")"
      ],
      "execution_count": null,
      "outputs": [
        {
          "output_type": "stream",
          "text": [
            "1105  images to be resized.\n",
            "1105  images resized.\n",
            "주먹 이미지 resize 완료!\n"
          ],
          "name": "stdout"
        }
      ]
    },
    {
      "cell_type": "code",
      "metadata": {
        "colab": {
          "base_uri": "https://localhost:8080/"
        },
        "id": "iGNaxX8gTzYq",
        "outputId": "2058d873-2a02-47db-98ba-e3eb7b0c9f0e"
      },
      "source": [
        "image_dir_path = \"/content/gdrive/My Drive/rock_scissor_paper/papers_complete\"\n",
        "resize_images(image_dir_path)\n",
        "print(\"보 이미지 resize 완료!\")"
      ],
      "execution_count": null,
      "outputs": [
        {
          "output_type": "stream",
          "text": [
            "1108  images to be resized.\n",
            "1108  images resized.\n",
            "보 이미지 resize 완료!\n"
          ],
          "name": "stdout"
        }
      ]
    },
    {
      "cell_type": "code",
      "metadata": {
        "colab": {
          "base_uri": "https://localhost:8080/"
        },
        "id": "BDc0455VUD7U",
        "outputId": "97694110-4570-4697-a76c-3e07646ab53f"
      },
      "source": [
        "import numpy as np\n",
        "\n",
        "def load_data(img_path, number_of_data=3207):  # 가위바위보 이미지 개수 총합에 주의하세요.\n",
        "    # 가위 : 0, 바위 : 1, 보 : 2\n",
        "    img_size=28\n",
        "    color=3\n",
        "    #이미지 데이터와 라벨(가위 : 0, 바위 : 1, 보 : 2) 데이터를 담을 행렬(matrix) 영역을 생성합니다.\n",
        "    imgs=np.zeros(number_of_data*img_size*img_size*color,dtype=np.int32).reshape(number_of_data,img_size,img_size,color)\n",
        "    labels=np.zeros(number_of_data,dtype=np.int32)\n",
        "\n",
        "    idx=0\n",
        "    for file in glob.iglob(img_path+'/scissors_complete/*.jpg'):\n",
        "        img = np.array(Image.open(file),dtype=np.int32)\n",
        "        imgs[idx,:,:,:]=img    # 데이터 영역에 이미지 행렬을 복사\n",
        "        labels[idx]=0   # 가위 : 0\n",
        "        idx=idx+1\n",
        "\n",
        "    for file in glob.iglob(img_path+'/rocks_complete/*.jpg'):\n",
        "        img = np.array(Image.open(file),dtype=np.int32)\n",
        "        imgs[idx,:,:,:]=img    # 데이터 영역에 이미지 행렬을 복사\n",
        "        labels[idx]=1   # 바위 : 1\n",
        "        idx=idx+1  \n",
        "    \n",
        "    for file in glob.iglob(img_path+'/papers_complete/*.jpg'):\n",
        "        img = np.array(Image.open(file),dtype=np.int32)\n",
        "        imgs[idx,:,:,:]=img    # 데이터 영역에 이미지 행렬을 복사\n",
        "        labels[idx]=2   # 보 : 2\n",
        "        idx=idx+1\n",
        "        \n",
        "    print(\"학습데이터(x_train)의 이미지 개수는\", idx,\"입니다.\")\n",
        "    return imgs, labels\n",
        "\n",
        "image_dir_path = \"/content/gdrive/My Drive/rock_scissor_paper\"\n",
        "(x, y)=load_data(image_dir_path)\n",
        "\n",
        "from sklearn.model_selection import train_test_split\n",
        "x_train, x_test, y_train, y_test = train_test_split(x, y, test_size = 0.18,\n",
        "                                                    random_state = 42)\n",
        "x_train_norm = x_train/255.0   # 입력은 0~1 사이의 값으로 정규화\n",
        "x_test_norm = x_test/255.0   # 입력은 0~1 사이의 값으로 정규화\n",
        "print(\"x_train shape: {}\".format(x_train.shape))\n",
        "print(\"y_train shape: {}\".format(y_train.shape))\n",
        "print(\"x_test shape: {}\".format(x_test.shape))\n",
        "print(\"y_test shape: {}\".format(y_test.shape))"
      ],
      "execution_count": null,
      "outputs": [
        {
          "output_type": "stream",
          "text": [
            "학습데이터(x_train)의 이미지 개수는 3207 입니다.\n",
            "x_train shape: (2629, 28, 28, 3)\n",
            "y_train shape: (2629,)\n",
            "x_test shape: (578, 28, 28, 3)\n",
            "y_test shape: (578,)\n"
          ],
          "name": "stdout"
        }
      ]
    },
    {
      "cell_type": "code",
      "metadata": {
        "colab": {
          "base_uri": "https://localhost:8080/",
          "height": 284
        },
        "id": "tiUc7vvvZx1J",
        "outputId": "2a13d617-879a-452b-9080-2df5210ad159"
      },
      "source": [
        "import matplotlib.pyplot as plt\n",
        "plt.imshow(x_train[0])\n",
        "print('라벨: ', y_train[0])"
      ],
      "execution_count": null,
      "outputs": [
        {
          "output_type": "stream",
          "text": [
            "라벨:  2\n"
          ],
          "name": "stdout"
        },
        {
          "output_type": "display_data",
          "data": {
            "image/png": "[encoded data removed]",
            "text/plain": [
              "<Figure size 432x288 with 1 Axes>"
            ]
          },
          "metadata": {
            "tags": [],
            "needs_background": "light"
          }
        }
      ]
    },
    {
      "cell_type": "markdown",
      "metadata": {
        "id": "WrdapXBT4Hk1"
      },
      "source": [
        "# 딥러닝 네트워크 설계하기\n"
      ]
    },
    {
      "cell_type": "code",
      "metadata": {
        "colab": {
          "base_uri": "https://localhost:8080/"
        },
        "id": "PXwneY3QVqPO",
        "outputId": "060215f8-4721-411f-aa23-d765f144039e"
      },
      "source": [
        "import tensorflow as tf\n",
        "from tensorflow import keras\n",
        "\n",
        "model=keras.models.Sequential()\n",
        "model.add(keras.layers.Conv2D(16, (3,3), activation='relu', input_shape=(28,28,3)))\n",
        "model.add(keras.layers.MaxPool2D(2,2))\n",
        "model.add(keras.layers.Conv2D(32, (3,3), activation='relu'))\n",
        "model.add(keras.layers.MaxPooling2D((2,2)))\n",
        "model.add(keras.layers.Flatten())\n",
        "model.add(keras.layers.Dense(32, activation='relu'))\n",
        "model.add(keras.layers.Dense(3, activation='softmax'))\n"
      ],
      "execution_count": null,
      "outputs": [
        {
          "output_type": "stream",
          "text": [
            "Model에 추가된 Layer 개수:  7\n"
          ],
          "name": "stdout"
        }
      ]
    },
    {
      "cell_type": "code",
      "metadata": {
        "colab": {
          "base_uri": "https://localhost:8080/"
        },
        "id": "2zERsrJcWLK_",
        "outputId": "5f14de20-a1c2-4cd6-dbf8-92a7efcb7373"
      },
      "source": [
        "model.summary()"
      ],
      "execution_count": null,
      "outputs": [
        {
          "output_type": "stream",
          "text": [
            "Model: \"sequential_4\"\n",
            "_________________________________________________________________\n",
            "Layer (type)                 Output Shape              Param #   \n",
            "=================================================================\n",
            "conv2d_8 (Conv2D)            (None, 26, 26, 16)        448       \n",
            "_________________________________________________________________\n",
            "max_pooling2d_8 (MaxPooling2 (None, 13, 13, 16)        0         \n",
            "_________________________________________________________________\n",
            "conv2d_9 (Conv2D)            (None, 11, 11, 32)        4640      \n",
            "_________________________________________________________________\n",
            "max_pooling2d_9 (MaxPooling2 (None, 5, 5, 32)          0         \n",
            "_________________________________________________________________\n",
            "flatten_4 (Flatten)          (None, 800)               0         \n",
            "_________________________________________________________________\n",
            "dense_8 (Dense)              (None, 32)                25632     \n",
            "_________________________________________________________________\n",
            "dense_9 (Dense)              (None, 3)                 99        \n",
            "=================================================================\n",
            "Total params: 30,819\n",
            "Trainable params: 30,819\n",
            "Non-trainable params: 0\n",
            "_________________________________________________________________\n"
          ],
          "name": "stdout"
        }
      ]
    },
    {
      "cell_type": "markdown",
      "metadata": {
        "id": "vr3SgF8o4xWO"
      },
      "source": [
        "# 딥러닝 네트워크 학습시키기"
      ]
    },
    {
      "cell_type": "code",
      "metadata": {
        "colab": {
          "base_uri": "https://localhost:8080/"
        },
        "id": "Uc3UK_4_XSwn",
        "outputId": "cd611dad-025b-4c8a-c46b-d74701027a24"
      },
      "source": [
        "print(\"Before Reshape - x_train_norm shape: {}\".format(x_train_norm.shape))\n",
        "print(\"Before Reshape - x_test_norm shape: {}\".format(x_test_norm.shape))\n",
        "\n",
        "x_train_reshaped=x_train_norm.reshape( -1, 28, 28, 3)  # 데이터갯수에 -1을 쓰면 reshape시 자동계산됩니다.\n",
        "x_test_reshaped=x_test_norm.reshape( -1, 28, 28, 3)\n",
        "\n",
        "print(\"After Reshape - x_train_reshaped shape: {}\".format(x_train_reshaped.shape))\n",
        "print(\"After Reshape - x_test_reshaped shape: {}\".format(x_test_reshaped.shape))"
      ],
      "execution_count": null,
      "outputs": [
        {
          "output_type": "stream",
          "text": [
            "Before Reshape - x_train_norm shape: (2629, 28, 28, 3)\n",
            "Before Reshape - x_test_norm shape: (578, 28, 28, 3)\n",
            "After Reshape - x_train_reshaped shape: (2629, 28, 28, 3)\n",
            "After Reshape - x_test_reshaped shape: (578, 28, 28, 3)\n"
          ],
          "name": "stdout"
        }
      ]
    },
    {
      "cell_type": "code",
      "metadata": {
        "colab": {
          "base_uri": "https://localhost:8080/"
        },
        "id": "lWgG24rPcdeB",
        "outputId": "729dc1d9-1fe0-483c-bbeb-b9e7fd5fe103"
      },
      "source": [
        "model.compile(optimizer='adam',\n",
        "             loss='sparse_categorical_crossentropy',\n",
        "             metrics=['accuracy'])\n",
        "\n",
        "model.fit(x_train_reshaped, y_train, epochs=15)"
      ],
      "execution_count": null,
      "outputs": [
        {
          "output_type": "stream",
          "text": [
            "Epoch 1/15\n",
            "83/83 [==============================] - 2s 18ms/step - loss: 1.0501 - accuracy: 0.4614\n",
            "Epoch 2/15\n",
            "83/83 [==============================] - 2s 18ms/step - loss: 0.8696 - accuracy: 0.6196\n",
            "Epoch 3/15\n",
            "83/83 [==============================] - 2s 18ms/step - loss: 0.6821 - accuracy: 0.7193\n",
            "Epoch 4/15\n",
            "83/83 [==============================] - 2s 18ms/step - loss: 0.5477 - accuracy: 0.7820\n",
            "Epoch 5/15\n",
            "83/83 [==============================] - 2s 18ms/step - loss: 0.4368 - accuracy: 0.8342\n",
            "Epoch 6/15\n",
            "83/83 [==============================] - 1s 18ms/step - loss: 0.3561 - accuracy: 0.8733\n",
            "Epoch 7/15\n",
            "83/83 [==============================] - 2s 18ms/step - loss: 0.2897 - accuracy: 0.8984\n",
            "Epoch 8/15\n",
            "83/83 [==============================] - 2s 19ms/step - loss: 0.2470 - accuracy: 0.9232\n",
            "Epoch 9/15\n",
            "83/83 [==============================] - 2s 18ms/step - loss: 0.1970 - accuracy: 0.9350\n",
            "Epoch 10/15\n",
            "83/83 [==============================] - 2s 18ms/step - loss: 0.1718 - accuracy: 0.9486\n",
            "Epoch 11/15\n",
            "83/83 [==============================] - 2s 18ms/step - loss: 0.1420 - accuracy: 0.9604\n",
            "Epoch 12/15\n",
            "83/83 [==============================] - 2s 18ms/step - loss: 0.1302 - accuracy: 0.9620\n",
            "Epoch 13/15\n",
            "83/83 [==============================] - 2s 19ms/step - loss: 0.1044 - accuracy: 0.9730\n",
            "Epoch 14/15\n",
            "83/83 [==============================] - 2s 19ms/step - loss: 0.0903 - accuracy: 0.9757\n",
            "Epoch 15/15\n",
            "83/83 [==============================] - 2s 19ms/step - loss: 0.1021 - accuracy: 0.9719\n"
          ],
          "name": "stdout"
        },
        {
          "output_type": "execute_result",
          "data": {
            "text/plain": [
              "<tensorflow.python.keras.callbacks.History at 0x7f66ef79be10>"
            ]
          },
          "metadata": {
            "tags": []
          },
          "execution_count": 66
        }
      ]
    },
    {
      "cell_type": "markdown",
      "metadata": {
        "id": "mTRcbTMJkacb"
      },
      "source": [
        "## split한 test data "
      ]
    },
    {
      "cell_type": "code",
      "metadata": {
        "colab": {
          "base_uri": "https://localhost:8080/"
        },
        "id": "T0uR5pI1c8FG",
        "outputId": "774a3a52-443d-41e1-9883-d2b4274fe466"
      },
      "source": [
        "test_loss, test_accuracy = model.evaluate(x_test_reshaped,y_test, verbose=2)\n",
        "print(\"test_loss: {} \".format(test_loss))\n",
        "print(\"test_accuracy: {}\".format(test_accuracy))"
      ],
      "execution_count": null,
      "outputs": [
        {
          "output_type": "stream",
          "text": [
            "19/19 - 0s - loss: 0.1364 - accuracy: 0.9637\n",
            "test_loss: 0.1364164799451828 \n",
            "test_accuracy: 0.9636678099632263\n"
          ],
          "name": "stdout"
        }
      ]
    },
    {
      "cell_type": "markdown",
      "metadata": {
        "id": "PlXy3XiHgcPL"
      },
      "source": [
        "# 한번도 쓰이지 않은 ! 새로운 test data"
      ]
    },
    {
      "cell_type": "code",
      "metadata": {
        "colab": {
          "base_uri": "https://localhost:8080/"
        },
        "id": "hacHxczkgeI7",
        "outputId": "b218df2d-bedd-4b6c-b527-9c787b908e81"
      },
      "source": [
        "!ls /content/gdrive/My\\ Drive/TEST"
      ],
      "execution_count": null,
      "outputs": [
        {
          "output_type": "stream",
          "text": [
            "paper.zip  rock.zip  scissor.zip\n"
          ],
          "name": "stdout"
        }
      ]
    },
    {
      "cell_type": "code",
      "metadata": {
        "id": "a8g63UQAg7WX"
      },
      "source": [
        "!unzip -qq /content/gdrive/My\\ Drive/TEST/rock.zip"
      ],
      "execution_count": null,
      "outputs": []
    },
    {
      "cell_type": "code",
      "metadata": {
        "id": "rlBMgL2Og7MR"
      },
      "source": [
        "!unzip -qq /content/gdrive/My\\ Drive/TEST/scissor.zip"
      ],
      "execution_count": null,
      "outputs": []
    },
    {
      "cell_type": "code",
      "metadata": {
        "colab": {
          "base_uri": "https://localhost:8080/"
        },
        "id": "eNF4oxJphBlT",
        "outputId": "54f1e2f2-46e6-40b9-e66d-aa100b37b22e"
      },
      "source": [
        "image_dir_path = \"/content/gdrive/My Drive/rock_scissor_paper/rock\"\n",
        "resize_images(image_dir_path)\n",
        "print(\"가위 이미지 resize 완료!\")"
      ],
      "execution_count": null,
      "outputs": [
        {
          "output_type": "stream",
          "text": [
            "109  images to be resized.\n",
            "109  images resized.\n",
            "가위 이미지 resize 완료!\n"
          ],
          "name": "stdout"
        }
      ]
    },
    {
      "cell_type": "code",
      "metadata": {
        "colab": {
          "base_uri": "https://localhost:8080/"
        },
        "id": "0fmTm5y8hTlZ",
        "outputId": "1420b964-5603-4e55-b02c-e443b08d25dd"
      },
      "source": [
        "image_dir_path = \"/content/gdrive/My Drive/rock_scissor_paper/paper\"\n",
        "resize_images(image_dir_path)\n",
        "\n",
        "image_dir_path = \"/content/gdrive/My Drive/rock_scissor_paper/scissor\"\n",
        "resize_images(image_dir_path)"
      ],
      "execution_count": null,
      "outputs": [
        {
          "output_type": "stream",
          "text": [
            "109  images to be resized.\n",
            "109  images resized.\n",
            "109  images to be resized.\n",
            "109  images resized.\n"
          ],
          "name": "stdout"
        }
      ]
    },
    {
      "cell_type": "code",
      "metadata": {
        "colab": {
          "base_uri": "https://localhost:8080/"
        },
        "id": "k-u8nNt0iOkV",
        "outputId": "322aade6-4602-455b-ce1b-3c7dbb4c89c5"
      },
      "source": [
        "import numpy as np\n",
        "\n",
        "def load_data(img_path, number_of_data=327):  # 가위바위보 이미지 개수 총합에 주의하세요.\n",
        "    # 가위 : 0, 바위 : 1, 보 : 2\n",
        "    img_size=28\n",
        "    color=3\n",
        "    #이미지 데이터와 라벨(가위 : 0, 바위 : 1, 보 : 2) 데이터를 담을 행렬(matrix) 영역을 생성합니다.\n",
        "    imgs=np.zeros(number_of_data*img_size*img_size*color,dtype=np.int32).reshape(number_of_data,img_size,img_size,color)\n",
        "    labels=np.zeros(number_of_data,dtype=np.int32)\n",
        "\n",
        "    idx=0\n",
        "    for file in glob.iglob(img_path+'/scissor/*.jpg'):\n",
        "        img = np.array(Image.open(file),dtype=np.int32)\n",
        "        imgs[idx,:,:,:]=img    # 데이터 영역에 이미지 행렬을 복사\n",
        "        labels[idx]=0   # 가위 : 0\n",
        "        idx=idx+1\n",
        "\n",
        "    for file in glob.iglob(img_path+'/rock/*.jpg'):\n",
        "        img = np.array(Image.open(file),dtype=np.int32)\n",
        "        imgs[idx,:,:,:]=img    # 데이터 영역에 이미지 행렬을 복사\n",
        "        labels[idx]=1   # 바위 : 1\n",
        "        idx=idx+1  \n",
        "    \n",
        "    for file in glob.iglob(img_path+'/paper/*.jpg'):\n",
        "        img = np.array(Image.open(file),dtype=np.int32)\n",
        "        imgs[idx,:,:,:]=img    # 데이터 영역에 이미지 행렬을 복사\n",
        "        labels[idx]=2   # 보 : 2\n",
        "        idx=idx+1\n",
        "        \n",
        "    print(\"학습데이터(x_train)의 이미지 개수는\", idx,\"입니다.\")\n",
        "    return imgs, labels\n",
        "\n",
        "image_dir_path = \"/content/gdrive/My Drive/TEST\"\n",
        "(x_test2, y_test2)=load_data(image_dir_path)\n",
        "\n",
        "x_test2_norm = x_test2/255.0   # 입력은 0~1 사이의 값으로 정규화\n",
        "print(\"x_test2 shape: {}\".format(x_test2.shape))\n",
        "print(\"y_test2 shape: {}\".format(y_test2.shape))"
      ],
      "execution_count": null,
      "outputs": [
        {
          "output_type": "stream",
          "text": [
            "학습데이터(x_train)의 이미지 개수는 327 입니다.\n",
            "x_test2 shape: (327, 28, 28, 3)\n",
            "y_test2 shape: (327,)\n"
          ],
          "name": "stdout"
        }
      ]
    },
    {
      "cell_type": "code",
      "metadata": {
        "colab": {
          "base_uri": "https://localhost:8080/",
          "height": 284
        },
        "id": "FWbtk07BjC-n",
        "outputId": "596eac70-0bca-43fd-cadb-556ad24441ee"
      },
      "source": [
        "import matplotlib.pyplot as plt\n",
        "plt.imshow(x_test2[0])\n",
        "print('라벨: ', y_test2[0])"
      ],
      "execution_count": null,
      "outputs": [
        {
          "output_type": "stream",
          "text": [
            "라벨:  0\n"
          ],
          "name": "stdout"
        },
        {
          "output_type": "display_data",
          "data": {
            "image/png": "[encoded data removed]",
            "text/plain": [
              "<Figure size 432x288 with 1 Axes>"
            ]
          },
          "metadata": {
            "tags": [],
            "needs_background": "light"
          }
        }
      ]
    },
    {
      "cell_type": "code",
      "metadata": {
        "colab": {
          "base_uri": "https://localhost:8080/"
        },
        "id": "Ka3I5nlmjUQQ",
        "outputId": "0bb337c2-09b2-41ae-c5ed-c1577ffdeaa1"
      },
      "source": [
        "print(\"Before Reshape - x_test2_norm shape: {}\".format(x_test2_norm.shape))\n",
        "\n",
        "x_test2_reshaped=x_test2_norm.reshape( -1, 28, 28, 3)\n",
        "\n",
        "print(\"After Reshape - x_test2_reshaped shape: {}\".format(x_test2_reshaped.shape))"
      ],
      "execution_count": null,
      "outputs": [
        {
          "output_type": "stream",
          "text": [
            "Before Reshape - x_test2_norm shape: (327, 28, 28, 3)\n",
            "After Reshape - x_test2_reshaped shape: (327, 28, 28, 3)\n"
          ],
          "name": "stdout"
        }
      ]
    },
    {
      "cell_type": "markdown",
      "metadata": {
        "id": "XkFH33DkkgOB"
      },
      "source": [
        "# 더 좋은 네트워크 만들기"
      ]
    },
    {
      "cell_type": "code",
      "metadata": {
        "colab": {
          "base_uri": "https://localhost:8080/"
        },
        "id": "UwLCO7Ouki_o",
        "outputId": "595fc158-55cd-4b8b-8d40-48aed4932e2a"
      },
      "source": [
        "# 바꿔 볼 수 있는 하이퍼파라미터들\n",
        "n_channel_1=20\n",
        "n_channel_2=40\n",
        "n_dense=20\n",
        "n_train_epoch=15\n",
        "\n",
        "model=keras.models.Sequential()\n",
        "model.add(keras.layers.Conv2D(n_channel_1, (3,3), activation='relu', input_shape=(28,28,3)))\n",
        "model.add(keras.layers.MaxPool2D(2,2))\n",
        "model.add(keras.layers.Conv2D(n_channel_2, (3,3), activation='relu'))\n",
        "model.add(keras.layers.MaxPooling2D((2,2)))\n",
        "model.add(keras.layers.Flatten())\n",
        "model.add(keras.layers.Dense(n_dense, activation='relu'))\n",
        "model.add(keras.layers.Dense(3, activation='softmax'))\n",
        "\n",
        "model.summary()\n",
        "model.compile(optimizer='adam',\n",
        "             loss='sparse_categorical_crossentropy',\n",
        "             metrics=['accuracy'])\n",
        "\n",
        "# 모델 훈련\n",
        "model.fit(x_train_reshaped, y_train, epochs=n_train_epoch)\n",
        "\n",
        "# 모델 시험\n",
        "test_loss, test_accuracy = model.evaluate(x_test2_reshaped, y_test2, verbose=2)\n",
        "print(\"test_loss: {} \".format(test_loss))\n",
        "print(\"test_accuracy: {}\".format(test_accuracy))"
      ],
      "execution_count": null,
      "outputs": [
        {
          "output_type": "stream",
          "text": [
            "Model: \"sequential_12\"\n",
            "_________________________________________________________________\n",
            "Layer (type)                 Output Shape              Param #   \n",
            "=================================================================\n",
            "conv2d_24 (Conv2D)           (None, 26, 26, 20)        560       \n",
            "_________________________________________________________________\n",
            "max_pooling2d_24 (MaxPooling (None, 13, 13, 20)        0         \n",
            "_________________________________________________________________\n",
            "conv2d_25 (Conv2D)           (None, 11, 11, 40)        7240      \n",
            "_________________________________________________________________\n",
            "max_pooling2d_25 (MaxPooling (None, 5, 5, 40)          0         \n",
            "_________________________________________________________________\n",
            "flatten_12 (Flatten)         (None, 1000)              0         \n",
            "_________________________________________________________________\n",
            "dense_24 (Dense)             (None, 20)                20020     \n",
            "_________________________________________________________________\n",
            "dense_25 (Dense)             (None, 3)                 63        \n",
            "=================================================================\n",
            "Total params: 27,883\n",
            "Trainable params: 27,883\n",
            "Non-trainable params: 0\n",
            "_________________________________________________________________\n",
            "Epoch 1/15\n",
            "83/83 [==============================] - 2s 22ms/step - loss: 1.0809 - accuracy: 0.4013\n",
            "Epoch 2/15\n",
            "83/83 [==============================] - 2s 22ms/step - loss: 0.9477 - accuracy: 0.5565\n",
            "Epoch 3/15\n",
            "83/83 [==============================] - 2s 22ms/step - loss: 0.7300 - accuracy: 0.6843\n",
            "Epoch 4/15\n",
            "83/83 [==============================] - 2s 22ms/step - loss: 0.5842 - accuracy: 0.7645\n",
            "Epoch 5/15\n",
            "83/83 [==============================] - 2s 22ms/step - loss: 0.4504 - accuracy: 0.8300\n",
            "Epoch 6/15\n",
            "83/83 [==============================] - 2s 22ms/step - loss: 0.3776 - accuracy: 0.8653\n",
            "Epoch 7/15\n",
            "83/83 [==============================] - 2s 22ms/step - loss: 0.2952 - accuracy: 0.8927\n",
            "Epoch 8/15\n",
            "83/83 [==============================] - 2s 22ms/step - loss: 0.2571 - accuracy: 0.9144\n",
            "Epoch 9/15\n",
            "83/83 [==============================] - 2s 22ms/step - loss: 0.2073 - accuracy: 0.9293\n",
            "Epoch 10/15\n",
            "83/83 [==============================] - 2s 22ms/step - loss: 0.1724 - accuracy: 0.9456\n",
            "Epoch 11/15\n",
            "83/83 [==============================] - 2s 22ms/step - loss: 0.1540 - accuracy: 0.9498\n",
            "Epoch 12/15\n",
            "83/83 [==============================] - 2s 22ms/step - loss: 0.1176 - accuracy: 0.9661\n",
            "Epoch 13/15\n",
            "83/83 [==============================] - 2s 22ms/step - loss: 0.1033 - accuracy: 0.9715\n",
            "Epoch 14/15\n",
            "83/83 [==============================] - 2s 22ms/step - loss: 0.1174 - accuracy: 0.9608\n",
            "Epoch 15/15\n",
            "83/83 [==============================] - 2s 22ms/step - loss: 0.1059 - accuracy: 0.9608\n",
            "11/11 - 0s - loss: 2.7427 - accuracy: 0.6055\n",
            "test_loss: 2.7426722049713135 \n",
            "test_accuracy: 0.60550457239151\n"
          ],
          "name": "stdout"
        }
      ]
    }
  ]
}