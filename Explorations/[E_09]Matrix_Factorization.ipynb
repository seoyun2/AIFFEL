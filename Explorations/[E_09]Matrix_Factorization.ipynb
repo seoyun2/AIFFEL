{
  "nbformat": 4,
  "nbformat_minor": 0,
  "metadata": {
    "colab": {
      "name": "[E_09]Matrix_Factorization.ipynb",
      "provenance": [],
      "toc_visible": true
    },
    "kernelspec": {
      "name": "python3",
      "display_name": "Python 3"
    },
    "language_info": {
      "name": "python"
    },
    "widgets": {
      "application/vnd.jupyter.widget-state+json": {
        "3eaa48c639f5461a80073172e1d474d9": {
          "model_module": "@jupyter-widgets/controls",
          "model_name": "HBoxModel",
          "model_module_version": "1.5.0",
          "state": {
            "_view_name": "HBoxView",
            "_dom_classes": [],
            "_model_name": "HBoxModel",
            "_view_module": "@jupyter-widgets/controls",
            "_model_module_version": "1.5.0",
            "_view_count": null,
            "_view_module_version": "1.5.0",
            "box_style": "",
            "layout": "IPY_MODEL_6cd0bf9dd3e8491fb705acd9fd362510",
            "_model_module": "@jupyter-widgets/controls",
            "children": [
              "IPY_MODEL_40bb81f40059446397085949025c2630",
              "IPY_MODEL_86942c04765c4898a2338ee3fb341fd6",
              "IPY_MODEL_654c5a37d74e4d8bb37b968154db6bb6"
            ]
          }
        },
        "6cd0bf9dd3e8491fb705acd9fd362510": {
          "model_module": "@jupyter-widgets/base",
          "model_name": "LayoutModel",
          "model_module_version": "1.2.0",
          "state": {
            "_view_name": "LayoutView",
            "grid_template_rows": null,
            "right": null,
            "justify_content": null,
            "_view_module": "@jupyter-widgets/base",
            "overflow": null,
            "_model_module_version": "1.2.0",
            "_view_count": null,
            "flex_flow": null,
            "width": null,
            "min_width": null,
            "border": null,
            "align_items": null,
            "bottom": null,
            "_model_module": "@jupyter-widgets/base",
            "top": null,
            "grid_column": null,
            "overflow_y": null,
            "overflow_x": null,
            "grid_auto_flow": null,
            "grid_area": null,
            "grid_template_columns": null,
            "flex": null,
            "_model_name": "LayoutModel",
            "justify_items": null,
            "grid_row": null,
            "max_height": null,
            "align_content": null,
            "visibility": null,
            "align_self": null,
            "height": null,
            "min_height": null,
            "padding": null,
            "grid_auto_rows": null,
            "grid_gap": null,
            "max_width": null,
            "order": null,
            "_view_module_version": "1.2.0",
            "grid_template_areas": null,
            "object_position": null,
            "object_fit": null,
            "grid_auto_columns": null,
            "margin": null,
            "display": null,
            "left": null
          }
        },
        "40bb81f40059446397085949025c2630": {
          "model_module": "@jupyter-widgets/controls",
          "model_name": "HTMLModel",
          "model_module_version": "1.5.0",
          "state": {
            "_view_name": "HTMLView",
            "style": "IPY_MODEL_a49cae5c40c84bb093b93adf4c97b4b5",
            "_dom_classes": [],
            "description": "",
            "_model_name": "HTMLModel",
            "placeholder": "​",
            "_view_module": "@jupyter-widgets/controls",
            "_model_module_version": "1.5.0",
            "value": "100%",
            "_view_count": null,
            "_view_module_version": "1.5.0",
            "description_tooltip": null,
            "_model_module": "@jupyter-widgets/controls",
            "layout": "IPY_MODEL_a0edad89eb0447959545e950ac6a49bb"
          }
        },
        "86942c04765c4898a2338ee3fb341fd6": {
          "model_module": "@jupyter-widgets/controls",
          "model_name": "FloatProgressModel",
          "model_module_version": "1.5.0",
          "state": {
            "_view_name": "ProgressView",
            "style": "IPY_MODEL_b556b6da752a4cfb86bac2364aa7152a",
            "_dom_classes": [],
            "description": "",
            "_model_name": "FloatProgressModel",
            "bar_style": "success",
            "max": 30,
            "_view_module": "@jupyter-widgets/controls",
            "_model_module_version": "1.5.0",
            "value": 30,
            "_view_count": null,
            "_view_module_version": "1.5.0",
            "orientation": "horizontal",
            "min": 0,
            "description_tooltip": null,
            "_model_module": "@jupyter-widgets/controls",
            "layout": "IPY_MODEL_e28326104d5242a38b2b6b5bd2b7cc95"
          }
        },
        "654c5a37d74e4d8bb37b968154db6bb6": {
          "model_module": "@jupyter-widgets/controls",
          "model_name": "HTMLModel",
          "model_module_version": "1.5.0",
          "state": {
            "_view_name": "HTMLView",
            "style": "IPY_MODEL_a5a8a82945214b8bb17fc8f29467a3ec",
            "_dom_classes": [],
            "description": "",
            "_model_name": "HTMLModel",
            "placeholder": "​",
            "_view_module": "@jupyter-widgets/controls",
            "_model_module_version": "1.5.0",
            "value": " 30/30 [01:22&lt;00:00,  2.68s/it]",
            "_view_count": null,
            "_view_module_version": "1.5.0",
            "description_tooltip": null,
            "_model_module": "@jupyter-widgets/controls",
            "layout": "IPY_MODEL_b7938bb95d31440687becdf8f7a45902"
          }
        },
        "a49cae5c40c84bb093b93adf4c97b4b5": {
          "model_module": "@jupyter-widgets/controls",
          "model_name": "DescriptionStyleModel",
          "model_module_version": "1.5.0",
          "state": {
            "_view_name": "StyleView",
            "_model_name": "DescriptionStyleModel",
            "description_width": "",
            "_view_module": "@jupyter-widgets/base",
            "_model_module_version": "1.5.0",
            "_view_count": null,
            "_view_module_version": "1.2.0",
            "_model_module": "@jupyter-widgets/controls"
          }
        },
        "a0edad89eb0447959545e950ac6a49bb": {
          "model_module": "@jupyter-widgets/base",
          "model_name": "LayoutModel",
          "model_module_version": "1.2.0",
          "state": {
            "_view_name": "LayoutView",
            "grid_template_rows": null,
            "right": null,
            "justify_content": null,
            "_view_module": "@jupyter-widgets/base",
            "overflow": null,
            "_model_module_version": "1.2.0",
            "_view_count": null,
            "flex_flow": null,
            "width": null,
            "min_width": null,
            "border": null,
            "align_items": null,
            "bottom": null,
            "_model_module": "@jupyter-widgets/base",
            "top": null,
            "grid_column": null,
            "overflow_y": null,
            "overflow_x": null,
            "grid_auto_flow": null,
            "grid_area": null,
            "grid_template_columns": null,
            "flex": null,
            "_model_name": "LayoutModel",
            "justify_items": null,
            "grid_row": null,
            "max_height": null,
            "align_content": null,
            "visibility": null,
            "align_self": null,
            "height": null,
            "min_height": null,
            "padding": null,
            "grid_auto_rows": null,
            "grid_gap": null,
            "max_width": null,
            "order": null,
            "_view_module_version": "1.2.0",
            "grid_template_areas": null,
            "object_position": null,
            "object_fit": null,
            "grid_auto_columns": null,
            "margin": null,
            "display": null,
            "left": null
          }
        },
        "b556b6da752a4cfb86bac2364aa7152a": {
          "model_module": "@jupyter-widgets/controls",
          "model_name": "ProgressStyleModel",
          "model_module_version": "1.5.0",
          "state": {
            "_view_name": "StyleView",
            "_model_name": "ProgressStyleModel",
            "description_width": "",
            "_view_module": "@jupyter-widgets/base",
            "_model_module_version": "1.5.0",
            "_view_count": null,
            "_view_module_version": "1.2.0",
            "bar_color": null,
            "_model_module": "@jupyter-widgets/controls"
          }
        },
        "e28326104d5242a38b2b6b5bd2b7cc95": {
          "model_module": "@jupyter-widgets/base",
          "model_name": "LayoutModel",
          "model_module_version": "1.2.0",
          "state": {
            "_view_name": "LayoutView",
            "grid_template_rows": null,
            "right": null,
            "justify_content": null,
            "_view_module": "@jupyter-widgets/base",
            "overflow": null,
            "_model_module_version": "1.2.0",
            "_view_count": null,
            "flex_flow": null,
            "width": null,
            "min_width": null,
            "border": null,
            "align_items": null,
            "bottom": null,
            "_model_module": "@jupyter-widgets/base",
            "top": null,
            "grid_column": null,
            "overflow_y": null,
            "overflow_x": null,
            "grid_auto_flow": null,
            "grid_area": null,
            "grid_template_columns": null,
            "flex": null,
            "_model_name": "LayoutModel",
            "justify_items": null,
            "grid_row": null,
            "max_height": null,
            "align_content": null,
            "visibility": null,
            "align_self": null,
            "height": null,
            "min_height": null,
            "padding": null,
            "grid_auto_rows": null,
            "grid_gap": null,
            "max_width": null,
            "order": null,
            "_view_module_version": "1.2.0",
            "grid_template_areas": null,
            "object_position": null,
            "object_fit": null,
            "grid_auto_columns": null,
            "margin": null,
            "display": null,
            "left": null
          }
        },
        "a5a8a82945214b8bb17fc8f29467a3ec": {
          "model_module": "@jupyter-widgets/controls",
          "model_name": "DescriptionStyleModel",
          "model_module_version": "1.5.0",
          "state": {
            "_view_name": "StyleView",
            "_model_name": "DescriptionStyleModel",
            "description_width": "",
            "_view_module": "@jupyter-widgets/base",
            "_model_module_version": "1.5.0",
            "_view_count": null,
            "_view_module_version": "1.2.0",
            "_model_module": "@jupyter-widgets/controls"
          }
        },
        "b7938bb95d31440687becdf8f7a45902": {
          "model_module": "@jupyter-widgets/base",
          "model_name": "LayoutModel",
          "model_module_version": "1.2.0",
          "state": {
            "_view_name": "LayoutView",
            "grid_template_rows": null,
            "right": null,
            "justify_content": null,
            "_view_module": "@jupyter-widgets/base",
            "overflow": null,
            "_model_module_version": "1.2.0",
            "_view_count": null,
            "flex_flow": null,
            "width": null,
            "min_width": null,
            "border": null,
            "align_items": null,
            "bottom": null,
            "_model_module": "@jupyter-widgets/base",
            "top": null,
            "grid_column": null,
            "overflow_y": null,
            "overflow_x": null,
            "grid_auto_flow": null,
            "grid_area": null,
            "grid_template_columns": null,
            "flex": null,
            "_model_name": "LayoutModel",
            "justify_items": null,
            "grid_row": null,
            "max_height": null,
            "align_content": null,
            "visibility": null,
            "align_self": null,
            "height": null,
            "min_height": null,
            "padding": null,
            "grid_auto_rows": null,
            "grid_gap": null,
            "max_width": null,
            "order": null,
            "_view_module_version": "1.2.0",
            "grid_template_areas": null,
            "object_position": null,
            "object_fit": null,
            "grid_auto_columns": null,
            "margin": null,
            "display": null,
            "left": null
          }
        }
      }
    }
  },
  "cells": [
    {
      "cell_type": "markdown",
      "metadata": {
        "id": "lOgzMYpY3in8"
      },
      "source": [
        "# 데이터 준비와 전처리\n",
        "Movielens 데이터는 `rating.dat` 안에 이미 인덱싱까지 완료된 사용자-영화-평점 데이터가 깔끔하게 정리되어 있습니다."
      ]
    },
    {
      "cell_type": "markdown",
      "metadata": {
        "id": "Gw4cHHpmAjGp"
      },
      "source": [
        "## RATINGS\n",
        "\n",
        "* 3점 이상 영화만 남기기\n",
        "* `timestamp` 변수 제거 \n",
        "* `rating` 컬럼 이름 `count`로 변경"
      ]
    },
    {
      "cell_type": "code",
      "metadata": {
        "colab": {
          "base_uri": "https://localhost:8080/",
          "height": 202
        },
        "id": "j-jUGz391u_7",
        "outputId": "4208ac5e-5d31-45ab-e183-ea81ccc4346a"
      },
      "source": [
        "import os\n",
        "import pandas as pd\n",
        "\n",
        "rating_file_path='/content/drive/MyDrive/aiffel/recommendata_iu/data/ml-1m/ratings.dat'\n",
        "ratings_cols = ['user_id', 'movie_id', 'rating', 'timestamp']\n",
        "ratings = pd.read_csv(rating_file_path, sep='::', names=ratings_cols, engine='python', encoding = \"ISO-8859-1\")\n",
        "orginal_data_size = len(ratings)\n",
        "ratings.head()"
      ],
      "execution_count": 232,
      "outputs": [
        {
          "output_type": "execute_result",
          "data": {
            "text/html": [
              "<div>\n",
              "<style scoped>\n",
              "    .dataframe tbody tr th:only-of-type {\n",
              "        vertical-align: middle;\n",
              "    }\n",
              "\n",
              "    .dataframe tbody tr th {\n",
              "        vertical-align: top;\n",
              "    }\n",
              "\n",
              "    .dataframe thead th {\n",
              "        text-align: right;\n",
              "    }\n",
              "</style>\n",
              "<table border=\"1\" class=\"dataframe\">\n",
              "  <thead>\n",
              "    <tr style=\"text-align: right;\">\n",
              "      <th></th>\n",
              "      <th>user_id</th>\n",
              "      <th>movie_id</th>\n",
              "      <th>rating</th>\n",
              "      <th>timestamp</th>\n",
              "    </tr>\n",
              "  </thead>\n",
              "  <tbody>\n",
              "    <tr>\n",
              "      <th>0</th>\n",
              "      <td>1</td>\n",
              "      <td>1193</td>\n",
              "      <td>5</td>\n",
              "      <td>978300760</td>\n",
              "    </tr>\n",
              "    <tr>\n",
              "      <th>1</th>\n",
              "      <td>1</td>\n",
              "      <td>661</td>\n",
              "      <td>3</td>\n",
              "      <td>978302109</td>\n",
              "    </tr>\n",
              "    <tr>\n",
              "      <th>2</th>\n",
              "      <td>1</td>\n",
              "      <td>914</td>\n",
              "      <td>3</td>\n",
              "      <td>978301968</td>\n",
              "    </tr>\n",
              "    <tr>\n",
              "      <th>3</th>\n",
              "      <td>1</td>\n",
              "      <td>3408</td>\n",
              "      <td>4</td>\n",
              "      <td>978300275</td>\n",
              "    </tr>\n",
              "    <tr>\n",
              "      <th>4</th>\n",
              "      <td>1</td>\n",
              "      <td>2355</td>\n",
              "      <td>5</td>\n",
              "      <td>978824291</td>\n",
              "    </tr>\n",
              "  </tbody>\n",
              "</table>\n",
              "</div>"
            ],
            "text/plain": [
              "   user_id  movie_id  rating  timestamp\n",
              "0        1      1193       5  978300760\n",
              "1        1       661       3  978302109\n",
              "2        1       914       3  978301968\n",
              "3        1      3408       4  978300275\n",
              "4        1      2355       5  978824291"
            ]
          },
          "metadata": {},
          "execution_count": 232
        }
      ]
    },
    {
      "cell_type": "code",
      "metadata": {
        "colab": {
          "base_uri": "https://localhost:8080/"
        },
        "id": "lWxZp7IM2KWy",
        "outputId": "a18944d3-c9b9-45ac-8177-61f72f82e812"
      },
      "source": [
        "# 3점 이상 영화만 남기기\n",
        "ratings = ratings[ratings['rating']>=3]\n",
        "filtered_data_size = len(ratings)\n",
        "\n",
        "print(f'orginal_data_size: {orginal_data_size}, filtered_data_size: {filtered_data_size}')\n",
        "print(f'Ratio of Remaining Data is {filtered_data_size / orginal_data_size:.2%}')"
      ],
      "execution_count": 233,
      "outputs": [
        {
          "output_type": "stream",
          "text": [
            "orginal_data_size: 1000209, filtered_data_size: 836478\n",
            "Ratio of Remaining Data is 83.63%\n"
          ],
          "name": "stdout"
        }
      ]
    },
    {
      "cell_type": "code",
      "metadata": {
        "colab": {
          "base_uri": "https://localhost:8080/",
          "height": 78
        },
        "id": "-CiESlGI_Tak",
        "outputId": "42242694-fccc-4511-b687-95793465358e"
      },
      "source": [
        "# timestamp 변수 제거\n",
        "ratings = ratings.drop(['timestamp'], axis=1)\n",
        "ratings.head(1)"
      ],
      "execution_count": 234,
      "outputs": [
        {
          "output_type": "execute_result",
          "data": {
            "text/html": [
              "<div>\n",
              "<style scoped>\n",
              "    .dataframe tbody tr th:only-of-type {\n",
              "        vertical-align: middle;\n",
              "    }\n",
              "\n",
              "    .dataframe tbody tr th {\n",
              "        vertical-align: top;\n",
              "    }\n",
              "\n",
              "    .dataframe thead th {\n",
              "        text-align: right;\n",
              "    }\n",
              "</style>\n",
              "<table border=\"1\" class=\"dataframe\">\n",
              "  <thead>\n",
              "    <tr style=\"text-align: right;\">\n",
              "      <th></th>\n",
              "      <th>user_id</th>\n",
              "      <th>movie_id</th>\n",
              "      <th>rating</th>\n",
              "    </tr>\n",
              "  </thead>\n",
              "  <tbody>\n",
              "    <tr>\n",
              "      <th>0</th>\n",
              "      <td>1</td>\n",
              "      <td>1193</td>\n",
              "      <td>5</td>\n",
              "    </tr>\n",
              "  </tbody>\n",
              "</table>\n",
              "</div>"
            ],
            "text/plain": [
              "   user_id  movie_id  rating\n",
              "0        1      1193       5"
            ]
          },
          "metadata": {},
          "execution_count": 234
        }
      ]
    },
    {
      "cell_type": "code",
      "metadata": {
        "colab": {
          "base_uri": "https://localhost:8080/",
          "height": 78
        },
        "id": "RCkQr-7S2LIx",
        "outputId": "71d4d0c1-875f-43a9-f4a1-1a9477bb57c1"
      },
      "source": [
        "#rating 컬럼 이름 count로 변경\n",
        "ratings.rename(columns={'rating':'count'}, inplace=True)\n",
        "ratings.head(1)"
      ],
      "execution_count": 235,
      "outputs": [
        {
          "output_type": "execute_result",
          "data": {
            "text/html": [
              "<div>\n",
              "<style scoped>\n",
              "    .dataframe tbody tr th:only-of-type {\n",
              "        vertical-align: middle;\n",
              "    }\n",
              "\n",
              "    .dataframe tbody tr th {\n",
              "        vertical-align: top;\n",
              "    }\n",
              "\n",
              "    .dataframe thead th {\n",
              "        text-align: right;\n",
              "    }\n",
              "</style>\n",
              "<table border=\"1\" class=\"dataframe\">\n",
              "  <thead>\n",
              "    <tr style=\"text-align: right;\">\n",
              "      <th></th>\n",
              "      <th>user_id</th>\n",
              "      <th>movie_id</th>\n",
              "      <th>count</th>\n",
              "    </tr>\n",
              "  </thead>\n",
              "  <tbody>\n",
              "    <tr>\n",
              "      <th>0</th>\n",
              "      <td>1</td>\n",
              "      <td>1193</td>\n",
              "      <td>5</td>\n",
              "    </tr>\n",
              "  </tbody>\n",
              "</table>\n",
              "</div>"
            ],
            "text/plain": [
              "   user_id  movie_id  count\n",
              "0        1      1193      5"
            ]
          },
          "metadata": {},
          "execution_count": 235
        }
      ]
    },
    {
      "cell_type": "markdown",
      "metadata": {
        "id": "lptD9wIhAr7D"
      },
      "source": [
        "## MOVIES\n",
        "* `title` 컬럼 소문자로 변경\n",
        "* `genre` 컬럼 소문자로 변경한 뒤, 특수문자 띄어쓰기로 대체"
      ]
    },
    {
      "cell_type": "code",
      "metadata": {
        "colab": {
          "base_uri": "https://localhost:8080/",
          "height": 202
        },
        "id": "T2qilQkn2N3n",
        "outputId": "48a3ef07-917d-4f1c-b32a-0099f45ea89c"
      },
      "source": [
        "movie_file_path='/content/drive/MyDrive/aiffel/recommendata_iu/data/ml-1m/movies.dat'\n",
        "cols = ['movie_id', 'title', 'genre'] \n",
        "movies = pd.read_csv(movie_file_path, sep='::', names=cols, engine='python', encoding='ISO-8859-1')\n",
        "movies.head()"
      ],
      "execution_count": 236,
      "outputs": [
        {
          "output_type": "execute_result",
          "data": {
            "text/html": [
              "<div>\n",
              "<style scoped>\n",
              "    .dataframe tbody tr th:only-of-type {\n",
              "        vertical-align: middle;\n",
              "    }\n",
              "\n",
              "    .dataframe tbody tr th {\n",
              "        vertical-align: top;\n",
              "    }\n",
              "\n",
              "    .dataframe thead th {\n",
              "        text-align: right;\n",
              "    }\n",
              "</style>\n",
              "<table border=\"1\" class=\"dataframe\">\n",
              "  <thead>\n",
              "    <tr style=\"text-align: right;\">\n",
              "      <th></th>\n",
              "      <th>movie_id</th>\n",
              "      <th>title</th>\n",
              "      <th>genre</th>\n",
              "    </tr>\n",
              "  </thead>\n",
              "  <tbody>\n",
              "    <tr>\n",
              "      <th>0</th>\n",
              "      <td>1</td>\n",
              "      <td>Toy Story (1995)</td>\n",
              "      <td>Animation|Children's|Comedy</td>\n",
              "    </tr>\n",
              "    <tr>\n",
              "      <th>1</th>\n",
              "      <td>2</td>\n",
              "      <td>Jumanji (1995)</td>\n",
              "      <td>Adventure|Children's|Fantasy</td>\n",
              "    </tr>\n",
              "    <tr>\n",
              "      <th>2</th>\n",
              "      <td>3</td>\n",
              "      <td>Grumpier Old Men (1995)</td>\n",
              "      <td>Comedy|Romance</td>\n",
              "    </tr>\n",
              "    <tr>\n",
              "      <th>3</th>\n",
              "      <td>4</td>\n",
              "      <td>Waiting to Exhale (1995)</td>\n",
              "      <td>Comedy|Drama</td>\n",
              "    </tr>\n",
              "    <tr>\n",
              "      <th>4</th>\n",
              "      <td>5</td>\n",
              "      <td>Father of the Bride Part II (1995)</td>\n",
              "      <td>Comedy</td>\n",
              "    </tr>\n",
              "  </tbody>\n",
              "</table>\n",
              "</div>"
            ],
            "text/plain": [
              "   movie_id                               title                         genre\n",
              "0         1                    Toy Story (1995)   Animation|Children's|Comedy\n",
              "1         2                      Jumanji (1995)  Adventure|Children's|Fantasy\n",
              "2         3             Grumpier Old Men (1995)                Comedy|Romance\n",
              "3         4            Waiting to Exhale (1995)                  Comedy|Drama\n",
              "4         5  Father of the Bride Part II (1995)                        Comedy"
            ]
          },
          "metadata": {},
          "execution_count": 236
        }
      ]
    },
    {
      "cell_type": "code",
      "metadata": {
        "colab": {
          "base_uri": "https://localhost:8080/",
          "height": 355
        },
        "id": "avK2TJyTJnZt",
        "outputId": "9e1a75f2-d5ad-4ef2-9110-3800c2df4545"
      },
      "source": [
        "# title 컬럼 소문자로 변경\n",
        "movies['title'] = movies['title'].str.lower() \n",
        "movies.head(10)"
      ],
      "execution_count": 237,
      "outputs": [
        {
          "output_type": "execute_result",
          "data": {
            "text/html": [
              "<div>\n",
              "<style scoped>\n",
              "    .dataframe tbody tr th:only-of-type {\n",
              "        vertical-align: middle;\n",
              "    }\n",
              "\n",
              "    .dataframe tbody tr th {\n",
              "        vertical-align: top;\n",
              "    }\n",
              "\n",
              "    .dataframe thead th {\n",
              "        text-align: right;\n",
              "    }\n",
              "</style>\n",
              "<table border=\"1\" class=\"dataframe\">\n",
              "  <thead>\n",
              "    <tr style=\"text-align: right;\">\n",
              "      <th></th>\n",
              "      <th>movie_id</th>\n",
              "      <th>title</th>\n",
              "      <th>genre</th>\n",
              "    </tr>\n",
              "  </thead>\n",
              "  <tbody>\n",
              "    <tr>\n",
              "      <th>0</th>\n",
              "      <td>1</td>\n",
              "      <td>toy story (1995)</td>\n",
              "      <td>Animation|Children's|Comedy</td>\n",
              "    </tr>\n",
              "    <tr>\n",
              "      <th>1</th>\n",
              "      <td>2</td>\n",
              "      <td>jumanji (1995)</td>\n",
              "      <td>Adventure|Children's|Fantasy</td>\n",
              "    </tr>\n",
              "    <tr>\n",
              "      <th>2</th>\n",
              "      <td>3</td>\n",
              "      <td>grumpier old men (1995)</td>\n",
              "      <td>Comedy|Romance</td>\n",
              "    </tr>\n",
              "    <tr>\n",
              "      <th>3</th>\n",
              "      <td>4</td>\n",
              "      <td>waiting to exhale (1995)</td>\n",
              "      <td>Comedy|Drama</td>\n",
              "    </tr>\n",
              "    <tr>\n",
              "      <th>4</th>\n",
              "      <td>5</td>\n",
              "      <td>father of the bride part ii (1995)</td>\n",
              "      <td>Comedy</td>\n",
              "    </tr>\n",
              "    <tr>\n",
              "      <th>5</th>\n",
              "      <td>6</td>\n",
              "      <td>heat (1995)</td>\n",
              "      <td>Action|Crime|Thriller</td>\n",
              "    </tr>\n",
              "    <tr>\n",
              "      <th>6</th>\n",
              "      <td>7</td>\n",
              "      <td>sabrina (1995)</td>\n",
              "      <td>Comedy|Romance</td>\n",
              "    </tr>\n",
              "    <tr>\n",
              "      <th>7</th>\n",
              "      <td>8</td>\n",
              "      <td>tom and huck (1995)</td>\n",
              "      <td>Adventure|Children's</td>\n",
              "    </tr>\n",
              "    <tr>\n",
              "      <th>8</th>\n",
              "      <td>9</td>\n",
              "      <td>sudden death (1995)</td>\n",
              "      <td>Action</td>\n",
              "    </tr>\n",
              "    <tr>\n",
              "      <th>9</th>\n",
              "      <td>10</td>\n",
              "      <td>goldeneye (1995)</td>\n",
              "      <td>Action|Adventure|Thriller</td>\n",
              "    </tr>\n",
              "  </tbody>\n",
              "</table>\n",
              "</div>"
            ],
            "text/plain": [
              "   movie_id                               title                         genre\n",
              "0         1                    toy story (1995)   Animation|Children's|Comedy\n",
              "1         2                      jumanji (1995)  Adventure|Children's|Fantasy\n",
              "2         3             grumpier old men (1995)                Comedy|Romance\n",
              "3         4            waiting to exhale (1995)                  Comedy|Drama\n",
              "4         5  father of the bride part ii (1995)                        Comedy\n",
              "5         6                         heat (1995)         Action|Crime|Thriller\n",
              "6         7                      sabrina (1995)                Comedy|Romance\n",
              "7         8                 tom and huck (1995)          Adventure|Children's\n",
              "8         9                 sudden death (1995)                        Action\n",
              "9        10                    goldeneye (1995)     Action|Adventure|Thriller"
            ]
          },
          "metadata": {},
          "execution_count": 237
        }
      ]
    },
    {
      "cell_type": "code",
      "metadata": {
        "colab": {
          "base_uri": "https://localhost:8080/",
          "height": 78
        },
        "id": "3iVy_tcP_7iL",
        "outputId": "df40f261-b432-4f95-dce3-d23e6e76196a"
      },
      "source": [
        "# `genre` 컬럼 소문자로 변경한 뒤, 특수문자 띄어쓰기로 대체\n",
        "movies['genre'] = movies['genre'].str.lower() \n",
        "movies_df = pd.DataFrame(movies)\n",
        "movies_df[\"genre\"] = movies_df[\"genre\"].str.replace(pat=r'|', repl=r' ', regex=True)\n",
        "\n",
        "movies['genre'] = movies_df['genre']\n",
        "movies.head(1)"
      ],
      "execution_count": 238,
      "outputs": [
        {
          "output_type": "execute_result",
          "data": {
            "text/html": [
              "<div>\n",
              "<style scoped>\n",
              "    .dataframe tbody tr th:only-of-type {\n",
              "        vertical-align: middle;\n",
              "    }\n",
              "\n",
              "    .dataframe tbody tr th {\n",
              "        vertical-align: top;\n",
              "    }\n",
              "\n",
              "    .dataframe thead th {\n",
              "        text-align: right;\n",
              "    }\n",
              "</style>\n",
              "<table border=\"1\" class=\"dataframe\">\n",
              "  <thead>\n",
              "    <tr style=\"text-align: right;\">\n",
              "      <th></th>\n",
              "      <th>movie_id</th>\n",
              "      <th>title</th>\n",
              "      <th>genre</th>\n",
              "    </tr>\n",
              "  </thead>\n",
              "  <tbody>\n",
              "    <tr>\n",
              "      <th>0</th>\n",
              "      <td>1</td>\n",
              "      <td>toy story (1995)</td>\n",
              "      <td>animation children's comedy</td>\n",
              "    </tr>\n",
              "  </tbody>\n",
              "</table>\n",
              "</div>"
            ],
            "text/plain": [
              "   movie_id             title                        genre\n",
              "0         1  toy story (1995)  animation children's comedy"
            ]
          },
          "metadata": {},
          "execution_count": 238
        }
      ]
    },
    {
      "cell_type": "markdown",
      "metadata": {
        "id": "JKLDENj7Jtx9"
      },
      "source": [
        "## MOVIE_RATING"
      ]
    },
    {
      "cell_type": "code",
      "metadata": {
        "colab": {
          "base_uri": "https://localhost:8080/",
          "height": 252
        },
        "id": "uaCT3KMP3H0U",
        "outputId": "cec05e99-7827-4cb4-f332-4b8929b96c31"
      },
      "source": [
        "movie_rating = pd.merge(ratings, movies, how='left', on='movie_id')\n",
        "movie_rating.head()"
      ],
      "execution_count": 239,
      "outputs": [
        {
          "output_type": "execute_result",
          "data": {
            "text/html": [
              "<div>\n",
              "<style scoped>\n",
              "    .dataframe tbody tr th:only-of-type {\n",
              "        vertical-align: middle;\n",
              "    }\n",
              "\n",
              "    .dataframe tbody tr th {\n",
              "        vertical-align: top;\n",
              "    }\n",
              "\n",
              "    .dataframe thead th {\n",
              "        text-align: right;\n",
              "    }\n",
              "</style>\n",
              "<table border=\"1\" class=\"dataframe\">\n",
              "  <thead>\n",
              "    <tr style=\"text-align: right;\">\n",
              "      <th></th>\n",
              "      <th>user_id</th>\n",
              "      <th>movie_id</th>\n",
              "      <th>count</th>\n",
              "      <th>title</th>\n",
              "      <th>genre</th>\n",
              "    </tr>\n",
              "  </thead>\n",
              "  <tbody>\n",
              "    <tr>\n",
              "      <th>0</th>\n",
              "      <td>1</td>\n",
              "      <td>1193</td>\n",
              "      <td>5</td>\n",
              "      <td>one flew over the cuckoo's nest (1975)</td>\n",
              "      <td>drama</td>\n",
              "    </tr>\n",
              "    <tr>\n",
              "      <th>1</th>\n",
              "      <td>1</td>\n",
              "      <td>661</td>\n",
              "      <td>3</td>\n",
              "      <td>james and the giant peach (1996)</td>\n",
              "      <td>animation children's musical</td>\n",
              "    </tr>\n",
              "    <tr>\n",
              "      <th>2</th>\n",
              "      <td>1</td>\n",
              "      <td>914</td>\n",
              "      <td>3</td>\n",
              "      <td>my fair lady (1964)</td>\n",
              "      <td>musical romance</td>\n",
              "    </tr>\n",
              "    <tr>\n",
              "      <th>3</th>\n",
              "      <td>1</td>\n",
              "      <td>3408</td>\n",
              "      <td>4</td>\n",
              "      <td>erin brockovich (2000)</td>\n",
              "      <td>drama</td>\n",
              "    </tr>\n",
              "    <tr>\n",
              "      <th>4</th>\n",
              "      <td>1</td>\n",
              "      <td>2355</td>\n",
              "      <td>5</td>\n",
              "      <td>bug's life, a (1998)</td>\n",
              "      <td>animation children's comedy</td>\n",
              "    </tr>\n",
              "  </tbody>\n",
              "</table>\n",
              "</div>"
            ],
            "text/plain": [
              "   user_id  ...                         genre\n",
              "0        1  ...                         drama\n",
              "1        1  ...  animation children's musical\n",
              "2        1  ...               musical romance\n",
              "3        1  ...                         drama\n",
              "4        1  ...   animation children's comedy\n",
              "\n",
              "[5 rows x 5 columns]"
            ]
          },
          "metadata": {},
          "execution_count": 239
        }
      ]
    },
    {
      "cell_type": "markdown",
      "metadata": {
        "id": "nA7Q7EGJ3iCx"
      },
      "source": [
        "# 데이터 분석\n",
        "* ratings에 있는 유니크한 영화 개수\n",
        "* rating에 있는 유니크한 사용자 수\n",
        "* 가장 인기 있는 영화 30개(인기순)"
      ]
    },
    {
      "cell_type": "code",
      "metadata": {
        "colab": {
          "base_uri": "https://localhost:8080/"
        },
        "id": "6T_9i23D300y",
        "outputId": "e1eb7387-a0d3-4369-a690-9dc063bb77c2"
      },
      "source": [
        "# ratings에 있는 유니크한 영화 개수\n",
        "print('unique movies in ratings :', ratings['movie_id'].nunique())\n",
        "print('unique movies in movie_rating :',movie_rating['movie_id'].nunique())"
      ],
      "execution_count": 240,
      "outputs": [
        {
          "output_type": "stream",
          "text": [
            "unique movies in ratings : 3628\n",
            "unique movies in movie_rating : 3628\n"
          ],
          "name": "stdout"
        }
      ]
    },
    {
      "cell_type": "code",
      "metadata": {
        "colab": {
          "base_uri": "https://localhost:8080/"
        },
        "id": "oFf9DDFd324D",
        "outputId": "bdf9ee99-bbef-4a6d-8676-4acd7840db4a"
      },
      "source": [
        "# rating에 있는 유니크한 사용자 수\n",
        "print('unique movies in ratings :', ratings['user_id'].nunique())\n",
        "print('unique movies in movie_rating :',movie_rating['user_id'].nunique())"
      ],
      "execution_count": 241,
      "outputs": [
        {
          "output_type": "stream",
          "text": [
            "unique movies in ratings : 6039\n",
            "unique movies in movie_rating : 6039\n"
          ],
          "name": "stdout"
        }
      ]
    },
    {
      "cell_type": "code",
      "metadata": {
        "colab": {
          "base_uri": "https://localhost:8080/"
        },
        "id": "yqXiSV2y4GpW",
        "outputId": "8bcb07cd-1fb4-419a-c7f1-d6cb97fbdbed"
      },
      "source": [
        "# 가장 인기 있는 영화 30개(인기순)\n",
        "movie_count = movie_rating.groupby('title')['user_id'].count()\n",
        "movie_count.sort_values(ascending=False).head(30)"
      ],
      "execution_count": 242,
      "outputs": [
        {
          "output_type": "execute_result",
          "data": {
            "text/plain": [
              "title\n",
              "american beauty (1999)                                   3211\n",
              "star wars: episode iv - a new hope (1977)                2910\n",
              "star wars: episode v - the empire strikes back (1980)    2885\n",
              "star wars: episode vi - return of the jedi (1983)        2716\n",
              "saving private ryan (1998)                               2561\n",
              "terminator 2: judgment day (1991)                        2509\n",
              "silence of the lambs, the (1991)                         2498\n",
              "raiders of the lost ark (1981)                           2473\n",
              "back to the future (1985)                                2460\n",
              "matrix, the (1999)                                       2434\n",
              "jurassic park (1993)                                     2413\n",
              "sixth sense, the (1999)                                  2385\n",
              "fargo (1996)                                             2371\n",
              "braveheart (1995)                                        2314\n",
              "men in black (1997)                                      2297\n",
              "schindler's list (1993)                                  2257\n",
              "princess bride, the (1987)                               2252\n",
              "shakespeare in love (1998)                               2213\n",
              "l.a. confidential (1997)                                 2210\n",
              "shawshank redemption, the (1994)                         2194\n",
              "godfather, the (1972)                                    2167\n",
              "groundhog day (1993)                                     2121\n",
              "e.t. the extra-terrestrial (1982)                        2102\n",
              "being john malkovich (1999)                              2066\n",
              "ghostbusters (1984)                                      2051\n",
              "pulp fiction (1994)                                      2030\n",
              "forrest gump (1994)                                      2022\n",
              "terminator, the (1984)                                   2019\n",
              "toy story (1995)                                         2000\n",
              "fugitive, the (1993)                                     1941\n",
              "Name: user_id, dtype: int64"
            ]
          },
          "metadata": {},
          "execution_count": 242
        }
      ]
    },
    {
      "cell_type": "markdown",
      "metadata": {
        "id": "Zds9pUrx4o2h"
      },
      "source": [
        "## 내가 선호하는 영화를 5가지 골라서 rating에 추가"
      ]
    },
    {
      "cell_type": "code",
      "metadata": {
        "colab": {
          "base_uri": "https://localhost:8080/",
          "height": 78
        },
        "id": "9DWZ2lO9_EiB",
        "outputId": "25cd0e2b-1392-463c-d347-61212f3d1a15"
      },
      "source": [
        "# 선호하는 영화 정보 찾기 \n",
        "movie_rating[movie_rating['title'].str.contains('gone with the wind')].head(1)"
      ],
      "execution_count": 243,
      "outputs": [
        {
          "output_type": "execute_result",
          "data": {
            "text/html": [
              "<div>\n",
              "<style scoped>\n",
              "    .dataframe tbody tr th:only-of-type {\n",
              "        vertical-align: middle;\n",
              "    }\n",
              "\n",
              "    .dataframe tbody tr th {\n",
              "        vertical-align: top;\n",
              "    }\n",
              "\n",
              "    .dataframe thead th {\n",
              "        text-align: right;\n",
              "    }\n",
              "</style>\n",
              "<table border=\"1\" class=\"dataframe\">\n",
              "  <thead>\n",
              "    <tr style=\"text-align: right;\">\n",
              "      <th></th>\n",
              "      <th>user_id</th>\n",
              "      <th>movie_id</th>\n",
              "      <th>count</th>\n",
              "      <th>title</th>\n",
              "      <th>genre</th>\n",
              "    </tr>\n",
              "  </thead>\n",
              "  <tbody>\n",
              "    <tr>\n",
              "      <th>147</th>\n",
              "      <td>2</td>\n",
              "      <td>920</td>\n",
              "      <td>5</td>\n",
              "      <td>gone with the wind (1939)</td>\n",
              "      <td>drama romance war</td>\n",
              "    </tr>\n",
              "  </tbody>\n",
              "</table>\n",
              "</div>"
            ],
            "text/plain": [
              "     user_id  movie_id  count                      title              genre\n",
              "147        2       920      5  gone with the wind (1939)  drama romance war"
            ]
          },
          "metadata": {},
          "execution_count": 243
        }
      ]
    },
    {
      "cell_type": "markdown",
      "metadata": {
        "id": "aumVoA42K_Xk"
      },
      "source": [
        "내가 찾은 선호하는 영화들의 정보 <br>\n",
        "> 920 / gone with the wind(1939) / drama romance war\t<br>\n",
        "919 / wizard of oz, the (1939)/ adventure children's drama musical <br>\n",
        "910 / some like it hot (1959) / comedy crime\t <br>\n",
        "1035 / sound of music, the (1965) /musical <br>\n",
        "590 / dances with wolves (1990) / adventure drama western"
      ]
    },
    {
      "cell_type": "code",
      "metadata": {
        "colab": {
          "base_uri": "https://localhost:8080/",
          "height": 202
        },
        "id": "kiLzFUH1LxFt",
        "outputId": "2430050a-4a3d-4a40-a7c4-dd44216d111b"
      },
      "source": [
        "my_favorite_movie_title = ['gone with the wind (1939)',\n",
        "                     'wizard of oz, the (1939)',\n",
        "                     'some like it hot (1959)',\n",
        "                     'sound of music, the (1965)',\n",
        "                     'dances with wolves (1990)']\n",
        "\n",
        "my_favorite_movie_id = [920, 919, 910, 1035, 590]\n",
        "\n",
        "my_favorite_movie_genre = ['drama romance war',\n",
        "                           'adventure children\\'s drama musical',\n",
        "                           'comedy crime',\n",
        "                           'musical',\n",
        "                           'adventure drama western']\n",
        "\n",
        "my_movie_rating = pd.DataFrame({'user_id':['seoyun']*5, 'movie_id':my_favorite_movie_id,\n",
        "                                'count':[5]*5,\n",
        "                                'title':my_favorite_movie_title,\n",
        "                                'genre':my_favorite_movie_genre})\n",
        "\n",
        "if not movie_rating.isin({'user_id':['seoyun']})['user_id'].any():  # user_id에 'zimin'이라는 데이터가 없다면\n",
        "    movie_rating = movie_rating.append(my_movie_rating)  \n",
        "\n",
        "movie_rating[movie_rating['user_id'] == 'seoyun']"
      ],
      "execution_count": 244,
      "outputs": [
        {
          "output_type": "execute_result",
          "data": {
            "text/html": [
              "<div>\n",
              "<style scoped>\n",
              "    .dataframe tbody tr th:only-of-type {\n",
              "        vertical-align: middle;\n",
              "    }\n",
              "\n",
              "    .dataframe tbody tr th {\n",
              "        vertical-align: top;\n",
              "    }\n",
              "\n",
              "    .dataframe thead th {\n",
              "        text-align: right;\n",
              "    }\n",
              "</style>\n",
              "<table border=\"1\" class=\"dataframe\">\n",
              "  <thead>\n",
              "    <tr style=\"text-align: right;\">\n",
              "      <th></th>\n",
              "      <th>user_id</th>\n",
              "      <th>movie_id</th>\n",
              "      <th>count</th>\n",
              "      <th>title</th>\n",
              "      <th>genre</th>\n",
              "    </tr>\n",
              "  </thead>\n",
              "  <tbody>\n",
              "    <tr>\n",
              "      <th>0</th>\n",
              "      <td>seoyun</td>\n",
              "      <td>920</td>\n",
              "      <td>5</td>\n",
              "      <td>gone with the wind (1939)</td>\n",
              "      <td>drama romance war</td>\n",
              "    </tr>\n",
              "    <tr>\n",
              "      <th>1</th>\n",
              "      <td>seoyun</td>\n",
              "      <td>919</td>\n",
              "      <td>5</td>\n",
              "      <td>wizard of oz, the (1939)</td>\n",
              "      <td>adventure children's drama musical</td>\n",
              "    </tr>\n",
              "    <tr>\n",
              "      <th>2</th>\n",
              "      <td>seoyun</td>\n",
              "      <td>910</td>\n",
              "      <td>5</td>\n",
              "      <td>some like it hot (1959)</td>\n",
              "      <td>comedy crime</td>\n",
              "    </tr>\n",
              "    <tr>\n",
              "      <th>3</th>\n",
              "      <td>seoyun</td>\n",
              "      <td>1035</td>\n",
              "      <td>5</td>\n",
              "      <td>sound of music, the (1965)</td>\n",
              "      <td>musical</td>\n",
              "    </tr>\n",
              "    <tr>\n",
              "      <th>4</th>\n",
              "      <td>seoyun</td>\n",
              "      <td>590</td>\n",
              "      <td>5</td>\n",
              "      <td>dances with wolves (1990)</td>\n",
              "      <td>adventure drama western</td>\n",
              "    </tr>\n",
              "  </tbody>\n",
              "</table>\n",
              "</div>"
            ],
            "text/plain": [
              "  user_id  ...                               genre\n",
              "0  seoyun  ...                   drama romance war\n",
              "1  seoyun  ...  adventure children's drama musical\n",
              "2  seoyun  ...                        comedy crime\n",
              "3  seoyun  ...                             musical\n",
              "4  seoyun  ...             adventure drama western\n",
              "\n",
              "[5 rows x 5 columns]"
            ]
          },
          "metadata": {},
          "execution_count": 244
        }
      ]
    },
    {
      "cell_type": "code",
      "metadata": {
        "id": "zwei9ff9iyPj"
      },
      "source": [
        ""
      ],
      "execution_count": null,
      "outputs": []
    },
    {
      "cell_type": "markdown",
      "metadata": {
        "id": "c47wWM9iOqfx"
      },
      "source": [
        "## 데이터 분석을 위한 전처리 "
      ]
    },
    {
      "cell_type": "code",
      "metadata": {
        "id": "E-1ME4R3Oqz9"
      },
      "source": [
        "# 고유한 유저, 영화를 찾아내는 코드\n",
        "user_unique = movie_rating['user_id'].unique()\n",
        "title_unique = movie_rating['title'].unique()\n",
        "\n",
        "user_to_idx = {v:k for k,v in enumerate(user_unique)}\n",
        "title_to_idx = {v:k for k,v in enumerate(title_unique)}"
      ],
      "execution_count": 245,
      "outputs": []
    },
    {
      "cell_type": "code",
      "metadata": {
        "colab": {
          "base_uri": "https://localhost:8080/"
        },
        "id": "ZTgN1zwvOz0V",
        "outputId": "f98b8bb5-9e53-424e-959a-95094b5cac83"
      },
      "source": [
        "# 인덱싱이 잘 되었는지 확인해 봅니다. \n",
        "print(user_to_idx['seoyun'])    # 358869명의 유저 중 마지막으로 추가된 유저이니 358868이 나와야 합니다. \n",
        "print(title_to_idx['gone with the wind (1939)'])"
      ],
      "execution_count": 246,
      "outputs": [
        {
          "output_type": "stream",
          "text": [
            "6039\n",
            "143\n"
          ],
          "name": "stdout"
        }
      ]
    },
    {
      "cell_type": "code",
      "metadata": {
        "colab": {
          "base_uri": "https://localhost:8080/",
          "height": 447
        },
        "id": "dime8IhoO651",
        "outputId": "4e85252e-264c-4ae1-8da6-9dba6ceac3fa"
      },
      "source": [
        "temp_user_data = movie_rating['user_id'].map(user_to_idx.get).dropna()\n",
        "if len(temp_user_data) == len(movie_rating):\n",
        "    print(\"user_id column indexing OK!!\")\n",
        "    movie_rating['user_id'] = temp_user_data \n",
        "else:\n",
        "    print(\"user_id column indexing Fail!!\")\n",
        "\n",
        "temp_title_data = movie_rating['title'].map(title_to_idx.get).dropna()\n",
        "if len(temp_title_data) == len(movie_rating):\n",
        "    print(\"title column indexing OK!!\")\n",
        "    movie_rating['title'] = temp_title_data\n",
        "else:\n",
        "    print(\"title column indexing Fail!!\")\n",
        "\n",
        "movie_rating"
      ],
      "execution_count": 247,
      "outputs": [
        {
          "output_type": "stream",
          "text": [
            "user_id column indexing OK!!\n",
            "title column indexing OK!!\n"
          ],
          "name": "stdout"
        },
        {
          "output_type": "execute_result",
          "data": {
            "text/html": [
              "<div>\n",
              "<style scoped>\n",
              "    .dataframe tbody tr th:only-of-type {\n",
              "        vertical-align: middle;\n",
              "    }\n",
              "\n",
              "    .dataframe tbody tr th {\n",
              "        vertical-align: top;\n",
              "    }\n",
              "\n",
              "    .dataframe thead th {\n",
              "        text-align: right;\n",
              "    }\n",
              "</style>\n",
              "<table border=\"1\" class=\"dataframe\">\n",
              "  <thead>\n",
              "    <tr style=\"text-align: right;\">\n",
              "      <th></th>\n",
              "      <th>user_id</th>\n",
              "      <th>movie_id</th>\n",
              "      <th>count</th>\n",
              "      <th>title</th>\n",
              "      <th>genre</th>\n",
              "    </tr>\n",
              "  </thead>\n",
              "  <tbody>\n",
              "    <tr>\n",
              "      <th>0</th>\n",
              "      <td>0</td>\n",
              "      <td>1193</td>\n",
              "      <td>5</td>\n",
              "      <td>0</td>\n",
              "      <td>drama</td>\n",
              "    </tr>\n",
              "    <tr>\n",
              "      <th>1</th>\n",
              "      <td>0</td>\n",
              "      <td>661</td>\n",
              "      <td>3</td>\n",
              "      <td>1</td>\n",
              "      <td>animation children's musical</td>\n",
              "    </tr>\n",
              "    <tr>\n",
              "      <th>2</th>\n",
              "      <td>0</td>\n",
              "      <td>914</td>\n",
              "      <td>3</td>\n",
              "      <td>2</td>\n",
              "      <td>musical romance</td>\n",
              "    </tr>\n",
              "    <tr>\n",
              "      <th>3</th>\n",
              "      <td>0</td>\n",
              "      <td>3408</td>\n",
              "      <td>4</td>\n",
              "      <td>3</td>\n",
              "      <td>drama</td>\n",
              "    </tr>\n",
              "    <tr>\n",
              "      <th>4</th>\n",
              "      <td>0</td>\n",
              "      <td>2355</td>\n",
              "      <td>5</td>\n",
              "      <td>4</td>\n",
              "      <td>animation children's comedy</td>\n",
              "    </tr>\n",
              "    <tr>\n",
              "      <th>...</th>\n",
              "      <td>...</td>\n",
              "      <td>...</td>\n",
              "      <td>...</td>\n",
              "      <td>...</td>\n",
              "      <td>...</td>\n",
              "    </tr>\n",
              "    <tr>\n",
              "      <th>0</th>\n",
              "      <td>6039</td>\n",
              "      <td>920</td>\n",
              "      <td>5</td>\n",
              "      <td>143</td>\n",
              "      <td>drama romance war</td>\n",
              "    </tr>\n",
              "    <tr>\n",
              "      <th>1</th>\n",
              "      <td>6039</td>\n",
              "      <td>919</td>\n",
              "      <td>5</td>\n",
              "      <td>9</td>\n",
              "      <td>adventure children's drama musical</td>\n",
              "    </tr>\n",
              "    <tr>\n",
              "      <th>2</th>\n",
              "      <td>6039</td>\n",
              "      <td>910</td>\n",
              "      <td>5</td>\n",
              "      <td>1054</td>\n",
              "      <td>comedy crime</td>\n",
              "    </tr>\n",
              "    <tr>\n",
              "      <th>3</th>\n",
              "      <td>6039</td>\n",
              "      <td>1035</td>\n",
              "      <td>5</td>\n",
              "      <td>14</td>\n",
              "      <td>musical</td>\n",
              "    </tr>\n",
              "    <tr>\n",
              "      <th>4</th>\n",
              "      <td>6039</td>\n",
              "      <td>590</td>\n",
              "      <td>5</td>\n",
              "      <td>116</td>\n",
              "      <td>adventure drama western</td>\n",
              "    </tr>\n",
              "  </tbody>\n",
              "</table>\n",
              "<p>836483 rows × 5 columns</p>\n",
              "</div>"
            ],
            "text/plain": [
              "    user_id  movie_id  count  title                               genre\n",
              "0         0      1193      5      0                               drama\n",
              "1         0       661      3      1        animation children's musical\n",
              "2         0       914      3      2                     musical romance\n",
              "3         0      3408      4      3                               drama\n",
              "4         0      2355      5      4         animation children's comedy\n",
              "..      ...       ...    ...    ...                                 ...\n",
              "0      6039       920      5    143                   drama romance war\n",
              "1      6039       919      5      9  adventure children's drama musical\n",
              "2      6039       910      5   1054                        comedy crime\n",
              "3      6039      1035      5     14                             musical\n",
              "4      6039       590      5    116             adventure drama western\n",
              "\n",
              "[836483 rows x 5 columns]"
            ]
          },
          "metadata": {},
          "execution_count": 247
        }
      ]
    },
    {
      "cell_type": "code",
      "metadata": {
        "colab": {
          "base_uri": "https://localhost:8080/",
          "height": 297
        },
        "id": "GVzJ4NXVPrvc",
        "outputId": "ce0f10f1-5820-4ae8-c33e-d60116b0171c"
      },
      "source": [
        "movie_rating['title'].hist()\n",
        "plt.title('Count of Movies')"
      ],
      "execution_count": 319,
      "outputs": [
        {
          "output_type": "execute_result",
          "data": {
            "text/plain": [
              "Text(0.5, 1.0, 'Count of Movies')"
            ]
          },
          "metadata": {},
          "execution_count": 319
        },
        {
          "output_type": "display_data",
          "data": {
            "image/png": "[encoded data removed]",
            "text/plain": [
              "<Figure size 432x288 with 1 Axes>"
            ]
          },
          "metadata": {
            "needs_background": "light"
          }
        }
      ]
    },
    {
      "cell_type": "markdown",
      "metadata": {
        "id": "Czt6OhYYaLTA"
      },
      "source": [
        "> 대부분의 영화는 500점 이하이고 점수가 아주 높은 영화는 아주 적음 "
      ]
    },
    {
      "cell_type": "markdown",
      "metadata": {
        "id": "zWl2hrrlaWnS"
      },
      "source": [
        "# CSR matix\n",
        "\n",
        "(m,n) 사이즈의 행렬 R을 (m,k) 사이즈의 행렬 P와 (k,n) 사이즈의 행렬 Q로 분해한다면 R이란 그저 P와 Q의 행렬곱으로 표현 가능할 수 있다는 간단한 아이디어이다. 대체로 k는 m이나 n보다 훨씬 작은 값이기 때문에 계산량 측면으로도 훨씬 유리해지긴 하지만, 아이디어의 단순함에도 불구하고 MF 모델은 성능이 준수하고 Scalability가 좋아서 많이 사용되는 모델이다. "
      ]
    },
    {
      "cell_type": "code",
      "metadata": {
        "colab": {
          "base_uri": "https://localhost:8080/"
        },
        "id": "S5Wg3gdkQ8bV",
        "outputId": "bf669d7c-3017-4809-ce8a-6f05cb3bb098"
      },
      "source": [
        "from scipy.sparse import csr_matrix\n",
        "\n",
        "num_user = movie_rating['user_id'].nunique()\n",
        "num_title = movie_rating['title'].nunique()\n",
        "\n",
        "csr_data = csr_matrix((movie_rating['count'], (movie_rating['user_id'], movie_rating['title'])), shape= (num_user, num_title))\n",
        "csr_data"
      ],
      "execution_count": 254,
      "outputs": [
        {
          "output_type": "execute_result",
          "data": {
            "text/plain": [
              "<6040x3628 sparse matrix of type '<class 'numpy.longlong'>'\n",
              "\twith 836483 stored elements in Compressed Sparse Row format>"
            ]
          },
          "metadata": {},
          "execution_count": 254
        }
      ]
    },
    {
      "cell_type": "markdown",
      "metadata": {
        "id": "9y0zLUFta3Jc"
      },
      "source": [
        "# MF 모델 학습하기 \n",
        "\n",
        "* `implicit` 패키지는 이전 스텝에서 설명한 암묵적(implicit) dataset을 사용하는 다양한 모델을 굉장히 빠르게 학습할 수 있는 패키지\n",
        "* 이 패키지에 구현된 `als(AlternatingLeastSquares)` 모델을 사용한다. `Matrix Factorization`에서 쪼개진 두 Feature Matrix를 한꺼번에 훈련하는 것은 잘 수렴하지 않기 때문에, 한쪽을 고정시키고 다른 쪽을 학습하는 방식을 번갈아 수행하는 AlternatingLeastSquares 방식이 효과적인 것으로 알려져 있다."
      ]
    },
    {
      "cell_type": "code",
      "metadata": {
        "colab": {
          "base_uri": "https://localhost:8080/"
        },
        "id": "5fYuLyhuRf9A",
        "outputId": "09b9dc5a-568c-4aa5-b702-4d60c144ddcc"
      },
      "source": [
        "!pip install implicit"
      ],
      "execution_count": 255,
      "outputs": [
        {
          "output_type": "stream",
          "text": [
            "Collecting implicit\n",
            "  Downloading implicit-0.4.4.tar.gz (1.1 MB)\n",
            "\u001b[K     |████████████████████████████████| 1.1 MB 5.2 MB/s \n",
            "\u001b[?25hRequirement already satisfied: numpy in /usr/local/lib/python3.7/dist-packages (from implicit) (1.19.5)\n",
            "Requirement already satisfied: scipy>=0.16 in /usr/local/lib/python3.7/dist-packages (from implicit) (1.4.1)\n",
            "Requirement already satisfied: tqdm>=4.27 in /usr/local/lib/python3.7/dist-packages (from implicit) (4.62.0)\n",
            "Building wheels for collected packages: implicit\n",
            "  Building wheel for implicit (setup.py) ... \u001b[?25l\u001b[?25hdone\n",
            "  Created wheel for implicit: filename=implicit-0.4.4-cp37-cp37m-linux_x86_64.whl size=3409596 sha256=012fc943a7e2a73ac672bacbf67cf10c8502cee939a334ff0e11bd090f0c679c\n",
            "  Stored in directory: /root/.cache/pip/wheels/44/7e/7d/a17324ea207cfbe76aca878b5b8ca0aa932cf55d163329be37\n",
            "Successfully built implicit\n",
            "Installing collected packages: implicit\n",
            "Successfully installed implicit-0.4.4\n"
          ],
          "name": "stdout"
        }
      ]
    },
    {
      "cell_type": "code",
      "metadata": {
        "id": "PyB5TIvXRhrm"
      },
      "source": [
        "from implicit.als import AlternatingLeastSquares\n",
        "import os\n",
        "import numpy as np\n",
        "\n",
        "# implicit 라이브러리에서 권장하고 있는 부분입니다. 학습 내용과는 무관합니다.\n",
        "os.environ['OPENBLAS_NUM_THREADS']='1'\n",
        "os.environ['KMP_DUPLICATE_LIB_OK']='True'\n",
        "os.environ['MKL_NUM_THREADS']='1'"
      ],
      "execution_count": 256,
      "outputs": []
    },
    {
      "cell_type": "code",
      "metadata": {
        "id": "ySso95nCRkE6"
      },
      "source": [
        "# Implicit AlternatingLeastSquares 모델의 선언\n",
        "als_model = AlternatingLeastSquares(factors=200, regularization=0.01, use_gpu=False, iterations=30, dtype=np.float32)"
      ],
      "execution_count": 396,
      "outputs": []
    },
    {
      "cell_type": "code",
      "metadata": {
        "colab": {
          "base_uri": "https://localhost:8080/"
        },
        "id": "8jSw7XX-RmAn",
        "outputId": "d10fbbbe-31df-48f2-aca6-0f361de61b5b"
      },
      "source": [
        "# als 모델은 input으로 (item X user 꼴의 matrix를 받기 때문에 Transpose)\n",
        "csr_data_transpose = csr_data.T\n",
        "csr_data_transpose"
      ],
      "execution_count": 397,
      "outputs": [
        {
          "output_type": "execute_result",
          "data": {
            "text/plain": [
              "<3628x6040 sparse matrix of type '<class 'numpy.longlong'>'\n",
              "\twith 836483 stored elements in Compressed Sparse Column format>"
            ]
          },
          "metadata": {},
          "execution_count": 397
        }
      ]
    },
    {
      "cell_type": "code",
      "metadata": {
        "colab": {
          "base_uri": "https://localhost:8080/",
          "height": 48,
          "referenced_widgets": [
            "3eaa48c639f5461a80073172e1d474d9",
            "6cd0bf9dd3e8491fb705acd9fd362510",
            "40bb81f40059446397085949025c2630",
            "86942c04765c4898a2338ee3fb341fd6",
            "654c5a37d74e4d8bb37b968154db6bb6",
            "a49cae5c40c84bb093b93adf4c97b4b5",
            "a0edad89eb0447959545e950ac6a49bb",
            "b556b6da752a4cfb86bac2364aa7152a",
            "e28326104d5242a38b2b6b5bd2b7cc95",
            "a5a8a82945214b8bb17fc8f29467a3ec",
            "b7938bb95d31440687becdf8f7a45902"
          ]
        },
        "id": "vyqKn_2aRm39",
        "outputId": "cf98ebd4-2ae4-4931-ac8a-c7fdbed93a68"
      },
      "source": [
        "# 모델 훈련\n",
        "als_model.fit(csr_data_transpose)"
      ],
      "execution_count": 398,
      "outputs": [
        {
          "output_type": "display_data",
          "data": {
            "application/vnd.jupyter.widget-view+json": {
              "model_id": "3eaa48c639f5461a80073172e1d474d9",
              "version_minor": 0,
              "version_major": 2
            },
            "text/plain": [
              "  0%|          | 0/30 [00:00<?, ?it/s]"
            ]
          },
          "metadata": {}
        }
      ]
    },
    {
      "cell_type": "code",
      "metadata": {
        "id": "VXhNBtxiRpJ3"
      },
      "source": [
        "seoyun, gone_with_the_wind = user_to_idx['seoyun'], title_to_idx['gone with the wind (1939)']\n",
        "seoyun_vector, gone_with_the_wind_vector = als_model.user_factors[seoyun], als_model.item_factors[gone_with_the_wind]"
      ],
      "execution_count": 399,
      "outputs": []
    },
    {
      "cell_type": "markdown",
      "metadata": {
        "id": "zVT2IvfobNRM"
      },
      "source": [
        "## `user_vector`과 `movie_vector` 내적 "
      ]
    },
    {
      "cell_type": "code",
      "metadata": {
        "colab": {
          "base_uri": "https://localhost:8080/"
        },
        "id": "TTYfM-ITSdlz",
        "outputId": "c6f2aa5c-17e8-49a7-e02e-55517877afe7"
      },
      "source": [
        "np.dot(seoyun_vector, gone_with_the_wind_vector)"
      ],
      "execution_count": 400,
      "outputs": [
        {
          "output_type": "execute_result",
          "data": {
            "text/plain": [
              "0.771667"
            ]
          },
          "metadata": {},
          "execution_count": 400
        }
      ]
    },
    {
      "cell_type": "markdown",
      "metadata": {
        "id": "qKYnNLlLbYNC"
      },
      "source": [
        "> `factors`와 `iterations`를 높여서 0.50 $\\rightarrow$ 0.77로 높임\n",
        ">\n",
        "> 두 수치를 늘려 1에 가깝게 나왔다고 해도 이 모델이 잘 학습되었다고 할 수 없다. "
      ]
    },
    {
      "cell_type": "markdown",
      "metadata": {
        "id": "UModxUp5bzr5"
      },
      "source": [
        "## 다른 영화에 대한 내 선호도 "
      ]
    },
    {
      "cell_type": "code",
      "metadata": {
        "colab": {
          "base_uri": "https://localhost:8080/"
        },
        "id": "pQn8iQbuSCOR",
        "outputId": "e312e865-2a2b-48de-9c57-181fd1a79487"
      },
      "source": [
        "my_fair_lady = title_to_idx['my fair lady (1964)']\n",
        "my_fair_lady_vector = als_model.item_factors[my_fair_lady]\n",
        "np.dot(seoyun_vector, my_fair_lady_vector)"
      ],
      "execution_count": 401,
      "outputs": [
        {
          "output_type": "execute_result",
          "data": {
            "text/plain": [
              "0.14627159"
            ]
          },
          "metadata": {},
          "execution_count": 401
        }
      ]
    },
    {
      "cell_type": "code",
      "metadata": {
        "colab": {
          "base_uri": "https://localhost:8080/"
        },
        "id": "ttVGoN-VU16m",
        "outputId": "4c176f87-b619-4aa7-e940-c45f98fea633"
      },
      "source": [
        "my_fair_lady = title_to_idx['rob roy (1995)']\n",
        "my_fair_lady_vector = als_model.item_factors[my_fair_lady]\n",
        "np.dot(seoyun_vector, my_fair_lady_vector)"
      ],
      "execution_count": 402,
      "outputs": [
        {
          "output_type": "execute_result",
          "data": {
            "text/plain": [
              "-0.035862513"
            ]
          },
          "metadata": {},
          "execution_count": 402
        }
      ]
    },
    {
      "cell_type": "markdown",
      "metadata": {
        "id": "8xwqoHaDcv5J"
      },
      "source": [
        "# 비슷한 영화 찾기\n",
        "\n",
        "`AlternatingLeastSquares` 클래스에 구현되어 있는 `similar_items` 메서드를 통하여 비슷한 영화 찾기\n",
        "\n",
        "선호하는 영화에 포함 된 `sound of music, the (1965)`로 찾아보기"
      ]
    },
    {
      "cell_type": "code",
      "metadata": {
        "id": "PsAeTLx9V2vb"
      },
      "source": [
        "idx_to_title = {v:k for k,v in title_to_idx.items()}\n",
        "def get_similar_movie(movie_name: str):\n",
        "    movie_id = title_to_idx[movie_name]\n",
        "    similar_movie = als_model.similar_items(movie_id)\n",
        "    similar_movie = [idx_to_title[i[0]] for i in similar_movie]\n",
        "    return similar_movie"
      ],
      "execution_count": 297,
      "outputs": []
    },
    {
      "cell_type": "code",
      "metadata": {
        "colab": {
          "base_uri": "https://localhost:8080/"
        },
        "id": "_nz86CoQWPZc",
        "outputId": "7c5324d7-44a3-4dbd-a5b9-64d40da31199"
      },
      "source": [
        "get_similar_movie('sound of music, the (1965)')"
      ],
      "execution_count": 321,
      "outputs": [
        {
          "output_type": "execute_result",
          "data": {
            "text/plain": [
              "['sound of music, the (1965)',\n",
              " 'oliver! (1968)',\n",
              " 'my fair lady (1964)',\n",
              " 'king and i, the (1956)',\n",
              " 'west side story (1961)',\n",
              " 'mary poppins (1964)',\n",
              " 'gigi (1958)',\n",
              " 'white christmas (1954)',\n",
              " 'james and the giant peach (1996)',\n",
              " 'rudy (1993)']"
            ]
          },
          "metadata": {},
          "execution_count": 321
        }
      ]
    },
    {
      "cell_type": "markdown",
      "metadata": {
        "id": "lZ5eMcY2dWMa"
      },
      "source": [
        "## 비슷한 영화들의 `genre` 알아보기 "
      ]
    },
    {
      "cell_type": "code",
      "metadata": {
        "colab": {
          "base_uri": "https://localhost:8080/",
          "height": 355
        },
        "id": "Ohgqw35EW1ge",
        "outputId": "ef7ca18c-af69-41d3-c57b-00039526694e"
      },
      "source": [
        "similar_movie_list = ['sound of music, the (1965)',\n",
        "                      'oliver! (1968)',\n",
        "                      'my fair lady (1964)',\n",
        "                      'king and i, the (1956)',\n",
        "                      'west side story (1961)',\n",
        "                      'mary poppins (1964)',\n",
        "                      'gigi (1958)',\n",
        "                      'white christmas (1954)',\n",
        "                      'james and the giant peach (1996)',\n",
        "                      'rudy (1993)']\n",
        "\n",
        "movies.loc[movies['title'].isin(similar_movie_list)]"
      ],
      "execution_count": 322,
      "outputs": [
        {
          "output_type": "execute_result",
          "data": {
            "text/html": [
              "<div>\n",
              "<style scoped>\n",
              "    .dataframe tbody tr th:only-of-type {\n",
              "        vertical-align: middle;\n",
              "    }\n",
              "\n",
              "    .dataframe tbody tr th {\n",
              "        vertical-align: top;\n",
              "    }\n",
              "\n",
              "    .dataframe thead th {\n",
              "        text-align: right;\n",
              "    }\n",
              "</style>\n",
              "<table border=\"1\" class=\"dataframe\">\n",
              "  <thead>\n",
              "    <tr style=\"text-align: right;\">\n",
              "      <th></th>\n",
              "      <th>movie_id</th>\n",
              "      <th>title</th>\n",
              "      <th>genre</th>\n",
              "    </tr>\n",
              "  </thead>\n",
              "  <tbody>\n",
              "    <tr>\n",
              "      <th>520</th>\n",
              "      <td>524</td>\n",
              "      <td>rudy (1993)</td>\n",
              "      <td>drama</td>\n",
              "    </tr>\n",
              "    <tr>\n",
              "      <th>655</th>\n",
              "      <td>661</td>\n",
              "      <td>james and the giant peach (1996)</td>\n",
              "      <td>animation children's musical</td>\n",
              "    </tr>\n",
              "    <tr>\n",
              "      <th>902</th>\n",
              "      <td>914</td>\n",
              "      <td>my fair lady (1964)</td>\n",
              "      <td>musical romance</td>\n",
              "    </tr>\n",
              "    <tr>\n",
              "      <th>926</th>\n",
              "      <td>938</td>\n",
              "      <td>gigi (1958)</td>\n",
              "      <td>musical</td>\n",
              "    </tr>\n",
              "    <tr>\n",
              "      <th>1015</th>\n",
              "      <td>1028</td>\n",
              "      <td>mary poppins (1964)</td>\n",
              "      <td>children's comedy musical</td>\n",
              "    </tr>\n",
              "    <tr>\n",
              "      <th>1022</th>\n",
              "      <td>1035</td>\n",
              "      <td>sound of music, the (1965)</td>\n",
              "      <td>musical</td>\n",
              "    </tr>\n",
              "    <tr>\n",
              "      <th>1878</th>\n",
              "      <td>1947</td>\n",
              "      <td>west side story (1961)</td>\n",
              "      <td>musical romance</td>\n",
              "    </tr>\n",
              "    <tr>\n",
              "      <th>1882</th>\n",
              "      <td>1951</td>\n",
              "      <td>oliver! (1968)</td>\n",
              "      <td>musical</td>\n",
              "    </tr>\n",
              "    <tr>\n",
              "      <th>2496</th>\n",
              "      <td>2565</td>\n",
              "      <td>king and i, the (1956)</td>\n",
              "      <td>musical</td>\n",
              "    </tr>\n",
              "    <tr>\n",
              "      <th>3606</th>\n",
              "      <td>3675</td>\n",
              "      <td>white christmas (1954)</td>\n",
              "      <td>musical</td>\n",
              "    </tr>\n",
              "  </tbody>\n",
              "</table>\n",
              "</div>"
            ],
            "text/plain": [
              "      movie_id                             title                         genre\n",
              "520        524                       rudy (1993)                         drama\n",
              "655        661  james and the giant peach (1996)  animation children's musical\n",
              "902        914               my fair lady (1964)               musical romance\n",
              "926        938                       gigi (1958)                       musical\n",
              "1015      1028               mary poppins (1964)     children's comedy musical\n",
              "1022      1035        sound of music, the (1965)                       musical\n",
              "1878      1947            west side story (1961)               musical romance\n",
              "1882      1951                    oliver! (1968)                       musical\n",
              "2496      2565            king and i, the (1956)                       musical\n",
              "3606      3675            white christmas (1954)                       musical"
            ]
          },
          "metadata": {},
          "execution_count": 322
        }
      ]
    },
    {
      "cell_type": "markdown",
      "metadata": {
        "id": "C-_3tsO6ddQW"
      },
      "source": [
        "> 입력한 영화 `sound of music, the (1965)\t` 의 장르는 `musical`이다.\n",
        ">\n",
        "> 비슷한 영화로 뽑힌 영화들은 `rudy (1993)`을 제외하고 모두 `musical`인 것을 알 수 있다. `rudy (1993)`도 난독증을 가진 학생이 열심히 노력해 원하는 대학에 입학하는 인생에 용기를 주는 뮤지컬스러운(?) 영화이다. "
      ]
    },
    {
      "cell_type": "markdown",
      "metadata": {
        "id": "ttlrBP6GetZS"
      },
      "source": [
        "## `genre`가 `horror`인 영화로 확인해보기"
      ]
    },
    {
      "cell_type": "code",
      "metadata": {
        "colab": {
          "base_uri": "https://localhost:8080/",
          "height": 202
        },
        "id": "JKUjNfKNYaLn",
        "outputId": "2ee071f9-8745-46ee-bb54-e7b626cfabd9"
      },
      "source": [
        "movies[movies['genre'].str.contains('horror')].head()"
      ],
      "execution_count": 308,
      "outputs": [
        {
          "output_type": "execute_result",
          "data": {
            "text/html": [
              "<div>\n",
              "<style scoped>\n",
              "    .dataframe tbody tr th:only-of-type {\n",
              "        vertical-align: middle;\n",
              "    }\n",
              "\n",
              "    .dataframe tbody tr th {\n",
              "        vertical-align: top;\n",
              "    }\n",
              "\n",
              "    .dataframe thead th {\n",
              "        text-align: right;\n",
              "    }\n",
              "</style>\n",
              "<table border=\"1\" class=\"dataframe\">\n",
              "  <thead>\n",
              "    <tr style=\"text-align: right;\">\n",
              "      <th></th>\n",
              "      <th>movie_id</th>\n",
              "      <th>title</th>\n",
              "      <th>genre</th>\n",
              "    </tr>\n",
              "  </thead>\n",
              "  <tbody>\n",
              "    <tr>\n",
              "      <th>11</th>\n",
              "      <td>12</td>\n",
              "      <td>dracula: dead and loving it (1995)</td>\n",
              "      <td>comedy horror</td>\n",
              "    </tr>\n",
              "    <tr>\n",
              "      <th>69</th>\n",
              "      <td>70</td>\n",
              "      <td>from dusk till dawn (1996)</td>\n",
              "      <td>action comedy crime horror thriller</td>\n",
              "    </tr>\n",
              "    <tr>\n",
              "      <th>150</th>\n",
              "      <td>152</td>\n",
              "      <td>addiction, the (1995)</td>\n",
              "      <td>horror</td>\n",
              "    </tr>\n",
              "    <tr>\n",
              "      <th>175</th>\n",
              "      <td>177</td>\n",
              "      <td>lord of illusions (1995)</td>\n",
              "      <td>horror</td>\n",
              "    </tr>\n",
              "    <tr>\n",
              "      <th>186</th>\n",
              "      <td>188</td>\n",
              "      <td>prophecy, the (1995)</td>\n",
              "      <td>horror</td>\n",
              "    </tr>\n",
              "  </tbody>\n",
              "</table>\n",
              "</div>"
            ],
            "text/plain": [
              "     movie_id  ...                                genre\n",
              "11         12  ...                        comedy horror\n",
              "69         70  ...  action comedy crime horror thriller\n",
              "150       152  ...                               horror\n",
              "175       177  ...                               horror\n",
              "186       188  ...                               horror\n",
              "\n",
              "[5 rows x 3 columns]"
            ]
          },
          "metadata": {},
          "execution_count": 308
        }
      ]
    },
    {
      "cell_type": "code",
      "metadata": {
        "colab": {
          "base_uri": "https://localhost:8080/"
        },
        "id": "Yu5GEV6gYjYA",
        "outputId": "eaa7a707-56f2-432a-88e8-c64f7afb3ff5"
      },
      "source": [
        "get_similar_movie('addiction, the (1995)')"
      ],
      "execution_count": 310,
      "outputs": [
        {
          "output_type": "execute_result",
          "data": {
            "text/plain": [
              "['addiction, the (1995)',\n",
              " 'castle freak (1995)',\n",
              " 'nightmares (1983)',\n",
              " 'living dead girl, the (la morte vivante) (1982)',\n",
              " 'carnosaur 2 (1995)',\n",
              " 'nadja (1994)',\n",
              " 'bay of blood (reazione a catena) (1971)',\n",
              " 'tokyo fist (1995)',\n",
              " 'love and a .45 (1994)',\n",
              " 'vampyros lesbos (las vampiras) (1970)']"
            ]
          },
          "metadata": {},
          "execution_count": 310
        }
      ]
    },
    {
      "cell_type": "code",
      "metadata": {
        "colab": {
          "base_uri": "https://localhost:8080/",
          "height": 355
        },
        "id": "6QCZ5GGjYqAf",
        "outputId": "d2c54d08-82ac-4b97-aa1b-993f09740ea2"
      },
      "source": [
        "similar_movie_list = ['addiction, the (1995)',\n",
        " 'castle freak (1995)',\n",
        " 'nightmares (1983)',\n",
        " 'living dead girl, the (la morte vivante) (1982)',\n",
        " 'carnosaur 2 (1995)',\n",
        " 'nadja (1994)',\n",
        " 'bay of blood (reazione a catena) (1971)',\n",
        " 'tokyo fist (1995)',\n",
        " 'love and a .45 (1994)',\n",
        " 'vampyros lesbos (las vampiras) (1970)']\n",
        "\n",
        "movies.loc[movies['title'].isin(similar_movie_list)]"
      ],
      "execution_count": 311,
      "outputs": [
        {
          "output_type": "execute_result",
          "data": {
            "text/html": [
              "<div>\n",
              "<style scoped>\n",
              "    .dataframe tbody tr th:only-of-type {\n",
              "        vertical-align: middle;\n",
              "    }\n",
              "\n",
              "    .dataframe tbody tr th {\n",
              "        vertical-align: top;\n",
              "    }\n",
              "\n",
              "    .dataframe thead th {\n",
              "        text-align: right;\n",
              "    }\n",
              "</style>\n",
              "<table border=\"1\" class=\"dataframe\">\n",
              "  <thead>\n",
              "    <tr style=\"text-align: right;\">\n",
              "      <th></th>\n",
              "      <th>movie_id</th>\n",
              "      <th>title</th>\n",
              "      <th>genre</th>\n",
              "    </tr>\n",
              "  </thead>\n",
              "  <tbody>\n",
              "    <tr>\n",
              "      <th>150</th>\n",
              "      <td>152</td>\n",
              "      <td>addiction, the (1995)</td>\n",
              "      <td>horror</td>\n",
              "    </tr>\n",
              "    <tr>\n",
              "      <th>182</th>\n",
              "      <td>184</td>\n",
              "      <td>nadja (1994)</td>\n",
              "      <td>drama</td>\n",
              "    </tr>\n",
              "    <tr>\n",
              "      <th>218</th>\n",
              "      <td>220</td>\n",
              "      <td>castle freak (1995)</td>\n",
              "      <td>horror</td>\n",
              "    </tr>\n",
              "    <tr>\n",
              "      <th>596</th>\n",
              "      <td>600</td>\n",
              "      <td>love and a .45 (1994)</td>\n",
              "      <td>thriller</td>\n",
              "    </tr>\n",
              "    <tr>\n",
              "      <th>1717</th>\n",
              "      <td>1773</td>\n",
              "      <td>tokyo fist (1995)</td>\n",
              "      <td>action drama</td>\n",
              "    </tr>\n",
              "    <tr>\n",
              "      <th>2786</th>\n",
              "      <td>2855</td>\n",
              "      <td>nightmares (1983)</td>\n",
              "      <td>horror</td>\n",
              "    </tr>\n",
              "    <tr>\n",
              "      <th>3016</th>\n",
              "      <td>3085</td>\n",
              "      <td>living dead girl, the (la morte vivante) (1982)</td>\n",
              "      <td>horror</td>\n",
              "    </tr>\n",
              "    <tr>\n",
              "      <th>3050</th>\n",
              "      <td>3119</td>\n",
              "      <td>bay of blood (reazione a catena) (1971)</td>\n",
              "      <td>horror</td>\n",
              "    </tr>\n",
              "    <tr>\n",
              "      <th>3147</th>\n",
              "      <td>3216</td>\n",
              "      <td>vampyros lesbos (las vampiras) (1970)</td>\n",
              "      <td>horror</td>\n",
              "    </tr>\n",
              "    <tr>\n",
              "      <th>3504</th>\n",
              "      <td>3573</td>\n",
              "      <td>carnosaur 2 (1995)</td>\n",
              "      <td>horror sci-fi</td>\n",
              "    </tr>\n",
              "  </tbody>\n",
              "</table>\n",
              "</div>"
            ],
            "text/plain": [
              "      movie_id                                            title          genre\n",
              "150        152                            addiction, the (1995)         horror\n",
              "182        184                                     nadja (1994)          drama\n",
              "218        220                              castle freak (1995)         horror\n",
              "596        600                            love and a .45 (1994)       thriller\n",
              "1717      1773                                tokyo fist (1995)   action drama\n",
              "2786      2855                                nightmares (1983)         horror\n",
              "3016      3085  living dead girl, the (la morte vivante) (1982)         horror\n",
              "3050      3119          bay of blood (reazione a catena) (1971)         horror\n",
              "3147      3216            vampyros lesbos (las vampiras) (1970)         horror\n",
              "3504      3573                               carnosaur 2 (1995)  horror sci-fi"
            ]
          },
          "metadata": {},
          "execution_count": 311
        }
      ]
    },
    {
      "cell_type": "markdown",
      "metadata": {
        "id": "-JVBTtgve5WO"
      },
      "source": [
        "> 마찬가지로 비슷한 영화를 잘 찾은 것을 볼 수 있다. "
      ]
    },
    {
      "cell_type": "markdown",
      "metadata": {
        "id": "xZMyCYOyYymI"
      },
      "source": [
        "# 유저에서 아티스트 추천하기 \n",
        "\n",
        "`AlternatingLeastSquares` 클래스에 구현되어 있는 `recommend` 메서드를 통하여 제가 좋아할 만한 아티스트를 추천받는다. \n",
        "\n",
        "`filter_already_liked_items` 는 유저가 이미 평가한 아이템은 제외하는 Argument"
      ]
    },
    {
      "cell_type": "code",
      "metadata": {
        "colab": {
          "base_uri": "https://localhost:8080/"
        },
        "id": "EBaTsm2eYy4p",
        "outputId": "43fec6be-1394-40b7-e54d-a6a32e864866"
      },
      "source": [
        "user = user_to_idx['seoyun']\n",
        "# recommend에서는 user*item CSR Matrix를 받습니다.\n",
        "movie_recommended = als_model.recommend(user, csr_data, N=20, filter_already_liked_items=True)\n",
        "movie_recommended"
      ],
      "execution_count": 312,
      "outputs": [
        {
          "output_type": "execute_result",
          "data": {
            "text/plain": [
              "[(27, 0.3190795),\n",
              " (354, 0.27228022),\n",
              " (45, 0.26436567),\n",
              " (656, 0.25662625),\n",
              " (276, 0.21566059),\n",
              " (80, 0.21034351),\n",
              " (201, 0.19781098),\n",
              " (107, 0.19635764),\n",
              " (2, 0.18874481),\n",
              " (678, 0.18621464),\n",
              " (356, 0.18188033),\n",
              " (161, 0.17867152),\n",
              " (100, 0.17866592),\n",
              " (663, 0.17647994),\n",
              " (445, 0.17353037),\n",
              " (451, 0.17326692),\n",
              " (501, 0.1624714),\n",
              " (409, 0.1603834),\n",
              " (8, 0.1563244),\n",
              " (655, 0.15013783)]"
            ]
          },
          "metadata": {},
          "execution_count": 312
        }
      ]
    },
    {
      "cell_type": "code",
      "metadata": {
        "colab": {
          "base_uri": "https://localhost:8080/"
        },
        "id": "-t9qKoj-Y6lt",
        "outputId": "54f75a76-1ad9-4873-fc3d-5684b3c138a3"
      },
      "source": [
        "[idx_to_title[i[0]] for i in movie_recommended]"
      ],
      "execution_count": 315,
      "outputs": [
        {
          "output_type": "execute_result",
          "data": {
            "text/plain": [
              "['titanic (1997)',\n",
              " 'west side story (1961)',\n",
              " 'mary poppins (1964)',\n",
              " 'african queen, the (1951)',\n",
              " 'north by northwest (1959)',\n",
              " 'stand by me (1986)',\n",
              " 'who framed roger rabbit? (1988)',\n",
              " 'jurassic park (1993)',\n",
              " 'my fair lady (1964)',\n",
              " 'willy wonka and the chocolate factory (1971)',\n",
              " 'legends of the fall (1994)',\n",
              " 'graduate, the (1967)',\n",
              " 'amadeus (1984)',\n",
              " \"singin' in the rain (1952)\",\n",
              " 'red violin, the (le violon rouge) (1998)',\n",
              " 'american history x (1998)',\n",
              " 'treasure of the sierra madre, the (1948)',\n",
              " 'rudy (1993)',\n",
              " 'snow white and the seven dwarfs (1937)',\n",
              " 'lawrence of arabia (1962)']"
            ]
          },
          "metadata": {},
          "execution_count": 315
        }
      ]
    },
    {
      "cell_type": "markdown",
      "metadata": {
        "id": "2E4ppbwZfM-V"
      },
      "source": [
        "## `titanic (1997)`을 추천하는데 각 영화가 기여한 정도 "
      ]
    },
    {
      "cell_type": "code",
      "metadata": {
        "colab": {
          "base_uri": "https://localhost:8080/"
        },
        "id": "bBHLLuRsZB3E",
        "outputId": "e0b1e4f3-28fb-47f8-f200-5ad4f1ebdf63"
      },
      "source": [
        "titanic = title_to_idx['titanic (1997)']\n",
        "explain = als_model.explain(user, csr_data, itemid=titanic)\n",
        "\n",
        "[(idx_to_title[i[0]], i[1]) for i in explain[1]]"
      ],
      "execution_count": 318,
      "outputs": [
        {
          "output_type": "execute_result",
          "data": {
            "text/plain": [
              "[('some like it hot (1959)', 0.0775016255175134),\n",
              " ('gone with the wind (1939)', 0.06893571189716541),\n",
              " ('sound of music, the (1965)', 0.05968447693520727),\n",
              " ('wizard of oz, the (1939)', 0.05564360618502319),\n",
              " ('dances with wolves (1990)', 0.05423728704031314)]"
            ]
          },
          "metadata": {},
          "execution_count": 318
        }
      ]
    },
    {
      "cell_type": "markdown",
      "metadata": {
        "id": "ZezFxsQQru7C"
      },
      "source": [
        "> 5개의 영화가 비슷한 수준으로 기여했다"
      ]
    },
    {
      "cell_type": "code",
      "metadata": {
        "colab": {
          "base_uri": "https://localhost:8080/"
        },
        "id": "lGmyLFN_r8bB",
        "outputId": "7af5305e-adef-4f78-fbfc-6381eef2c545"
      },
      "source": [
        "titanic = title_to_idx['african queen, the (1951)']\n",
        "explain = als_model.explain(user, csr_data, itemid=titanic)\n",
        "\n",
        "[(idx_to_title[i[0]], i[1]) for i in explain[1]]"
      ],
      "execution_count": 381,
      "outputs": [
        {
          "output_type": "execute_result",
          "data": {
            "text/plain": [
              "[('gone with the wind (1939)', 0.11351275969934432),\n",
              " ('some like it hot (1959)', 0.07317678014442593),\n",
              " ('dances with wolves (1990)', 0.0390370974478561),\n",
              " ('wizard of oz, the (1939)', 0.01738222477376351),\n",
              " ('sound of music, the (1965)', 0.0111434063529592)]"
            ]
          },
          "metadata": {},
          "execution_count": 381
        }
      ]
    },
    {
      "cell_type": "markdown",
      "metadata": {
        "id": "-Q-BHMDFsRZW"
      },
      "source": [
        "> `african queen, the (1951)`의 경우 `gone with the wind (1939)`가 가장 많이 기여했다. "
      ]
    },
    {
      "cell_type": "markdown",
      "metadata": {
        "id": "2FqiBH5YsdP6"
      },
      "source": [
        "## 추천 영화와 선호하는 영화 장르 비교 "
      ]
    },
    {
      "cell_type": "code",
      "metadata": {
        "colab": {
          "base_uri": "https://localhost:8080/"
        },
        "id": "AhB5wp6MgPX-",
        "outputId": "001c6554-1db7-4429-8a1d-d504f31f3337"
      },
      "source": [
        "recommand_movie_list = ['titanic (1997)',\n",
        " 'west side story (1961)',\n",
        " 'mary poppins (1964)',\n",
        " 'african queen, the (1951)',\n",
        " 'north by northwest (1959)',\n",
        " 'stand by me (1986)',\n",
        " 'who framed roger rabbit? (1988)',\n",
        " 'jurassic park (1993)',\n",
        " 'my fair lady (1964)',\n",
        " 'willy wonka and the chocolate factory (1971)',\n",
        " 'legends of the fall (1994)',\n",
        " 'graduate, the (1967)',\n",
        " 'amadeus (1984)',\n",
        " \"singin' in the rain (1952)\",\n",
        " 'red violin, the (le violon rouge) (1998)',\n",
        " 'american history x (1998)',\n",
        " 'treasure of the sierra madre, the (1948)',\n",
        " 'rudy (1993)',\n",
        " 'snow white and the seven dwarfs (1937)',\n",
        " 'lawrence of arabia (1962)']\n",
        "\n",
        "recommand_movie = movies.loc[movies['title'].isin(recommand_movie_list)]\n",
        "recommand_movie_gerne = ['romance', 'adventure', 'drama', 'musical', 'romance', 'thriller', 'romance','romance','musical', 'adventure', 'adventure', \n",
        "                         'drama', 'romance', 'adventure', 'adventure', 'romance', 'romance', 'drama', 'mystery', 'adventure']\n",
        "recommand_movie['genre'] = recommand_movie_gerne\n",
        "recommand_movie['type'] = ['recommand']*20\n",
        "\n",
        "my_movie_rating_genre = ['romance', 'musical', 'comedy', 'musical', 'adventure']\n",
        "my_movie_rating['genre'] = my_movie_rating_genre\n",
        "my_movie_rating['type'] = ['my favorite']*5\n",
        "\n",
        "movie = pd.concat([my_movie_rating, recommand_movie])"
      ],
      "execution_count": 375,
      "outputs": [
        {
          "output_type": "stream",
          "text": [
            "/usr/local/lib/python3.7/dist-packages/ipykernel_launcher.py:25: SettingWithCopyWarning: \n",
            "A value is trying to be set on a copy of a slice from a DataFrame.\n",
            "Try using .loc[row_indexer,col_indexer] = value instead\n",
            "\n",
            "See the caveats in the documentation: https://pandas.pydata.org/pandas-docs/stable/user_guide/indexing.html#returning-a-view-versus-a-copy\n",
            "/usr/local/lib/python3.7/dist-packages/ipykernel_launcher.py:26: SettingWithCopyWarning: \n",
            "A value is trying to be set on a copy of a slice from a DataFrame.\n",
            "Try using .loc[row_indexer,col_indexer] = value instead\n",
            "\n",
            "See the caveats in the documentation: https://pandas.pydata.org/pandas-docs/stable/user_guide/indexing.html#returning-a-view-versus-a-copy\n"
          ],
          "name": "stderr"
        }
      ]
    },
    {
      "cell_type": "code",
      "metadata": {
        "colab": {
          "base_uri": "https://localhost:8080/",
          "height": 295
        },
        "id": "zb606y3JpvWX",
        "outputId": "5a0cf3f5-cabc-4254-f0d4-a0c646db71ad"
      },
      "source": [
        "import seaborn as sns\n",
        "\n",
        "sns.countplot(x='genre', hue='type', data=movie)"
      ],
      "execution_count": 377,
      "outputs": [
        {
          "output_type": "execute_result",
          "data": {
            "text/plain": [
              "<matplotlib.axes._subplots.AxesSubplot at 0x7f05524da250>"
            ]
          },
          "metadata": {},
          "execution_count": 377
        },
        {
          "output_type": "display_data",
          "data": {
            "image/png": "[encoded data removed]",
            "text/plain": [
              "<Figure size 432x288 with 1 Axes>"
            ]
          },
          "metadata": {
            "needs_background": "light"
          }
        }
      ]
    },
    {
      "cell_type": "markdown",
      "metadata": {
        "id": "mCcgTyEqsiWc"
      },
      "source": [
        "> 영화는 장르에 영향을 많이 받을것이라고 생각보다 많은 영향을 받지 않은 것 같다. 7개의 장르 중 4개만 영향을 받은 것으로 보여진다. "
      ]
    },
    {
      "cell_type": "markdown",
      "metadata": {
        "id": "f2EG4rOYfaIQ"
      },
      "source": [
        "# 회고 \n",
        "\n",
        "머신러닝을 배울 때 가장 처음으로 예시를 드는 것이 로지스틱과 넷플릭스 영화 추천이다. 추천을 하는지(1) 안 하는지 (0)에 대한 내용을 가장 먼저 접했다. 나름의 추천 시스템을 접해서 좋은 경험을 한 것 같다.\n",
        "\n",
        "여러 코드를 작성했는데 비루한 코딩 실력으로 너무 길고 활용적이지 못한 코드라 앞으로 알고리즘 공부를 꼭 해야겠다고 생각했다.\n",
        "\n",
        "모델의 객관적인 지표를 만들고 싶었는데 아직까지 역량이 부족한 것 같다!"
      ]
    },
    {
      "cell_type": "markdown",
      "metadata": {
        "id": "D_AlMXl9-CT-"
      },
      "source": [
        "https://zephyrus1111.tistory.com/46\n",
        "\n",
        "https://pydole.tistory.com/entry/%EC%9E%91%EC%84%B1%EC%A4%91\n",
        "\n",
        "https://dojang.io/mod/page/view.php?id=2299\n",
        "\n",
        "https://seong6496.tistory.com/121\n",
        "\n",
        "https://acdongpgm.tistory.com/166"
      ]
    }
  ]
}