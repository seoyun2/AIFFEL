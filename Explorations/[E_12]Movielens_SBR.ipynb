{
  "nbformat": 4,
  "nbformat_minor": 0,
  "metadata": {
    "colab": {
      "name": "[E_12]Movielens_SBR.ipynb",
      "provenance": [],
      "toc_visible": true
    },
    "kernelspec": {
      "name": "python3",
      "display_name": "Python 3"
    },
    "language_info": {
      "name": "python"
    }
  },
  "cells": [
    {
      "cell_type": "markdown",
      "metadata": {
        "id": "8rLo7Js06t1N"
      },
      "source": [
        "## 1.Data preprocess"
      ]
    },
    {
      "cell_type": "markdown",
      "metadata": {
        "id": "-qkjRE7S6xjl"
      },
      "source": [
        "###1.1 Data Load"
      ]
    },
    {
      "cell_type": "code",
      "metadata": {
        "id": "uK72lb_4KYPT"
      },
      "source": [
        "import datetime as dt\n",
        "from pathlib import Path\n",
        "import os\n",
        "\n",
        "import matplotlib.pyplot as plt\n",
        "import seaborn as sns\n",
        "sns.set_palette(\"pastel\")\n",
        "\n",
        "import numpy as np\n",
        "import pandas as pd\n",
        "import warnings\n",
        "warnings.filterwarnings('ignore')"
      ],
      "execution_count": 211,
      "outputs": []
    },
    {
      "cell_type": "code",
      "metadata": {
        "colab": {
          "base_uri": "https://localhost:8080/",
          "height": 414
        },
        "id": "WrKcBhZTI-hz",
        "outputId": "6e2e732a-b0f0-4fa7-ed36-b1784657db50"
      },
      "source": [
        "data_path = Path('/content/drive/MyDrive/aiffel/yoochoose/data')\n",
        "train_path = data_path / 'ratings.dat'\n",
        "\n",
        "def load_data(data_path: Path, nrows=None):\n",
        "    data = pd.read_csv(data_path, sep='::', header=None, usecols=[0, 1, 2, 3], dtype={0: np.int32, 1: np.int32, 2: np.int32}, nrows=nrows)\n",
        "    data.columns = ['UserId', 'ItemId', 'Rating', 'Time']\n",
        "    return data\n",
        "\n",
        "data = load_data(train_path, None)\n",
        "data.sort_values(['UserId', 'Time'], inplace=True)  # data를 id와 시간 순서로 정렬해줍니다.\n",
        "data"
      ],
      "execution_count": 212,
      "outputs": [
        {
          "output_type": "execute_result",
          "data": {
            "text/html": [
              "<div>\n",
              "<style scoped>\n",
              "    .dataframe tbody tr th:only-of-type {\n",
              "        vertical-align: middle;\n",
              "    }\n",
              "\n",
              "    .dataframe tbody tr th {\n",
              "        vertical-align: top;\n",
              "    }\n",
              "\n",
              "    .dataframe thead th {\n",
              "        text-align: right;\n",
              "    }\n",
              "</style>\n",
              "<table border=\"1\" class=\"dataframe\">\n",
              "  <thead>\n",
              "    <tr style=\"text-align: right;\">\n",
              "      <th></th>\n",
              "      <th>UserId</th>\n",
              "      <th>ItemId</th>\n",
              "      <th>Rating</th>\n",
              "      <th>Time</th>\n",
              "    </tr>\n",
              "  </thead>\n",
              "  <tbody>\n",
              "    <tr>\n",
              "      <th>31</th>\n",
              "      <td>1</td>\n",
              "      <td>3186</td>\n",
              "      <td>4</td>\n",
              "      <td>978300019</td>\n",
              "    </tr>\n",
              "    <tr>\n",
              "      <th>22</th>\n",
              "      <td>1</td>\n",
              "      <td>1270</td>\n",
              "      <td>5</td>\n",
              "      <td>978300055</td>\n",
              "    </tr>\n",
              "    <tr>\n",
              "      <th>27</th>\n",
              "      <td>1</td>\n",
              "      <td>1721</td>\n",
              "      <td>4</td>\n",
              "      <td>978300055</td>\n",
              "    </tr>\n",
              "    <tr>\n",
              "      <th>37</th>\n",
              "      <td>1</td>\n",
              "      <td>1022</td>\n",
              "      <td>5</td>\n",
              "      <td>978300055</td>\n",
              "    </tr>\n",
              "    <tr>\n",
              "      <th>24</th>\n",
              "      <td>1</td>\n",
              "      <td>2340</td>\n",
              "      <td>3</td>\n",
              "      <td>978300103</td>\n",
              "    </tr>\n",
              "    <tr>\n",
              "      <th>...</th>\n",
              "      <td>...</td>\n",
              "      <td>...</td>\n",
              "      <td>...</td>\n",
              "      <td>...</td>\n",
              "    </tr>\n",
              "    <tr>\n",
              "      <th>1000019</th>\n",
              "      <td>6040</td>\n",
              "      <td>2917</td>\n",
              "      <td>4</td>\n",
              "      <td>997454429</td>\n",
              "    </tr>\n",
              "    <tr>\n",
              "      <th>999988</th>\n",
              "      <td>6040</td>\n",
              "      <td>1921</td>\n",
              "      <td>4</td>\n",
              "      <td>997454464</td>\n",
              "    </tr>\n",
              "    <tr>\n",
              "      <th>1000172</th>\n",
              "      <td>6040</td>\n",
              "      <td>1784</td>\n",
              "      <td>3</td>\n",
              "      <td>997454464</td>\n",
              "    </tr>\n",
              "    <tr>\n",
              "      <th>1000167</th>\n",
              "      <td>6040</td>\n",
              "      <td>161</td>\n",
              "      <td>3</td>\n",
              "      <td>997454486</td>\n",
              "    </tr>\n",
              "    <tr>\n",
              "      <th>1000042</th>\n",
              "      <td>6040</td>\n",
              "      <td>1221</td>\n",
              "      <td>4</td>\n",
              "      <td>998315055</td>\n",
              "    </tr>\n",
              "  </tbody>\n",
              "</table>\n",
              "<p>1000209 rows × 4 columns</p>\n",
              "</div>"
            ],
            "text/plain": [
              "         UserId  ItemId  Rating       Time\n",
              "31            1    3186       4  978300019\n",
              "22            1    1270       5  978300055\n",
              "27            1    1721       4  978300055\n",
              "37            1    1022       5  978300055\n",
              "24            1    2340       3  978300103\n",
              "...         ...     ...     ...        ...\n",
              "1000019    6040    2917       4  997454429\n",
              "999988     6040    1921       4  997454464\n",
              "1000172    6040    1784       3  997454464\n",
              "1000167    6040     161       3  997454486\n",
              "1000042    6040    1221       4  998315055\n",
              "\n",
              "[1000209 rows x 4 columns]"
            ]
          },
          "metadata": {},
          "execution_count": 212
        }
      ]
    },
    {
      "cell_type": "code",
      "metadata": {
        "colab": {
          "base_uri": "https://localhost:8080/"
        },
        "id": "RHLsXvOH6bQ2",
        "outputId": "cfb1c8a1-c68d-4af7-ced9-464f1aad0ed3"
      },
      "source": [
        "data['UserId'].nunique(), data['ItemId'].nunique()"
      ],
      "execution_count": 213,
      "outputs": [
        {
          "output_type": "execute_result",
          "data": {
            "text/plain": [
              "(6040, 3706)"
            ]
          },
          "metadata": {},
          "execution_count": 213
        }
      ]
    },
    {
      "cell_type": "markdown",
      "metadata": {
        "id": "_qDY8GX16j_a"
      },
      "source": [
        "### 1.2 Session Length"
      ]
    },
    {
      "cell_type": "markdown",
      "metadata": {
        "id": "Jgre5V469w2Q"
      },
      "source": [
        "__User_length__ "
      ]
    },
    {
      "cell_type": "code",
      "metadata": {
        "colab": {
          "base_uri": "https://localhost:8080/"
        },
        "id": "wOZFPT496kO-",
        "outputId": "ea44017d-977d-46b3-8347-df80c0ab5fa1"
      },
      "source": [
        "# 사용자가 몇번의 액션을 취했는지(몇개의 평가를 했는지)\n",
        "User_length = data.groupby('UserId').size()\n",
        "User_length"
      ],
      "execution_count": 214,
      "outputs": [
        {
          "output_type": "execute_result",
          "data": {
            "text/plain": [
              "UserId\n",
              "1        53\n",
              "2       129\n",
              "3        51\n",
              "4        21\n",
              "5       198\n",
              "       ... \n",
              "6036    888\n",
              "6037    202\n",
              "6038     20\n",
              "6039    123\n",
              "6040    341\n",
              "Length: 6040, dtype: int64"
            ]
          },
          "metadata": {},
          "execution_count": 214
        }
      ]
    },
    {
      "cell_type": "code",
      "metadata": {
        "colab": {
          "base_uri": "https://localhost:8080/"
        },
        "id": "N9paoSJS8ig2",
        "outputId": "ef5ab5b5-dbbc-42ca-e6d8-9e8e551ecfc0"
      },
      "source": [
        "print('median :', User_length.median())\n",
        "print('mean   : {:.1f}'.format(User_length.mean()))\n",
        "print('min    :', User_length.min())\n",
        "print('max    :', User_length.max())"
      ],
      "execution_count": 215,
      "outputs": [
        {
          "output_type": "stream",
          "name": "stdout",
          "text": [
            "median : 96.0\n",
            "mean   : 165.6\n",
            "min    : 20\n",
            "max    : 2314\n"
          ]
        }
      ]
    },
    {
      "cell_type": "markdown",
      "metadata": {
        "id": "AW0MAR7Q_3AK"
      },
      "source": [
        "* 사용자들은 평균적으로 165번의 평가를 함\n",
        "* 가장 적은 평가를 한 사용자는 20번, 가장 많이 평가를 한 사용자는 2314번 평가를 함"
      ]
    },
    {
      "cell_type": "code",
      "metadata": {
        "colab": {
          "base_uri": "https://localhost:8080/",
          "height": 202
        },
        "id": "e-58TGBo-GJq",
        "outputId": "e3076447-043d-4041-a60e-17aa51c48386"
      },
      "source": [
        "# 가장 평가를 많이 한 사용자의 평가 내역 \n",
        "many_rating = User_length[User_length==2314].index[0]\n",
        "many_rating_user = data[data['UserId']==many_rating]\n",
        "many_rating_user.head(5)"
      ],
      "execution_count": 216,
      "outputs": [
        {
          "output_type": "execute_result",
          "data": {
            "text/html": [
              "<div>\n",
              "<style scoped>\n",
              "    .dataframe tbody tr th:only-of-type {\n",
              "        vertical-align: middle;\n",
              "    }\n",
              "\n",
              "    .dataframe tbody tr th {\n",
              "        vertical-align: top;\n",
              "    }\n",
              "\n",
              "    .dataframe thead th {\n",
              "        text-align: right;\n",
              "    }\n",
              "</style>\n",
              "<table border=\"1\" class=\"dataframe\">\n",
              "  <thead>\n",
              "    <tr style=\"text-align: right;\">\n",
              "      <th></th>\n",
              "      <th>UserId</th>\n",
              "      <th>ItemId</th>\n",
              "      <th>Rating</th>\n",
              "      <th>Time</th>\n",
              "    </tr>\n",
              "  </thead>\n",
              "  <tbody>\n",
              "    <tr>\n",
              "      <th>696969</th>\n",
              "      <td>4169</td>\n",
              "      <td>1268</td>\n",
              "      <td>5</td>\n",
              "      <td>965333392</td>\n",
              "    </tr>\n",
              "    <tr>\n",
              "      <th>697168</th>\n",
              "      <td>4169</td>\n",
              "      <td>2617</td>\n",
              "      <td>4</td>\n",
              "      <td>965333392</td>\n",
              "    </tr>\n",
              "    <tr>\n",
              "      <th>697185</th>\n",
              "      <td>4169</td>\n",
              "      <td>2628</td>\n",
              "      <td>4</td>\n",
              "      <td>965333392</td>\n",
              "    </tr>\n",
              "    <tr>\n",
              "      <th>697219</th>\n",
              "      <td>4169</td>\n",
              "      <td>2653</td>\n",
              "      <td>4</td>\n",
              "      <td>965333392</td>\n",
              "    </tr>\n",
              "    <tr>\n",
              "      <th>697275</th>\n",
              "      <td>4169</td>\n",
              "      <td>423</td>\n",
              "      <td>3</td>\n",
              "      <td>965333392</td>\n",
              "    </tr>\n",
              "  </tbody>\n",
              "</table>\n",
              "</div>"
            ],
            "text/plain": [
              "        UserId  ItemId  Rating       Time\n",
              "696969    4169    1268       5  965333392\n",
              "697168    4169    2617       4  965333392\n",
              "697185    4169    2628       4  965333392\n",
              "697219    4169    2653       4  965333392\n",
              "697275    4169     423       3  965333392"
            ]
          },
          "metadata": {},
          "execution_count": 216
        }
      ]
    },
    {
      "cell_type": "code",
      "metadata": {
        "colab": {
          "base_uri": "https://localhost:8080/",
          "height": 311
        },
        "id": "ggZvI3irA3H4",
        "outputId": "f26a5945-07b0-412c-851c-10f886a68f33"
      },
      "source": [
        "sns.countplot(many_rating_user['Rating'])\n",
        "plt.title('UserID:4169')"
      ],
      "execution_count": 217,
      "outputs": [
        {
          "output_type": "execute_result",
          "data": {
            "text/plain": [
              "Text(0.5, 1.0, 'UserID:4169')"
            ]
          },
          "metadata": {},
          "execution_count": 217
        },
        {
          "output_type": "display_data",
          "data": {
            "image/png": "[encoded data removed]",
            "text/plain": [
              "<Figure size 432x288 with 1 Axes>"
            ]
          },
          "metadata": {
            "needs_background": "light"
          }
        }
      ]
    },
    {
      "cell_type": "markdown",
      "metadata": {
        "id": "6eU-sLMaCKyP"
      },
      "source": [
        "* 가장 많은 평가를 남긴 `UserID : 4169`는 같은 시간에 많은 평가를 남긴 것을 확인함\n",
        "* 영화를 보지 않아도 평가하는 것을 좋아하거나, 영화광으로 영화를 굉장히 많이 본 사람이 서비스를 이용을 시작하고 평가를 남긴 것으로 예상함\n",
        "* 모든 영화에 같은 평점을 주지 않았으므로 남겨둠"
      ]
    },
    {
      "cell_type": "code",
      "metadata": {
        "colab": {
          "base_uri": "https://localhost:8080/",
          "height": 501
        },
        "id": "-iDEyl1pCv0h",
        "outputId": "f053fb4b-b322-4b2b-d898-1ffefa29d9d9"
      },
      "source": [
        "length_count = User_length.groupby(User_length).size()\n",
        "length_percent_cumsum = length_count.cumsum() / length_count.sum()\n",
        "length_percent_cumsum_999 = length_percent_cumsum[length_percent_cumsum < 0.999]\n",
        "\n",
        "plt.figure(figsize=(20, 10))\n",
        "plt.bar(x=length_percent_cumsum_999.index,\n",
        "        height=length_percent_cumsum_999)\n",
        "plt.xticks(length_percent_cumsum_999.index)\n",
        "plt.yticks(np.arange(0, 1.01, 0.05))\n",
        "plt.title('Cumsum Percentage Until 0.999', size=20)\n",
        "plt.show()"
      ],
      "execution_count": 218,
      "outputs": [
        {
          "output_type": "display_data",
          "data": {
            "image/png": "[encoded data removed]",
            "text/plain": [
              "<Figure size 1440x720 with 1 Axes>"
            ]
          },
          "metadata": {
            "needs_background": "light"
          }
        }
      ]
    },
    {
      "cell_type": "markdown",
      "metadata": {
        "id": "1zyRyacXErd_"
      },
      "source": [
        "### 1.3 Session Time\n",
        "\n",
        "https://inma.tistory.com/96"
      ]
    },
    {
      "cell_type": "code",
      "metadata": {
        "colab": {
          "base_uri": "https://localhost:8080/"
        },
        "id": "woTfKTiZFs4t",
        "outputId": "9af3c3c5-4177-4b80-b568-26c72d981483"
      },
      "source": [
        "from datetime import datetime\n",
        "import time\n",
        "timestamp = time.time()\n",
        "print('timestamp :', timestamp)\n",
        "\n",
        "today = datetime.fromtimestamp(timestamp)\n",
        "print('datetime  :', today)"
      ],
      "execution_count": 219,
      "outputs": [
        {
          "output_type": "stream",
          "name": "stdout",
          "text": [
            "timestamp : 1630417021.5984845\n",
            "datetime  : 2021-08-31 13:37:01.598485\n"
          ]
        }
      ]
    },
    {
      "cell_type": "code",
      "metadata": {
        "colab": {
          "base_uri": "https://localhost:8080/",
          "height": 414
        },
        "id": "GhJG4bXFIFjD",
        "outputId": "d1691a18-578f-414b-93d4-6b24b72ed723"
      },
      "source": [
        "from datetime import datetime\n",
        "\n",
        "data['Time'] = data['Time'].map(lambda x: datetime.fromtimestamp(x))\n",
        "data"
      ],
      "execution_count": 220,
      "outputs": [
        {
          "output_type": "execute_result",
          "data": {
            "text/html": [
              "<div>\n",
              "<style scoped>\n",
              "    .dataframe tbody tr th:only-of-type {\n",
              "        vertical-align: middle;\n",
              "    }\n",
              "\n",
              "    .dataframe tbody tr th {\n",
              "        vertical-align: top;\n",
              "    }\n",
              "\n",
              "    .dataframe thead th {\n",
              "        text-align: right;\n",
              "    }\n",
              "</style>\n",
              "<table border=\"1\" class=\"dataframe\">\n",
              "  <thead>\n",
              "    <tr style=\"text-align: right;\">\n",
              "      <th></th>\n",
              "      <th>UserId</th>\n",
              "      <th>ItemId</th>\n",
              "      <th>Rating</th>\n",
              "      <th>Time</th>\n",
              "    </tr>\n",
              "  </thead>\n",
              "  <tbody>\n",
              "    <tr>\n",
              "      <th>31</th>\n",
              "      <td>1</td>\n",
              "      <td>3186</td>\n",
              "      <td>4</td>\n",
              "      <td>2000-12-31 22:00:19</td>\n",
              "    </tr>\n",
              "    <tr>\n",
              "      <th>22</th>\n",
              "      <td>1</td>\n",
              "      <td>1270</td>\n",
              "      <td>5</td>\n",
              "      <td>2000-12-31 22:00:55</td>\n",
              "    </tr>\n",
              "    <tr>\n",
              "      <th>27</th>\n",
              "      <td>1</td>\n",
              "      <td>1721</td>\n",
              "      <td>4</td>\n",
              "      <td>2000-12-31 22:00:55</td>\n",
              "    </tr>\n",
              "    <tr>\n",
              "      <th>37</th>\n",
              "      <td>1</td>\n",
              "      <td>1022</td>\n",
              "      <td>5</td>\n",
              "      <td>2000-12-31 22:00:55</td>\n",
              "    </tr>\n",
              "    <tr>\n",
              "      <th>24</th>\n",
              "      <td>1</td>\n",
              "      <td>2340</td>\n",
              "      <td>3</td>\n",
              "      <td>2000-12-31 22:01:43</td>\n",
              "    </tr>\n",
              "    <tr>\n",
              "      <th>...</th>\n",
              "      <td>...</td>\n",
              "      <td>...</td>\n",
              "      <td>...</td>\n",
              "      <td>...</td>\n",
              "    </tr>\n",
              "    <tr>\n",
              "      <th>1000019</th>\n",
              "      <td>6040</td>\n",
              "      <td>2917</td>\n",
              "      <td>4</td>\n",
              "      <td>2001-08-10 14:40:29</td>\n",
              "    </tr>\n",
              "    <tr>\n",
              "      <th>999988</th>\n",
              "      <td>6040</td>\n",
              "      <td>1921</td>\n",
              "      <td>4</td>\n",
              "      <td>2001-08-10 14:41:04</td>\n",
              "    </tr>\n",
              "    <tr>\n",
              "      <th>1000172</th>\n",
              "      <td>6040</td>\n",
              "      <td>1784</td>\n",
              "      <td>3</td>\n",
              "      <td>2001-08-10 14:41:04</td>\n",
              "    </tr>\n",
              "    <tr>\n",
              "      <th>1000167</th>\n",
              "      <td>6040</td>\n",
              "      <td>161</td>\n",
              "      <td>3</td>\n",
              "      <td>2001-08-10 14:41:26</td>\n",
              "    </tr>\n",
              "    <tr>\n",
              "      <th>1000042</th>\n",
              "      <td>6040</td>\n",
              "      <td>1221</td>\n",
              "      <td>4</td>\n",
              "      <td>2001-08-20 13:44:15</td>\n",
              "    </tr>\n",
              "  </tbody>\n",
              "</table>\n",
              "<p>1000209 rows × 4 columns</p>\n",
              "</div>"
            ],
            "text/plain": [
              "         UserId  ItemId  Rating                Time\n",
              "31            1    3186       4 2000-12-31 22:00:19\n",
              "22            1    1270       5 2000-12-31 22:00:55\n",
              "27            1    1721       4 2000-12-31 22:00:55\n",
              "37            1    1022       5 2000-12-31 22:00:55\n",
              "24            1    2340       3 2000-12-31 22:01:43\n",
              "...         ...     ...     ...                 ...\n",
              "1000019    6040    2917       4 2001-08-10 14:40:29\n",
              "999988     6040    1921       4 2001-08-10 14:41:04\n",
              "1000172    6040    1784       3 2001-08-10 14:41:04\n",
              "1000167    6040     161       3 2001-08-10 14:41:26\n",
              "1000042    6040    1221       4 2001-08-20 13:44:15\n",
              "\n",
              "[1000209 rows x 4 columns]"
            ]
          },
          "metadata": {},
          "execution_count": 220
        }
      ]
    },
    {
      "cell_type": "code",
      "metadata": {
        "colab": {
          "base_uri": "https://localhost:8080/"
        },
        "id": "BvGRwqz4N1Sp",
        "outputId": "4a37399e-cb10-4fe3-ae88-67107deb83b1"
      },
      "source": [
        "oldest, latest = data['Time'].min(), data['Time'].max()\n",
        "print(oldest) \n",
        "print(latest)"
      ],
      "execution_count": 221,
      "outputs": [
        {
          "output_type": "stream",
          "name": "stdout",
          "text": [
            "2000-04-25 23:05:32\n",
            "2003-02-28 17:49:50\n"
          ]
        }
      ]
    },
    {
      "cell_type": "code",
      "metadata": {
        "colab": {
          "base_uri": "https://localhost:8080/",
          "height": 414
        },
        "id": "v8BkbmTCOB4t",
        "outputId": "e2222ee0-c818-4e1d-ab4b-be5473c2eac2"
      },
      "source": [
        "month_ago = latest - dt.timedelta(30)     # 최종 날짜로부터 30일 이전 날짜를 구한다.  \n",
        "data_month = data[data['Time'] > month_ago]   # 방금 구한 날짜 이후의 데이터만 모은다. \n",
        "data_month"
      ],
      "execution_count": 222,
      "outputs": [
        {
          "output_type": "execute_result",
          "data": {
            "text/html": [
              "<div>\n",
              "<style scoped>\n",
              "    .dataframe tbody tr th:only-of-type {\n",
              "        vertical-align: middle;\n",
              "    }\n",
              "\n",
              "    .dataframe tbody tr th {\n",
              "        vertical-align: top;\n",
              "    }\n",
              "\n",
              "    .dataframe thead th {\n",
              "        text-align: right;\n",
              "    }\n",
              "</style>\n",
              "<table border=\"1\" class=\"dataframe\">\n",
              "  <thead>\n",
              "    <tr style=\"text-align: right;\">\n",
              "      <th></th>\n",
              "      <th>UserId</th>\n",
              "      <th>ItemId</th>\n",
              "      <th>Rating</th>\n",
              "      <th>Time</th>\n",
              "    </tr>\n",
              "  </thead>\n",
              "  <tbody>\n",
              "    <tr>\n",
              "      <th>28225</th>\n",
              "      <td>195</td>\n",
              "      <td>2808</td>\n",
              "      <td>3</td>\n",
              "      <td>2003-02-02 21:08:38</td>\n",
              "    </tr>\n",
              "    <tr>\n",
              "      <th>27759</th>\n",
              "      <td>195</td>\n",
              "      <td>1254</td>\n",
              "      <td>4</td>\n",
              "      <td>2003-02-06 17:23:42</td>\n",
              "    </tr>\n",
              "    <tr>\n",
              "      <th>27921</th>\n",
              "      <td>195</td>\n",
              "      <td>1456</td>\n",
              "      <td>2</td>\n",
              "      <td>2003-02-08 00:07:32</td>\n",
              "    </tr>\n",
              "    <tr>\n",
              "      <th>28443</th>\n",
              "      <td>195</td>\n",
              "      <td>468</td>\n",
              "      <td>3</td>\n",
              "      <td>2003-02-11 17:42:36</td>\n",
              "    </tr>\n",
              "    <tr>\n",
              "      <th>28255</th>\n",
              "      <td>195</td>\n",
              "      <td>2748</td>\n",
              "      <td>1</td>\n",
              "      <td>2003-02-11 18:23:28</td>\n",
              "    </tr>\n",
              "    <tr>\n",
              "      <th>...</th>\n",
              "      <td>...</td>\n",
              "      <td>...</td>\n",
              "      <td>...</td>\n",
              "      <td>...</td>\n",
              "    </tr>\n",
              "    <tr>\n",
              "      <th>984731</th>\n",
              "      <td>5950</td>\n",
              "      <td>3948</td>\n",
              "      <td>4</td>\n",
              "      <td>2003-02-27 18:13:57</td>\n",
              "    </tr>\n",
              "    <tr>\n",
              "      <th>984682</th>\n",
              "      <td>5950</td>\n",
              "      <td>3578</td>\n",
              "      <td>4</td>\n",
              "      <td>2003-02-27 18:14:30</td>\n",
              "    </tr>\n",
              "    <tr>\n",
              "      <th>984475</th>\n",
              "      <td>5950</td>\n",
              "      <td>3793</td>\n",
              "      <td>3</td>\n",
              "      <td>2003-02-27 18:15:10</td>\n",
              "    </tr>\n",
              "    <tr>\n",
              "      <th>984660</th>\n",
              "      <td>5950</td>\n",
              "      <td>3555</td>\n",
              "      <td>2</td>\n",
              "      <td>2003-02-27 18:15:37</td>\n",
              "    </tr>\n",
              "    <tr>\n",
              "      <th>984733</th>\n",
              "      <td>5950</td>\n",
              "      <td>1262</td>\n",
              "      <td>4</td>\n",
              "      <td>2003-02-27 18:17:38</td>\n",
              "    </tr>\n",
              "  </tbody>\n",
              "</table>\n",
              "<p>1551 rows × 4 columns</p>\n",
              "</div>"
            ],
            "text/plain": [
              "        UserId  ItemId  Rating                Time\n",
              "28225      195    2808       3 2003-02-02 21:08:38\n",
              "27759      195    1254       4 2003-02-06 17:23:42\n",
              "27921      195    1456       2 2003-02-08 00:07:32\n",
              "28443      195     468       3 2003-02-11 17:42:36\n",
              "28255      195    2748       1 2003-02-11 18:23:28\n",
              "...        ...     ...     ...                 ...\n",
              "984731    5950    3948       4 2003-02-27 18:13:57\n",
              "984682    5950    3578       4 2003-02-27 18:14:30\n",
              "984475    5950    3793       3 2003-02-27 18:15:10\n",
              "984660    5950    3555       2 2003-02-27 18:15:37\n",
              "984733    5950    1262       4 2003-02-27 18:17:38\n",
              "\n",
              "[1551 rows x 4 columns]"
            ]
          },
          "metadata": {},
          "execution_count": 222
        }
      ]
    },
    {
      "cell_type": "markdown",
      "metadata": {
        "id": "b6qbjVE5OJ0O"
      },
      "source": [
        "* 1551개의 데이터는 학습을 시키기에 적은양으로 생각되어 2년치의 데이터 사용"
      ]
    },
    {
      "cell_type": "code",
      "metadata": {
        "colab": {
          "base_uri": "https://localhost:8080/",
          "height": 414
        },
        "id": "qbuFpN9aUyU7",
        "outputId": "e3861ec7-b857-49c1-f572-062c551dc93a"
      },
      "source": [
        "month_ago = latest - dt.timedelta(760)     # 최종 날짜로부터 30일 이전 날짜를 구한다.  \n",
        "data = data[data['Time'] > month_ago]   # 방금 구한 날짜 이후의 데이터만 모은다. \n",
        "data"
      ],
      "execution_count": 223,
      "outputs": [
        {
          "output_type": "execute_result",
          "data": {
            "text/html": [
              "<div>\n",
              "<style scoped>\n",
              "    .dataframe tbody tr th:only-of-type {\n",
              "        vertical-align: middle;\n",
              "    }\n",
              "\n",
              "    .dataframe tbody tr th {\n",
              "        vertical-align: top;\n",
              "    }\n",
              "\n",
              "    .dataframe thead th {\n",
              "        text-align: right;\n",
              "    }\n",
              "</style>\n",
              "<table border=\"1\" class=\"dataframe\">\n",
              "  <thead>\n",
              "    <tr style=\"text-align: right;\">\n",
              "      <th></th>\n",
              "      <th>UserId</th>\n",
              "      <th>ItemId</th>\n",
              "      <th>Rating</th>\n",
              "      <th>Time</th>\n",
              "    </tr>\n",
              "  </thead>\n",
              "  <tbody>\n",
              "    <tr>\n",
              "      <th>2460</th>\n",
              "      <td>19</td>\n",
              "      <td>1215</td>\n",
              "      <td>5</td>\n",
              "      <td>2001-01-30 03:23:00</td>\n",
              "    </tr>\n",
              "    <tr>\n",
              "      <th>2475</th>\n",
              "      <td>19</td>\n",
              "      <td>111</td>\n",
              "      <td>4</td>\n",
              "      <td>2001-02-14 04:30:19</td>\n",
              "    </tr>\n",
              "    <tr>\n",
              "      <th>2391</th>\n",
              "      <td>19</td>\n",
              "      <td>32</td>\n",
              "      <td>4</td>\n",
              "      <td>2001-02-14 22:37:51</td>\n",
              "    </tr>\n",
              "    <tr>\n",
              "      <th>2395</th>\n",
              "      <td>19</td>\n",
              "      <td>2336</td>\n",
              "      <td>2</td>\n",
              "      <td>2001-02-14 22:42:10</td>\n",
              "    </tr>\n",
              "    <tr>\n",
              "      <th>2465</th>\n",
              "      <td>19</td>\n",
              "      <td>2888</td>\n",
              "      <td>2</td>\n",
              "      <td>2001-02-14 22:42:10</td>\n",
              "    </tr>\n",
              "    <tr>\n",
              "      <th>...</th>\n",
              "      <td>...</td>\n",
              "      <td>...</td>\n",
              "      <td>...</td>\n",
              "      <td>...</td>\n",
              "    </tr>\n",
              "    <tr>\n",
              "      <th>1000019</th>\n",
              "      <td>6040</td>\n",
              "      <td>2917</td>\n",
              "      <td>4</td>\n",
              "      <td>2001-08-10 14:40:29</td>\n",
              "    </tr>\n",
              "    <tr>\n",
              "      <th>999988</th>\n",
              "      <td>6040</td>\n",
              "      <td>1921</td>\n",
              "      <td>4</td>\n",
              "      <td>2001-08-10 14:41:04</td>\n",
              "    </tr>\n",
              "    <tr>\n",
              "      <th>1000172</th>\n",
              "      <td>6040</td>\n",
              "      <td>1784</td>\n",
              "      <td>3</td>\n",
              "      <td>2001-08-10 14:41:04</td>\n",
              "    </tr>\n",
              "    <tr>\n",
              "      <th>1000167</th>\n",
              "      <td>6040</td>\n",
              "      <td>161</td>\n",
              "      <td>3</td>\n",
              "      <td>2001-08-10 14:41:26</td>\n",
              "    </tr>\n",
              "    <tr>\n",
              "      <th>1000042</th>\n",
              "      <td>6040</td>\n",
              "      <td>1221</td>\n",
              "      <td>4</td>\n",
              "      <td>2001-08-20 13:44:15</td>\n",
              "    </tr>\n",
              "  </tbody>\n",
              "</table>\n",
              "<p>78114 rows × 4 columns</p>\n",
              "</div>"
            ],
            "text/plain": [
              "         UserId  ItemId  Rating                Time\n",
              "2460         19    1215       5 2001-01-30 03:23:00\n",
              "2475         19     111       4 2001-02-14 04:30:19\n",
              "2391         19      32       4 2001-02-14 22:37:51\n",
              "2395         19    2336       2 2001-02-14 22:42:10\n",
              "2465         19    2888       2 2001-02-14 22:42:10\n",
              "...         ...     ...     ...                 ...\n",
              "1000019    6040    2917       4 2001-08-10 14:40:29\n",
              "999988     6040    1921       4 2001-08-10 14:41:04\n",
              "1000172    6040    1784       3 2001-08-10 14:41:04\n",
              "1000167    6040     161       3 2001-08-10 14:41:26\n",
              "1000042    6040    1221       4 2001-08-20 13:44:15\n",
              "\n",
              "[78114 rows x 4 columns]"
            ]
          },
          "metadata": {},
          "execution_count": 223
        }
      ]
    },
    {
      "cell_type": "markdown",
      "metadata": {
        "id": "wgg7ks7cUJhu"
      },
      "source": [
        "### 1.4 Data Cleansing\n",
        "\n",
        "최소 1개 이상 평가했을 때, 다음 평가를 예측하는 것이 목표이므로 길이가 1인 세션 제거"
      ]
    },
    {
      "cell_type": "code",
      "metadata": {
        "id": "YZPe8D_GRiD7"
      },
      "source": [
        "def cleanse_recursive(data: pd.DataFrame, shortest, least_click) -> pd.DataFrame:\n",
        "    while True:\n",
        "        before_len = len(data)\n",
        "        data = cleanse_short_session(data, shortest)\n",
        "        data = cleanse_unpopular_item(data, least_click)\n",
        "        after_len = len(data)\n",
        "        if before_len == after_len:\n",
        "            break\n",
        "    return data\n",
        "\n",
        "\n",
        "def cleanse_short_session(data: pd.DataFrame, shortest):\n",
        "    session_len = data.groupby('UserId').size()\n",
        "    session_use = session_len[session_len >= shortest].index\n",
        "    data = data[data['UserId'].isin(session_use)]\n",
        "    return data\n",
        "\n",
        "\n",
        "def cleanse_unpopular_item(data: pd.DataFrame, least_click):\n",
        "    item_popular = data.groupby('ItemId').size()\n",
        "    item_use = item_popular[item_popular >= least_click].index\n",
        "    data = data[data['ItemId'].isin(item_use)]\n",
        "    return data"
      ],
      "execution_count": 224,
      "outputs": []
    },
    {
      "cell_type": "code",
      "metadata": {
        "colab": {
          "base_uri": "https://localhost:8080/",
          "height": 414
        },
        "id": "sqZ403a1SJFL",
        "outputId": "60514798-f123-435e-c81e-70b557cd97b6"
      },
      "source": [
        "data = cleanse_recursive(data, shortest=2, least_click=5)\n",
        "data"
      ],
      "execution_count": 225,
      "outputs": [
        {
          "output_type": "execute_result",
          "data": {
            "text/html": [
              "<div>\n",
              "<style scoped>\n",
              "    .dataframe tbody tr th:only-of-type {\n",
              "        vertical-align: middle;\n",
              "    }\n",
              "\n",
              "    .dataframe tbody tr th {\n",
              "        vertical-align: top;\n",
              "    }\n",
              "\n",
              "    .dataframe thead th {\n",
              "        text-align: right;\n",
              "    }\n",
              "</style>\n",
              "<table border=\"1\" class=\"dataframe\">\n",
              "  <thead>\n",
              "    <tr style=\"text-align: right;\">\n",
              "      <th></th>\n",
              "      <th>UserId</th>\n",
              "      <th>ItemId</th>\n",
              "      <th>Rating</th>\n",
              "      <th>Time</th>\n",
              "    </tr>\n",
              "  </thead>\n",
              "  <tbody>\n",
              "    <tr>\n",
              "      <th>2460</th>\n",
              "      <td>19</td>\n",
              "      <td>1215</td>\n",
              "      <td>5</td>\n",
              "      <td>2001-01-30 03:23:00</td>\n",
              "    </tr>\n",
              "    <tr>\n",
              "      <th>2475</th>\n",
              "      <td>19</td>\n",
              "      <td>111</td>\n",
              "      <td>4</td>\n",
              "      <td>2001-02-14 04:30:19</td>\n",
              "    </tr>\n",
              "    <tr>\n",
              "      <th>2391</th>\n",
              "      <td>19</td>\n",
              "      <td>32</td>\n",
              "      <td>4</td>\n",
              "      <td>2001-02-14 22:37:51</td>\n",
              "    </tr>\n",
              "    <tr>\n",
              "      <th>2395</th>\n",
              "      <td>19</td>\n",
              "      <td>2336</td>\n",
              "      <td>2</td>\n",
              "      <td>2001-02-14 22:42:10</td>\n",
              "    </tr>\n",
              "    <tr>\n",
              "      <th>2465</th>\n",
              "      <td>19</td>\n",
              "      <td>2888</td>\n",
              "      <td>2</td>\n",
              "      <td>2001-02-14 22:42:10</td>\n",
              "    </tr>\n",
              "    <tr>\n",
              "      <th>...</th>\n",
              "      <td>...</td>\n",
              "      <td>...</td>\n",
              "      <td>...</td>\n",
              "      <td>...</td>\n",
              "    </tr>\n",
              "    <tr>\n",
              "      <th>1000019</th>\n",
              "      <td>6040</td>\n",
              "      <td>2917</td>\n",
              "      <td>4</td>\n",
              "      <td>2001-08-10 14:40:29</td>\n",
              "    </tr>\n",
              "    <tr>\n",
              "      <th>999988</th>\n",
              "      <td>6040</td>\n",
              "      <td>1921</td>\n",
              "      <td>4</td>\n",
              "      <td>2001-08-10 14:41:04</td>\n",
              "    </tr>\n",
              "    <tr>\n",
              "      <th>1000172</th>\n",
              "      <td>6040</td>\n",
              "      <td>1784</td>\n",
              "      <td>3</td>\n",
              "      <td>2001-08-10 14:41:04</td>\n",
              "    </tr>\n",
              "    <tr>\n",
              "      <th>1000167</th>\n",
              "      <td>6040</td>\n",
              "      <td>161</td>\n",
              "      <td>3</td>\n",
              "      <td>2001-08-10 14:41:26</td>\n",
              "    </tr>\n",
              "    <tr>\n",
              "      <th>1000042</th>\n",
              "      <td>6040</td>\n",
              "      <td>1221</td>\n",
              "      <td>4</td>\n",
              "      <td>2001-08-20 13:44:15</td>\n",
              "    </tr>\n",
              "  </tbody>\n",
              "</table>\n",
              "<p>76248 rows × 4 columns</p>\n",
              "</div>"
            ],
            "text/plain": [
              "         UserId  ItemId  Rating                Time\n",
              "2460         19    1215       5 2001-01-30 03:23:00\n",
              "2475         19     111       4 2001-02-14 04:30:19\n",
              "2391         19      32       4 2001-02-14 22:37:51\n",
              "2395         19    2336       2 2001-02-14 22:42:10\n",
              "2465         19    2888       2 2001-02-14 22:42:10\n",
              "...         ...     ...     ...                 ...\n",
              "1000019    6040    2917       4 2001-08-10 14:40:29\n",
              "999988     6040    1921       4 2001-08-10 14:41:04\n",
              "1000172    6040    1784       3 2001-08-10 14:41:04\n",
              "1000167    6040     161       3 2001-08-10 14:41:26\n",
              "1000042    6040    1221       4 2001-08-20 13:44:15\n",
              "\n",
              "[76248 rows x 4 columns]"
            ]
          },
          "metadata": {},
          "execution_count": 225
        }
      ]
    },
    {
      "cell_type": "markdown",
      "metadata": {
        "id": "6Q_gYc3USdrm"
      },
      "source": [
        "### 1.5 Train/ Valid/ Test split\n",
        "\n",
        "2년치의 데이터를 사용했으니 test, val은 40일씩으로 잡음"
      ]
    },
    {
      "cell_type": "code",
      "metadata": {
        "colab": {
          "base_uri": "https://localhost:8080/"
        },
        "id": "SywjjqZpT94I",
        "outputId": "4e239c85-e72a-4cff-9e11-1a658592e3d4"
      },
      "source": [
        "print('min    :', data['Time'].min())\n",
        "print('max    :', data['Time'].max())"
      ],
      "execution_count": 226,
      "outputs": [
        {
          "output_type": "stream",
          "name": "stdout",
          "text": [
            "min    : 2001-01-29 18:00:31\n",
            "max    : 2003-02-28 17:49:50\n"
          ]
        }
      ]
    },
    {
      "cell_type": "code",
      "metadata": {
        "colab": {
          "base_uri": "https://localhost:8080/"
        },
        "id": "sxMlPgwUSg27",
        "outputId": "e123c453-fa3e-4806-e31e-93bad446c4d6"
      },
      "source": [
        "test_time = data['Time'].max() - dt.timedelta(40)\n",
        "test_time"
      ],
      "execution_count": 227,
      "outputs": [
        {
          "output_type": "execute_result",
          "data": {
            "text/plain": [
              "Timestamp('2003-01-19 17:49:50')"
            ]
          },
          "metadata": {},
          "execution_count": 227
        }
      ]
    },
    {
      "cell_type": "code",
      "metadata": {
        "colab": {
          "base_uri": "https://localhost:8080/"
        },
        "id": "rvjOv0B_T9UC",
        "outputId": "4beeddec-d32e-4942-e294-845d58f347e2"
      },
      "source": [
        "valid_time = data['Time'].max() - dt.timedelta(80) \n",
        "valid_time"
      ],
      "execution_count": 228,
      "outputs": [
        {
          "output_type": "execute_result",
          "data": {
            "text/plain": [
              "Timestamp('2002-12-10 17:49:50')"
            ]
          },
          "metadata": {},
          "execution_count": 228
        }
      ]
    },
    {
      "cell_type": "code",
      "metadata": {
        "colab": {
          "base_uri": "https://localhost:8080/",
          "height": 414
        },
        "id": "dbWPXceYVFXp",
        "outputId": "183cfdc1-dd7c-4626-de46-e675b9cf6339"
      },
      "source": [
        "tr = data[data['Time'] <= valid_time]\n",
        "tr"
      ],
      "execution_count": 229,
      "outputs": [
        {
          "output_type": "execute_result",
          "data": {
            "text/html": [
              "<div>\n",
              "<style scoped>\n",
              "    .dataframe tbody tr th:only-of-type {\n",
              "        vertical-align: middle;\n",
              "    }\n",
              "\n",
              "    .dataframe tbody tr th {\n",
              "        vertical-align: top;\n",
              "    }\n",
              "\n",
              "    .dataframe thead th {\n",
              "        text-align: right;\n",
              "    }\n",
              "</style>\n",
              "<table border=\"1\" class=\"dataframe\">\n",
              "  <thead>\n",
              "    <tr style=\"text-align: right;\">\n",
              "      <th></th>\n",
              "      <th>UserId</th>\n",
              "      <th>ItemId</th>\n",
              "      <th>Rating</th>\n",
              "      <th>Time</th>\n",
              "    </tr>\n",
              "  </thead>\n",
              "  <tbody>\n",
              "    <tr>\n",
              "      <th>2460</th>\n",
              "      <td>19</td>\n",
              "      <td>1215</td>\n",
              "      <td>5</td>\n",
              "      <td>2001-01-30 03:23:00</td>\n",
              "    </tr>\n",
              "    <tr>\n",
              "      <th>2475</th>\n",
              "      <td>19</td>\n",
              "      <td>111</td>\n",
              "      <td>4</td>\n",
              "      <td>2001-02-14 04:30:19</td>\n",
              "    </tr>\n",
              "    <tr>\n",
              "      <th>2391</th>\n",
              "      <td>19</td>\n",
              "      <td>32</td>\n",
              "      <td>4</td>\n",
              "      <td>2001-02-14 22:37:51</td>\n",
              "    </tr>\n",
              "    <tr>\n",
              "      <th>2395</th>\n",
              "      <td>19</td>\n",
              "      <td>2336</td>\n",
              "      <td>2</td>\n",
              "      <td>2001-02-14 22:42:10</td>\n",
              "    </tr>\n",
              "    <tr>\n",
              "      <th>2465</th>\n",
              "      <td>19</td>\n",
              "      <td>2888</td>\n",
              "      <td>2</td>\n",
              "      <td>2001-02-14 22:42:10</td>\n",
              "    </tr>\n",
              "    <tr>\n",
              "      <th>...</th>\n",
              "      <td>...</td>\n",
              "      <td>...</td>\n",
              "      <td>...</td>\n",
              "      <td>...</td>\n",
              "    </tr>\n",
              "    <tr>\n",
              "      <th>1000019</th>\n",
              "      <td>6040</td>\n",
              "      <td>2917</td>\n",
              "      <td>4</td>\n",
              "      <td>2001-08-10 14:40:29</td>\n",
              "    </tr>\n",
              "    <tr>\n",
              "      <th>999988</th>\n",
              "      <td>6040</td>\n",
              "      <td>1921</td>\n",
              "      <td>4</td>\n",
              "      <td>2001-08-10 14:41:04</td>\n",
              "    </tr>\n",
              "    <tr>\n",
              "      <th>1000172</th>\n",
              "      <td>6040</td>\n",
              "      <td>1784</td>\n",
              "      <td>3</td>\n",
              "      <td>2001-08-10 14:41:04</td>\n",
              "    </tr>\n",
              "    <tr>\n",
              "      <th>1000167</th>\n",
              "      <td>6040</td>\n",
              "      <td>161</td>\n",
              "      <td>3</td>\n",
              "      <td>2001-08-10 14:41:26</td>\n",
              "    </tr>\n",
              "    <tr>\n",
              "      <th>1000042</th>\n",
              "      <td>6040</td>\n",
              "      <td>1221</td>\n",
              "      <td>4</td>\n",
              "      <td>2001-08-20 13:44:15</td>\n",
              "    </tr>\n",
              "  </tbody>\n",
              "</table>\n",
              "<p>72397 rows × 4 columns</p>\n",
              "</div>"
            ],
            "text/plain": [
              "         UserId  ItemId  Rating                Time\n",
              "2460         19    1215       5 2001-01-30 03:23:00\n",
              "2475         19     111       4 2001-02-14 04:30:19\n",
              "2391         19      32       4 2001-02-14 22:37:51\n",
              "2395         19    2336       2 2001-02-14 22:42:10\n",
              "2465         19    2888       2 2001-02-14 22:42:10\n",
              "...         ...     ...     ...                 ...\n",
              "1000019    6040    2917       4 2001-08-10 14:40:29\n",
              "999988     6040    1921       4 2001-08-10 14:41:04\n",
              "1000172    6040    1784       3 2001-08-10 14:41:04\n",
              "1000167    6040     161       3 2001-08-10 14:41:26\n",
              "1000042    6040    1221       4 2001-08-20 13:44:15\n",
              "\n",
              "[72397 rows x 4 columns]"
            ]
          },
          "metadata": {},
          "execution_count": 229
        }
      ]
    },
    {
      "cell_type": "code",
      "metadata": {
        "colab": {
          "base_uri": "https://localhost:8080/",
          "height": 414
        },
        "id": "375cghF7VM6F",
        "outputId": "f0400312-2078-4082-def4-94dc55d43fe7"
      },
      "source": [
        "test = data[data['Time'] > test_time]\n",
        "test"
      ],
      "execution_count": 230,
      "outputs": [
        {
          "output_type": "execute_result",
          "data": {
            "text/html": [
              "<div>\n",
              "<style scoped>\n",
              "    .dataframe tbody tr th:only-of-type {\n",
              "        vertical-align: middle;\n",
              "    }\n",
              "\n",
              "    .dataframe tbody tr th {\n",
              "        vertical-align: top;\n",
              "    }\n",
              "\n",
              "    .dataframe thead th {\n",
              "        text-align: right;\n",
              "    }\n",
              "</style>\n",
              "<table border=\"1\" class=\"dataframe\">\n",
              "  <thead>\n",
              "    <tr style=\"text-align: right;\">\n",
              "      <th></th>\n",
              "      <th>UserId</th>\n",
              "      <th>ItemId</th>\n",
              "      <th>Rating</th>\n",
              "      <th>Time</th>\n",
              "    </tr>\n",
              "  </thead>\n",
              "  <tbody>\n",
              "    <tr>\n",
              "      <th>13108</th>\n",
              "      <td>102</td>\n",
              "      <td>922</td>\n",
              "      <td>5</td>\n",
              "      <td>2003-01-29 00:08:01</td>\n",
              "    </tr>\n",
              "    <tr>\n",
              "      <th>13112</th>\n",
              "      <td>102</td>\n",
              "      <td>926</td>\n",
              "      <td>5</td>\n",
              "      <td>2003-01-29 00:08:01</td>\n",
              "    </tr>\n",
              "    <tr>\n",
              "      <th>13131</th>\n",
              "      <td>102</td>\n",
              "      <td>3099</td>\n",
              "      <td>5</td>\n",
              "      <td>2003-01-29 00:08:32</td>\n",
              "    </tr>\n",
              "    <tr>\n",
              "      <th>13098</th>\n",
              "      <td>102</td>\n",
              "      <td>2212</td>\n",
              "      <td>4</td>\n",
              "      <td>2003-01-29 00:09:12</td>\n",
              "    </tr>\n",
              "    <tr>\n",
              "      <th>13145</th>\n",
              "      <td>102</td>\n",
              "      <td>203</td>\n",
              "      <td>4</td>\n",
              "      <td>2003-01-29 00:11:54</td>\n",
              "    </tr>\n",
              "    <tr>\n",
              "      <th>...</th>\n",
              "      <td>...</td>\n",
              "      <td>...</td>\n",
              "      <td>...</td>\n",
              "      <td>...</td>\n",
              "    </tr>\n",
              "    <tr>\n",
              "      <th>984731</th>\n",
              "      <td>5950</td>\n",
              "      <td>3948</td>\n",
              "      <td>4</td>\n",
              "      <td>2003-02-27 18:13:57</td>\n",
              "    </tr>\n",
              "    <tr>\n",
              "      <th>984682</th>\n",
              "      <td>5950</td>\n",
              "      <td>3578</td>\n",
              "      <td>4</td>\n",
              "      <td>2003-02-27 18:14:30</td>\n",
              "    </tr>\n",
              "    <tr>\n",
              "      <th>984475</th>\n",
              "      <td>5950</td>\n",
              "      <td>3793</td>\n",
              "      <td>3</td>\n",
              "      <td>2003-02-27 18:15:10</td>\n",
              "    </tr>\n",
              "    <tr>\n",
              "      <th>984660</th>\n",
              "      <td>5950</td>\n",
              "      <td>3555</td>\n",
              "      <td>2</td>\n",
              "      <td>2003-02-27 18:15:37</td>\n",
              "    </tr>\n",
              "    <tr>\n",
              "      <th>984733</th>\n",
              "      <td>5950</td>\n",
              "      <td>1262</td>\n",
              "      <td>4</td>\n",
              "      <td>2003-02-27 18:17:38</td>\n",
              "    </tr>\n",
              "  </tbody>\n",
              "</table>\n",
              "<p>2048 rows × 4 columns</p>\n",
              "</div>"
            ],
            "text/plain": [
              "        UserId  ItemId  Rating                Time\n",
              "13108      102     922       5 2003-01-29 00:08:01\n",
              "13112      102     926       5 2003-01-29 00:08:01\n",
              "13131      102    3099       5 2003-01-29 00:08:32\n",
              "13098      102    2212       4 2003-01-29 00:09:12\n",
              "13145      102     203       4 2003-01-29 00:11:54\n",
              "...        ...     ...     ...                 ...\n",
              "984731    5950    3948       4 2003-02-27 18:13:57\n",
              "984682    5950    3578       4 2003-02-27 18:14:30\n",
              "984475    5950    3793       3 2003-02-27 18:15:10\n",
              "984660    5950    3555       2 2003-02-27 18:15:37\n",
              "984733    5950    1262       4 2003-02-27 18:17:38\n",
              "\n",
              "[2048 rows x 4 columns]"
            ]
          },
          "metadata": {},
          "execution_count": 230
        }
      ]
    },
    {
      "cell_type": "code",
      "metadata": {
        "colab": {
          "base_uri": "https://localhost:8080/",
          "height": 414
        },
        "id": "rrW4yEq-VT2f",
        "outputId": "953ef96a-13ad-4b4b-e4e6-a8b79eacac96"
      },
      "source": [
        "val = data[(data['Time'] > valid_time) & (data['Time'] < test_time)]\n",
        "val"
      ],
      "execution_count": 231,
      "outputs": [
        {
          "output_type": "execute_result",
          "data": {
            "text/html": [
              "<div>\n",
              "<style scoped>\n",
              "    .dataframe tbody tr th:only-of-type {\n",
              "        vertical-align: middle;\n",
              "    }\n",
              "\n",
              "    .dataframe tbody tr th {\n",
              "        vertical-align: top;\n",
              "    }\n",
              "\n",
              "    .dataframe thead th {\n",
              "        text-align: right;\n",
              "    }\n",
              "</style>\n",
              "<table border=\"1\" class=\"dataframe\">\n",
              "  <thead>\n",
              "    <tr style=\"text-align: right;\">\n",
              "      <th></th>\n",
              "      <th>UserId</th>\n",
              "      <th>ItemId</th>\n",
              "      <th>Rating</th>\n",
              "      <th>Time</th>\n",
              "    </tr>\n",
              "  </thead>\n",
              "  <tbody>\n",
              "    <tr>\n",
              "      <th>5200</th>\n",
              "      <td>36</td>\n",
              "      <td>2269</td>\n",
              "      <td>5</td>\n",
              "      <td>2002-12-22 08:05:50</td>\n",
              "    </tr>\n",
              "    <tr>\n",
              "      <th>5256</th>\n",
              "      <td>36</td>\n",
              "      <td>1701</td>\n",
              "      <td>4</td>\n",
              "      <td>2002-12-22 08:05:50</td>\n",
              "    </tr>\n",
              "    <tr>\n",
              "      <th>5184</th>\n",
              "      <td>36</td>\n",
              "      <td>2694</td>\n",
              "      <td>3</td>\n",
              "      <td>2002-12-22 08:08:14</td>\n",
              "    </tr>\n",
              "    <tr>\n",
              "      <th>5364</th>\n",
              "      <td>36</td>\n",
              "      <td>3786</td>\n",
              "      <td>4</td>\n",
              "      <td>2002-12-22 08:08:41</td>\n",
              "    </tr>\n",
              "    <tr>\n",
              "      <th>5262</th>\n",
              "      <td>36</td>\n",
              "      <td>2369</td>\n",
              "      <td>4</td>\n",
              "      <td>2002-12-22 08:09:24</td>\n",
              "    </tr>\n",
              "    <tr>\n",
              "      <th>...</th>\n",
              "      <td>...</td>\n",
              "      <td>...</td>\n",
              "      <td>...</td>\n",
              "      <td>...</td>\n",
              "    </tr>\n",
              "    <tr>\n",
              "      <th>984731</th>\n",
              "      <td>5950</td>\n",
              "      <td>3948</td>\n",
              "      <td>4</td>\n",
              "      <td>2003-02-27 18:13:57</td>\n",
              "    </tr>\n",
              "    <tr>\n",
              "      <th>984682</th>\n",
              "      <td>5950</td>\n",
              "      <td>3578</td>\n",
              "      <td>4</td>\n",
              "      <td>2003-02-27 18:14:30</td>\n",
              "    </tr>\n",
              "    <tr>\n",
              "      <th>984475</th>\n",
              "      <td>5950</td>\n",
              "      <td>3793</td>\n",
              "      <td>3</td>\n",
              "      <td>2003-02-27 18:15:10</td>\n",
              "    </tr>\n",
              "    <tr>\n",
              "      <th>984660</th>\n",
              "      <td>5950</td>\n",
              "      <td>3555</td>\n",
              "      <td>2</td>\n",
              "      <td>2003-02-27 18:15:37</td>\n",
              "    </tr>\n",
              "    <tr>\n",
              "      <th>984733</th>\n",
              "      <td>5950</td>\n",
              "      <td>1262</td>\n",
              "      <td>4</td>\n",
              "      <td>2003-02-27 18:17:38</td>\n",
              "    </tr>\n",
              "  </tbody>\n",
              "</table>\n",
              "<p>3851 rows × 4 columns</p>\n",
              "</div>"
            ],
            "text/plain": [
              "        UserId  ItemId  Rating                Time\n",
              "5200        36    2269       5 2002-12-22 08:05:50\n",
              "5256        36    1701       4 2002-12-22 08:05:50\n",
              "5184        36    2694       3 2002-12-22 08:08:14\n",
              "5364        36    3786       4 2002-12-22 08:08:41\n",
              "5262        36    2369       4 2002-12-22 08:09:24\n",
              "...        ...     ...     ...                 ...\n",
              "984731    5950    3948       4 2003-02-27 18:13:57\n",
              "984682    5950    3578       4 2003-02-27 18:14:30\n",
              "984475    5950    3793       3 2003-02-27 18:15:10\n",
              "984660    5950    3555       2 2003-02-27 18:15:37\n",
              "984733    5950    1262       4 2003-02-27 18:17:38\n",
              "\n",
              "[3851 rows x 4 columns]"
            ]
          },
          "metadata": {},
          "execution_count": 231
        }
      ]
    },
    {
      "cell_type": "code",
      "metadata": {
        "id": "qGl0DFV9VdMK"
      },
      "source": [
        "def stats_info(data: pd.DataFrame, status: str):\n",
        "    print(f'* {status} Set Stats Info\\n'\n",
        "          f'\\t Events: {len(data)}\\n'\n",
        "          f'\\t Sessions: {data[\"UserId\"].nunique()}\\n'\n",
        "          f'\\t Items: {data[\"ItemId\"].nunique()}\\n'\n",
        "          f'\\t First Time : {data[\"Time\"].min()}\\n'\n",
        "          f'\\t Last Time : {data[\"Time\"].max()}\\n')"
      ],
      "execution_count": 232,
      "outputs": []
    },
    {
      "cell_type": "code",
      "metadata": {
        "colab": {
          "base_uri": "https://localhost:8080/"
        },
        "id": "Ygc2An7mVhHG",
        "outputId": "948caeaf-6039-4484-f79a-9b25e3af0dcc"
      },
      "source": [
        "stats_info(tr, 'train')\n",
        "stats_info(val, 'valid')\n",
        "stats_info(test, 'test')"
      ],
      "execution_count": 233,
      "outputs": [
        {
          "output_type": "stream",
          "name": "stdout",
          "text": [
            "* train Set Stats Info\n",
            "\t Events: 72397\n",
            "\t Sessions: 997\n",
            "\t Items: 2549\n",
            "\t First Time : 2001-01-29 18:00:31\n",
            "\t Last Time : 2002-12-10 15:32:30\n",
            "\n",
            "* valid Set Stats Info\n",
            "\t Events: 3851\n",
            "\t Sessions: 214\n",
            "\t Items: 1629\n",
            "\t First Time : 2002-12-10 21:39:27\n",
            "\t Last Time : 2003-02-28 17:49:50\n",
            "\n",
            "* test Set Stats Info\n",
            "\t Events: 2048\n",
            "\t Sessions: 128\n",
            "\t Items: 1199\n",
            "\t First Time : 2003-01-19 19:19:27\n",
            "\t Last Time : 2003-02-28 17:49:50\n",
            "\n"
          ]
        }
      ]
    },
    {
      "cell_type": "code",
      "metadata": {
        "id": "v7D3paVbVlsZ"
      },
      "source": [
        "id2idx = {item_id : index for index, item_id in enumerate(tr['ItemId'].unique())}\n",
        "\n",
        "def indexing(df, id2idx):\n",
        "    df['item_idx'] = df['ItemId'].map(lambda x: id2idx.get(x, -1))  # id2idx에 없는 아이템은 모르는 값(-1) 처리 해줍니다.\n",
        "    return df\n",
        "\n",
        "tr = indexing(tr, id2idx)\n",
        "val = indexing(val, id2idx)\n",
        "test = indexing(test, id2idx)"
      ],
      "execution_count": 234,
      "outputs": []
    },
    {
      "cell_type": "code",
      "metadata": {
        "id": "3j3pHe-8VsZv"
      },
      "source": [
        "save_path = data_path / 'processed'\n",
        "save_path.mkdir(parents=True, exist_ok=True)\n",
        "\n",
        "tr.to_pickle(save_path / 'train.pkl')\n",
        "val.to_pickle(save_path / 'valid.pkl')\n",
        "test.to_pickle(save_path / 'test.pkl')"
      ],
      "execution_count": 235,
      "outputs": []
    },
    {
      "cell_type": "markdown",
      "metadata": {
        "id": "5mLuyFWoVw1U"
      },
      "source": [
        "## 2.Data Pipeline"
      ]
    },
    {
      "cell_type": "markdown",
      "metadata": {
        "id": "h_ABft4aV1Gb"
      },
      "source": [
        "### 2.1 Session Dataset\n",
        "데이터가 주어지면 세션이 시작되는 인덱스를 담는 값과 세션을 새로 인덱싱한 값을 갖는 클래스를 만듦"
      ]
    },
    {
      "cell_type": "code",
      "metadata": {
        "id": "oPOfOsy2V4z1"
      },
      "source": [
        "class SessionDataset:\n",
        "    \"\"\"Credit to yhs-968/pyGRU4REC.\"\"\"\n",
        "\n",
        "    def __init__(self, data):\n",
        "        self.df = data\n",
        "        self.click_offsets = self.get_click_offsets()\n",
        "        self.session_idx = np.arange(self.df['UserId'].nunique())  \n",
        "\n",
        "    def get_click_offsets(self):\n",
        "        \"\"\"\n",
        "        Return the indexes of the first click of each session IDs,\n",
        "        \"\"\"\n",
        "        offsets = np.zeros(self.df['UserId'].nunique() + 1, dtype=np.int32)\n",
        "        offsets[1:] = self.df.groupby('UserId').size().cumsum()\n",
        "        return offsets"
      ],
      "execution_count": 236,
      "outputs": []
    },
    {
      "cell_type": "markdown",
      "metadata": {
        "id": "kYm7w4VdhCQa"
      },
      "source": [
        "`click_offsets` 변수는 각 세션이 시작된 인덱스를 담고 있고 `item_idx` 변수는 각 세션을 인덱싱한 `np.array`"
      ]
    },
    {
      "cell_type": "code",
      "metadata": {
        "colab": {
          "base_uri": "https://localhost:8080/",
          "height": 355
        },
        "id": "tmH-GjJiV8Tm",
        "outputId": "fe95e764-9b35-4d82-ef5b-c5672211e96c"
      },
      "source": [
        "tr_dataset = SessionDataset(tr)\n",
        "tr_dataset.df.head(10)"
      ],
      "execution_count": 237,
      "outputs": [
        {
          "output_type": "execute_result",
          "data": {
            "text/html": [
              "<div>\n",
              "<style scoped>\n",
              "    .dataframe tbody tr th:only-of-type {\n",
              "        vertical-align: middle;\n",
              "    }\n",
              "\n",
              "    .dataframe tbody tr th {\n",
              "        vertical-align: top;\n",
              "    }\n",
              "\n",
              "    .dataframe thead th {\n",
              "        text-align: right;\n",
              "    }\n",
              "</style>\n",
              "<table border=\"1\" class=\"dataframe\">\n",
              "  <thead>\n",
              "    <tr style=\"text-align: right;\">\n",
              "      <th></th>\n",
              "      <th>UserId</th>\n",
              "      <th>ItemId</th>\n",
              "      <th>Rating</th>\n",
              "      <th>Time</th>\n",
              "      <th>item_idx</th>\n",
              "    </tr>\n",
              "  </thead>\n",
              "  <tbody>\n",
              "    <tr>\n",
              "      <th>2460</th>\n",
              "      <td>19</td>\n",
              "      <td>1215</td>\n",
              "      <td>5</td>\n",
              "      <td>2001-01-30 03:23:00</td>\n",
              "      <td>0</td>\n",
              "    </tr>\n",
              "    <tr>\n",
              "      <th>2475</th>\n",
              "      <td>19</td>\n",
              "      <td>111</td>\n",
              "      <td>4</td>\n",
              "      <td>2001-02-14 04:30:19</td>\n",
              "      <td>1</td>\n",
              "    </tr>\n",
              "    <tr>\n",
              "      <th>2391</th>\n",
              "      <td>19</td>\n",
              "      <td>32</td>\n",
              "      <td>4</td>\n",
              "      <td>2001-02-14 22:37:51</td>\n",
              "      <td>2</td>\n",
              "    </tr>\n",
              "    <tr>\n",
              "      <th>2395</th>\n",
              "      <td>19</td>\n",
              "      <td>2336</td>\n",
              "      <td>2</td>\n",
              "      <td>2001-02-14 22:42:10</td>\n",
              "      <td>3</td>\n",
              "    </tr>\n",
              "    <tr>\n",
              "      <th>2465</th>\n",
              "      <td>19</td>\n",
              "      <td>2888</td>\n",
              "      <td>2</td>\n",
              "      <td>2001-02-14 22:42:10</td>\n",
              "      <td>4</td>\n",
              "    </tr>\n",
              "    <tr>\n",
              "      <th>2371</th>\n",
              "      <td>19</td>\n",
              "      <td>1527</td>\n",
              "      <td>3</td>\n",
              "      <td>2001-02-14 22:42:43</td>\n",
              "      <td>5</td>\n",
              "    </tr>\n",
              "    <tr>\n",
              "      <th>2402</th>\n",
              "      <td>19</td>\n",
              "      <td>2918</td>\n",
              "      <td>4</td>\n",
              "      <td>2001-02-14 22:42:43</td>\n",
              "      <td>6</td>\n",
              "    </tr>\n",
              "    <tr>\n",
              "      <th>2423</th>\n",
              "      <td>19</td>\n",
              "      <td>2428</td>\n",
              "      <td>1</td>\n",
              "      <td>2001-02-14 22:42:43</td>\n",
              "      <td>7</td>\n",
              "    </tr>\n",
              "    <tr>\n",
              "      <th>2404</th>\n",
              "      <td>19</td>\n",
              "      <td>1974</td>\n",
              "      <td>3</td>\n",
              "      <td>2001-02-14 22:43:22</td>\n",
              "      <td>8</td>\n",
              "    </tr>\n",
              "    <tr>\n",
              "      <th>2484</th>\n",
              "      <td>19</td>\n",
              "      <td>3409</td>\n",
              "      <td>2</td>\n",
              "      <td>2001-02-14 22:43:22</td>\n",
              "      <td>9</td>\n",
              "    </tr>\n",
              "  </tbody>\n",
              "</table>\n",
              "</div>"
            ],
            "text/plain": [
              "      UserId  ItemId  Rating                Time  item_idx\n",
              "2460      19    1215       5 2001-01-30 03:23:00         0\n",
              "2475      19     111       4 2001-02-14 04:30:19         1\n",
              "2391      19      32       4 2001-02-14 22:37:51         2\n",
              "2395      19    2336       2 2001-02-14 22:42:10         3\n",
              "2465      19    2888       2 2001-02-14 22:42:10         4\n",
              "2371      19    1527       3 2001-02-14 22:42:43         5\n",
              "2402      19    2918       4 2001-02-14 22:42:43         6\n",
              "2423      19    2428       1 2001-02-14 22:42:43         7\n",
              "2404      19    1974       3 2001-02-14 22:43:22         8\n",
              "2484      19    3409       2 2001-02-14 22:43:22         9"
            ]
          },
          "metadata": {},
          "execution_count": 237
        }
      ]
    },
    {
      "cell_type": "code",
      "metadata": {
        "colab": {
          "base_uri": "https://localhost:8080/"
        },
        "id": "W_Sv0e7eWD5O",
        "outputId": "69177dd8-d583-403f-db86-133ac2926479"
      },
      "source": [
        "tr_dataset.click_offsets"
      ],
      "execution_count": 238,
      "outputs": [
        {
          "output_type": "execute_result",
          "data": {
            "text/plain": [
              "array([    0,    39,    50,    73,    98,   103,   164,   240,   323,\n",
              "         353,   406,   443,   466,   475,   480,   491,   701,   977,\n",
              "         979,  1065,  1158,  1174,  1206,  1221,  1232,  1300,  1318,\n",
              "        1324,  1341,  1485,  1530,  1632,  1790,  1800,  2046,  2049,\n",
              "        2078,  2114,  2120,  2138,  2157,  2200,  2554,  2571,  2647,\n",
              "        2722,  2788,  2821,  2912,  3312,  3318,  3334,  3465,  3581,\n",
              "        3590,  3654,  3661,  3786,  3860,  3925,  4011,  4048,  4055,\n",
              "        4081,  4083,  4090,  4101,  4171,  4202,  4222,  4307,  4330,\n",
              "        4415,  4440,  4725,  4738,  4742,  4784,  4943,  4945,  4985,\n",
              "        5104,  5112,  5327,  5357,  5574,  5738,  5994,  6230,  6234,\n",
              "        6289,  6294,  6326,  6329,  6348,  6350,  6356,  6395,  6408,\n",
              "        6417,  6421,  6425,  6465,  6668,  6681,  6689,  6712,  7487,\n",
              "        7674,  7682,  7787,  7814,  7928,  7970,  7989,  8067,  8083,\n",
              "        8148,  8150,  8166,  8320,  8363,  8380,  8647,  8690,  8758,\n",
              "        8830,  8845,  8856,  8905,  8917,  8936,  8941,  8944,  8954,\n",
              "        9069,  9086,  9212,  9271,  9367,  9377,  9424,  9446, 10218,\n",
              "       10297, 10331, 10342, 10497, 10657, 10700, 10853, 10972, 11099,\n",
              "       11208, 11226, 11233, 11302, 11652, 11716, 11834, 11877, 11890,\n",
              "       11899, 11908, 11911, 12169, 12183, 12207, 12224, 12273, 12275,\n",
              "       12544, 12669, 12747, 12764, 12967, 12990, 13011, 13307, 13386,\n",
              "       13433, 13468, 13500, 13586, 13589, 13633, 13637, 13680, 14029,\n",
              "       14304, 14316, 14321, 14357, 14439, 14467, 14473, 14475, 14517,\n",
              "       14532, 14540, 14642, 14789, 14953, 14979, 15000, 15109, 15119,\n",
              "       15465, 15497, 15507, 15527, 15536, 15611, 15699, 15711, 15928,\n",
              "       16838, 17066, 17073, 17076, 17145, 17259, 17349, 17513, 17627,\n",
              "       17967, 17971, 18079, 18149, 18155, 18255, 18565, 18604, 18613,\n",
              "       18637, 18748, 18772, 18785, 19343, 19488, 19900, 19935, 19945,\n",
              "       19962, 19965, 19975, 19989, 19998, 20161, 20231, 20313, 20339,\n",
              "       20567, 20902, 21021, 21167, 21175, 21182, 21201, 21203, 21217,\n",
              "       21247, 21303, 21337, 21355, 21626, 21628, 21814, 21827, 21837,\n",
              "       21854, 21948, 22018, 22124, 22169, 22202, 22294, 22306, 22378,\n",
              "       22631, 22775, 22865, 22897, 22999, 23135, 23224, 23279, 23599,\n",
              "       23626, 24588, 24597, 24651, 24905, 25130, 25215, 25325, 25467,\n",
              "       25539, 25610, 25640, 25645, 25948, 26008, 26018, 26127, 26374,\n",
              "       26376, 26397, 26437, 26564, 26718, 26833, 26855, 26971, 27090,\n",
              "       27471, 27538, 27569, 27585, 27717, 27744, 27845, 28172, 28226,\n",
              "       28258, 28266, 28451, 28595, 28919, 28933, 28945, 29028, 29060,\n",
              "       29210, 29633, 29658, 29692, 29877, 29889, 29902, 30112, 30138,\n",
              "       30141, 30183, 30622, 30628, 30852, 30865, 31113, 31119, 31231,\n",
              "       31243, 31249, 31421, 31425, 31466, 31500, 31517, 31691, 31708,\n",
              "       31733, 31758, 32172, 32502, 32683, 32726, 32833, 32840, 32855,\n",
              "       32928, 33239, 33256, 33604, 34264, 34396, 34623, 34864, 34983,\n",
              "       34986, 34991, 35014, 35304, 35309, 35314, 35442, 35444, 35531,\n",
              "       35540, 35816, 35883, 35894, 35898, 35903, 36033, 36069, 36113,\n",
              "       36315, 36347, 36351, 36370, 36424, 36577, 36583, 36832, 36845,\n",
              "       36883, 36908, 36928, 37081, 37109, 37147, 37157, 37213, 37238,\n",
              "       37294, 37313, 37361, 37503, 37514, 37530, 37685, 37693, 37697,\n",
              "       37753, 37877, 38098, 38191, 38199, 38222, 38446, 38623, 38702,\n",
              "       38775, 38840, 38858, 38997, 39016, 39046, 39077, 39165, 39243,\n",
              "       39258, 39367, 39420, 39578, 39593, 39596, 39786, 39836, 39852,\n",
              "       39854, 39859, 39875, 39898, 39927, 39951, 39953, 40060, 40087,\n",
              "       40096, 40154, 40208, 40217, 40337, 40359, 40373, 40375, 40460,\n",
              "       40491, 40495, 40517, 40585, 40690, 40784, 40788, 40793, 40823,\n",
              "       40969, 40974, 41016, 41083, 41099, 41159, 41384, 41427, 41431,\n",
              "       41444, 41516, 41521, 41591, 41593, 41595, 41652, 41717, 41834,\n",
              "       41850, 41854, 41891, 41900, 41997, 42015, 42022, 42090, 42107,\n",
              "       42123, 42129, 42182, 42196, 42248, 42279, 42371, 42400, 42410,\n",
              "       42419, 42422, 42458, 42463, 42492, 42603, 42650, 42660, 42670,\n",
              "       42696, 43044, 43069, 43088, 43149, 43177, 43293, 43363, 43400,\n",
              "       43495, 43498, 43509, 43548, 43816, 44094, 44101, 44166, 44220,\n",
              "       44287, 44292, 44321, 44562, 44649, 44673, 44676, 44743, 44750,\n",
              "       44758, 44827, 44862, 45082, 45215, 45240, 45439, 45446, 45733,\n",
              "       45736, 45886, 46021, 46043, 46082, 46219, 46353, 46512, 46577,\n",
              "       46628, 46709, 46759, 46783, 46876, 46904, 46946, 46985, 47054,\n",
              "       47063, 47177, 47226, 47282, 47288, 47508, 47659, 47684, 47705,\n",
              "       47712, 47885, 47970, 47973, 47979, 48080, 48191, 48198, 48216,\n",
              "       48231, 48234, 48271, 48289, 48300, 48330, 48631, 48690, 48746,\n",
              "       48749, 48753, 48755, 48778, 48786, 48791, 48973, 48998, 49033,\n",
              "       49040, 49056, 49061, 49093, 49109, 49123, 49192, 49202, 49259,\n",
              "       49323, 49363, 49392, 49423, 49553, 49556, 49571, 49609, 49696,\n",
              "       49765, 49830, 49998, 50007, 50010, 50065, 50100, 50157, 50164,\n",
              "       50277, 50316, 50371, 50466, 50483, 50507, 50573, 50654, 50679,\n",
              "       50736, 50802, 51001, 51046, 51049, 51074, 51091, 51095, 51155,\n",
              "       51157, 51185, 51209, 51303, 51311, 51336, 51485, 51491, 51586,\n",
              "       52025, 52210, 52363, 52390, 52393, 52495, 52574, 52611, 52652,\n",
              "       52700, 52772, 52782, 52787, 52812, 52865, 52940, 53006, 53126,\n",
              "       53155, 53164, 53167, 53200, 53221, 53227, 53270, 53272, 53763,\n",
              "       53803, 53810, 53848, 53860, 53897, 53989, 54026, 54095, 54159,\n",
              "       54177, 54185, 54187, 54229, 54257, 54350, 54392, 54396, 54568,\n",
              "       54605, 54663, 54746, 54858, 55115, 55121, 55197, 55253, 55269,\n",
              "       55279, 55394, 55413, 55438, 55440, 55448, 55476, 55480, 55566,\n",
              "       55818, 55857, 55887, 55902, 55943, 55962, 56012, 56014, 56016,\n",
              "       56118, 56184, 56229, 56237, 56415, 56426, 56695, 56747, 56758,\n",
              "       56785, 56830, 56916, 57075, 57168, 57494, 57497, 57538, 57573,\n",
              "       57694, 57724, 57960, 58061, 58074, 58194, 58218, 58361, 58426,\n",
              "       58434, 58438, 58485, 58500, 58514, 58564, 58759, 58761, 58895,\n",
              "       58909, 58920, 59087, 59156, 59580, 59587, 59742, 59746, 59763,\n",
              "       59799, 59930, 60040, 60071, 60126, 60128, 60194, 60203, 60207,\n",
              "       60515, 60533, 60542, 60582, 60614, 60635, 60683, 60752, 60943,\n",
              "       61096, 61111, 61124, 61144, 61171, 61183, 61281, 61395, 61401,\n",
              "       61422, 61484, 61526, 61538, 61569, 61576, 61866, 61927, 61946,\n",
              "       61975, 61978, 61986, 61997, 62006, 62011, 62154, 62220, 62226,\n",
              "       62234, 62260, 62281, 62297, 62305, 62442, 62467, 62474, 62563,\n",
              "       62592, 62700, 62769, 62887, 63068, 63092, 63094, 63109, 63174,\n",
              "       63176, 63186, 63243, 63247, 63251, 63517, 63606, 63612, 63686,\n",
              "       63887, 63933, 63935, 64109, 64114, 64162, 64281, 64301, 64313,\n",
              "       64342, 64385, 64399, 64533, 64793, 64836, 64846, 64953, 64959,\n",
              "       64972, 65067, 65104, 65132, 65159, 65237, 65240, 65246, 65250,\n",
              "       65299, 65300, 65318, 65582, 65585, 65601, 65618, 65671, 65678,\n",
              "       65729, 65742, 65750, 65783, 65869, 65876, 65937, 65948, 65985,\n",
              "       66092, 66106, 66214, 66252, 66274, 66306, 66356, 66365, 66560,\n",
              "       66582, 66629, 66642, 66649, 66699, 67274, 67276, 67328, 67349,\n",
              "       67353, 67385, 67440, 67479, 67488, 67490, 67492, 67514, 67521,\n",
              "       67595, 67684, 67871, 67901, 67941, 68105, 68131, 68172, 68466,\n",
              "       68551, 68566, 68572, 68664, 68688, 68706, 68800, 68804, 68815,\n",
              "       68953, 68956, 68969, 68971, 69061, 69076, 69163, 69212, 69214,\n",
              "       69420, 69449, 69529, 69573, 69589, 69917, 69942, 70127, 70147,\n",
              "       70213, 70226, 70240, 70451, 70777, 70944, 70949, 71094, 71113,\n",
              "       71245, 71255, 71268, 71291, 71332, 71340, 71355, 71427, 71454,\n",
              "       71496, 71542, 71548, 71552, 71666, 71714, 71726, 71811, 71834,\n",
              "       71913, 71938, 72071, 72221, 72252, 72320, 72374, 72397],\n",
              "      dtype=int32)"
            ]
          },
          "metadata": {},
          "execution_count": 238
        }
      ]
    },
    {
      "cell_type": "code",
      "metadata": {
        "colab": {
          "base_uri": "https://localhost:8080/"
        },
        "id": "KapR2LmLWGCr",
        "outputId": "092060d5-18ea-47e1-dcb4-434d35528dc0"
      },
      "source": [
        "tr_dataset.session_idx"
      ],
      "execution_count": 239,
      "outputs": [
        {
          "output_type": "execute_result",
          "data": {
            "text/plain": [
              "array([  0,   1,   2,   3,   4,   5,   6,   7,   8,   9,  10,  11,  12,\n",
              "        13,  14,  15,  16,  17,  18,  19,  20,  21,  22,  23,  24,  25,\n",
              "        26,  27,  28,  29,  30,  31,  32,  33,  34,  35,  36,  37,  38,\n",
              "        39,  40,  41,  42,  43,  44,  45,  46,  47,  48,  49,  50,  51,\n",
              "        52,  53,  54,  55,  56,  57,  58,  59,  60,  61,  62,  63,  64,\n",
              "        65,  66,  67,  68,  69,  70,  71,  72,  73,  74,  75,  76,  77,\n",
              "        78,  79,  80,  81,  82,  83,  84,  85,  86,  87,  88,  89,  90,\n",
              "        91,  92,  93,  94,  95,  96,  97,  98,  99, 100, 101, 102, 103,\n",
              "       104, 105, 106, 107, 108, 109, 110, 111, 112, 113, 114, 115, 116,\n",
              "       117, 118, 119, 120, 121, 122, 123, 124, 125, 126, 127, 128, 129,\n",
              "       130, 131, 132, 133, 134, 135, 136, 137, 138, 139, 140, 141, 142,\n",
              "       143, 144, 145, 146, 147, 148, 149, 150, 151, 152, 153, 154, 155,\n",
              "       156, 157, 158, 159, 160, 161, 162, 163, 164, 165, 166, 167, 168,\n",
              "       169, 170, 171, 172, 173, 174, 175, 176, 177, 178, 179, 180, 181,\n",
              "       182, 183, 184, 185, 186, 187, 188, 189, 190, 191, 192, 193, 194,\n",
              "       195, 196, 197, 198, 199, 200, 201, 202, 203, 204, 205, 206, 207,\n",
              "       208, 209, 210, 211, 212, 213, 214, 215, 216, 217, 218, 219, 220,\n",
              "       221, 222, 223, 224, 225, 226, 227, 228, 229, 230, 231, 232, 233,\n",
              "       234, 235, 236, 237, 238, 239, 240, 241, 242, 243, 244, 245, 246,\n",
              "       247, 248, 249, 250, 251, 252, 253, 254, 255, 256, 257, 258, 259,\n",
              "       260, 261, 262, 263, 264, 265, 266, 267, 268, 269, 270, 271, 272,\n",
              "       273, 274, 275, 276, 277, 278, 279, 280, 281, 282, 283, 284, 285,\n",
              "       286, 287, 288, 289, 290, 291, 292, 293, 294, 295, 296, 297, 298,\n",
              "       299, 300, 301, 302, 303, 304, 305, 306, 307, 308, 309, 310, 311,\n",
              "       312, 313, 314, 315, 316, 317, 318, 319, 320, 321, 322, 323, 324,\n",
              "       325, 326, 327, 328, 329, 330, 331, 332, 333, 334, 335, 336, 337,\n",
              "       338, 339, 340, 341, 342, 343, 344, 345, 346, 347, 348, 349, 350,\n",
              "       351, 352, 353, 354, 355, 356, 357, 358, 359, 360, 361, 362, 363,\n",
              "       364, 365, 366, 367, 368, 369, 370, 371, 372, 373, 374, 375, 376,\n",
              "       377, 378, 379, 380, 381, 382, 383, 384, 385, 386, 387, 388, 389,\n",
              "       390, 391, 392, 393, 394, 395, 396, 397, 398, 399, 400, 401, 402,\n",
              "       403, 404, 405, 406, 407, 408, 409, 410, 411, 412, 413, 414, 415,\n",
              "       416, 417, 418, 419, 420, 421, 422, 423, 424, 425, 426, 427, 428,\n",
              "       429, 430, 431, 432, 433, 434, 435, 436, 437, 438, 439, 440, 441,\n",
              "       442, 443, 444, 445, 446, 447, 448, 449, 450, 451, 452, 453, 454,\n",
              "       455, 456, 457, 458, 459, 460, 461, 462, 463, 464, 465, 466, 467,\n",
              "       468, 469, 470, 471, 472, 473, 474, 475, 476, 477, 478, 479, 480,\n",
              "       481, 482, 483, 484, 485, 486, 487, 488, 489, 490, 491, 492, 493,\n",
              "       494, 495, 496, 497, 498, 499, 500, 501, 502, 503, 504, 505, 506,\n",
              "       507, 508, 509, 510, 511, 512, 513, 514, 515, 516, 517, 518, 519,\n",
              "       520, 521, 522, 523, 524, 525, 526, 527, 528, 529, 530, 531, 532,\n",
              "       533, 534, 535, 536, 537, 538, 539, 540, 541, 542, 543, 544, 545,\n",
              "       546, 547, 548, 549, 550, 551, 552, 553, 554, 555, 556, 557, 558,\n",
              "       559, 560, 561, 562, 563, 564, 565, 566, 567, 568, 569, 570, 571,\n",
              "       572, 573, 574, 575, 576, 577, 578, 579, 580, 581, 582, 583, 584,\n",
              "       585, 586, 587, 588, 589, 590, 591, 592, 593, 594, 595, 596, 597,\n",
              "       598, 599, 600, 601, 602, 603, 604, 605, 606, 607, 608, 609, 610,\n",
              "       611, 612, 613, 614, 615, 616, 617, 618, 619, 620, 621, 622, 623,\n",
              "       624, 625, 626, 627, 628, 629, 630, 631, 632, 633, 634, 635, 636,\n",
              "       637, 638, 639, 640, 641, 642, 643, 644, 645, 646, 647, 648, 649,\n",
              "       650, 651, 652, 653, 654, 655, 656, 657, 658, 659, 660, 661, 662,\n",
              "       663, 664, 665, 666, 667, 668, 669, 670, 671, 672, 673, 674, 675,\n",
              "       676, 677, 678, 679, 680, 681, 682, 683, 684, 685, 686, 687, 688,\n",
              "       689, 690, 691, 692, 693, 694, 695, 696, 697, 698, 699, 700, 701,\n",
              "       702, 703, 704, 705, 706, 707, 708, 709, 710, 711, 712, 713, 714,\n",
              "       715, 716, 717, 718, 719, 720, 721, 722, 723, 724, 725, 726, 727,\n",
              "       728, 729, 730, 731, 732, 733, 734, 735, 736, 737, 738, 739, 740,\n",
              "       741, 742, 743, 744, 745, 746, 747, 748, 749, 750, 751, 752, 753,\n",
              "       754, 755, 756, 757, 758, 759, 760, 761, 762, 763, 764, 765, 766,\n",
              "       767, 768, 769, 770, 771, 772, 773, 774, 775, 776, 777, 778, 779,\n",
              "       780, 781, 782, 783, 784, 785, 786, 787, 788, 789, 790, 791, 792,\n",
              "       793, 794, 795, 796, 797, 798, 799, 800, 801, 802, 803, 804, 805,\n",
              "       806, 807, 808, 809, 810, 811, 812, 813, 814, 815, 816, 817, 818,\n",
              "       819, 820, 821, 822, 823, 824, 825, 826, 827, 828, 829, 830, 831,\n",
              "       832, 833, 834, 835, 836, 837, 838, 839, 840, 841, 842, 843, 844,\n",
              "       845, 846, 847, 848, 849, 850, 851, 852, 853, 854, 855, 856, 857,\n",
              "       858, 859, 860, 861, 862, 863, 864, 865, 866, 867, 868, 869, 870,\n",
              "       871, 872, 873, 874, 875, 876, 877, 878, 879, 880, 881, 882, 883,\n",
              "       884, 885, 886, 887, 888, 889, 890, 891, 892, 893, 894, 895, 896,\n",
              "       897, 898, 899, 900, 901, 902, 903, 904, 905, 906, 907, 908, 909,\n",
              "       910, 911, 912, 913, 914, 915, 916, 917, 918, 919, 920, 921, 922,\n",
              "       923, 924, 925, 926, 927, 928, 929, 930, 931, 932, 933, 934, 935,\n",
              "       936, 937, 938, 939, 940, 941, 942, 943, 944, 945, 946, 947, 948,\n",
              "       949, 950, 951, 952, 953, 954, 955, 956, 957, 958, 959, 960, 961,\n",
              "       962, 963, 964, 965, 966, 967, 968, 969, 970, 971, 972, 973, 974,\n",
              "       975, 976, 977, 978, 979, 980, 981, 982, 983, 984, 985, 986, 987,\n",
              "       988, 989, 990, 991, 992, 993, 994, 995, 996])"
            ]
          },
          "metadata": {},
          "execution_count": 239
        }
      ]
    },
    {
      "cell_type": "markdown",
      "metadata": {
        "id": "Orsj8VjvWI07"
      },
      "source": [
        "### 2.2 Session Data Loader"
      ]
    },
    {
      "cell_type": "code",
      "metadata": {
        "id": "F-3vnHbSWLa9"
      },
      "source": [
        "class SessionDataLoader:\n",
        "    \"\"\"Credit to yhs-968/pyGRU4REC.\"\"\"\n",
        "\n",
        "    def __init__(self, dataset: SessionDataset, batch_size=50):\n",
        "        self.dataset = dataset\n",
        "        self.batch_size = batch_size\n",
        "\n",
        "    def __iter__(self):\n",
        "        \"\"\" Returns the iterator for producing session-parallel training mini-batches.\n",
        "        Yields:\n",
        "            input (B,):  Item indices that will be encoded as one-hot vectors later.\n",
        "            target (B,): a Variable that stores the target item indices\n",
        "            masks: Numpy array indicating the positions of the sessions to be terminated\n",
        "        \"\"\"\n",
        "\n",
        "        start, end, mask, last_session, finished = self.initialize()  # initialize 메소드에서 확인해주세요.\n",
        "        \"\"\"\n",
        "        start : Index Where Session Start\n",
        "        end : Index Where Session End\n",
        "        mask : indicator for the sessions to be terminated\n",
        "        \"\"\"\n",
        "\n",
        "        while not finished:\n",
        "            min_len = (end - start).min() - 1  # Shortest Length Among Sessions\n",
        "            for i in range(min_len):\n",
        "                # Build inputs & targets\n",
        "                inp = self.dataset.df['item_idx'].values[start + i]\n",
        "                target = self.dataset.df['item_idx'].values[start + i + 1]\n",
        "                yield inp, target, mask\n",
        "\n",
        "            start, end, mask, last_session, finished = self.update_status(start, end, min_len, last_session, finished)\n",
        "\n",
        "    def initialize(self):\n",
        "        first_iters = np.arange(self.batch_size)    # 첫 배치에 사용할 세션 Index를 가져옵니다.\n",
        "        last_session = self.batch_size - 1    # 마지막으로 다루고 있는 세션 Index를 저장해둡니다.\n",
        "        start = self.dataset.click_offsets[self.dataset.session_idx[first_iters]]       # data 상에서 session이 시작된 위치를 가져옵니다.\n",
        "        end = self.dataset.click_offsets[self.dataset.session_idx[first_iters] + 1]  # session이 끝난 위치 바로 다음 위치를 가져옵니다.\n",
        "        mask = np.array([])   # session의 모든 아이템을 다 돌은 경우 mask에 추가해줄 것입니다.\n",
        "        finished = False         # data를 전부 돌았는지 기록하기 위한 변수입니다.\n",
        "        return start, end, mask, last_session, finished\n",
        "\n",
        "    def update_status(self, start: np.ndarray, end: np.ndarray, min_len: int, last_session: int, finished: bool):  \n",
        "        # 다음 배치 데이터를 생성하기 위해 상태를 update합니다.\n",
        "        \n",
        "        start += min_len   # __iter__에서 min_len 만큼 for문을 돌았으므로 start를 min_len 만큼 더해줍니다.\n",
        "        mask = np.arange(self.batch_size)[(end - start) == 1]  \n",
        "        # end는 다음 세션이 시작되는 위치인데 start와 한 칸 차이난다는 것은 session이 끝났다는 뜻입니다. mask에 기록해줍니다.\n",
        "\n",
        "        for i, idx in enumerate(mask, start=1):  # mask에 추가된 세션 개수만큼 새로운 세션을 돌것입니다.\n",
        "            new_session = last_session + i  \n",
        "            if new_session > self.dataset.session_idx[-1]:  # 만약 새로운 세션이 마지막 세션 index보다 크다면 모든 학습데이터를 돈 것입니다.\n",
        "                finished = True\n",
        "                break\n",
        "            # update the next starting/ending point\n",
        "            start[idx] = self.dataset.click_offsets[self.dataset.session_idx[new_session]]     # 종료된 세션 대신 새로운 세션의 시작점을 기록합니다.\n",
        "            end[idx] = self.dataset.click_offsets[self.dataset.session_idx[new_session] + 1]\n",
        "\n",
        "        last_session += len(mask)  # 마지막 세션의 위치를 기록해둡니다.\n",
        "        return start, end, mask, last_session, finished"
      ],
      "execution_count": 240,
      "outputs": []
    },
    {
      "cell_type": "code",
      "metadata": {
        "colab": {
          "base_uri": "https://localhost:8080/",
          "height": 508
        },
        "id": "d49lmSwDWRQ2",
        "outputId": "e3c067f1-df50-4b59-83f9-6f2b6ac9a54f"
      },
      "source": [
        "tr_data_loader = SessionDataLoader(tr_dataset, batch_size=4)\n",
        "tr_dataset.df.head(15)"
      ],
      "execution_count": 241,
      "outputs": [
        {
          "output_type": "execute_result",
          "data": {
            "text/html": [
              "<div>\n",
              "<style scoped>\n",
              "    .dataframe tbody tr th:only-of-type {\n",
              "        vertical-align: middle;\n",
              "    }\n",
              "\n",
              "    .dataframe tbody tr th {\n",
              "        vertical-align: top;\n",
              "    }\n",
              "\n",
              "    .dataframe thead th {\n",
              "        text-align: right;\n",
              "    }\n",
              "</style>\n",
              "<table border=\"1\" class=\"dataframe\">\n",
              "  <thead>\n",
              "    <tr style=\"text-align: right;\">\n",
              "      <th></th>\n",
              "      <th>UserId</th>\n",
              "      <th>ItemId</th>\n",
              "      <th>Rating</th>\n",
              "      <th>Time</th>\n",
              "      <th>item_idx</th>\n",
              "    </tr>\n",
              "  </thead>\n",
              "  <tbody>\n",
              "    <tr>\n",
              "      <th>2460</th>\n",
              "      <td>19</td>\n",
              "      <td>1215</td>\n",
              "      <td>5</td>\n",
              "      <td>2001-01-30 03:23:00</td>\n",
              "      <td>0</td>\n",
              "    </tr>\n",
              "    <tr>\n",
              "      <th>2475</th>\n",
              "      <td>19</td>\n",
              "      <td>111</td>\n",
              "      <td>4</td>\n",
              "      <td>2001-02-14 04:30:19</td>\n",
              "      <td>1</td>\n",
              "    </tr>\n",
              "    <tr>\n",
              "      <th>2391</th>\n",
              "      <td>19</td>\n",
              "      <td>32</td>\n",
              "      <td>4</td>\n",
              "      <td>2001-02-14 22:37:51</td>\n",
              "      <td>2</td>\n",
              "    </tr>\n",
              "    <tr>\n",
              "      <th>2395</th>\n",
              "      <td>19</td>\n",
              "      <td>2336</td>\n",
              "      <td>2</td>\n",
              "      <td>2001-02-14 22:42:10</td>\n",
              "      <td>3</td>\n",
              "    </tr>\n",
              "    <tr>\n",
              "      <th>2465</th>\n",
              "      <td>19</td>\n",
              "      <td>2888</td>\n",
              "      <td>2</td>\n",
              "      <td>2001-02-14 22:42:10</td>\n",
              "      <td>4</td>\n",
              "    </tr>\n",
              "    <tr>\n",
              "      <th>2371</th>\n",
              "      <td>19</td>\n",
              "      <td>1527</td>\n",
              "      <td>3</td>\n",
              "      <td>2001-02-14 22:42:43</td>\n",
              "      <td>5</td>\n",
              "    </tr>\n",
              "    <tr>\n",
              "      <th>2402</th>\n",
              "      <td>19</td>\n",
              "      <td>2918</td>\n",
              "      <td>4</td>\n",
              "      <td>2001-02-14 22:42:43</td>\n",
              "      <td>6</td>\n",
              "    </tr>\n",
              "    <tr>\n",
              "      <th>2423</th>\n",
              "      <td>19</td>\n",
              "      <td>2428</td>\n",
              "      <td>1</td>\n",
              "      <td>2001-02-14 22:42:43</td>\n",
              "      <td>7</td>\n",
              "    </tr>\n",
              "    <tr>\n",
              "      <th>2404</th>\n",
              "      <td>19</td>\n",
              "      <td>1974</td>\n",
              "      <td>3</td>\n",
              "      <td>2001-02-14 22:43:22</td>\n",
              "      <td>8</td>\n",
              "    </tr>\n",
              "    <tr>\n",
              "      <th>2484</th>\n",
              "      <td>19</td>\n",
              "      <td>3409</td>\n",
              "      <td>2</td>\n",
              "      <td>2001-02-14 22:43:22</td>\n",
              "      <td>9</td>\n",
              "    </tr>\n",
              "    <tr>\n",
              "      <th>2283</th>\n",
              "      <td>19</td>\n",
              "      <td>1262</td>\n",
              "      <td>3</td>\n",
              "      <td>2001-02-14 22:43:50</td>\n",
              "      <td>10</td>\n",
              "    </tr>\n",
              "    <tr>\n",
              "      <th>2450</th>\n",
              "      <td>19</td>\n",
              "      <td>3175</td>\n",
              "      <td>3</td>\n",
              "      <td>2001-02-14 22:43:50</td>\n",
              "      <td>11</td>\n",
              "    </tr>\n",
              "    <tr>\n",
              "      <th>2442</th>\n",
              "      <td>19</td>\n",
              "      <td>2004</td>\n",
              "      <td>2</td>\n",
              "      <td>2001-02-14 22:44:20</td>\n",
              "      <td>12</td>\n",
              "    </tr>\n",
              "    <tr>\n",
              "      <th>2483</th>\n",
              "      <td>19</td>\n",
              "      <td>480</td>\n",
              "      <td>4</td>\n",
              "      <td>2001-02-14 22:44:53</td>\n",
              "      <td>13</td>\n",
              "    </tr>\n",
              "    <tr>\n",
              "      <th>2324</th>\n",
              "      <td>19</td>\n",
              "      <td>2720</td>\n",
              "      <td>1</td>\n",
              "      <td>2001-02-14 22:44:54</td>\n",
              "      <td>14</td>\n",
              "    </tr>\n",
              "  </tbody>\n",
              "</table>\n",
              "</div>"
            ],
            "text/plain": [
              "      UserId  ItemId  Rating                Time  item_idx\n",
              "2460      19    1215       5 2001-01-30 03:23:00         0\n",
              "2475      19     111       4 2001-02-14 04:30:19         1\n",
              "2391      19      32       4 2001-02-14 22:37:51         2\n",
              "2395      19    2336       2 2001-02-14 22:42:10         3\n",
              "2465      19    2888       2 2001-02-14 22:42:10         4\n",
              "2371      19    1527       3 2001-02-14 22:42:43         5\n",
              "2402      19    2918       4 2001-02-14 22:42:43         6\n",
              "2423      19    2428       1 2001-02-14 22:42:43         7\n",
              "2404      19    1974       3 2001-02-14 22:43:22         8\n",
              "2484      19    3409       2 2001-02-14 22:43:22         9\n",
              "2283      19    1262       3 2001-02-14 22:43:50        10\n",
              "2450      19    3175       3 2001-02-14 22:43:50        11\n",
              "2442      19    2004       2 2001-02-14 22:44:20        12\n",
              "2483      19     480       4 2001-02-14 22:44:53        13\n",
              "2324      19    2720       1 2001-02-14 22:44:54        14"
            ]
          },
          "metadata": {},
          "execution_count": 241
        }
      ]
    },
    {
      "cell_type": "code",
      "metadata": {
        "id": "FiakDFYhWXNh"
      },
      "source": [
        "iter_ex = iter(tr_data_loader)"
      ],
      "execution_count": 242,
      "outputs": []
    },
    {
      "cell_type": "code",
      "metadata": {
        "colab": {
          "base_uri": "https://localhost:8080/"
        },
        "id": "hnK_k8jlWZEN",
        "outputId": "12470bbb-cec5-497b-d030-8e055357a240"
      },
      "source": [
        "inputs, labels, mask =  next(iter_ex)\n",
        "print(f'Model Input Item Idx are : {inputs}')\n",
        "print(f'Label Item Idx are : {\"\":5} {labels}')\n",
        "print(f'Previous Masked Input Idx are {mask}')"
      ],
      "execution_count": 243,
      "outputs": [
        {
          "output_type": "stream",
          "name": "stdout",
          "text": [
            "Model Input Item Idx are : [ 0 39 48 70]\n",
            "Label Item Idx are :       [ 1 40 49 71]\n",
            "Previous Masked Input Idx are []\n"
          ]
        }
      ]
    },
    {
      "cell_type": "markdown",
      "metadata": {
        "id": "HUQFOHczWb8K"
      },
      "source": [
        "## 3.Modeling"
      ]
    },
    {
      "cell_type": "markdown",
      "metadata": {
        "id": "i6PLtjBiWebE"
      },
      "source": [
        "### 3.1 Evaluation Metric"
      ]
    },
    {
      "cell_type": "code",
      "metadata": {
        "id": "ayfhjSeSWf5p"
      },
      "source": [
        "def mrr_k(pred, truth: int, k: int):\n",
        "    indexing = np.where(pred[:k] == truth)[0]\n",
        "    if len(indexing) > 0:\n",
        "        return 1 / (indexing[0] + 1)\n",
        "    else:\n",
        "        return 0\n",
        "\n",
        "\n",
        "def recall_k(pred, truth: int, k: int) -> int:\n",
        "    answer = truth in pred[:k]\n",
        "    return int(answer)"
      ],
      "execution_count": 244,
      "outputs": []
    },
    {
      "cell_type": "markdown",
      "metadata": {
        "id": "Scps7jVWWi_e"
      },
      "source": [
        "### 3.2 Model Architecture"
      ]
    },
    {
      "cell_type": "code",
      "metadata": {
        "id": "Q9Hvo8ItWkdQ"
      },
      "source": [
        "import numpy as np\n",
        "import tensorflow as tf\n",
        "from tensorflow.keras.layers import Input, Dense, Dropout, GRU\n",
        "from tensorflow.keras.losses import categorical_crossentropy\n",
        "from tensorflow.keras.models import Model\n",
        "from tensorflow.keras.optimizers import Adam\n",
        "from tensorflow.keras.utils import to_categorical\n",
        "from tqdm import tqdm"
      ],
      "execution_count": 245,
      "outputs": []
    },
    {
      "cell_type": "code",
      "metadata": {
        "id": "DPuv7GUmWmCm"
      },
      "source": [
        "def create_model(args):\n",
        "    inputs = Input(batch_shape=(args.batch_size, 1, args.num_items))\n",
        "    gru, _ = GRU(args.hsz, stateful=True, return_state=True, name='GRU')(inputs)\n",
        "    dropout = Dropout(args.drop_rate)(gru)\n",
        "    predictions = Dense(args.num_items, activation='softmax')(dropout)\n",
        "    model = Model(inputs=inputs, outputs=[predictions])\n",
        "    model.compile(loss=categorical_crossentropy, optimizer=Adam(args.lr), metrics=['accuracy'])\n",
        "    model.summary()\n",
        "    return model"
      ],
      "execution_count": 246,
      "outputs": []
    },
    {
      "cell_type": "code",
      "metadata": {
        "id": "tizjfu-QWnDL"
      },
      "source": [
        "class Args:\n",
        "    def __init__(self, tr, val, test, batch_size, hsz, drop_rate, lr, epochs, k):\n",
        "        self.tr = tr\n",
        "        self.val = val\n",
        "        self.test = test\n",
        "        self.num_items = tr['ItemId'].nunique()\n",
        "        self.num_sessions = tr['UserId'].nunique()\n",
        "        self.batch_size = batch_size\n",
        "        self.hsz = hsz\n",
        "        self.drop_rate = drop_rate\n",
        "        self.lr = lr\n",
        "        self.epochs = epochs\n",
        "        self.k = k\n",
        "\n",
        "args = Args(tr, val, test, batch_size=56, hsz=50, drop_rate=0.1, lr=0.001, epochs=3, k=20)"
      ],
      "execution_count": 247,
      "outputs": []
    },
    {
      "cell_type": "code",
      "metadata": {
        "colab": {
          "base_uri": "https://localhost:8080/"
        },
        "id": "-ufDGDmqWn-J",
        "outputId": "449f02cd-b62a-4569-a2d3-d54638666123"
      },
      "source": [
        "model = create_model(args)"
      ],
      "execution_count": 248,
      "outputs": [
        {
          "output_type": "stream",
          "name": "stdout",
          "text": [
            "Model: \"model_7\"\n",
            "_________________________________________________________________\n",
            "Layer (type)                 Output Shape              Param #   \n",
            "=================================================================\n",
            "input_8 (InputLayer)         [(56, 1, 2549)]           0         \n",
            "_________________________________________________________________\n",
            "GRU (GRU)                    [(56, 50), (56, 50)]      390150    \n",
            "_________________________________________________________________\n",
            "dropout_7 (Dropout)          (56, 50)                  0         \n",
            "_________________________________________________________________\n",
            "dense_7 (Dense)              (56, 2549)                129999    \n",
            "=================================================================\n",
            "Total params: 520,149\n",
            "Trainable params: 520,149\n",
            "Non-trainable params: 0\n",
            "_________________________________________________________________\n"
          ]
        }
      ]
    },
    {
      "cell_type": "markdown",
      "metadata": {
        "id": "lju_MG6mWvF5"
      },
      "source": [
        "### 3.3 Model Training"
      ]
    },
    {
      "cell_type": "code",
      "metadata": {
        "id": "aCGemZh-WxH0"
      },
      "source": [
        "# train 셋으로 학습하면서 valid 셋으로 검증합니다.\n",
        "def train_model(model, args):\n",
        "    train_dataset = SessionDataset(args.tr)\n",
        "    train_loader = SessionDataLoader(train_dataset, batch_size=args.batch_size)\n",
        "\n",
        "    for epoch in range(1, args.epochs + 1):\n",
        "        total_step = len(args.tr) - args.tr['UserId'].nunique()\n",
        "        tr_loader = tqdm(train_loader, total=total_step // args.batch_size, desc='Train', mininterval=1)\n",
        "        for feat, target, mask in tr_loader:\n",
        "            reset_hidden_states(model, mask)  # 종료된 session은 hidden_state를 초기화합니다. 아래 메서드에서 확인해주세요.\n",
        "\n",
        "            input_ohe = to_categorical(feat, num_classes=args.num_items)\n",
        "            input_ohe = np.expand_dims(input_ohe, axis=1)\n",
        "            target_ohe = to_categorical(target, num_classes=args.num_items)\n",
        "\n",
        "            result = model.train_on_batch(input_ohe, target_ohe)\n",
        "            tr_loader.set_postfix(train_loss=result[0], accuracy = result[1])\n",
        "\n",
        "        val_recall, val_mrr = get_metrics(args.val, model, args, args.k)  # valid set에 대해 검증합니다.\n",
        "\n",
        "        print(f\"\\t - Recall@{args.k} epoch {epoch}: {val_recall:3f}\")\n",
        "        print(f\"\\t - MRR@{args.k}    epoch {epoch}: {val_mrr:3f}\\n\")\n",
        "\n",
        "\n",
        "def reset_hidden_states(model, mask):\n",
        "    gru_layer = model.get_layer(name='GRU')  # model에서 gru layer를 가져옵니다.\n",
        "    hidden_states = gru_layer.states[0].numpy()  # gru_layer의 parameter를 가져옵니다.\n",
        "    for elt in mask:  # mask된 인덱스 즉, 종료된 세션의 인덱스를 돌면서\n",
        "        hidden_states[elt, :] = 0  # parameter를 초기화 합니다.\n",
        "    gru_layer.reset_states(states=hidden_states)\n",
        "\n",
        "\n",
        "def get_metrics(data, model, args, k: int):  # valid셋과 test셋을 평가하는 코드입니다. \n",
        "                                             # train과 거의 같지만 mrr, recall을 구하는 라인이 있습니다.\n",
        "    dataset = SessionDataset(data)\n",
        "    loader = SessionDataLoader(dataset, batch_size=args.batch_size)\n",
        "    recall_list, mrr_list = [], []\n",
        "\n",
        "    total_step = len(data) - data['UserId'].nunique()\n",
        "    for inputs, label, mask in tqdm(loader, total=total_step // args.batch_size, desc='Evaluation', mininterval=1):\n",
        "        reset_hidden_states(model, mask)\n",
        "        input_ohe = to_categorical(inputs, num_classes=args.num_items)\n",
        "        input_ohe = np.expand_dims(input_ohe, axis=1)\n",
        "\n",
        "        pred = model.predict(input_ohe, batch_size=args.batch_size)\n",
        "        pred_arg = tf.argsort(pred, direction='DESCENDING')  # softmax 값이 큰 순서대로 sorting 합니다.\n",
        "\n",
        "        length = len(inputs)\n",
        "        recall_list.extend([recall_k(pred_arg[i], label[i], k) for i in range(length)])\n",
        "        mrr_list.extend([mrr_k(pred_arg[i], label[i], k) for i in range(length)])\n",
        "\n",
        "    recall, mrr = np.mean(recall_list), np.mean(mrr_list)\n",
        "    return recall, mrr"
      ],
      "execution_count": 249,
      "outputs": []
    },
    {
      "cell_type": "code",
      "metadata": {
        "colab": {
          "base_uri": "https://localhost:8080/"
        },
        "id": "VP4p6pXzW0VN",
        "outputId": "097b0154-2817-4015-9c99-844b14744f22"
      },
      "source": [
        "train_model(model, args)"
      ],
      "execution_count": 250,
      "outputs": [
        {
          "output_type": "stream",
          "name": "stderr",
          "text": [
            "Train:  93%|█████████▎| 1190/1275 [00:31<00:02, 38.22it/s, accuracy=0, train_loss=7.57]\n",
            "Evaluation:  39%|███▉      | 25/64 [00:09<00:14,  2.75it/s]\n"
          ]
        },
        {
          "output_type": "stream",
          "name": "stdout",
          "text": [
            "\t - Recall@20 epoch 1: 0.044286\n",
            "\t - MRR@20    epoch 1: 0.009522\n",
            "\n"
          ]
        },
        {
          "output_type": "stream",
          "name": "stderr",
          "text": [
            "Train:  93%|█████████▎| 1190/1275 [00:29<00:02, 40.82it/s, accuracy=0, train_loss=7.47]\n",
            "Evaluation:  39%|███▉      | 25/64 [00:08<00:13,  2.97it/s]\n"
          ]
        },
        {
          "output_type": "stream",
          "name": "stdout",
          "text": [
            "\t - Recall@20 epoch 2: 0.048571\n",
            "\t - MRR@20    epoch 2: 0.011953\n",
            "\n"
          ]
        },
        {
          "output_type": "stream",
          "name": "stderr",
          "text": [
            "Train:  93%|█████████▎| 1190/1275 [00:28<00:02, 41.37it/s, accuracy=0, train_loss=7.31]\n",
            "Evaluation:  39%|███▉      | 25/64 [00:08<00:12,  3.02it/s]"
          ]
        },
        {
          "output_type": "stream",
          "name": "stdout",
          "text": [
            "\t - Recall@20 epoch 3: 0.058571\n",
            "\t - MRR@20    epoch 3: 0.016207\n",
            "\n"
          ]
        },
        {
          "output_type": "stream",
          "name": "stderr",
          "text": [
            "\n"
          ]
        }
      ]
    },
    {
      "cell_type": "code",
      "metadata": {
        "colab": {
          "base_uri": "https://localhost:8080/"
        },
        "id": "QqDgIdhfYhMg",
        "outputId": "c93e9cb2-ae46-443e-f2d2-e7721c5a9a5e"
      },
      "source": [
        "def test_model(model, args, test):\n",
        "    test_recall, test_mrr = get_metrics(test, model, args, 5)\n",
        "    print(f\"\\t - Recall@{args.k}: {test_recall:3f}\")\n",
        "    print(f\"\\t - MRR@{args.k}: {test_mrr:3f}\\n\")\n",
        "\n",
        "test_model(model, args, test)"
      ],
      "execution_count": 251,
      "outputs": [
        {
          "output_type": "stream",
          "name": "stderr",
          "text": [
            "Evaluation:  18%|█▊        | 6/34 [00:01<00:04,  5.65it/s]"
          ]
        },
        {
          "output_type": "stream",
          "name": "stdout",
          "text": [
            "\t - Recall@20: 0.038690\n",
            "\t - MRR@20: 0.018700\n",
            "\n"
          ]
        },
        {
          "output_type": "stream",
          "name": "stderr",
          "text": [
            "\n"
          ]
        }
      ]
    },
    {
      "cell_type": "markdown",
      "metadata": {
        "id": "kdjLmJEWd4yN"
      },
      "source": [
        "## Condition 1. Increase Data\n",
        "\n",
        "전체 데이터로 진행\n",
        "\n"
      ]
    },
    {
      "cell_type": "code",
      "metadata": {
        "id": "KMrt2WH6eASO"
      },
      "source": [
        "data = load_data(train_path, None)\n",
        "data.sort_values(['UserId', 'Time'], inplace=True)  # data를 id와 시간 순서로 정렬해줍니다.\n",
        "\n",
        "data['Time'] = data['Time'].map(lambda x: datetime.fromtimestamp(x))\n",
        "\n",
        "data = cleanse_recursive(data, shortest=2, least_click=5)"
      ],
      "execution_count": 281,
      "outputs": []
    },
    {
      "cell_type": "code",
      "metadata": {
        "id": "0al8q3njeLEZ"
      },
      "source": [
        "test_time = data['Time'].max() - dt.timedelta(120)\n",
        "valid_time = data['Time'].max() - dt.timedelta(240) "
      ],
      "execution_count": 282,
      "outputs": []
    },
    {
      "cell_type": "code",
      "metadata": {
        "id": "K4RRpL5FeNPH"
      },
      "source": [
        "tr = data[data['Time'] <= valid_time]\n",
        "test = data[data['Time'] > test_time]\n",
        "val = data[(data['Time'] > valid_time) & (data['Time'] < test_time)]"
      ],
      "execution_count": 283,
      "outputs": []
    },
    {
      "cell_type": "code",
      "metadata": {
        "colab": {
          "base_uri": "https://localhost:8080/"
        },
        "id": "a2IajdofeTJB",
        "outputId": "7e651070-6322-46ad-924a-01ff6e598fc6"
      },
      "source": [
        "stats_info(tr, 'train')\n",
        "stats_info(val, 'valid')\n",
        "stats_info(test, 'test')"
      ],
      "execution_count": 284,
      "outputs": [
        {
          "output_type": "stream",
          "name": "stdout",
          "text": [
            "* train Set Stats Info\n",
            "\t Events: 986992\n",
            "\t Sessions: 6039\n",
            "\t Items: 3416\n",
            "\t First Time : 2000-04-25 23:05:32\n",
            "\t Last Time : 2002-07-03 17:31:04\n",
            "\n",
            "* valid Set Stats Info\n",
            "\t Events: 6106\n",
            "\t Sessions: 278\n",
            "\t Items: 2078\n",
            "\t First Time : 2002-07-03 23:06:51\n",
            "\t Last Time : 2002-10-31 16:33:08\n",
            "\n",
            "* test Set Stats Info\n",
            "\t Events: 6513\n",
            "\t Sessions: 277\n",
            "\t Items: 2069\n",
            "\t First Time : 2002-10-31 19:58:49\n",
            "\t Last Time : 2003-02-28 17:49:50\n",
            "\n"
          ]
        }
      ]
    },
    {
      "cell_type": "code",
      "metadata": {
        "id": "dSRLAyTcftr7"
      },
      "source": [
        "tr = indexing(tr, id2idx)\n",
        "val = indexing(val, id2idx)\n",
        "test = indexing(test, id2idx)"
      ],
      "execution_count": 285,
      "outputs": []
    },
    {
      "cell_type": "code",
      "metadata": {
        "id": "BeVHmydIfva_"
      },
      "source": [
        "save_path = data_path / 'processed'\n",
        "save_path.mkdir(parents=True, exist_ok=True)\n",
        "\n",
        "tr.to_pickle(save_path / 'train.pkl')\n",
        "val.to_pickle(save_path / 'valid.pkl')\n",
        "test.to_pickle(save_path / 'test.pkl')"
      ],
      "execution_count": 286,
      "outputs": []
    },
    {
      "cell_type": "code",
      "metadata": {
        "id": "zjKD3b6XfyZP"
      },
      "source": [
        "tr_dataset = SessionDataset(tr)\n",
        "tr_data_loader = SessionDataLoader(tr_dataset, batch_size=4)\n",
        "iter_ex = iter(tr_data_loader)\n",
        "inputs, labels, mask =  next(iter_ex)"
      ],
      "execution_count": 287,
      "outputs": []
    },
    {
      "cell_type": "code",
      "metadata": {
        "id": "J4Lhwyc7f893"
      },
      "source": [
        "args = Args(tr, val, test, batch_size=128, hsz=50, drop_rate=0.1, lr=0.001, epochs=3, k=20)"
      ],
      "execution_count": 291,
      "outputs": []
    },
    {
      "cell_type": "code",
      "metadata": {
        "colab": {
          "base_uri": "https://localhost:8080/"
        },
        "id": "eKz10Mazf_3A",
        "outputId": "0777550f-996b-49d3-c93b-02f321abd45b"
      },
      "source": [
        "model = create_model(args)"
      ],
      "execution_count": 292,
      "outputs": [
        {
          "output_type": "stream",
          "name": "stdout",
          "text": [
            "Model: \"model_15\"\n",
            "_________________________________________________________________\n",
            "Layer (type)                 Output Shape              Param #   \n",
            "=================================================================\n",
            "input_16 (InputLayer)        [(128, 1, 3416)]          0         \n",
            "_________________________________________________________________\n",
            "GRU (GRU)                    [(128, 50), (128, 50)]    520200    \n",
            "_________________________________________________________________\n",
            "dropout_15 (Dropout)         (128, 50)                 0         \n",
            "_________________________________________________________________\n",
            "dense_15 (Dense)             (128, 3416)               174216    \n",
            "=================================================================\n",
            "Total params: 694,416\n",
            "Trainable params: 694,416\n",
            "Non-trainable params: 0\n",
            "_________________________________________________________________\n"
          ]
        }
      ]
    },
    {
      "cell_type": "code",
      "metadata": {
        "colab": {
          "base_uri": "https://localhost:8080/"
        },
        "id": "LmfLkFPSgC7R",
        "outputId": "77fac897-c998-496b-c7a0-8de72e13f232"
      },
      "source": [
        "train_model(model, args)"
      ],
      "execution_count": 293,
      "outputs": [
        {
          "output_type": "stream",
          "name": "stderr",
          "text": [
            "Train:  98%|█████████▊| 7493/7663 [04:49<00:06, 25.85it/s, accuracy=0.0234, train_loss=5.95]\n",
            "Evaluation:  27%|██▋       | 12/45 [00:08<00:24,  1.36it/s]\n"
          ]
        },
        {
          "output_type": "stream",
          "name": "stdout",
          "text": [
            "\t - Recall@20 epoch 1: 0.065755\n",
            "\t - MRR@20    epoch 1: 0.012670\n",
            "\n"
          ]
        },
        {
          "output_type": "stream",
          "name": "stderr",
          "text": [
            "Train:  98%|█████████▊| 7493/7663 [05:11<00:07, 24.07it/s, accuracy=0.0469, train_loss=5.69]\n",
            "Evaluation:  27%|██▋       | 12/45 [00:08<00:23,  1.40it/s]\n"
          ]
        },
        {
          "output_type": "stream",
          "name": "stdout",
          "text": [
            "\t - Recall@20 epoch 2: 0.081380\n",
            "\t - MRR@20    epoch 2: 0.017656\n",
            "\n"
          ]
        },
        {
          "output_type": "stream",
          "name": "stderr",
          "text": [
            "Train:  98%|█████████▊| 7493/7663 [05:27<00:07, 22.87it/s, accuracy=0.0547, train_loss=5.6]\n",
            "Evaluation:  27%|██▋       | 12/45 [00:08<00:22,  1.44it/s]"
          ]
        },
        {
          "output_type": "stream",
          "name": "stdout",
          "text": [
            "\t - Recall@20 epoch 3: 0.084635\n",
            "\t - MRR@20    epoch 3: 0.020674\n",
            "\n"
          ]
        },
        {
          "output_type": "stream",
          "name": "stderr",
          "text": [
            "\n"
          ]
        }
      ]
    },
    {
      "cell_type": "code",
      "metadata": {
        "colab": {
          "base_uri": "https://localhost:8080/"
        },
        "id": "Fo-S6O2FgMri",
        "outputId": "68a8b811-6c4e-4954-859f-714edd3a0a68"
      },
      "source": [
        "test_model(model, args, test)"
      ],
      "execution_count": 294,
      "outputs": [
        {
          "output_type": "stream",
          "name": "stderr",
          "text": [
            "Evaluation:  25%|██▌       | 12/48 [00:04<00:12,  2.97it/s]"
          ]
        },
        {
          "output_type": "stream",
          "name": "stdout",
          "text": [
            "\t - Recall@20: 0.057943\n",
            "\t - MRR@20: 0.029112\n",
            "\n"
          ]
        },
        {
          "output_type": "stream",
          "name": "stderr",
          "text": [
            "\n"
          ]
        }
      ]
    },
    {
      "cell_type": "markdown",
      "metadata": {
        "id": "PKQkeM-jZ-Md"
      },
      "source": [
        "## Condition 2. Learning Rate"
      ]
    },
    {
      "cell_type": "code",
      "metadata": {
        "colab": {
          "base_uri": "https://localhost:8080/"
        },
        "id": "ge_Syck4a_0l",
        "outputId": "34245899-50e4-4657-9316-b8687f0eab00"
      },
      "source": [
        "args1 = Args(tr, val, test, batch_size=56, hsz=50, drop_rate=0.1, lr=0.0001, epochs=3, k=20)\n",
        "model1 = create_model(args1)"
      ],
      "execution_count": 253,
      "outputs": [
        {
          "output_type": "stream",
          "name": "stdout",
          "text": [
            "Model: \"model_9\"\n",
            "_________________________________________________________________\n",
            "Layer (type)                 Output Shape              Param #   \n",
            "=================================================================\n",
            "input_10 (InputLayer)        [(56, 1, 2549)]           0         \n",
            "_________________________________________________________________\n",
            "GRU (GRU)                    [(56, 50), (56, 50)]      390150    \n",
            "_________________________________________________________________\n",
            "dropout_9 (Dropout)          (56, 50)                  0         \n",
            "_________________________________________________________________\n",
            "dense_9 (Dense)              (56, 2549)                129999    \n",
            "=================================================================\n",
            "Total params: 520,149\n",
            "Trainable params: 520,149\n",
            "Non-trainable params: 0\n",
            "_________________________________________________________________\n"
          ]
        }
      ]
    },
    {
      "cell_type": "code",
      "metadata": {
        "colab": {
          "base_uri": "https://localhost:8080/"
        },
        "id": "Lj7LBR_Dc1sv",
        "outputId": "bfb14ea0-6475-4651-8f35-37fbe876adc0"
      },
      "source": [
        "train_model(model1, args)"
      ],
      "execution_count": 255,
      "outputs": [
        {
          "output_type": "stream",
          "name": "stderr",
          "text": [
            "Train:  93%|█████████▎| 1190/1275 [00:30<00:02, 38.91it/s, accuracy=0, train_loss=7.66]\n",
            "Evaluation:  39%|███▉      | 25/64 [00:08<00:13,  2.88it/s]\n"
          ]
        },
        {
          "output_type": "stream",
          "name": "stdout",
          "text": [
            "\t - Recall@20 epoch 1: 0.049286\n",
            "\t - MRR@20    epoch 1: 0.009646\n",
            "\n"
          ]
        },
        {
          "output_type": "stream",
          "name": "stderr",
          "text": [
            "Train:  93%|█████████▎| 1190/1275 [00:28<00:02, 41.17it/s, accuracy=0, train_loss=7.66]\n",
            "Evaluation:  39%|███▉      | 25/64 [00:08<00:13,  2.97it/s]\n"
          ]
        },
        {
          "output_type": "stream",
          "name": "stdout",
          "text": [
            "\t - Recall@20 epoch 2: 0.047857\n",
            "\t - MRR@20    epoch 2: 0.009494\n",
            "\n"
          ]
        },
        {
          "output_type": "stream",
          "name": "stderr",
          "text": [
            "Train:  93%|█████████▎| 1190/1275 [00:29<00:02, 40.98it/s, accuracy=0, train_loss=7.65]\n",
            "Evaluation:  39%|███▉      | 25/64 [00:08<00:13,  2.92it/s]"
          ]
        },
        {
          "output_type": "stream",
          "name": "stdout",
          "text": [
            "\t - Recall@20 epoch 3: 0.047857\n",
            "\t - MRR@20    epoch 3: 0.009394\n",
            "\n"
          ]
        },
        {
          "output_type": "stream",
          "name": "stderr",
          "text": [
            "\n"
          ]
        }
      ]
    },
    {
      "cell_type": "code",
      "metadata": {
        "colab": {
          "base_uri": "https://localhost:8080/"
        },
        "id": "GY-7OvV9c6hJ",
        "outputId": "fb553deb-e746-499c-c437-2b9b7142f561"
      },
      "source": [
        "test_model(model1, args, test)"
      ],
      "execution_count": 256,
      "outputs": [
        {
          "output_type": "stream",
          "name": "stderr",
          "text": [
            "Evaluation:  18%|█▊        | 6/34 [00:01<00:04,  5.97it/s]"
          ]
        },
        {
          "output_type": "stream",
          "name": "stdout",
          "text": [
            "\t - Recall@20: 0.032738\n",
            "\t - MRR@20: 0.010367\n",
            "\n"
          ]
        },
        {
          "output_type": "stream",
          "name": "stderr",
          "text": [
            "\n"
          ]
        }
      ]
    },
    {
      "cell_type": "markdown",
      "metadata": {
        "id": "UbD2MtNnc99M"
      },
      "source": [
        "## Condition 3. Hsz"
      ]
    },
    {
      "cell_type": "code",
      "metadata": {
        "colab": {
          "base_uri": "https://localhost:8080/"
        },
        "id": "3ZEEbXohdDmE",
        "outputId": "2f5dd627-4023-45db-b513-3cdcffb5200a"
      },
      "source": [
        "args2 = Args(tr, val, test, batch_size=56, hsz=70, drop_rate=0.1, lr=0.0001, epochs=3, k=20)\n",
        "model2 = create_model(args2)"
      ],
      "execution_count": 258,
      "outputs": [
        {
          "output_type": "stream",
          "name": "stdout",
          "text": [
            "Model: \"model_11\"\n",
            "_________________________________________________________________\n",
            "Layer (type)                 Output Shape              Param #   \n",
            "=================================================================\n",
            "input_12 (InputLayer)        [(56, 1, 2549)]           0         \n",
            "_________________________________________________________________\n",
            "GRU (GRU)                    [(56, 70), (56, 70)]      550410    \n",
            "_________________________________________________________________\n",
            "dropout_11 (Dropout)         (56, 70)                  0         \n",
            "_________________________________________________________________\n",
            "dense_11 (Dense)             (56, 2549)                180979    \n",
            "=================================================================\n",
            "Total params: 731,389\n",
            "Trainable params: 731,389\n",
            "Non-trainable params: 0\n",
            "_________________________________________________________________\n"
          ]
        }
      ]
    },
    {
      "cell_type": "code",
      "metadata": {
        "colab": {
          "base_uri": "https://localhost:8080/"
        },
        "id": "xIxdBjvLdxZk",
        "outputId": "5f64e1b7-26ab-4263-e296-cf94dd5006cc"
      },
      "source": [
        "train_model(model2, args2)"
      ],
      "execution_count": 260,
      "outputs": [
        {
          "output_type": "stream",
          "name": "stderr",
          "text": [
            "Train:  93%|█████████▎| 1190/1275 [00:34<00:02, 34.69it/s, accuracy=0, train_loss=7.67]\n",
            "Evaluation:  39%|███▉      | 25/64 [00:08<00:13,  2.93it/s]\n"
          ]
        },
        {
          "output_type": "stream",
          "name": "stdout",
          "text": [
            "\t - Recall@20 epoch 1: 0.043571\n",
            "\t - MRR@20    epoch 1: 0.009407\n",
            "\n"
          ]
        },
        {
          "output_type": "stream",
          "name": "stderr",
          "text": [
            "Train:  93%|█████████▎| 1190/1275 [00:31<00:02, 37.26it/s, accuracy=0, train_loss=7.64]\n",
            "Evaluation:  39%|███▉      | 25/64 [00:08<00:13,  2.88it/s]\n"
          ]
        },
        {
          "output_type": "stream",
          "name": "stdout",
          "text": [
            "\t - Recall@20 epoch 2: 0.049286\n",
            "\t - MRR@20    epoch 2: 0.009447\n",
            "\n"
          ]
        },
        {
          "output_type": "stream",
          "name": "stderr",
          "text": [
            "Train:  93%|█████████▎| 1190/1275 [00:31<00:02, 37.34it/s, accuracy=0, train_loss=7.66]\n",
            "Evaluation:  39%|███▉      | 25/64 [00:08<00:13,  2.96it/s]"
          ]
        },
        {
          "output_type": "stream",
          "name": "stdout",
          "text": [
            "\t - Recall@20 epoch 3: 0.049286\n",
            "\t - MRR@20    epoch 3: 0.009216\n",
            "\n"
          ]
        },
        {
          "output_type": "stream",
          "name": "stderr",
          "text": [
            "\n"
          ]
        }
      ]
    },
    {
      "cell_type": "code",
      "metadata": {
        "colab": {
          "base_uri": "https://localhost:8080/"
        },
        "id": "u36coUVfdo3S",
        "outputId": "b58d4890-b586-4cf2-cd88-b825aae53794"
      },
      "source": [
        "test_model(model2, args, test)"
      ],
      "execution_count": 261,
      "outputs": [
        {
          "output_type": "stream",
          "name": "stderr",
          "text": [
            "Evaluation:  18%|█▊        | 6/34 [00:00<00:04,  6.59it/s]"
          ]
        },
        {
          "output_type": "stream",
          "name": "stdout",
          "text": [
            "\t - Recall@20: 0.029762\n",
            "\t - MRR@20: 0.009028\n",
            "\n"
          ]
        },
        {
          "output_type": "stream",
          "name": "stderr",
          "text": [
            "\n"
          ]
        }
      ]
    },
    {
      "cell_type": "markdown",
      "metadata": {
        "id": "egAAHAazjsEN"
      },
      "source": [
        "recall의 개념을 확장한 `recall@k` 지표, `precision`의 개념을 확장한 `Mean Average Precision@k` 지표 등을 사용함\n",
        "\n",
        "__Base Model__ : 2년치의 데이터 + `args = Args(tr, val, test, batch_size=56, hsz=50, drop_rate=0.1, lr=0.001, epochs=3, k=20)`\n",
        "\n",
        "- Recall@20 : 0.038690\n",
        "- MRR@20 : 0.018700\n",
        "\n",
        "__Model 1__ : 전체 데이터 + `args = Args(tr, val, test, batch_size=128, hsz=50, drop_rate=0.1, lr=0.001, epochs=3, k=20)`\n",
        "\n",
        "- Recall@20: 0.057943\n",
        "- MRR@20: 0.029112\n",
        "\n",
        "__Model 2__ : 2년치의 데이터 + `args = Args(tr, val, test, batch_size=56, hsz=50, drop_rate=0.1, lr=0.0001, epochs=3, k=20)`\n",
        "- Recall@20: 0.032738\n",
        "- MRR@20: 0.010367\n",
        "\n",
        "__Model 3__ : 2년치의 데이터 + `args = Args(tr, val, test, batch_size=56, hsz=70, drop_rate=0.1, lr=0.0001, epochs=3, k=20)`\n",
        "- Recall@20: 0.029762\n",
        "- MRR@20: 0.009028\n",
        "\n",
        "\n",
        "## 회고 \n",
        "\n",
        "전체 데이터로 돌린 첫 모델이 가장 좋은 성능을 보였다. 2년치의 데이터만 가져왔을 때 보다 시간은 더 걸렸지만 성능은 더 좋았다. \n",
        "\n",
        "세션정의에 대한 이해가 어려웠고 데이터 사이즈, 모델구조와 하이퍼파라미터들을 변경해서 여러 모델들을 만들었다. \n",
        "\n",
        "어려웠던 점은 날짜 변경과 모델이 돌아가지 않아서인데, 이 부분은 다른 분들의 도움으로 batch_size를 변경해 해결하였다. \n",
        "\n",
        "하지만 예상한 성능보다 좋지 못해 아쉬운 익스다. 개인적인 사정으로 많은 시간을 투자하지 못했는데, 다음엔 더 애정을 갖고 많은 시간을 투자해서 만족할 수 있는 모델을 만들어봐야겠다. "
      ]
    },
    {
      "cell_type": "markdown",
      "metadata": {
        "id": "hW_taDTkpdUt"
      },
      "source": [
        ""
      ]
    }
  ]
}