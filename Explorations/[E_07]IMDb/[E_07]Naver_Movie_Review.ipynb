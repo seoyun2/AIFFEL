{
  "nbformat": 4,
  "nbformat_minor": 0,
  "metadata": {
    "accelerator": "GPU",
    "colab": {
      "name": "[E_07]Naver_Movie_Review.ipynb",
      "provenance": [],
      "toc_visible": true
    },
    "kernelspec": {
      "display_name": "Python 3",
      "name": "python3"
    },
    "language_info": {
      "name": "python"
    }
  },
  "cells": [
    {
      "cell_type": "markdown",
      "metadata": {
        "id": "pVo-jNRTZoTL"
      },
      "source": [
        "# 영화리뷰 텍스트 감성분석하기 \n",
        "\n"
      ]
    },
    {
      "cell_type": "markdown",
      "metadata": {
        "id": "3wX_MaGb5jwW"
      },
      "source": [
        "# 프로젝트 : 네이버 영화리뷰 감성분석 도전하기"
      ]
    },
    {
      "cell_type": "markdown",
      "metadata": {
        "id": "WAFajPuL561y"
      },
      "source": [
        "### 1) 데이터 준비와 확인"
      ]
    },
    {
      "cell_type": "code",
      "metadata": {
        "colab": {
          "base_uri": "https://localhost:8080/",
          "height": 202
        },
        "id": "_D4OG8OY56Vj",
        "outputId": "896b19f0-5d47-43a2-9da5-659748ca4a23"
      },
      "source": [
        "import pandas as pd\n",
        "import urllib.request\n",
        "%matplotlib inline\n",
        "import matplotlib.pyplot as plt\n",
        "import re\n",
        "from tensorflow import keras\n",
        "from tensorflow.keras.preprocessing.text import Tokenizer\n",
        "import numpy as np\n",
        "from tensorflow.keras.preprocessing.sequence import pad_sequences\n",
        "from collections import Counter\n",
        "\n",
        "# 데이터를 읽어봅시다. \n",
        "train_data = pd.read_table('/content/drive/MyDrive/aiffel/sentiment_classification/ratings_train.txt')\n",
        "test_data = pd.read_table('/content/drive/MyDrive/aiffel/sentiment_classification/ratings_test.txt')\n",
        "\n",
        "train_data.head()"
      ],
      "execution_count": 1,
      "outputs": [
        {
          "output_type": "execute_result",
          "data": {
            "text/html": [
              "<div>\n",
              "<style scoped>\n",
              "    .dataframe tbody tr th:only-of-type {\n",
              "        vertical-align: middle;\n",
              "    }\n",
              "\n",
              "    .dataframe tbody tr th {\n",
              "        vertical-align: top;\n",
              "    }\n",
              "\n",
              "    .dataframe thead th {\n",
              "        text-align: right;\n",
              "    }\n",
              "</style>\n",
              "<table border=\"1\" class=\"dataframe\">\n",
              "  <thead>\n",
              "    <tr style=\"text-align: right;\">\n",
              "      <th></th>\n",
              "      <th>id</th>\n",
              "      <th>document</th>\n",
              "      <th>label</th>\n",
              "    </tr>\n",
              "  </thead>\n",
              "  <tbody>\n",
              "    <tr>\n",
              "      <th>0</th>\n",
              "      <td>9976970</td>\n",
              "      <td>아 더빙.. 진짜 짜증나네요 목소리</td>\n",
              "      <td>0</td>\n",
              "    </tr>\n",
              "    <tr>\n",
              "      <th>1</th>\n",
              "      <td>3819312</td>\n",
              "      <td>흠...포스터보고 초딩영화줄....오버연기조차 가볍지 않구나</td>\n",
              "      <td>1</td>\n",
              "    </tr>\n",
              "    <tr>\n",
              "      <th>2</th>\n",
              "      <td>10265843</td>\n",
              "      <td>너무재밓었다그래서보는것을추천한다</td>\n",
              "      <td>0</td>\n",
              "    </tr>\n",
              "    <tr>\n",
              "      <th>3</th>\n",
              "      <td>9045019</td>\n",
              "      <td>교도소 이야기구먼 ..솔직히 재미는 없다..평점 조정</td>\n",
              "      <td>0</td>\n",
              "    </tr>\n",
              "    <tr>\n",
              "      <th>4</th>\n",
              "      <td>6483659</td>\n",
              "      <td>사이몬페그의 익살스런 연기가 돋보였던 영화!스파이더맨에서 늙어보이기만 했던 커스틴 ...</td>\n",
              "      <td>1</td>\n",
              "    </tr>\n",
              "  </tbody>\n",
              "</table>\n",
              "</div>"
            ],
            "text/plain": [
              "         id                                           document  label\n",
              "0   9976970                                아 더빙.. 진짜 짜증나네요 목소리      0\n",
              "1   3819312                  흠...포스터보고 초딩영화줄....오버연기조차 가볍지 않구나      1\n",
              "2  10265843                                  너무재밓었다그래서보는것을추천한다      0\n",
              "3   9045019                      교도소 이야기구먼 ..솔직히 재미는 없다..평점 조정      0\n",
              "4   6483659  사이몬페그의 익살스런 연기가 돋보였던 영화!스파이더맨에서 늙어보이기만 했던 커스틴 ...      1"
            ]
          },
          "metadata": {
            "tags": []
          },
          "execution_count": 1
        }
      ]
    },
    {
      "cell_type": "markdown",
      "metadata": {
        "id": "7NbjVGb8-48k"
      },
      "source": [
        "#### install mecab"
      ]
    },
    {
      "cell_type": "code",
      "metadata": {
        "colab": {
          "base_uri": "https://localhost:8080/"
        },
        "id": "1aCYa_9l0W7C",
        "outputId": "717d58af-3f7a-4049-ec83-c22ccc3383cc"
      },
      "source": [
        "pip install konlpy"
      ],
      "execution_count": 2,
      "outputs": [
        {
          "output_type": "stream",
          "text": [
            "Requirement already satisfied: konlpy in /usr/local/lib/python3.7/dist-packages (0.5.2)\n",
            "Requirement already satisfied: colorama in /usr/local/lib/python3.7/dist-packages (from konlpy) (0.4.4)\n",
            "Requirement already satisfied: tweepy>=3.7.0 in /usr/local/lib/python3.7/dist-packages (from konlpy) (3.10.0)\n",
            "Requirement already satisfied: beautifulsoup4==4.6.0 in /usr/local/lib/python3.7/dist-packages (from konlpy) (4.6.0)\n",
            "Requirement already satisfied: numpy>=1.6 in /usr/local/lib/python3.7/dist-packages (from konlpy) (1.19.5)\n",
            "Requirement already satisfied: lxml>=4.1.0 in /usr/local/lib/python3.7/dist-packages (from konlpy) (4.2.6)\n",
            "Requirement already satisfied: JPype1>=0.7.0 in /usr/local/lib/python3.7/dist-packages (from konlpy) (1.3.0)\n",
            "Requirement already satisfied: typing-extensions in /usr/local/lib/python3.7/dist-packages (from JPype1>=0.7.0->konlpy) (3.7.4.3)\n",
            "Requirement already satisfied: requests[socks]>=2.11.1 in /usr/local/lib/python3.7/dist-packages (from tweepy>=3.7.0->konlpy) (2.23.0)\n",
            "Requirement already satisfied: requests-oauthlib>=0.7.0 in /usr/local/lib/python3.7/dist-packages (from tweepy>=3.7.0->konlpy) (1.3.0)\n",
            "Requirement already satisfied: six>=1.10.0 in /usr/local/lib/python3.7/dist-packages (from tweepy>=3.7.0->konlpy) (1.15.0)\n",
            "Requirement already satisfied: oauthlib>=3.0.0 in /usr/local/lib/python3.7/dist-packages (from requests-oauthlib>=0.7.0->tweepy>=3.7.0->konlpy) (3.1.1)\n",
            "Requirement already satisfied: idna<3,>=2.5 in /usr/local/lib/python3.7/dist-packages (from requests[socks]>=2.11.1->tweepy>=3.7.0->konlpy) (2.10)\n",
            "Requirement already satisfied: urllib3!=1.25.0,!=1.25.1,<1.26,>=1.21.1 in /usr/local/lib/python3.7/dist-packages (from requests[socks]>=2.11.1->tweepy>=3.7.0->konlpy) (1.24.3)\n",
            "Requirement already satisfied: chardet<4,>=3.0.2 in /usr/local/lib/python3.7/dist-packages (from requests[socks]>=2.11.1->tweepy>=3.7.0->konlpy) (3.0.4)\n",
            "Requirement already satisfied: certifi>=2017.4.17 in /usr/local/lib/python3.7/dist-packages (from requests[socks]>=2.11.1->tweepy>=3.7.0->konlpy) (2021.5.30)\n",
            "Requirement already satisfied: PySocks!=1.5.7,>=1.5.6 in /usr/local/lib/python3.7/dist-packages (from requests[socks]>=2.11.1->tweepy>=3.7.0->konlpy) (1.7.1)\n"
          ],
          "name": "stdout"
        }
      ]
    },
    {
      "cell_type": "code",
      "metadata": {
        "colab": {
          "base_uri": "https://localhost:8080/"
        },
        "id": "9zRCN7c_-q5f",
        "outputId": "e7dc5d1e-005b-48ef-9a6e-35be2f27dc4c"
      },
      "source": [
        "!pip install mecab-python3"
      ],
      "execution_count": 3,
      "outputs": [
        {
          "output_type": "stream",
          "text": [
            "Requirement already satisfied: mecab-python3 in /usr/local/lib/python3.7/dist-packages (1.0.4)\n"
          ],
          "name": "stdout"
        }
      ]
    },
    {
      "cell_type": "code",
      "metadata": {
        "colab": {
          "base_uri": "https://localhost:8080/"
        },
        "id": "2sPcqCT6-s1z",
        "outputId": "18c55a6b-51fd-4b50-a0c0-c1992d4e61e5"
      },
      "source": [
        "!sudo apt-get install curl\n",
        "!bash <(curl -s https://raw.githubusercontent.com/konlpy/konlpy/master/scripts/mecab.sh)"
      ],
      "execution_count": 4,
      "outputs": [
        {
          "output_type": "stream",
          "text": [
            "Reading package lists... Done\n",
            "Building dependency tree       \n",
            "Reading state information... Done\n",
            "The following additional packages will be installed:\n",
            "  libcurl4 libcurl4-openssl-dev\n",
            "Suggested packages:\n",
            "  libcurl4-doc libidn11-dev libkrb5-dev libldap2-dev librtmp-dev\n",
            "The following packages will be upgraded:\n",
            "  curl libcurl4 libcurl4-openssl-dev\n",
            "3 upgraded, 0 newly installed, 0 to remove and 101 not upgraded.\n",
            "Need to get 679 kB of archives.\n",
            "After this operation, 0 B of additional disk space will be used.\n",
            "Get:1 http://archive.ubuntu.com/ubuntu bionic-updates/main amd64 libcurl4-openssl-dev amd64 7.58.0-2ubuntu3.14 [301 kB]\n",
            "Get:2 http://archive.ubuntu.com/ubuntu bionic-updates/main amd64 curl amd64 7.58.0-2ubuntu3.14 [159 kB]\n",
            "Get:3 http://archive.ubuntu.com/ubuntu bionic-updates/main amd64 libcurl4 amd64 7.58.0-2ubuntu3.14 [219 kB]\n",
            "Fetched 679 kB in 1s (560 kB/s)\n",
            "debconf: unable to initialize frontend: Dialog\n",
            "debconf: (No usable dialog-like program is installed, so the dialog based frontend cannot be used. at /usr/share/perl5/Debconf/FrontEnd/Dialog.pm line 76, <> line 3.)\n",
            "debconf: falling back to frontend: Readline\n",
            "debconf: unable to initialize frontend: Readline\n",
            "debconf: (This frontend requires a controlling tty.)\n",
            "debconf: falling back to frontend: Teletype\n",
            "dpkg-preconfigure: unable to re-open stdin: \n",
            "(Reading database ... 161122 files and directories currently installed.)\n",
            "Preparing to unpack .../libcurl4-openssl-dev_7.58.0-2ubuntu3.14_amd64.deb ...\n",
            "Unpacking libcurl4-openssl-dev:amd64 (7.58.0-2ubuntu3.14) over (7.58.0-2ubuntu3.13) ...\n",
            "Preparing to unpack .../curl_7.58.0-2ubuntu3.14_amd64.deb ...\n",
            "Unpacking curl (7.58.0-2ubuntu3.14) over (7.58.0-2ubuntu3.13) ...\n",
            "Preparing to unpack .../libcurl4_7.58.0-2ubuntu3.14_amd64.deb ...\n",
            "Unpacking libcurl4:amd64 (7.58.0-2ubuntu3.14) over (7.58.0-2ubuntu3.13) ...\n",
            "Setting up libcurl4:amd64 (7.58.0-2ubuntu3.14) ...\n",
            "Setting up libcurl4-openssl-dev:amd64 (7.58.0-2ubuntu3.14) ...\n",
            "Setting up curl (7.58.0-2ubuntu3.14) ...\n",
            "Processing triggers for man-db (2.8.3-2ubuntu0.1) ...\n",
            "Processing triggers for libc-bin (2.27-3ubuntu1.2) ...\n",
            "/sbin/ldconfig.real: /usr/local/lib/python3.7/dist-packages/ideep4py/lib/libmkldnn.so.0 is not a symbolic link\n",
            "\n",
            "mecab-ko is already installed\n",
            "mecab-ko-dic is already installed\n",
            "mecab-python is already installed\n",
            "Done.\n"
          ],
          "name": "stdout"
        }
      ]
    },
    {
      "cell_type": "code",
      "metadata": {
        "colab": {
          "base_uri": "https://localhost:8080/"
        },
        "id": "xsIQ2Qmo-uZH",
        "outputId": "723679ce-1e95-44fa-a335-0436f45594fd"
      },
      "source": [
        "!git clone https://bitbucket.org/eunjeon/mecab-python-0.996.git"
      ],
      "execution_count": 5,
      "outputs": [
        {
          "output_type": "stream",
          "text": [
            "fatal: destination path 'mecab-python-0.996' already exists and is not an empty directory.\n"
          ],
          "name": "stdout"
        }
      ]
    },
    {
      "cell_type": "code",
      "metadata": {
        "colab": {
          "base_uri": "https://localhost:8080/"
        },
        "id": "KUgd94b5-xHS",
        "outputId": "e8940cd4-a8db-4377-d3bc-aab0f74d9ab8"
      },
      "source": [
        "cd /mecab-python-0.996"
      ],
      "execution_count": 6,
      "outputs": [
        {
          "output_type": "stream",
          "text": [
            "[Errno 2] No such file or directory: '/mecab-python-0.996'\n",
            "/content\n"
          ],
          "name": "stdout"
        }
      ]
    },
    {
      "cell_type": "code",
      "metadata": {
        "colab": {
          "base_uri": "https://localhost:8080/"
        },
        "id": "mpkdE7K2-0w4",
        "outputId": "7c724262-f187-4a88-8c31-d3488ab631b1"
      },
      "source": [
        "!python setup.py build\n",
        "!python setup.py install"
      ],
      "execution_count": 7,
      "outputs": [
        {
          "output_type": "stream",
          "text": [
            "python3: can't open file 'setup.py': [Errno 2] No such file or directory\n",
            "python3: can't open file 'setup.py': [Errno 2] No such file or directory\n"
          ],
          "name": "stdout"
        }
      ]
    },
    {
      "cell_type": "code",
      "metadata": {
        "id": "4jhGRzfVAY_h"
      },
      "source": [
        "!JAVA_HOME=\"/usr/lib/jvm/java-8-openjdk-amd64\""
      ],
      "execution_count": 8,
      "outputs": []
    },
    {
      "cell_type": "markdown",
      "metadata": {
        "id": "IBwnF-Rg8sfj"
      },
      "source": [
        "### 2) 데이터로더 구성\n",
        "실습 때 다루었던 IMDB 데이터셋은 텍스트를 가공하여 imdb.data_loader() 메소드를 호출하면 숫자 인덱스로 변환된 텍스트와 word_to_index 딕셔너리까지 제공되었지만 이번에 다루게 될 nsmc 데이터셋은 전혀 가공되지 않은 텍스트 파일로 이루어져 있음\n",
        "\n",
        "이것을 읽어서 imdb.data_loader()와 동일하게 동작하는 자신만의 data_loader를 만들어 보는 것으로 시작\n",
        "\n",
        "* 데이터의 중복 제거\n",
        "* NaN 결측치 제거\n",
        "* 한국어 토크나이저로 토큰화\n",
        "* 불용어(Stopwords) 제거\n",
        "* 사전word_to_index 구성\n",
        "* 텍스트 스트링을 사전 인덱스 스트링으로 변환\n",
        "* X_train, y_train, X_test, y_test, word_to_index 리턴"
      ]
    },
    {
      "cell_type": "code",
      "metadata": {
        "id": "WfaOudhD87Xe"
      },
      "source": [
        "from konlpy.tag import Okt\n",
        "from konlpy.tag import Mecab\n",
        "tokenizer = Mecab()\n",
        "stopwords = ['의','가','이','은','들','는','좀','잘','걍','과','도','를','으로','자','에','와','한','하다']\n",
        "\n",
        "def load_data(train_data, test_data, num_words=10000):\n",
        "    train_data.drop_duplicates(subset=['document'], inplace=True)\n",
        "    train_data = train_data.dropna(how = 'any') \n",
        "    test_data.drop_duplicates(subset=['document'], inplace=True)\n",
        "    test_data = test_data.dropna(how = 'any') \n",
        "    \n",
        "    X_train = []\n",
        "    for sentence in train_data['document']:\n",
        "        temp_X = tokenizer.morphs(sentence) # 토큰화\n",
        "        temp_X = [word for word in temp_X if not word in stopwords] # 불용어 제거\n",
        "        X_train.append(temp_X)\n",
        "\n",
        "    X_test = []\n",
        "    for sentence in test_data['document']:\n",
        "        temp_X = tokenizer.morphs(sentence) # 토큰화\n",
        "        temp_X = [word for word in temp_X if not word in stopwords] # 불용어 제거\n",
        "        X_test.append(temp_X)\n",
        "    \n",
        "    words = np.concatenate(X_train).tolist()\n",
        "    counter = Counter(words)\n",
        "    counter = counter.most_common(10000-4)\n",
        "    vocab = ['<PAD>', '<BOS>', '<UNK>', '<UNUSED>'] + [key for key, _ in counter]\n",
        "    word_to_index = {word:index for index, word in enumerate(vocab)}\n",
        "        \n",
        "    def wordlist_to_indexlist(wordlist):\n",
        "        return [word_to_index[word] if word in word_to_index else word_to_index['<UNK>'] for word in wordlist]\n",
        "        \n",
        "    X_train = list(map(wordlist_to_indexlist, X_train))\n",
        "    X_test = list(map(wordlist_to_indexlist, X_test))\n",
        "        \n",
        "    return X_train, np.array(list(train_data['label'])), X_test, np.array(list(test_data['label'])), word_to_index\n",
        "  \n",
        "    \n",
        "X_train, y_train, X_test, y_test, word_to_index = load_data(train_data, test_data)"
      ],
      "execution_count": 9,
      "outputs": []
    },
    {
      "cell_type": "code",
      "metadata": {
        "id": "S7POGsJbBx31"
      },
      "source": [
        "index_to_word = {index:word for word, index in word_to_index.items()}"
      ],
      "execution_count": 10,
      "outputs": []
    },
    {
      "cell_type": "code",
      "metadata": {
        "id": "BT7_wxdfBzQO"
      },
      "source": [
        "# 문장 1개를 활용할 딕셔너리와 함께 주면, 단어 인덱스 리스트 벡터로 변환해 주는 함수입니다. \n",
        "# 단, 모든 문장은 <BOS>로 시작하는 것으로 합니다. \n",
        "def get_encoded_sentence(sentence, word_to_index):\n",
        "    return [word_to_index['<BOS>']]+[word_to_index[word] if word in word_to_index else word_to_index['<UNK>'] for word in sentence.split()]\n",
        "\n",
        "# 여러 개의 문장 리스트를 한꺼번에 단어 인덱스 리스트 벡터로 encode해 주는 함수입니다. \n",
        "def get_encoded_sentences(sentences, word_to_index):\n",
        "    return [get_encoded_sentence(sentence, word_to_index) for sentence in sentences]\n",
        "\n",
        "# 숫자 벡터로 encode된 문장을 원래대로 decode하는 함수입니다. \n",
        "def get_decoded_sentence(encoded_sentence, index_to_word):\n",
        "    return ' '.join(index_to_word[index] if index in index_to_word else '<UNK>' for index in encoded_sentence[1:])  #[1:]를 통해 <BOS>를 제외\n",
        "\n",
        "# 여러 개의 숫자 벡터로 encode된 문장을 한꺼번에 원래대로 decode하는 함수입니다. \n",
        "def get_decoded_sentences(encoded_sentences, index_to_word):\n",
        "    return [get_decoded_sentence(encoded_sentence, index_to_word) for encoded_sentence in encoded_sentences]"
      ],
      "execution_count": 11,
      "outputs": []
    },
    {
      "cell_type": "markdown",
      "metadata": {
        "id": "0INlQd5iEul0"
      },
      "source": [
        "## 3) 모델구성을 위한 데이터 분석 및 가공\n",
        "\n",
        "* 데이터셋 내 문장 길이 분포\n",
        "* 적절한 최대 문장 길이 지정\n",
        "* keras.preprocessing.sequence.pad_sequences 을 활용한 패딩 추가"
      ]
    },
    {
      "cell_type": "code",
      "metadata": {
        "colab": {
          "base_uri": "https://localhost:8080/"
        },
        "id": "GenxdvdfExfF",
        "outputId": "2c55225c-a939-4c95-c404-61fc0f743a01"
      },
      "source": [
        "total_data_text = list(X_train) + list(X_test)\n",
        "# 텍스트데이터 문장길이의 리스트를 생성한 후\n",
        "num_tokens = [len(tokens) for tokens in total_data_text]\n",
        "num_tokens = np.array(num_tokens)\n",
        "# 문장길이의 평균값, 최대값, 표준편차를 계산해 본다. \n",
        "print('문장길이 평균 : ', np.mean(num_tokens))\n",
        "print('문장길이 최대 : ', np.max(num_tokens))\n",
        "print('문장길이 표준편차 : ', np.std(num_tokens))\n",
        "\n",
        "# 예를들어, 최대 길이를 (평균 + 2*표준편차)로 한다면,  \n",
        "max_tokens = np.mean(num_tokens) + 2 * np.std(num_tokens)\n",
        "maxlen = int(max_tokens)\n",
        "print('pad_sequences maxlen : ', maxlen)\n",
        "print('전체 문장의 {:.3f}%가 maxlen 설정값 이내에 포함됩니다. '.format(np.sum(num_tokens < max_tokens) / len(num_tokens)))"
      ],
      "execution_count": 12,
      "outputs": [
        {
          "output_type": "stream",
          "text": [
            "문장길이 평균 :  15.971019612059036\n",
            "문장길이 최대 :  116\n",
            "문장길이 표준편차 :  12.844062009473816\n",
            "pad_sequences maxlen :  41\n",
            "전체 문장의 0.934%가 maxlen 설정값 이내에 포함됩니다. \n"
          ],
          "name": "stdout"
        }
      ]
    },
    {
      "cell_type": "markdown",
      "metadata": {
        "id": "lXsHPYvh7KVb"
      },
      "source": [
        "## 4) 모델 구성 및 validation set 구성 "
      ]
    },
    {
      "cell_type": "code",
      "metadata": {
        "colab": {
          "base_uri": "https://localhost:8080/"
        },
        "id": "GdK5vTddFwex",
        "outputId": "d4991cc4-2388-4e0a-b17b-404937039b89"
      },
      "source": [
        "X_train = keras.preprocessing.sequence.pad_sequences(X_train,\n",
        "                                                        value=word_to_index[\"<PAD>\"],\n",
        "                                                        padding='pre', # 혹은 'post'\n",
        "                                                        maxlen=maxlen)\n",
        "\n",
        "X_test = keras.preprocessing.sequence.pad_sequences(X_test,\n",
        "                                                       value=word_to_index[\"<PAD>\"],\n",
        "                                                       padding='pre', # 혹은 'post'\n",
        "                                                       maxlen=maxlen)\n",
        "\n",
        "print(X_train.shape)"
      ],
      "execution_count": 13,
      "outputs": [
        {
          "output_type": "stream",
          "text": [
            "(146182, 41)\n"
          ],
          "name": "stdout"
        }
      ]
    },
    {
      "cell_type": "code",
      "metadata": {
        "colab": {
          "base_uri": "https://localhost:8080/"
        },
        "id": "QjdEOS3EJZbG",
        "outputId": "4301b776-a0c3-44fe-83ed-8076f5486878"
      },
      "source": [
        "# validation set 10000건 분리\n",
        "X_val = X_train[:10000]   \n",
        "y_val = y_train[:10000]\n",
        "\n",
        "# validation set을 제외한 나머지 15000건\n",
        "partial_X_train = X_train[10000:]  \n",
        "partial_y_train = y_train[10000:]\n",
        "\n",
        "print(partial_X_train.shape)\n",
        "print(partial_y_train.shape)"
      ],
      "execution_count": 14,
      "outputs": [
        {
          "output_type": "stream",
          "text": [
            "(136182, 41)\n",
            "(136182,)\n"
          ],
          "name": "stdout"
        }
      ]
    },
    {
      "cell_type": "markdown",
      "metadata": {
        "id": "WTjZ_tvL_euG"
      },
      "source": [
        "## 5) 모델훈련 개시 & 6) Loss, Accuracy 그래프 시각화"
      ]
    },
    {
      "cell_type": "markdown",
      "metadata": {
        "id": "5Mi2Yj9r7b4-"
      },
      "source": [
        "### RNN"
      ]
    },
    {
      "cell_type": "code",
      "metadata": {
        "colab": {
          "base_uri": "https://localhost:8080/"
        },
        "id": "qF7WAMSx8APt",
        "outputId": "1b736e89-5327-4e6b-d916-9389f78825ae"
      },
      "source": [
        "vocab_size = 10000    # 어휘 사전의 크기(10,000개의 단어)\n",
        "word_vector_dim = 16  # 워드 벡터의 차원 수 (변경 가능한 하이퍼파라미터)\n",
        "\n",
        "model_rnn = keras.Sequential()\n",
        "model_rnn.add(keras.layers.Embedding(vocab_size, word_vector_dim, input_shape=(None,)))\n",
        "model_rnn.add(keras.layers.LSTM(8))   # 가장 널리 쓰이는 RNN인 LSTM 레이어를 사용하였습니다. 이때 LSTM state 벡터의 차원수는 8로 하였습니다. (변경 가능)\n",
        "model_rnn.add(keras.layers.Dense(8, activation='relu'))\n",
        "model_rnn.add(keras.layers.Dense(1, activation='sigmoid'))  # 최종 출력은 긍정/부정을 나타내는 1dim 입니다.\n",
        "\n",
        "model_rnn.summary()"
      ],
      "execution_count": 16,
      "outputs": [
        {
          "output_type": "stream",
          "text": [
            "Model: \"sequential_1\"\n",
            "_________________________________________________________________\n",
            "Layer (type)                 Output Shape              Param #   \n",
            "=================================================================\n",
            "embedding (Embedding)        (None, None, 16)          160000    \n",
            "_________________________________________________________________\n",
            "lstm (LSTM)                  (None, 8)                 800       \n",
            "_________________________________________________________________\n",
            "dense (Dense)                (None, 8)                 72        \n",
            "_________________________________________________________________\n",
            "dense_1 (Dense)              (None, 1)                 9         \n",
            "=================================================================\n",
            "Total params: 160,881\n",
            "Trainable params: 160,881\n",
            "Non-trainable params: 0\n",
            "_________________________________________________________________\n"
          ],
          "name": "stdout"
        }
      ]
    },
    {
      "cell_type": "code",
      "metadata": {
        "colab": {
          "base_uri": "https://localhost:8080/"
        },
        "id": "PeOThhQL8ZPY",
        "outputId": "1cd05621-4764-408a-c80c-361d06abfd5b"
      },
      "source": [
        "model_rnn.compile(optimizer='RMSProp',\n",
        "              loss='binary_crossentropy',\n",
        "              metrics=['accuracy'])\n",
        "              \n",
        "epochs=10  # 몇 epoch를 훈련하면 좋을지 결과를 보면서 바꾸어 봅시다. \n",
        "\n",
        "history_rnn = model_rnn.fit(partial_X_train,\n",
        "                    partial_y_train,\n",
        "                    epochs=epochs,\n",
        "                    batch_size=512,\n",
        "                    validation_data=(X_val, y_val),\n",
        "                    verbose=1)"
      ],
      "execution_count": 18,
      "outputs": [
        {
          "output_type": "stream",
          "text": [
            "Epoch 1/10\n",
            "266/266 [==============================] - 8s 10ms/step - loss: 0.4882 - accuracy: 0.7906 - val_loss: 0.3640 - val_accuracy: 0.8444\n",
            "Epoch 2/10\n",
            "266/266 [==============================] - 2s 9ms/step - loss: 0.3483 - accuracy: 0.8507 - val_loss: 0.3380 - val_accuracy: 0.8526\n",
            "Epoch 3/10\n",
            "266/266 [==============================] - 2s 9ms/step - loss: 0.3272 - accuracy: 0.8610 - val_loss: 0.3356 - val_accuracy: 0.8559\n",
            "Epoch 4/10\n",
            "266/266 [==============================] - 2s 9ms/step - loss: 0.3162 - accuracy: 0.8656 - val_loss: 0.3314 - val_accuracy: 0.8547\n",
            "Epoch 5/10\n",
            "266/266 [==============================] - 2s 9ms/step - loss: 0.3076 - accuracy: 0.8693 - val_loss: 0.3278 - val_accuracy: 0.8550\n",
            "Epoch 6/10\n",
            "266/266 [==============================] - 2s 9ms/step - loss: 0.2988 - accuracy: 0.8726 - val_loss: 0.3278 - val_accuracy: 0.8574\n",
            "Epoch 7/10\n",
            "266/266 [==============================] - 2s 9ms/step - loss: 0.2905 - accuracy: 0.8765 - val_loss: 0.3286 - val_accuracy: 0.8597\n",
            "Epoch 8/10\n",
            "266/266 [==============================] - 2s 9ms/step - loss: 0.2838 - accuracy: 0.8798 - val_loss: 0.3264 - val_accuracy: 0.8591\n",
            "Epoch 9/10\n",
            "266/266 [==============================] - 2s 8ms/step - loss: 0.2771 - accuracy: 0.8828 - val_loss: 0.3234 - val_accuracy: 0.8612\n",
            "Epoch 10/10\n",
            "266/266 [==============================] - 2s 8ms/step - loss: 0.2711 - accuracy: 0.8862 - val_loss: 0.3239 - val_accuracy: 0.8619\n"
          ],
          "name": "stdout"
        }
      ]
    },
    {
      "cell_type": "code",
      "metadata": {
        "colab": {
          "base_uri": "https://localhost:8080/"
        },
        "id": "1w41_6eZ9MFe",
        "outputId": "f60f633f-c45b-4e2d-b341-ac8d29c56abf"
      },
      "source": [
        "results_rnn = model_rnn.evaluate(X_test,  y_test, verbose=2)\n",
        "print(results_rnn, '\\n')\n",
        "\n",
        "history_dict_rnn = history_rnn.history\n",
        "print(history_dict_rnn.keys()) # epoch에 따른 그래프를 그려볼 수 있는 항목들"
      ],
      "execution_count": 21,
      "outputs": [
        {
          "output_type": "stream",
          "text": [
            "1537/1537 - 3s - loss: 0.3358 - accuracy: 0.8560\n",
            "[0.3358374834060669, 0.8560327291488647] \n",
            "\n",
            "dict_keys(['loss', 'accuracy', 'val_loss', 'val_accuracy'])\n"
          ],
          "name": "stdout"
        }
      ]
    },
    {
      "cell_type": "code",
      "metadata": {
        "colab": {
          "base_uri": "https://localhost:8080/",
          "height": 350
        },
        "id": "vZMqDpOs9fGh",
        "outputId": "d03bc349-2c24-4c44-afa3-49dbfa6616a7"
      },
      "source": [
        "import matplotlib.pyplot as plt\n",
        "\n",
        "acc = history_dict_rnn['accuracy']\n",
        "val_acc = history_dict_rnn['val_accuracy']\n",
        "loss = history_dict_rnn['loss']\n",
        "val_loss = history_dict_rnn['val_loss']\n",
        "\n",
        "epochs = range(1, len(acc) + 1)\n",
        "\n",
        "fig = plt.figure(figsize=(15, 5))\n",
        "fig.add_subplot(1, 2, 1)\n",
        "# \"bo\"는 \"파란색 점\"입니다\n",
        "plt.plot(epochs, loss, 'bo', label='Training loss')\n",
        "# b는 \"파란 실선\"입니다\n",
        "plt.plot(epochs, val_loss, 'b', label='Validation loss')\n",
        "plt.title('Training and validation loss')\n",
        "plt.xlabel('Epochs')\n",
        "plt.ylabel('Loss')\n",
        "plt.legend()\n",
        "\n",
        "fig.add_subplot(1, 2, 2)\n",
        "plt.plot(epochs, acc, 'bo', label='Training acc')\n",
        "plt.plot(epochs, val_acc, 'b', label='Validation acc')\n",
        "plt.title('Training and validation accuracy')\n",
        "plt.xlabel('Epochs')\n",
        "plt.ylabel('Accuracy')\n",
        "plt.legend()\n",
        "\n",
        "plt.show()"
      ],
      "execution_count": 22,
      "outputs": [
        {
          "output_type": "display_data",
          "data": {
            "image/png": "[encoded data removed]",
            "text/plain": [
              "<Figure size 1080x360 with 2 Axes>"
            ]
          },
          "metadata": {
            "tags": [],
            "needs_background": "light"
          }
        }
      ]
    },
    {
      "cell_type": "markdown",
      "metadata": {
        "id": "P2QFKJLf8OAW"
      },
      "source": [
        "### 1-D CNN"
      ]
    },
    {
      "cell_type": "code",
      "metadata": {
        "colab": {
          "base_uri": "https://localhost:8080/"
        },
        "id": "Sr-BC6dIJXED",
        "outputId": "c563317d-c827-41a9-a057-e4cc0a095128"
      },
      "source": [
        "vocab_size = 10000    # 어휘 사전의 크기(10,000개의 단어)\n",
        "word_vector_dim = 16  # 워드 벡터의 차원 수 (변경 가능한 하이퍼파라미터)\n",
        "\n",
        "model_cnn = keras.Sequential()\n",
        "model_cnn.add(keras.layers.Embedding(vocab_size, word_vector_dim, input_shape=(None,)))\n",
        "model_cnn.add(keras.layers.Conv1D(16, 7, activation='relu'))\n",
        "model_cnn.add(keras.layers.MaxPooling1D(5))\n",
        "model_cnn.add(keras.layers.Conv1D(16, 7, activation='relu'))\n",
        "model_cnn.add(keras.layers.GlobalMaxPooling1D())\n",
        "model_cnn.add(keras.layers.Dense(8, activation='relu'))\n",
        "model_cnn.add(keras.layers.Dense(1, activation='sigmoid'))  # 최종 출력은 긍정/부정을 나타내는 1dim 입니다.\n",
        "\n",
        "model_cnn.summary()"
      ],
      "execution_count": 23,
      "outputs": [
        {
          "output_type": "stream",
          "text": [
            "Model: \"sequential_3\"\n",
            "_________________________________________________________________\n",
            "Layer (type)                 Output Shape              Param #   \n",
            "=================================================================\n",
            "embedding_2 (Embedding)      (None, None, 16)          160000    \n",
            "_________________________________________________________________\n",
            "conv1d_2 (Conv1D)            (None, None, 16)          1808      \n",
            "_________________________________________________________________\n",
            "max_pooling1d_1 (MaxPooling1 (None, None, 16)          0         \n",
            "_________________________________________________________________\n",
            "conv1d_3 (Conv1D)            (None, None, 16)          1808      \n",
            "_________________________________________________________________\n",
            "global_max_pooling1d_1 (Glob (None, 16)                0         \n",
            "_________________________________________________________________\n",
            "dense_4 (Dense)              (None, 8)                 136       \n",
            "_________________________________________________________________\n",
            "dense_5 (Dense)              (None, 1)                 9         \n",
            "=================================================================\n",
            "Total params: 163,761\n",
            "Trainable params: 163,761\n",
            "Non-trainable params: 0\n",
            "_________________________________________________________________\n"
          ],
          "name": "stdout"
        }
      ]
    },
    {
      "cell_type": "code",
      "metadata": {
        "colab": {
          "base_uri": "https://localhost:8080/"
        },
        "id": "J2yhUDFjJbn4",
        "outputId": "9aee5d2b-45e8-49c1-b53a-b51687e392b2"
      },
      "source": [
        "vocab_size = 10000    # 어휘 사전의 크기(10,000개의 단어)\n",
        "word_vector_dim = 16  # 워드 벡터의 차원 수 (변경 가능한 하이퍼파라미터)\n",
        "\n",
        "model_cnn.compile(optimizer='adam',\n",
        "              loss='binary_crossentropy',\n",
        "              metrics=['accuracy'])\n",
        "              \n",
        "epochs=10  # 몇 epoch를 훈련하면 좋을지 결과를 보면서 바꾸어 봅시다. \n",
        "\n",
        "history_cnn = model_rnn.fit(partial_X_train,\n",
        "                    partial_y_train,\n",
        "                    epochs=epochs,\n",
        "                    batch_size=512,\n",
        "                    validation_data=(X_val, y_val),\n",
        "                    verbose=1)"
      ],
      "execution_count": 72,
      "outputs": [
        {
          "output_type": "stream",
          "text": [
            "Epoch 1/10\n",
            "266/266 [==============================] - 2s 8ms/step - loss: 0.2241 - accuracy: 0.9086 - val_loss: 0.3456 - val_accuracy: 0.8604\n",
            "Epoch 2/10\n",
            "266/266 [==============================] - 2s 8ms/step - loss: 0.2208 - accuracy: 0.9101 - val_loss: 0.3521 - val_accuracy: 0.8616\n",
            "Epoch 3/10\n",
            "266/266 [==============================] - 2s 9ms/step - loss: 0.2183 - accuracy: 0.9114 - val_loss: 0.3579 - val_accuracy: 0.8617\n",
            "Epoch 4/10\n",
            "266/266 [==============================] - 2s 8ms/step - loss: 0.2155 - accuracy: 0.9130 - val_loss: 0.3589 - val_accuracy: 0.8606\n",
            "Epoch 5/10\n",
            "266/266 [==============================] - 2s 9ms/step - loss: 0.2129 - accuracy: 0.9145 - val_loss: 0.3538 - val_accuracy: 0.8585\n",
            "Epoch 6/10\n",
            "266/266 [==============================] - 2s 9ms/step - loss: 0.2101 - accuracy: 0.9156 - val_loss: 0.3520 - val_accuracy: 0.8611\n",
            "Epoch 7/10\n",
            "266/266 [==============================] - 2s 9ms/step - loss: 0.2080 - accuracy: 0.9165 - val_loss: 0.3541 - val_accuracy: 0.8606\n",
            "Epoch 8/10\n",
            "266/266 [==============================] - 2s 8ms/step - loss: 0.2050 - accuracy: 0.9181 - val_loss: 0.3731 - val_accuracy: 0.8571\n",
            "Epoch 9/10\n",
            "266/266 [==============================] - 2s 8ms/step - loss: 0.2030 - accuracy: 0.9191 - val_loss: 0.3701 - val_accuracy: 0.8579\n",
            "Epoch 10/10\n",
            "266/266 [==============================] - 2s 8ms/step - loss: 0.2008 - accuracy: 0.9199 - val_loss: 0.3767 - val_accuracy: 0.8606\n"
          ],
          "name": "stdout"
        }
      ]
    },
    {
      "cell_type": "code",
      "metadata": {
        "colab": {
          "base_uri": "https://localhost:8080/"
        },
        "id": "nVnpQCSj9SiC",
        "outputId": "c7aeb0c7-f576-4408-a1b8-1886caeef36b"
      },
      "source": [
        "results_cnn = model_cnn.evaluate(X_test,  y_test, verbose=2)\n",
        "print(results_cnn, '\\n')\n",
        "\n",
        "history_dict_cnn = history_cnn.history\n",
        "print(history_dict_cnn.keys()) # epoch에 따른 그래프를 그려볼 수 있는 항목들"
      ],
      "execution_count": 73,
      "outputs": [
        {
          "output_type": "stream",
          "text": [
            "1537/1537 - 3s - loss: 0.6931 - accuracy: 0.4989\n",
            "[0.6931074261665344, 0.49893200397491455] \n",
            "\n",
            "dict_keys(['loss', 'accuracy', 'val_loss', 'val_accuracy'])\n"
          ],
          "name": "stdout"
        }
      ]
    },
    {
      "cell_type": "code",
      "metadata": {
        "colab": {
          "base_uri": "https://localhost:8080/",
          "height": 350
        },
        "id": "E-D_UhIC9oVc",
        "outputId": "a039939f-811f-4892-ecb1-7eeede560ba4"
      },
      "source": [
        "import matplotlib.pyplot as plt\n",
        "\n",
        "acc = history_dict_cnn['accuracy']\n",
        "val_acc = history_dict_cnn['val_accuracy']\n",
        "loss = history_dict_cnn['loss']\n",
        "val_loss = history_dict_cnn['val_loss']\n",
        "\n",
        "epochs = range(1, len(acc) + 1)\n",
        "\n",
        "fig = plt.figure(figsize=(15, 5))\n",
        "fig.add_subplot(1, 2, 1)\n",
        "# \"bo\"는 \"파란색 점\"입니다\n",
        "plt.plot(epochs, loss, 'bo', label='Training loss')\n",
        "# b는 \"파란 실선\"입니다\n",
        "plt.plot(epochs, val_loss, 'b', label='Validation loss')\n",
        "plt.title('Training and validation loss')\n",
        "plt.xlabel('Epochs')\n",
        "plt.ylabel('Loss')\n",
        "plt.legend()\n",
        "\n",
        "fig.add_subplot(1, 2, 2)\n",
        "plt.plot(epochs, acc, 'bo', label='Training acc')\n",
        "plt.plot(epochs, val_acc, 'b', label='Validation acc')\n",
        "plt.title('Training and validation accuracy')\n",
        "plt.xlabel('Epochs')\n",
        "plt.ylabel('Accuracy')\n",
        "plt.legend()\n",
        "\n",
        "plt.show()"
      ],
      "execution_count": 74,
      "outputs": [
        {
          "output_type": "display_data",
          "data": {
            "image/png": "[encoded data removed]",
            "text/plain": [
              "<Figure size 1080x360 with 2 Axes>"
            ]
          },
          "metadata": {
            "tags": [],
            "needs_background": "light"
          }
        }
      ]
    },
    {
      "cell_type": "markdown",
      "metadata": {
        "id": "ytB1IGig84NA"
      },
      "source": [
        "### GlobalMaxPooling1D"
      ]
    },
    {
      "cell_type": "code",
      "metadata": {
        "colab": {
          "base_uri": "https://localhost:8080/"
        },
        "id": "aa7DKV418ytJ",
        "outputId": "c88f5cdd-88c9-4cb5-adf7-4e913f709d7f"
      },
      "source": [
        "vocab_size = 10000  # 어휘 사전의 크기입니다(10개의 단어)\n",
        "word_vector_dim = 16   # 단어 하나를 표현하는 임베딩 벡터의 차원 수입니다. \n",
        "\n",
        "model_gmp = keras.Sequential()\n",
        "model_gmp.add(keras.layers.Embedding(vocab_size, word_vector_dim, input_shape=(None,)))\n",
        "model_gmp.add(keras.layers.GlobalMaxPooling1D())\n",
        "model_gmp.add(keras.layers.Dense(8, activation='relu'))\n",
        "model_gmp.add(keras.layers.Dense(1, activation='sigmoid'))  # 최종 출력은 긍정/부정을 나타내는 1dim 입니다.\n",
        "\n",
        "model_gmp.summary()"
      ],
      "execution_count": 27,
      "outputs": [
        {
          "output_type": "stream",
          "text": [
            "Model: \"sequential_4\"\n",
            "_________________________________________________________________\n",
            "Layer (type)                 Output Shape              Param #   \n",
            "=================================================================\n",
            "embedding_3 (Embedding)      (None, None, 16)          160000    \n",
            "_________________________________________________________________\n",
            "global_max_pooling1d_2 (Glob (None, 16)                0         \n",
            "_________________________________________________________________\n",
            "dense_6 (Dense)              (None, 8)                 136       \n",
            "_________________________________________________________________\n",
            "dense_7 (Dense)              (None, 1)                 9         \n",
            "=================================================================\n",
            "Total params: 160,145\n",
            "Trainable params: 160,145\n",
            "Non-trainable params: 0\n",
            "_________________________________________________________________\n"
          ],
          "name": "stdout"
        }
      ]
    },
    {
      "cell_type": "code",
      "metadata": {
        "colab": {
          "base_uri": "https://localhost:8080/"
        },
        "id": "wGdJHCJV9F1r",
        "outputId": "79318299-4ce5-448b-a9c7-b5ee694370c7"
      },
      "source": [
        "vocab_size = 10000    # 어휘 사전의 크기(10,000개의 단어)\n",
        "word_vector_dim = 16  # 워드 벡터의 차원 수 (변경 가능한 하이퍼파라미터)\n",
        "\n",
        "model_gmp.compile(optimizer='RMSProp',\n",
        "              loss='binary_crossentropy',\n",
        "              metrics=['accuracy'])\n",
        "              \n",
        "epochs=10  # 몇 epoch를 훈련하면 좋을지 결과를 보면서 바꾸어 봅시다. \n",
        "\n",
        "history_gmp = model_gmp.fit(partial_X_train,\n",
        "                    partial_y_train,\n",
        "                    epochs=epochs,\n",
        "                    batch_size=512,\n",
        "                    validation_data=(X_val, y_val),\n",
        "                    verbose=1)"
      ],
      "execution_count": 28,
      "outputs": [
        {
          "output_type": "stream",
          "text": [
            "Epoch 1/10\n",
            "266/266 [==============================] - 2s 6ms/step - loss: 0.5850 - accuracy: 0.7549 - val_loss: 0.4554 - val_accuracy: 0.8052\n",
            "Epoch 2/10\n",
            "266/266 [==============================] - 1s 5ms/step - loss: 0.4001 - accuracy: 0.8272 - val_loss: 0.3704 - val_accuracy: 0.8300\n",
            "Epoch 3/10\n",
            "266/266 [==============================] - 1s 5ms/step - loss: 0.3540 - accuracy: 0.8461 - val_loss: 0.3540 - val_accuracy: 0.8391\n",
            "Epoch 4/10\n",
            "266/266 [==============================] - 1s 5ms/step - loss: 0.3352 - accuracy: 0.8564 - val_loss: 0.3475 - val_accuracy: 0.8441\n",
            "Epoch 5/10\n",
            "266/266 [==============================] - 1s 5ms/step - loss: 0.3231 - accuracy: 0.8631 - val_loss: 0.3447 - val_accuracy: 0.8463\n",
            "Epoch 6/10\n",
            "266/266 [==============================] - 1s 5ms/step - loss: 0.3144 - accuracy: 0.8673 - val_loss: 0.3439 - val_accuracy: 0.8466\n",
            "Epoch 7/10\n",
            "266/266 [==============================] - 1s 5ms/step - loss: 0.3080 - accuracy: 0.8712 - val_loss: 0.3447 - val_accuracy: 0.8484\n",
            "Epoch 8/10\n",
            "266/266 [==============================] - 1s 5ms/step - loss: 0.3029 - accuracy: 0.8740 - val_loss: 0.3451 - val_accuracy: 0.8491\n",
            "Epoch 9/10\n",
            "266/266 [==============================] - 1s 5ms/step - loss: 0.2989 - accuracy: 0.8763 - val_loss: 0.3461 - val_accuracy: 0.8493\n",
            "Epoch 10/10\n",
            "266/266 [==============================] - 1s 5ms/step - loss: 0.2954 - accuracy: 0.8782 - val_loss: 0.3470 - val_accuracy: 0.8497\n"
          ],
          "name": "stdout"
        }
      ]
    },
    {
      "cell_type": "code",
      "metadata": {
        "colab": {
          "base_uri": "https://localhost:8080/"
        },
        "id": "xOgUtb_nJ5PP",
        "outputId": "59c213c0-fbeb-42ec-c92c-c54829ee5eb2"
      },
      "source": [
        "results_gmp = model_gmp.evaluate(X_test,  y_test, verbose=2)\n",
        "print(results_gmp, '\\n')\n",
        "\n",
        "history_dict_gmp = history_gmp.history\n",
        "print(history_dict_gmp.keys()) # epoch에 따른 그래프를 그려볼 수 있는 항목들"
      ],
      "execution_count": 29,
      "outputs": [
        {
          "output_type": "stream",
          "text": [
            "1537/1537 - 2s - loss: 0.3600 - accuracy: 0.8455\n",
            "[0.3600058853626251, 0.8454543352127075] \n",
            "\n",
            "dict_keys(['loss', 'accuracy', 'val_loss', 'val_accuracy'])\n"
          ],
          "name": "stdout"
        }
      ]
    },
    {
      "cell_type": "code",
      "metadata": {
        "colab": {
          "base_uri": "https://localhost:8080/",
          "height": 350
        },
        "id": "bpzrNvzoKFHZ",
        "outputId": "bc082cc1-846a-4e02-f7af-8ce566e05669"
      },
      "source": [
        "import matplotlib.pyplot as plt\n",
        "\n",
        "acc = history_dict_gmp['accuracy']\n",
        "val_acc = history_dict_gmp['val_accuracy']\n",
        "loss = history_dict_gmp['loss']\n",
        "val_loss = history_dict_gmp['val_loss']\n",
        "\n",
        "epochs = range(1, len(acc) + 1)\n",
        "\n",
        "fig = plt.figure(figsize=(15, 5))\n",
        "fig.add_subplot(1, 2, 1)\n",
        "# \"bo\"는 \"파란색 점\"입니다\n",
        "plt.plot(epochs, loss, 'bo', label='Training loss')\n",
        "# b는 \"파란 실선\"입니다\n",
        "plt.plot(epochs, val_loss, 'b', label='Validation loss')\n",
        "plt.title('Training and validation loss')\n",
        "plt.xlabel('Epochs')\n",
        "plt.ylabel('Loss')\n",
        "plt.legend()\n",
        "\n",
        "fig.add_subplot(1, 2, 2)\n",
        "plt.plot(epochs, acc, 'bo', label='Training acc')\n",
        "plt.plot(epochs, val_acc, 'b', label='Validation acc')\n",
        "plt.title('Training and validation accuracy')\n",
        "plt.xlabel('Epochs')\n",
        "plt.ylabel('Accuracy')\n",
        "plt.legend()\n",
        "\n",
        "plt.show()"
      ],
      "execution_count": 31,
      "outputs": [
        {
          "output_type": "display_data",
          "data": {
            "image/png": "[encoded data removed]",
            "text/plain": [
              "<Figure size 1080x360 with 2 Axes>"
            ]
          },
          "metadata": {
            "tags": [],
            "needs_background": "light"
          }
        }
      ]
    },
    {
      "cell_type": "markdown",
      "metadata": {
        "id": "Q5yPkZqD_UC3"
      },
      "source": [
        "# 7) 학습된 Embedding 레이어 분석"
      ]
    },
    {
      "cell_type": "code",
      "metadata": {
        "colab": {
          "base_uri": "https://localhost:8080/"
        },
        "id": "PBQ4NL1W_qN3",
        "outputId": "db3fe8d4-0103-469c-a852-264ad60cea32"
      },
      "source": [
        "embedding_layer = model_rnn.layers[0]\n",
        "weights = embedding_layer.get_weights()[0]\n",
        "print(weights.shape)    # shape: (vocab_size, embedding_dim)"
      ],
      "execution_count": 34,
      "outputs": [
        {
          "output_type": "stream",
          "text": [
            "(10000, 16)\n"
          ],
          "name": "stdout"
        }
      ]
    },
    {
      "cell_type": "code",
      "metadata": {
        "id": "xspOBuqo_yQo"
      },
      "source": [
        "import os\n",
        "\n",
        "# 학습한 Embedding 파라미터를 파일에 써서 저장합니다. \n",
        "word2vec_file_path = '/content/drive/MyDrive/aiffel/sentiment_classification/word2vec.txt'\n",
        "f = open(word2vec_file_path, 'w')\n",
        "f.write('{} {}\\n'.format(vocab_size-4, word_vector_dim))  # 몇개의 벡터를 얼마 사이즈로 기재할지 타이틀을 씁니다.\n",
        "\n",
        "# 단어 개수(에서 특수문자 4개는 제외하고)만큼의 워드 벡터를 파일에 기록합니다. \n",
        "vectors = model_rnn.get_weights()[0]\n",
        "for i in range(4,vocab_size):\n",
        "    f.write('{} {}\\n'.format(index_to_word[i], ' '.join(map(str, list(vectors[i, :])))))\n",
        "f.close()"
      ],
      "execution_count": 44,
      "outputs": []
    },
    {
      "cell_type": "code",
      "metadata": {
        "colab": {
          "base_uri": "https://localhost:8080/"
        },
        "id": "I8N3u5n3AKWZ",
        "outputId": "ea3a87e6-eb12-4cfb-a641-ec003e5a6fbb"
      },
      "source": [
        "from gensim.models.keyedvectors import Word2VecKeyedVectors\n",
        "\n",
        "word_vectors = Word2VecKeyedVectors.load_word2vec_format(word2vec_file_path, binary=False)\n",
        "vector = word_vectors['재미']\n",
        "vector"
      ],
      "execution_count": 45,
      "outputs": [
        {
          "output_type": "execute_result",
          "data": {
            "text/plain": [
              "array([-0.09618021,  0.07739545,  0.3496651 , -0.09764685,  0.1990819 ,\n",
              "       -0.0399558 ,  0.09585638, -0.01748052,  0.21916275,  0.21803091,\n",
              "       -0.18697138,  0.4277549 ,  0.0595676 ,  0.39675704, -0.3737367 ,\n",
              "       -0.0317248 ], dtype=float32)"
            ]
          },
          "metadata": {
            "tags": []
          },
          "execution_count": 45
        }
      ]
    },
    {
      "cell_type": "code",
      "metadata": {
        "colab": {
          "base_uri": "https://localhost:8080/"
        },
        "id": "kkWpLxkGAV4u",
        "outputId": "b5d09c2a-1870-4d87-a585-6fc3a8e72e42"
      },
      "source": [
        "word_vectors.similar_by_word(\"재미\")"
      ],
      "execution_count": 46,
      "outputs": [
        {
          "output_type": "execute_result",
          "data": {
            "text/plain": [
              "[('공감', 0.9094247221946716),\n",
              " ('전', 0.8880695104598999),\n",
              " ('간', 0.8742913007736206),\n",
              " ('았', 0.8638081550598145),\n",
              " ('흥겹', 0.8635531663894653),\n",
              " ('몰입', 0.86314857006073),\n",
              " ('서부터', 0.8610960841178894),\n",
              " ('난', 0.8577094078063965),\n",
              " ('보여', 0.8567185401916504),\n",
              " ('찾아보', 0.8560574650764465)]"
            ]
          },
          "metadata": {
            "tags": []
          },
          "execution_count": 46
        }
      ]
    },
    {
      "cell_type": "markdown",
      "metadata": {
        "id": "eRnGuhXrJLQ1"
      },
      "source": [
        "> \"재미\"와 유사한 다른 단어를 잘 찾지 못함"
      ]
    },
    {
      "cell_type": "markdown",
      "metadata": {
        "id": "shcW_ZbzBsvI"
      },
      "source": [
        "# 8) 한국어 Word2Vec 임베딩 활용하여 성능개선"
      ]
    },
    {
      "cell_type": "code",
      "metadata": {
        "colab": {
          "base_uri": "https://localhost:8080/"
        },
        "id": "M3kHWO1PA5k-",
        "outputId": "2a231b9d-9930-4122-eb70-53eadc0a8061"
      },
      "source": [
        "from gensim.models import KeyedVectors\n",
        "import gensim\n",
        "word2vec_path = '/content/drive/MyDrive/aiffel/sentiment_classification/ko.bin'\n",
        "word2vec = gensim.models.Word2Vec.load(word2vec_path)\n",
        "vector = word2vec['재미']\n",
        "vector"
      ],
      "execution_count": 59,
      "outputs": [
        {
          "output_type": "stream",
          "text": [
            "/usr/local/lib/python3.7/dist-packages/ipykernel_launcher.py:5: DeprecationWarning: Call to deprecated `__getitem__` (Method will be removed in 4.0.0, use self.wv.__getitem__() instead).\n",
            "  \"\"\"\n"
          ],
          "name": "stderr"
        },
        {
          "output_type": "execute_result",
          "data": {
            "text/plain": [
              "array([-0.01228145, -0.4937083 ,  0.4424771 , -1.0789338 , -1.0551587 ,\n",
              "       -0.8106456 , -0.0881472 ,  0.7738013 , -0.3837249 , -0.31405708,\n",
              "        0.18792619, -0.04978764,  0.3977235 ,  1.0052139 , -0.5921918 ,\n",
              "        0.57315415, -0.13287784,  1.4190367 ,  0.5338879 ,  0.08187074,\n",
              "       -0.21017547, -0.31960285,  0.08991678, -0.06743078,  0.14399454,\n",
              "        0.04861213,  0.4904712 ,  0.38203648, -0.33213428, -0.48618734,\n",
              "       -0.6996383 , -0.48903087, -0.5666092 ,  0.11454912,  0.7527777 ,\n",
              "       -1.6491356 ,  0.709264  ,  0.14231981,  1.2408166 ,  0.9104645 ,\n",
              "        1.0235597 , -0.7135743 , -0.5323588 , -0.16439462, -0.12318534,\n",
              "       -0.41341293,  0.76286334, -0.24337888, -1.0924134 , -0.78981435,\n",
              "        0.24504295, -0.472915  , -0.17546178,  0.10006592, -1.2155428 ,\n",
              "        0.4059387 ,  0.8259838 , -0.18593056, -0.21122731, -0.46615708,\n",
              "        0.74433243, -0.18605745, -0.9175297 ,  0.08531424,  0.09134697,\n",
              "       -0.60375917,  0.5236646 ,  0.7689134 ,  0.19123535,  0.6021132 ,\n",
              "        0.43252614, -0.4816439 ,  0.39638203,  1.2622621 ,  0.26885632,\n",
              "       -0.383896  , -0.50455076,  0.73776966,  0.10099172, -0.6317017 ,\n",
              "        0.13245393, -0.08055744,  0.43138954, -0.06167822, -0.4774042 ,\n",
              "        0.1667868 ,  0.28813913, -0.10387764,  0.26128057, -0.4512979 ,\n",
              "        0.61577326, -1.054215  ,  0.57878447, -0.84414536,  0.10988218,\n",
              "        0.3471581 , -0.41899917,  0.9262466 ,  0.65301394,  0.50789875,\n",
              "        0.22078882,  0.45553952,  0.6167738 , -0.4781486 , -0.9231505 ,\n",
              "        1.2035773 , -0.10230067, -0.9705982 , -0.27945018, -0.1801976 ,\n",
              "        0.05418067, -1.0452936 ,  0.5314506 , -0.824556  ,  0.5876017 ,\n",
              "       -0.45738658, -1.2109565 ,  0.6083721 ,  0.35538226,  0.21933256,\n",
              "        0.5514276 , -0.27126715,  0.44642234, -0.807838  , -0.5080574 ,\n",
              "        1.3403009 , -0.30746838, -1.0130495 ,  0.724602  , -0.07764244,\n",
              "        0.32734424, -0.64083153,  0.02176708,  0.4140897 ,  0.85013735,\n",
              "        0.5038553 ,  0.0574238 ,  0.6318467 ,  0.11478857, -0.18184362,\n",
              "        0.51224196,  1.2018569 , -0.270327  ,  0.180222  , -0.8467118 ,\n",
              "        0.366931  , -1.0394892 ,  0.19738269, -0.79872495,  0.4028727 ,\n",
              "       -0.21668676, -0.71356654, -0.570047  ,  0.38849613,  0.07873565,\n",
              "       -0.5051986 , -0.01384304,  0.9451574 , -0.24689038,  0.06940279,\n",
              "        0.2931995 , -0.18040314, -0.18652393,  0.03571143, -0.9325787 ,\n",
              "       -0.36629537,  0.17664464,  0.515483  , -0.49975199,  1.746289  ,\n",
              "       -1.2979529 , -0.02125794,  0.3177153 , -0.03623414, -0.48092988,\n",
              "        0.01342706, -0.6346104 ,  0.17631365,  0.6302752 , -0.36891124,\n",
              "       -0.01402365,  0.07068333, -0.10794298, -0.17554025, -0.08752513,\n",
              "        1.4752635 ,  0.37574285, -0.48754153,  1.0782102 , -0.09177663,\n",
              "       -0.6567626 ,  0.25401682,  0.29164365,  0.6510434 , -0.582623  ,\n",
              "        0.24030805, -1.0244824 ,  1.1044954 , -0.05539972,  0.63101554],\n",
              "      dtype=float32)"
            ]
          },
          "metadata": {
            "tags": []
          },
          "execution_count": 59
        }
      ]
    },
    {
      "cell_type": "code",
      "metadata": {
        "colab": {
          "base_uri": "https://localhost:8080/"
        },
        "id": "OdU5ZyjqB1rW",
        "outputId": "bb30ec17-fa8a-4d5b-ec4f-775f22f8a407"
      },
      "source": [
        "word2vec.similar_by_word(\"재미\")"
      ],
      "execution_count": 60,
      "outputs": [
        {
          "output_type": "stream",
          "text": [
            "/usr/local/lib/python3.7/dist-packages/ipykernel_launcher.py:1: DeprecationWarning: Call to deprecated `similar_by_word` (Method will be removed in 4.0.0, use self.wv.similar_by_word() instead).\n",
            "  \"\"\"Entry point for launching an IPython kernel.\n"
          ],
          "name": "stderr"
        },
        {
          "output_type": "execute_result",
          "data": {
            "text/plain": [
              "[('취미', 0.5857348442077637),\n",
              " ('유머', 0.5140613913536072),\n",
              " ('매력', 0.5105490684509277),\n",
              " ('흥미', 0.4988338351249695),\n",
              " ('공짜', 0.4960595667362213),\n",
              " ('일자리', 0.49294644594192505),\n",
              " ('즐거움', 0.48700767755508423),\n",
              " ('비애', 0.4836210310459137),\n",
              " ('관객', 0.48286449909210205),\n",
              " ('향수', 0.4823310971260071)]"
            ]
          },
          "metadata": {
            "tags": []
          },
          "execution_count": 60
        }
      ]
    },
    {
      "cell_type": "markdown",
      "metadata": {
        "id": "8f7eaj0GJVYU"
      },
      "source": [
        "> \"재미\"와 비슷한 단어를 비교적 잘 찾음"
      ]
    },
    {
      "cell_type": "code",
      "metadata": {
        "colab": {
          "base_uri": "https://localhost:8080/"
        },
        "id": "uS8qujYpCH6e",
        "outputId": "6f47aa4a-d384-41dd-b89d-2434da1613b5"
      },
      "source": [
        "vocab_size = 10000    # 어휘 사전의 크기입니다(10,000개의 단어)\n",
        "word_vector_dim = 200  # 워드 벡터의 차원수 (변경가능한 하이퍼파라미터)\n",
        "\n",
        "embedding_matrix = np.random.rand(vocab_size, word_vector_dim)\n",
        "\n",
        "# embedding_matrix에 Word2Vec 워드 벡터를 단어 하나씩마다 차례차례 카피한다.\n",
        "for i in range(4,vocab_size):\n",
        "    if index_to_word[i] in word2vec:\n",
        "        embedding_matrix[i] = word2vec[index_to_word[i]]"
      ],
      "execution_count": 62,
      "outputs": [
        {
          "output_type": "stream",
          "text": [
            "/usr/local/lib/python3.7/dist-packages/ipykernel_launcher.py:8: DeprecationWarning: Call to deprecated `__contains__` (Method will be removed in 4.0.0, use self.wv.__contains__() instead).\n",
            "  \n",
            "/usr/local/lib/python3.7/dist-packages/ipykernel_launcher.py:9: DeprecationWarning: Call to deprecated `__getitem__` (Method will be removed in 4.0.0, use self.wv.__getitem__() instead).\n",
            "  if __name__ == '__main__':\n"
          ],
          "name": "stderr"
        }
      ]
    },
    {
      "cell_type": "code",
      "metadata": {
        "colab": {
          "base_uri": "https://localhost:8080/"
        },
        "id": "rzOymlqbCK1g",
        "outputId": "6d24b037-75cd-4a61-d953-7f58d9ad049e"
      },
      "source": [
        "from tensorflow.keras.initializers import Constant\n",
        "\n",
        "vocab_size = 10000    # 어휘 사전의 크기입니다(10,000개의 단어)\n",
        "word_vector_dim = 200  # 워드 벡터의 차원 수 (변경가능한 하이퍼파라미터)\n",
        "\n",
        "# 모델 구성\n",
        "model = keras.Sequential()\n",
        "model.add(keras.layers.Embedding(vocab_size, \n",
        "                                 word_vector_dim, \n",
        "                                 embeddings_initializer=Constant(embedding_matrix),  # 카피한 임베딩을 여기서 활용\n",
        "                                 input_length=maxlen, \n",
        "                                 trainable=True))   # trainable을 True로 주면 Fine-tuning\n",
        "model.add(keras.layers.LSTM(8))   # 가장 널리 쓰이는 RNN인 LSTM 레이어를 사용하였습니다. 이때 LSTM state 벡터의 차원수는 8로 하였습니다. (변경 가능)\n",
        "model.add(keras.layers.Dense(8, activation='relu'))\n",
        "model.add(keras.layers.Dense(1, activation='sigmoid'))  # 최종 출력은 긍정/부정을 나타내는 1dim 입니다.\n",
        "\n",
        "model.summary()"
      ],
      "execution_count": 64,
      "outputs": [
        {
          "output_type": "stream",
          "text": [
            "Model: \"sequential_6\"\n",
            "_________________________________________________________________\n",
            "Layer (type)                 Output Shape              Param #   \n",
            "=================================================================\n",
            "embedding_5 (Embedding)      (None, 41, 200)           2000000   \n",
            "_________________________________________________________________\n",
            "lstm_2 (LSTM)                (None, 8)                 6688      \n",
            "_________________________________________________________________\n",
            "dense_8 (Dense)              (None, 8)                 72        \n",
            "_________________________________________________________________\n",
            "dense_9 (Dense)              (None, 1)                 9         \n",
            "=================================================================\n",
            "Total params: 2,006,769\n",
            "Trainable params: 2,006,769\n",
            "Non-trainable params: 0\n",
            "_________________________________________________________________\n"
          ],
          "name": "stdout"
        }
      ]
    },
    {
      "cell_type": "code",
      "metadata": {
        "colab": {
          "base_uri": "https://localhost:8080/"
        },
        "id": "gQl-e-_JGDbe",
        "outputId": "8178f964-bbaf-4708-f445-b7f149761ae2"
      },
      "source": [
        "model.compile(optimizer='RMSProp',\n",
        "              loss='binary_crossentropy',\n",
        "              metrics=['accuracy'])\n",
        "              \n",
        "epochs=10  # 몇 epoch를 훈련하면 좋을지 결과를 보면서 바꾸어 봅시다. \n",
        "\n",
        "history = model.fit(partial_X_train,\n",
        "                    partial_y_train,\n",
        "                    epochs=epochs,\n",
        "                    batch_size=512,\n",
        "                    validation_data=(X_val, y_val),\n",
        "                    verbose=1)"
      ],
      "execution_count": 67,
      "outputs": [
        {
          "output_type": "stream",
          "text": [
            "Epoch 1/10\n",
            "266/266 [==============================] - 8s 26ms/step - loss: 0.5235 - accuracy: 0.7368 - val_loss: 0.4515 - val_accuracy: 0.7881\n",
            "Epoch 2/10\n",
            "266/266 [==============================] - 6s 23ms/step - loss: 0.3881 - accuracy: 0.8294 - val_loss: 0.3832 - val_accuracy: 0.8300\n",
            "Epoch 3/10\n",
            "266/266 [==============================] - 6s 23ms/step - loss: 0.3482 - accuracy: 0.8508 - val_loss: 0.3499 - val_accuracy: 0.8475\n",
            "Epoch 4/10\n",
            "266/266 [==============================] - 6s 22ms/step - loss: 0.3258 - accuracy: 0.8615 - val_loss: 0.3389 - val_accuracy: 0.8549\n",
            "Epoch 5/10\n",
            "266/266 [==============================] - 6s 23ms/step - loss: 0.3107 - accuracy: 0.8692 - val_loss: 0.3299 - val_accuracy: 0.8582\n",
            "Epoch 6/10\n",
            "266/266 [==============================] - 6s 24ms/step - loss: 0.2982 - accuracy: 0.8757 - val_loss: 0.3302 - val_accuracy: 0.8588\n",
            "Epoch 7/10\n",
            "266/266 [==============================] - 6s 24ms/step - loss: 0.2881 - accuracy: 0.8808 - val_loss: 0.3265 - val_accuracy: 0.8608\n",
            "Epoch 8/10\n",
            "266/266 [==============================] - 6s 24ms/step - loss: 0.2797 - accuracy: 0.8847 - val_loss: 0.3264 - val_accuracy: 0.8593\n",
            "Epoch 9/10\n",
            "266/266 [==============================] - 6s 23ms/step - loss: 0.2719 - accuracy: 0.8890 - val_loss: 0.3285 - val_accuracy: 0.8613\n",
            "Epoch 10/10\n",
            "266/266 [==============================] - 6s 24ms/step - loss: 0.2640 - accuracy: 0.8928 - val_loss: 0.3272 - val_accuracy: 0.8607\n"
          ],
          "name": "stdout"
        }
      ]
    },
    {
      "cell_type": "code",
      "metadata": {
        "colab": {
          "base_uri": "https://localhost:8080/"
        },
        "id": "83G4Ga_4GaGp",
        "outputId": "620206de-e804-4613-d7b6-4aae1a9c52e6"
      },
      "source": [
        "results = model.evaluate(X_test,  y_test, verbose=2)\n",
        "\n",
        "print(results)"
      ],
      "execution_count": 71,
      "outputs": [
        {
          "output_type": "stream",
          "text": [
            "1537/1537 - 4s - loss: 0.3392 - accuracy: 0.8555\n",
            "[0.3391975462436676, 0.8555037975311279]\n"
          ],
          "name": "stdout"
        }
      ]
    },
    {
      "cell_type": "markdown",
      "metadata": {
        "id": "F_FpGBi-JdNt"
      },
      "source": [
        "> 하지만 성능향상이 되지 않음"
      ]
    },
    {
      "cell_type": "markdown",
      "metadata": {
        "id": "rVPCmXEPJm_k"
      },
      "source": [
        "# 회고 \n",
        "\n",
        "자연어처리는 항상 어렵다. 이번엔 node를 몇번이고 다시 보면서 이해하려고 노력했다!\n",
        "\n",
        "`RNN`, `1-D CNN`, `GlobalMaxPooling1D` 모델을 시도했고 가장 정확도가 높았던 모델은 `optimizer='RMSProp'`(태원님이 알려주신 방법)을 적용한 `RNN`모델이었다. `gensim`으로 유사한 단어를 찾았을 때 보다 `Word2Vec`이 더 유사한 단어를 잘 찾았지만 정확도 측면에서 눈에 띄는 향상을 보이지 못했고 나의 경우엔 0.8560 에서 0.8555로 아주아주 조금 떨어졌다. \n",
        "\n",
        "어떠한 이유로 그렇게 되었는지 감이 잡히지 않지만 앞에서 적용한 `optimizer='RMSProp'`이 그 역할을 한 것이라고 생각하고 있다.\n",
        "\n",
        "각 파라미터 값들이 어떤 역할을 하고 어떤 분석에서 좋은 성능을 이끌어 내는지에 대해 알 수 있는 내가 되길 바란다. \n",
        "\n",
        "점점 노드가 밀려 많은 시간을 투자하지 못해서 아쉽다. 다음엔 여러 레이어들을 겹쳐 좋은 모델을 만들어보고 싶다. \n"
      ]
    },
    {
      "cell_type": "markdown",
      "metadata": {
        "id": "Q2B0rFCKNN6r"
      },
      "source": [
        "___참고___\n",
        "\n",
        "https://beausty23.tistory.com/61\n",
        "\n",
        "https://github.com/Kyubyong/wordvectors\n",
        "\n",
        "\n",
        "https://omicro03.medium.com/%EC%9E%90%EC%97%B0%EC%96%B4%EC%B2%98%EB%A6%AC-nlp-14%EC%9D%BC%EC%B0%A8-word2vec-%EC%8B%A4%EC%8A%B52-8e518a358b6c"
      ]
    }
  ]
}
